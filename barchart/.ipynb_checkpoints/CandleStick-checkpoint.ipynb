{
 "cells": [
  {
   "cell_type": "code",
   "execution_count": 22,
   "metadata": {
    "collapsed": false
   },
   "outputs": [],
   "source": [
    "from bokeh.models import Range1d, DatetimeTickFormatter\n",
    "from bokeh.plotting import figure, show, Session, output_server, cursession\n",
    "from DataGenerator import DataGenerator\n",
    "from DataHandler import DataHandler"
   ]
  },
  {
   "cell_type": "code",
   "execution_count": 23,
   "metadata": {
    "collapsed": false
   },
   "outputs": [
    {
     "name": "stdout",
     "output_type": "stream",
     "text": [
      "Using saved session configuration for http://127.0.0.1:5006/\n",
      "To override, pass 'load_from_config=False' to Session\n"
     ]
    }
   ],
   "source": [
    "session = Session(load_from_config=False, root_url = \"http://127.0.0.1:5006/\")\n",
    "output_server(\"barchart\", url = \"http://127.0.0.1:5006/\")\n",
    "#session.register(\"vabite\",\"clanugu\")\n",
    "#session.login(\"vabite\", \"clanugu\")"
   ]
  },
  {
   "cell_type": "code",
   "execution_count": null,
   "metadata": {
    "collapsed": false
   },
   "outputs": [],
   "source": []
  },
  {
   "cell_type": "code",
   "execution_count": 24,
   "metadata": {
    "collapsed": false
   },
   "outputs": [],
   "source": [
    "gen = DataGenerator()\n",
    "hand = DataHandler()\n",
    "\n",
    "mean = 0\n",
    "std = 1\n",
    "delay = 0.5\n",
    "\n",
    "time_scale = 1000 * 60 * 60 * 24\n",
    "\n",
    "candle_n = 20\n",
    "\n",
    "percentual_candlewidth = 0.2 "
   ]
  },
  {
   "cell_type": "code",
   "execution_count": 25,
   "metadata": {
    "collapsed": false
   },
   "outputs": [],
   "source": [
    "candlewidth = time_scale * percentual_candlewidth\n",
    "ticks = list(range(time_scale, time_scale * (candle_n + 1), time_scale))"
   ]
  },
  {
   "cell_type": "code",
   "execution_count": 26,
   "metadata": {
    "collapsed": false
   },
   "outputs": [],
   "source": [
    "candlelists = list(map(lambda x: sorted(gen.normal_list(4, mean, std, delay)), range(candle_n)))\n",
    "segmentlists = list(map(lambda i: [candlelists[i][0], candlelists[i][3]], range(candle_n)))\n",
    "quadlists = list(map(lambda i: hand.shuffle_return(candlelists[i][1:3]), range(candle_n)))"
   ]
  },
  {
   "cell_type": "code",
   "execution_count": 27,
   "metadata": {
    "collapsed": false
   },
   "outputs": [],
   "source": [
    "toplist = list(map(lambda i : quadlists[i][1], range(candle_n)))\n",
    "bottomlist = list(map(lambda i : quadlists[i][0], range(candle_n)))\n",
    "leftlist = list(map(lambda i : ticks[i] - candlewidth / 2, range(candle_n)))\n",
    "rightlist = list(map(lambda i : ticks[i] + candlewidth / 2, range(candle_n)))\n",
    "colorlist = []\n",
    "for i in range(candle_n):\n",
    "    if toplist[i] > bottomlist[i]: colorlist.append(\"green\")\n",
    "    else: colorlist.append(\"red\")"
   ]
  },
  {
   "cell_type": "code",
   "execution_count": 28,
   "metadata": {
    "collapsed": false
   },
   "outputs": [],
   "source": [
    "xlist = ticks\n",
    "y0list = list(map(lambda i : segmentlists[i][0], range(candle_n)))\n",
    "y1list = list(map(lambda i : segmentlists[i][1], range(candle_n)))"
   ]
  },
  {
   "cell_type": "code",
   "execution_count": 29,
   "metadata": {
    "collapsed": false
   },
   "outputs": [],
   "source": [
    "p = figure(\n",
    "    plot_width = 1000,\n",
    "    plot_height = 500,\n",
    "    y_range = Range1d(-3*std, 3*std) #range di visualizzazione dati in y preso multiplo della std della sorgente dati\n",
    ")\n",
    "p.xaxis[0].formatter = DatetimeTickFormatter(\n",
    "    formats=dict(\n",
    "        hours=[\"%d %b\"],\n",
    "        days=[\"%d %b\"],\n",
    "        months=[\"%d %b\"],\n",
    "        years=[\"%d %b\"],\n",
    "    )\n",
    ")"
   ]
  },
  {
   "cell_type": "code",
   "execution_count": 30,
   "metadata": {
    "collapsed": false
   },
   "outputs": [
    {
     "data": {
      "text/plain": [
       "<bokeh.plotting.Figure at 0x7f1d0a7e1c88>"
      ]
     },
     "execution_count": 30,
     "metadata": {},
     "output_type": "execute_result"
    }
   ],
   "source": [
    "p.quad(\n",
    "    top = toplist,\n",
    "    bottom = bottomlist,\n",
    "    left = leftlist,\n",
    "    right = rightlist,\n",
    "    fill_color = colorlist,\n",
    "    fill_line = colorlist,\n",
    "    name = \"candles\"    \n",
    ")"
   ]
  },
  {
   "cell_type": "code",
   "execution_count": 31,
   "metadata": {
    "collapsed": false
   },
   "outputs": [
    {
     "data": {
      "text/plain": [
       "<bokeh.plotting.Figure at 0x7f1d0a7e1c88>"
      ]
     },
     "execution_count": 31,
     "metadata": {},
     "output_type": "execute_result"
    }
   ],
   "source": [
    "p.segment(\n",
    "    x0 = xlist,\n",
    "    x1 = xlist,\n",
    "    y0 = y0list,\n",
    "    y1 = y1list,\n",
    "    name = \"segments\"\n",
    "    )"
   ]
  },
  {
   "cell_type": "code",
   "execution_count": null,
   "metadata": {
    "collapsed": true
   },
   "outputs": [],
   "source": [
    "show(p)\n",
    "\n",
    "ds_candles = p.select({\"name\":\"candles\"})[0].data_source\n",
    "ds_segments = p.select({\"name\":\"segments\"})[0].data_source\n",
    "\n",
    "while True:\n",
    "    new_candle_single = sorted(gen.normal_list(4, mean, std, delay))\n",
    "    new_segment_single = [new_candle_single[0], new_candle_single[3]]\n",
    "    new_quad_single = hand.shuffle_return(new_candle_single[1:3])\n",
    "    \n",
    "    ds_candles.data[\"top\"] = hand.shift_insert(toplist, new_quad_single[1]) \n",
    "    ds_candles.data[\"bottom\"] = hand.shift_insert(bottomlist, new_quad_single[0])\n",
    "    ds_candles.data[\"left\"] = hand.shift_insert(leftlist, leftlist[-1] + time_scale)\n",
    "    ds_candles.data[\"right\"] = hand.shift_insert(rightlist, rightlist[-1] + time_scale) \n",
    "    if toplist[0] > bottomlist[0]: hand.shift_insert(colorlist, \"green\")\n",
    "    else: hand.shift_insert(colorlist, \"red\")\n",
    "    ds_candles.data[\"fill_color\"] = colorlist\n",
    "    ds_candles.data[\"line_color\"] = colorlist\n",
    "    \n",
    "    xlist = hand.shift_insert(xlist, xlist[-1] + time_scale) #ds_segments.data[\"x0\"] = xlist #ds_segments.data[\"x1\"] = xlist\n",
    "    ds_segments.data[\"y0\"] = hand.shift_insert(y0list, new_segment_single[0])\n",
    "    ds_segments.data[\"y1\"] = hand.shift_insert(y1list, new_segment_single[1])\n",
    "    \n",
    "    time.sleep(0.1)\n",
    "    cursession().store_objects(ds_candles, ds_segments)"
   ]
  }
 ],
 "metadata": {
  "kernelspec": {
   "display_name": "Python 3",
   "language": "python",
   "name": "python3"
  },
  "language_info": {
   "codemirror_mode": {
    "name": "ipython",
    "version": 3
   },
   "file_extension": ".py",
   "mimetype": "text/x-python",
   "name": "python",
   "nbconvert_exporter": "python",
   "pygments_lexer": "ipython3",
   "version": "3.4.3"
  }
 },
 "nbformat": 4,
 "nbformat_minor": 0
}
