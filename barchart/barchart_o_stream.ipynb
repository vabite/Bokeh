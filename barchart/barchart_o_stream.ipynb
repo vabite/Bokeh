{
 "cells": [
  {
   "cell_type": "code",
   "execution_count": 9,
   "metadata": {
    "collapsed": false
   },
   "outputs": [],
   "source": [
    "import zmq\n",
    "from data import datagenerator\n",
    "from data import datastream"
   ]
  },
  {
   "cell_type": "code",
   "execution_count": null,
   "metadata": {
    "collapsed": true
   },
   "outputs": [],
   "source": []
  },
  {
   "cell_type": "code",
   "execution_count": 10,
   "metadata": {
    "collapsed": true
   },
   "outputs": [],
   "source": [
    "#inizializzazione variabili. A PUB è lasciato il controllo dei parametri relativi a:\n",
    "#sorgente di dati (mean, std, delay, bar_n, bar_interval_n)\n",
    "#indirizzo al quale pubblicare i dati e al quale effettuare il ping\n",
    "\n",
    "mean = 10\n",
    "std = 2\n",
    "delay = 1\n",
    "\n",
    "#var_mean = 0\n",
    "#var_std = 0.2\n",
    "#var_delay = 0.1\n",
    "\n",
    "bar_n = 5\n",
    "bar_interval_n = 4\n",
    "\n",
    "url_pub = \"tcp://*:5561\"\n",
    "url_ping = \"tcp://localhost:5562\""
   ]
  },
  {
   "cell_type": "code",
   "execution_count": null,
   "metadata": {
    "collapsed": true
   },
   "outputs": [],
   "source": []
  },
  {
   "cell_type": "code",
   "execution_count": 11,
   "metadata": {
    "collapsed": true
   },
   "outputs": [],
   "source": [
    "context = zmq.Context()"
   ]
  },
  {
   "cell_type": "code",
   "execution_count": 12,
   "metadata": {
    "collapsed": false
   },
   "outputs": [],
   "source": [
    "s_pub = context.socket(zmq.PUB)\n",
    "s_pub.bind(url_pub)"
   ]
  },
  {
   "cell_type": "code",
   "execution_count": 13,
   "metadata": {
    "collapsed": false
   },
   "outputs": [
    {
     "data": {
      "text/plain": [
       "0"
      ]
     },
     "execution_count": 13,
     "metadata": {},
     "output_type": "execute_result"
    }
   ],
   "source": [
    "datastream.ping(url_ping, context)"
   ]
  },
  {
   "cell_type": "code",
   "execution_count": 14,
   "metadata": {
    "collapsed": true
   },
   "outputs": [],
   "source": [
    "#datalists = DataGenerator.normal_matrix(bar_n, bar_interval_n, mean, std, delay)\n",
    "#s_pub.send_pyobj(datalists)"
   ]
  },
  {
   "cell_type": "code",
   "execution_count": 15,
   "metadata": {
    "collapsed": false
   },
   "outputs": [],
   "source": [
    "#while True:\n",
    "    #variancelists = DataGenerator.normal_matrix(bar_n, bar_interval_n, var_mean, var_std, var_delay)\n",
    "    #s_pub.send_pyobj(variancelists)"
   ]
  },
  {
   "cell_type": "code",
   "execution_count": null,
   "metadata": {
    "collapsed": false
   },
   "outputs": [],
   "source": [
    "while True:\n",
    "    datalists = datagenerator.normal_matrix(bar_n, bar_interval_n, mean, std, delay)\n",
    "    s_pub.send_pyobj(datalists)"
   ]
  },
  {
   "cell_type": "code",
   "execution_count": null,
   "metadata": {
    "collapsed": true
   },
   "outputs": [],
   "source": []
  },
  {
   "cell_type": "code",
   "execution_count": null,
   "metadata": {
    "collapsed": true
   },
   "outputs": [],
   "source": []
  },
  {
   "cell_type": "code",
   "execution_count": null,
   "metadata": {
    "collapsed": true
   },
   "outputs": [],
   "source": []
  }
 ],
 "metadata": {
  "kernelspec": {
   "display_name": "Python 3",
   "language": "python",
   "name": "python3"
  },
  "language_info": {
   "codemirror_mode": {
    "name": "ipython",
    "version": 3
   },
   "file_extension": ".py",
   "mimetype": "text/x-python",
   "name": "python",
   "nbconvert_exporter": "python",
   "pygments_lexer": "ipython3",
   "version": "3.4.3"
  }
 },
 "nbformat": 4,
 "nbformat_minor": 0
}
