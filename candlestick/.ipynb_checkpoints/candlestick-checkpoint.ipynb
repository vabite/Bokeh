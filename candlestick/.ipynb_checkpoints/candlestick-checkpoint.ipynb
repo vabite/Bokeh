{
 "cells": [
  {
   "cell_type": "code",
   "execution_count": 1,
   "metadata": {
    "collapsed": false
   },
   "outputs": [],
   "source": [
    "import time\n",
    "\n",
    "from bokeh.plotting import figure, show, Session, cursession, output_server\n",
    "from bokeh.models import DatetimeTickFormatter\n",
    "\n",
    "from data.datahandler import yield_from_last\n",
    "from data.datastream import queryinput_to_csv_yf, split_csvline_yf, queryinput_to_gen_yf"
   ]
  },
  {
   "cell_type": "code",
   "execution_count": 2,
   "metadata": {
    "collapsed": false
   },
   "outputs": [
    {
     "name": "stdout",
     "output_type": "stream",
     "text": [
      "Using saved session configuration for http://127.0.0.1:5006/\n",
      "To override, pass 'load_from_config=False' to Session\n"
     ]
    }
   ],
   "source": [
    "session = Session(load_from_config=False, root_url = \"http://127.0.0.1:5006/\")\n",
    "output_server(\"candlestick\", url = \"http://127.0.0.1:5006/\")\n",
    "#session.register(\"vabite\",\"clanugu\")\n",
    "#session.login(\"vabite\", \"clanugu\")"
   ]
  },
  {
   "cell_type": "code",
   "execution_count": null,
   "metadata": {
    "collapsed": true
   },
   "outputs": [],
   "source": []
  },
  {
   "cell_type": "code",
   "execution_count": 3,
   "metadata": {
    "collapsed": false
   },
   "outputs": [],
   "source": [
    "class Candlestick(object):\n",
    "    \n",
    "    #le variabili del plot non inizializzate (titolo, etc.) sono comunque accassibili dall'esterno\n",
    "    def __init__(self, candle_visualized_n = 15, quadwidth_percentual = 0.5, tmstep = 1): #step tra due dati in gg\n",
    "        #inizializza dati per plot\n",
    "        #tmstep rappresenta la distanza temporale attesa tra due dati.\n",
    "        #Con tale passo temporale è shiftato l'asse x in caso assenza dati (modellato con arrivo None), definita\n",
    "        #l'ampiezza dell'asse x mostrata, e scalata l'ampiezza x dei glifi. E' convertita in in ms, udm usata da Bokeh\n",
    "        #Possibile anche ricavarlo dinamicamente da dati ricevuti se si suppone intervallo tra due dati possa variare\n",
    "        self.tmstep = tmstep * 24 * 60 * 60 * 1000\n",
    "        #quadwidth ampiezza dei rettangoli reale. quadwidth_percentual ampiezza dei retangoli relativa al tmstep\n",
    "        self.quadwidth = quadwidth_percentual * self.tmstep \n",
    "        self.candle_visualized_n = candle_visualized_n #numero di candele da visualizzare sul grafico\n",
    "        #inizializza plot\n",
    "        self.plot = figure(plot_width = 900, plot_height = 300)\n",
    "        self.plot.xaxis[0].formatter = DatetimeTickFormatter(\n",
    "            formats = dict(\n",
    "                hours = [\"d %b %Y\"], #numero giorno, sigla mese, ora come intero da 00 a 23\n",
    "                days = [\"%d %b %Y\"], #numero giorno, sigla mese, numero anno\n",
    "                months = [\"%d %b %Y\"], #numero giorno, sigla mese, numero anno\n",
    "                years = [\"%d %b %Y\"]) #numero giorno, sigla mese, numero anno\n",
    "            )\n",
    "        #grafico inizializzato vuoto inizializzando tutti i data source come liste vuote\n",
    "        self.plot.quad(top = [], bottom = [], left = [], right = [], fill_color = [], name = \"quads\") \n",
    "        self.plot.segment(x0 = [], x1 = [], y0 = [], y1 = [], name = \"segments\")\n",
    "        #estremi dell'instervallo in x mostrato inizializzati dal costruttore in quanto, se il primo dato è None, \n",
    "        #in update non riesce ad inizializzarli dovendo sommare un intero ad un None. Di default inizializzati \n",
    "        #all'istante attuale (se si fosse inizializzato a 0 sarebbero stati inizializzati alla epoch; tuttavia ho \n",
    "        #dal test pare non cambi molto, non visualizzando lui il range degli assi fino a che non visualizza un glifo)\n",
    "        self.plot.x_range.start = time.time() * 1000 \n",
    "        self.plot.x_range.end = time.time() * 1000\n",
    "        self.ds_quads = self.plot.select({\"name\":\"quads\"})[0].data_source\n",
    "        self.ds_segments = self.plot.select({\"name\":\"segments\"})[0].data_source\n",
    "\n",
    "    #ritorna l'oggetto Plot\n",
    "    def get_plot(self):\n",
    "        return self.plot        \n",
    "\n",
    "    #IN:lista (wrap effettuato per rendere la sintassi del metodo uguale per i vari chart) in cui ogni elemento è:\n",
    "    #A) una linea del csv risultante da una query a YF, se dato valido\n",
    "    #B) None, se simulato arrivo dato invalido o assenza dati\n",
    "    #Nel caso specifico la lista contiene un solo elemento relativo all'unico titolo della query\n",
    "    #OUT: lista dei valori da passare al metodo update() per aggiornare il grafico\n",
    "    #A) [data in millisecondi a partire da epoch, apertura, massimo, minimo, chiusura]; se dato valido\n",
    "    #B) None, se simulato arrivo dato invalido o assenza dati\n",
    "    def csvlines_to_data_yf(self, csvlines):\n",
    "        if csvlines[0] == None: data = [None]\n",
    "        else: data = split_csvline_yf(csvlines[0], \"int\")[0:5]\n",
    "        return data\n",
    "    \n",
    "    #aggiorna i ds e ritorna una lista degli oggetti di cui fare push a partire da una linea csv formattata come da YF\n",
    "    def update(self, data):\n",
    "        #recupera una nuova lista di dati che suppone strutturata come segue:\n",
    "        #indice 0: data in millisecondi a partire da epoch\n",
    "        #indice 1: apertura\n",
    "        #indice 2: massimo\n",
    "        #indice 3: minimo\n",
    "        #indice 4: chiusura\n",
    "        #L'arrivo di dati non validi o l'assenza di dati è simulata come arrivo di None\n",
    "        if data != [None]: #caso arrivo valido\n",
    "            #aggiorna dati quad\n",
    "            self.ds_quads.data[\"top\"].append(data[4])\n",
    "            self.ds_quads.data[\"bottom\"].append(data[1])\n",
    "            self.ds_quads.data[\"left\"].append(data[0] - self.quadwidth / 2)\n",
    "            self.ds_quads.data[\"right\"].append(data[0] + self.quadwidth / 2)\n",
    "            if data[4] > data[1]: self.ds_quads.data[\"fill_color\"].append(\"green\")\n",
    "            else: self.ds_quads.data[\"fill_color\"].append(\"red\")\n",
    "            #aggiorna dati segment\n",
    "            self.ds_segments.data[\"x0\"].append(data[0])\n",
    "            self.ds_segments.data[\"x1\"].append(data[0])\n",
    "            self.ds_segments.data[\"y0\"].append(data[3])\n",
    "            self.ds_segments.data[\"y1\"].append(data[2])\n",
    "            #aggiorna i dati x_range di plot\n",
    "            #in caso di arrivo dato valido, definisce un intervallo di visualizzazione ponendo la candela del dato in\n",
    "            #arrivo a mezzo tmstep dal bordo dx del grafico e a candle_visualized_n + 0.5 tmstep dal bordo sx\n",
    "            self.plot.x_range.start = data[0] - (self.candle_visualized_n - 0.5) * self.tmstep\n",
    "            self.plot.x_range.end = data[0] + 0.5 * self.tmstep\n",
    "        else: #caso ricezione dato non valido\n",
    "            #shifta di un tmstep a sx l'intervallo di visualizzazione nell'asse x e non aggiunge candele al grafico\n",
    "            #NB: mentre in caso arrivo dati validi stabilisce il range di visualizzazione in base all'ascissa del dato\n",
    "            #arrivato, qui effettua lo shift con tmstep.Se tmstep non è preso esattamente pari alla distanza temporale\n",
    "            #tra l'arrivo di due dati:\n",
    "            #arrivo dati validi: mostra un intervallo in x non esattamente uguale a quello desiderato\n",
    "            #arrivo dati non validi o asenza dati: qui accumula ritardo o anticipo rispetto ai dati attuali\n",
    "            self.plot.x_range.start += self.tmstep \n",
    "            self.plot.x_range.end += self.tmstep\n",
    "        #ritorna una lista degli oggetti di cui fare push: data sources dei glifi e x_range di plot\n",
    "        return [self.ds_quads, self.ds_segments, self.plot.x_range]"
   ]
  },
  {
   "cell_type": "code",
   "execution_count": null,
   "metadata": {
    "collapsed": true
   },
   "outputs": [],
   "source": []
  },
  {
   "cell_type": "code",
   "execution_count": 4,
   "metadata": {
    "collapsed": false
   },
   "outputs": [],
   "source": [
    "#inizializzazione variabili\n",
    "#parametri utilizzati per effettuare la query a Yahoo Finance\n",
    "quote_id = \"UCG.MI\"\n",
    "start_y = 2013\n",
    "start_m = 1\n",
    "start_d = 1\n",
    "stop_y = 2014\n",
    "stop_m = 12\n",
    "stop_d = 31\n",
    "step = \"d\" \n",
    "\n",
    "#parametri relativi al grafico\n",
    "tmdict = {\"d\":1, \"w\":7, \"m\":(365 * 4 + 1) / (12 * 4)}\n",
    "candle_visualized_n = 15\n",
    "quadwidth_percentual = 0.2\n",
    "tmstep = tmdict[step] #per i mesi preso step pari ai giorni in 4 anni diviso i mesi in 4 anni"
   ]
  },
  {
   "cell_type": "code",
   "execution_count": 5,
   "metadata": {
    "collapsed": false
   },
   "outputs": [
    {
     "ename": "KeyboardInterrupt",
     "evalue": "",
     "output_type": "error",
     "traceback": [
      "\u001b[1;31m---------------------------------------------------------------------------\u001b[0m",
      "\u001b[1;31mKeyboardInterrupt\u001b[0m                         Traceback (most recent call last)",
      "\u001b[1;32m<ipython-input-5-c546437d91ad>\u001b[0m in \u001b[0;36m<module>\u001b[1;34m()\u001b[0m\n\u001b[0;32m      5\u001b[0m     \u001b[0mdata\u001b[0m \u001b[1;33m=\u001b[0m \u001b[0mc\u001b[0m\u001b[1;33m.\u001b[0m\u001b[0mcsvlines_to_data_yf\u001b[0m\u001b[1;33m(\u001b[0m\u001b[1;33m[\u001b[0m\u001b[0mnext\u001b[0m\u001b[1;33m(\u001b[0m\u001b[0mdatagen\u001b[0m\u001b[1;33m)\u001b[0m\u001b[1;33m]\u001b[0m\u001b[1;33m)\u001b[0m\u001b[1;31m##; print(data)\u001b[0m\u001b[1;33m\u001b[0m\u001b[0m\n\u001b[0;32m      6\u001b[0m     \u001b[0mcursession\u001b[0m\u001b[1;33m(\u001b[0m\u001b[1;33m)\u001b[0m\u001b[1;33m.\u001b[0m\u001b[0mstore_objects\u001b[0m\u001b[1;33m(\u001b[0m\u001b[1;33m*\u001b[0m\u001b[0mc\u001b[0m\u001b[1;33m.\u001b[0m\u001b[0mupdate\u001b[0m\u001b[1;33m(\u001b[0m\u001b[0mdata\u001b[0m\u001b[1;33m)\u001b[0m\u001b[1;33m)\u001b[0m\u001b[1;33m\u001b[0m\u001b[0m\n\u001b[1;32m----> 7\u001b[1;33m     \u001b[0mtime\u001b[0m\u001b[1;33m.\u001b[0m\u001b[0msleep\u001b[0m\u001b[1;33m(\u001b[0m\u001b[1;36m0.5\u001b[0m\u001b[1;33m)\u001b[0m\u001b[1;33m\u001b[0m\u001b[0m\n\u001b[0m",
      "\u001b[1;31mKeyboardInterrupt\u001b[0m: "
     ]
    }
   ],
   "source": [
    "datagen = queryinput_to_gen_yf(quote_id, start_y, start_m, start_d, stop_y, stop_m, stop_d, step = \"d\")\n",
    "c = Candlestick(candle_visualized_n, quadwidth_percentual, tmstep)\n",
    "show(c.get_plot())\n",
    "while True:\n",
    "    data = c.csvlines_to_data_yf([next(datagen)])##; print(data)\n",
    "    cursession().store_objects(*c.update(data))\n",
    "    time.sleep(0.5)"
   ]
  },
  {
   "cell_type": "code",
   "execution_count": null,
   "metadata": {
    "collapsed": false
   },
   "outputs": [],
   "source": []
  },
  {
   "cell_type": "code",
   "execution_count": null,
   "metadata": {
    "collapsed": true
   },
   "outputs": [],
   "source": [
    "#TEST CLASSE CandlestickYF"
   ]
  },
  {
   "cell_type": "code",
   "execution_count": null,
   "metadata": {
    "collapsed": true
   },
   "outputs": [],
   "source": [
    "#simulo dati validi formattati come csv di YF\n",
    "#validline1 differiscono solo per data \n",
    "validline1 = b'2014-01-03,1.000,2.000,3.000,4.000,1000000,5.000\\n'\n",
    "    #delta temporale giornaliero\n",
    "validline1A = b'2014-01-04,1.000,2.000,3.000,4.000,1000000,5.000\\n'\n",
    "validline1B = b'2014-01-05,1.000,2.000,3.000,4.000,1000000,5.000\\n'\n",
    "    #delta temporale mensile\n",
    "validline1C = b'2014-02-03,1.000,2.000,3.000,4.000,1000000,5.000\\n'\n",
    "validline1D = b'2014-03-03,1.000,2.000,3.000,4.000,1000000,5.000\\n'\n",
    "    #delta temporale annuale\n",
    "validline1E = b'2015-01-03,1.000,2.000,3.000,4.000,1000000,5.000\\n'\n",
    "validline1F = b'2016-01-03,1.000,2.000,3.000,4.000,1000000,5.000\\n'\n",
    "#validline2 per data e valore\n",
    "validline2 = b'2014-01-01,3.000,4.000,5.000,6.000,2000000,7.000\\n'\n",
    "validline2A = b'2014-01-04,5.000,4.000,3.000,2.000,3000000,1.000\\n'\n",
    "validline2B = b'2014-01-15,8.000,11.000,14.000, 16.000,1000000,18.000\\n'\n",
    "validline2C = b'2014-01-30,25.000,20.000,15.000,10.000,500000,5.000\\n'\n",
    "validline2D = b'2014-01-31,-1,-2,-3,-4,500000,-5\\n'\n",
    "invalidline = None"
   ]
  },
  {
   "cell_type": "code",
   "execution_count": null,
   "metadata": {
    "collapsed": false
   },
   "outputs": [],
   "source": [
    "#testa arrivo dato non valido o assenza dati subito\n",
    "c = Candlestick()\n",
    "show(c.get_plot())\n",
    "cursession().store_objects(*c.update(c.csvlines_to_data_yf([invalidline])))"
   ]
  },
  {
   "cell_type": "code",
   "execution_count": null,
   "metadata": {
    "collapsed": false
   },
   "outputs": [],
   "source": [
    "#testa arrivo dato non valido o assenza di dati, seguita da dato valido\n",
    "c = Candlestick()\n",
    "show(c.get_plot())\n",
    "cursession().store_objects(*c.update(c.csvlines_to_data_yf([invalidline])))\n",
    "cursession().store_objects(*c.update(c.csvlines_to_data_yf([validline1])))"
   ]
  },
  {
   "cell_type": "code",
   "execution_count": null,
   "metadata": {
    "collapsed": false
   },
   "outputs": [],
   "source": [
    "#testa arrivo dati validi con stessa data\n",
    "c = Candlestick()\n",
    "show(c.get_plot())\n",
    "cursession().store_objects(*c.update(c.csvlines_to_data_yf([validline1])))\n",
    "cursession().store_objects(*c.update(c.csvlines_to_data_yf([validline1])))"
   ]
  },
  {
   "cell_type": "code",
   "execution_count": null,
   "metadata": {
    "collapsed": false
   },
   "outputs": [],
   "source": [
    "#testa arrivo dati validi con step temporale 1gg e arrivo dato non valido con tmstep definito da utente uguale a 1gg\n",
    "c = Candlestick(tmstep = 1)\n",
    "show(c.get_plot())\n",
    "cursession().store_objects(*c.update(c.csvlines_to_data_yf([validline1]))) #dato centrato 4 Jan\n",
    "time.sleep(3)\n",
    "cursession().store_objects(*c.update(c.csvlines_to_data_yf([invalidline]))) #shift asse x di 1gg\n",
    "time.sleep(3)\n",
    "cursession().store_objects(*c.update(c.csvlines_to_data_yf([validline1B]))) #dato centrato 6 Jan"
   ]
  },
  {
   "cell_type": "code",
   "execution_count": null,
   "metadata": {
    "collapsed": false
   },
   "outputs": [],
   "source": [
    "#testa arrivo dati validi con step temporale 1m e arrivo dato non valido con tmstep definito da utente uguale a 1m\n",
    "c = Candlestick(tmstep = 30)\n",
    "show(c.get_plot())\n",
    "cursession().store_objects(*c.update(c.csvlines_to_data_yf([validline1]))) #dato centrato Jan\n",
    "time.sleep(3)\n",
    "cursession().store_objects(*c.update(c.csvlines_to_data_yf([invalidline]))) #shift asse x di 30gg\n",
    "time.sleep(3)\n",
    "cursession().store_objects(*c.update(c.csvlines_to_data_yf([validline1D]))) #dato centrato Mar"
   ]
  },
  {
   "cell_type": "code",
   "execution_count": null,
   "metadata": {
    "collapsed": false
   },
   "outputs": [],
   "source": [
    "#testa arrivo dati validi con step temporale annuale\n",
    "c = Candlestick(tmstep = 365)\n",
    "show(c.get_plot())\n",
    "cursession().store_objects(*c.update(c.csvlines_to_data_yf([validline1]))) #dato centrato 2014\n",
    "time.sleep(3)\n",
    "cursession().store_objects(*c.update(c.csvlines_to_data_yf([invalidline]))) #shift asse x di 365gg\n",
    "time.sleep(3)\n",
    "cursession().store_objects(*c.update(c.csvlines_to_data_yf([validline1E]))) #dato centrato 2015"
   ]
  },
  {
   "cell_type": "code",
   "execution_count": null,
   "metadata": {
    "collapsed": false
   },
   "outputs": [],
   "source": [
    "#testa arrivo dato valido con close-open>0 seguito da dato valido con close-open<0\n",
    "c = Candlestick(tmstep = 1)\n",
    "show(c.get_plot())\n",
    "cursession().store_objects(*c.update(c.csvlines_to_data_yf([validline2]))) #dato centrato 1 Jan\n",
    "time.sleep(3)\n",
    "cursession().store_objects(*c.update(c.csvlines_to_data_yf([validline2A]))) #dato centrato 4 Jan"
   ]
  },
  {
   "cell_type": "code",
   "execution_count": null,
   "metadata": {
    "collapsed": false
   },
   "outputs": [],
   "source": [
    "#testa larghezza intervallo visualizzazione x di default\n",
    "c = Candlestick()\n",
    "show(c.get_plot())\n",
    "cursession().store_objects(*c.update(c.csvlines_to_data_yf([validline2]))) #dato centrato 1 Jan\n",
    "cursession().store_objects(*c.update(c.csvlines_to_data_yf([validline2B]))) #dato centrato 15 Jan"
   ]
  },
  {
   "cell_type": "code",
   "execution_count": null,
   "metadata": {
    "collapsed": false
   },
   "outputs": [],
   "source": [
    "#testa larghezza intervallo visualizzazione x fornito da costruttore\n",
    "c = Candlestick(candle_visualized_n = 30)\n",
    "show(c.get_plot())\n",
    "#dato centrato 1 Jan. Dato a estremo sx grafico\n",
    "cursession().store_objects(*c.update(c.csvlines_to_data_yf([validline2]))) \n",
    "#dato centrato 30 Jan. Dato a estremo dx grafico\n",
    "cursession().store_objects(*c.update(c.csvlines_to_data_yf([validline2C])))"
   ]
  },
  {
   "cell_type": "code",
   "execution_count": null,
   "metadata": {
    "collapsed": false
   },
   "outputs": [],
   "source": [
    "#testa larghezza candele definita da utente\n",
    "c = Candlestick(quadwidth_percentual = 0.95) #i due dati successivi devono quasi toccarsi\n",
    "show(c.get_plot())\n",
    "cursession().store_objects(*c.update(c.csvlines_to_data_yf([validline1A]))) \n",
    "cursession().store_objects(*c.update(c.csvlines_to_data_yf([validline1B]))) "
   ]
  },
  {
   "cell_type": "code",
   "execution_count": null,
   "metadata": {
    "collapsed": true
   },
   "outputs": [],
   "source": []
  },
  {
   "cell_type": "code",
   "execution_count": null,
   "metadata": {
    "collapsed": true
   },
   "outputs": [],
   "source": []
  },
  {
   "cell_type": "code",
   "execution_count": null,
   "metadata": {
    "collapsed": false
   },
   "outputs": [],
   "source": []
  }
 ],
 "metadata": {
  "kernelspec": {
   "display_name": "Python 3",
   "language": "python",
   "name": "python3"
  },
  "language_info": {
   "codemirror_mode": {
    "name": "ipython",
    "version": 3
   },
   "file_extension": ".py",
   "mimetype": "text/x-python",
   "name": "python",
   "nbconvert_exporter": "python",
   "pygments_lexer": "ipython3",
   "version": "3.4.3"
  }
 },
 "nbformat": 4,
 "nbformat_minor": 0
}
