{
 "cells": [
  {
   "cell_type": "code",
   "execution_count": 8,
   "metadata": {
    "collapsed": true
   },
   "outputs": [],
   "source": [
    "import numpy as np\n",
    "import time\n",
    "from random import shuffle\n",
    "from bokeh.models import Range1d, DatetimeTickFormatter\n",
    "from bokeh.plotting import figure, show, Session, output_server, cursession"
   ]
  },
  {
   "cell_type": "code",
   "execution_count": 9,
   "metadata": {
    "collapsed": false
   },
   "outputs": [
    {
     "name": "stdout",
     "output_type": "stream",
     "text": [
      "Using saved session configuration for http://127.0.0.1:5006/\n",
      "To override, pass 'load_from_config=False' to Session\n"
     ]
    }
   ],
   "source": [
    "session = Session(load_from_config=False, root_url = \"http://127.0.0.1:5006/\")\n",
    "output_server(\"barchart\", url = \"http://127.0.0.1:5006/\")\n",
    "#session.register(\"vabite\",\"clanugu\")\n",
    "#session.login(\"vabite\", \"clanugu\")"
   ]
  },
  {
   "cell_type": "code",
   "execution_count": 10,
   "metadata": {
    "collapsed": false
   },
   "outputs": [],
   "source": [
    "class DataGenerator(object):\n",
    "    \n",
    "    #attende delay secondi e poi restituisce una lista di lunghezza argomento di float con distribuzione \n",
    "    #di probabilità gaussiana a media mean e deviazione standard std argomento\n",
    "    def normal_list(self, listlen, mean, std, delay):\n",
    "        time.sleep(delay)\n",
    "        normallist = []\n",
    "        for i in range(listlen):\n",
    "            normallist.append(np.random.normal(mean, std))\n",
    "        return normallist"
   ]
  },
  {
   "cell_type": "code",
   "execution_count": 11,
   "metadata": {
    "collapsed": false
   },
   "outputs": [],
   "source": [
    "class DataHandler(object):\n",
    "    \n",
    "    #ritorna una lista data dalla somma membro a membro di due liste, anche annidate, purche \n",
    "    #di ugual shape e grandezza delle dimensioni\n",
    "    def sum_list(self, list1, list2):\n",
    "        sumarray = np.array(list1) + np.array(list2)\n",
    "        return sumarray.tolist()\n",
    "        \n",
    "    #ritorna una lista ottenuta mischiando gli elementi di una lista argomento\n",
    "    def shuffle_return(self, alist):\n",
    "        shuffle(alist)\n",
    "        return alist\n",
    "    \n",
    "    #ritorna -1 se il numero argomento è negativo, 1 se positivo, 0 se il numero argomento è zero.\n",
    "    def sign(self, n):\n",
    "        if n > 0: return 1\n",
    "        elif n < 0: return -1\n",
    "        else: return 0\n",
    "    \n",
    "    #se direction True o non specificato, allora elimina il primo elemento di una lista argomento,\n",
    "    #shiftando indietro di un indice i restanti elementi, e vi appende (in fondo) l'elemento argomento.\n",
    "    #se direction False, allora elimina l'ultimo elemento di una lista argomento,\n",
    "    #shiftando avanti di un indice i restanti elementi, e vi inserisce l'elemento argomento all'indice 0.\n",
    "    #Ritorna la lista così modificata\n",
    "    def shift_insert(self, alist, new_elem, shift_sx = True):\n",
    "        if shift_sx:\n",
    "            alist.pop(0)\n",
    "            alist.append(new_elem)\n",
    "        else: \n",
    "            alist.pop()\n",
    "            alist.insert(0, new_elem)\n",
    "        return alist    "
   ]
  },
  {
   "cell_type": "code",
   "execution_count": null,
   "metadata": {
    "collapsed": false
   },
   "outputs": [],
   "source": []
  },
  {
   "cell_type": "code",
   "execution_count": 12,
   "metadata": {
    "collapsed": false
   },
   "outputs": [],
   "source": [
    "gen = DataGenerator()\n",
    "hand = DataHandler()\n",
    "\n",
    "#inizializzazione generatore liste casuali\n",
    "mean = 0\n",
    "std = 1\n",
    "delay = 0.5\n",
    "\n",
    "#scala dell'asse delle x. Definisce l'unità dei tempi visualizzati sull'asse delle ascisse\n",
    "time_scale = 1000 * 60 * 60 * 24\n",
    "\n",
    "#numero di canlstick visualizzate sul grafico\n",
    "candle_n = 20\n",
    "\n",
    "#float da 0 a 1. Se uguale a 1, allora candele attaccate\n",
    "percentual_candlewidth = 0.2 "
   ]
  },
  {
   "cell_type": "code",
   "execution_count": 1,
   "metadata": {
    "collapsed": false
   },
   "outputs": [
    {
     "ename": "NameError",
     "evalue": "name 'time_scale' is not defined",
     "output_type": "error",
     "traceback": [
      "\u001b[1;31m---------------------------------------------------------------------------\u001b[0m",
      "\u001b[1;31mNameError\u001b[0m                                 Traceback (most recent call last)",
      "\u001b[1;32m<ipython-input-1-b88653f40d44>\u001b[0m in \u001b[0;36m<module>\u001b[1;34m()\u001b[0m\n\u001b[0;32m      1\u001b[0m \u001b[1;31m#la larghezza delle candele e le ticks (che normalmente sarebbero range(0, candle_n + 1)), sono scalate per time_scale\u001b[0m\u001b[1;33m\u001b[0m\u001b[1;33m\u001b[0m\u001b[0m\n\u001b[1;32m----> 2\u001b[1;33m \u001b[0mcandlewidth\u001b[0m \u001b[1;33m=\u001b[0m \u001b[0mtime_scale\u001b[0m \u001b[1;33m*\u001b[0m \u001b[0mpercentual_candlewidth\u001b[0m\u001b[1;33m\u001b[0m\u001b[0m\n\u001b[0m\u001b[0;32m      3\u001b[0m \u001b[0mticks\u001b[0m \u001b[1;33m=\u001b[0m \u001b[0mlist\u001b[0m\u001b[1;33m(\u001b[0m\u001b[0mrange\u001b[0m\u001b[1;33m(\u001b[0m\u001b[0mtime_scale\u001b[0m\u001b[1;33m,\u001b[0m \u001b[0mtime_scale\u001b[0m \u001b[1;33m*\u001b[0m \u001b[1;33m(\u001b[0m\u001b[0mcandle_n\u001b[0m \u001b[1;33m+\u001b[0m \u001b[1;36m1\u001b[0m\u001b[1;33m)\u001b[0m\u001b[1;33m,\u001b[0m \u001b[0mtime_scale\u001b[0m\u001b[1;33m)\u001b[0m\u001b[1;33m)\u001b[0m\u001b[1;33m\u001b[0m\u001b[0m\n",
      "\u001b[1;31mNameError\u001b[0m: name 'time_scale' is not defined"
     ]
    }
   ],
   "source": [
    "#la larghezza delle candele e le ticks (che normalmente sarebbero range(0, candle_n + 1)), sono scalate per time_scale\n",
    "candlewidth = time_scale * percentual_candlewidth\n",
    "ticks = list(range(time_scale, time_scale * (candle_n + 1), time_scale))"
   ]
  },
  {
   "cell_type": "code",
   "execution_count": 14,
   "metadata": {
    "collapsed": false
   },
   "outputs": [],
   "source": [
    "#una candlelist è una lista di 4 valori crescenti e casuali rappresentanti min giornata, min(apertura,chiusura), \n",
    "#max(apertura,chiusura), max giornata ed è generata ogni delay secondi\n",
    "#genero una lista di candlestick, cioè una lista n_candle liste di quattro elementi\n",
    "candlelists = list(map(lambda x: sorted(gen.normal_list(4, mean, std, delay)), range(candle_n)))\n",
    "\n",
    "#i dati relativi ai segmenti sono ottenuti estraendo primo e ultimo valore delle candlestick, cioè min e max giornata\n",
    "#sono una lista di n_candle liste da due elementi\n",
    "segmentlists = list(map(lambda i: [candlelists[i][0], candlelists[i][3]], range(candle_n)))\n",
    "\n",
    "#i dati relativi alle candele sono ottenuti estraendo secondo e terzo valore delle candlestick, cioè valori di\n",
    "#apertura e chiusura, e mischiandone l'ordine per rendere casuale quale dei due risulta maggiore\n",
    "#sono una lista di n_candle liste da due elementi\n",
    "quadlists = list(map(lambda i: hand.shuffle_return(candlelists[i][1:3]), range(candle_n)))"
   ]
  },
  {
   "cell_type": "code",
   "execution_count": 15,
   "metadata": {
    "collapsed": false
   },
   "outputs": [],
   "source": [
    "#estraggo le ordinate dei valori terminali delle candele prendendo toplist pari alla lista ottenuta prendendo \n",
    "#il secondo valore di ogni sottolista si qualists, e bottomlist pari alla lista ottenuta prendendo il primo \n",
    "#valore di ogni sottolista di quadlist. toplist e bottomlist sono due list di n_candle elementi\n",
    "toplist = list(map(lambda i : quadlists[i][1], range(candle_n)))\n",
    "bottomlist = list(map(lambda i : quadlists[i][0], range(candle_n)))\n",
    "#estraggo le ascisse laterali delle candele sottaendo (leftlist) e sommando (rightlist) la semiampiezza delle candele\n",
    "#leftlist e rightlist sono due liste di n_candle elementi\n",
    "leftlist = list(map(lambda i : ticks[i] - candlewidth / 2, range(candle_n)))\n",
    "rightlist = list(map(lambda i : ticks[i] + candlewidth / 2, range(candle_n)))\n",
    "#colorlist è la lista rappresentante i colori di ciascuna candela. Assumendo toplist valori di chiusura e bottomlist\n",
    "#valori di apertura, il colore della rispettiva candela è verde se chiusura > apertura e rosso viceversa\n",
    "#colorlist è una lista di n_candle elementi\n",
    "colorlist = []\n",
    "for i in range(candle_n):\n",
    "    if toplist[i] > bottomlist[i]: colorlist.append(\"green\")\n",
    "    else: colorlist.append(\"red\")"
   ]
  },
  {
   "cell_type": "code",
   "execution_count": 16,
   "metadata": {
    "collapsed": false
   },
   "outputs": [],
   "source": [
    "#ascisse dei segmenti inizializzate alle ticks\n",
    "xlist = ticks\n",
    "#ordinate dei segmenti estratte prendendo y1list pari alla lista ottenuta prendendo il secondo valore di ogni \n",
    "#sottolista si segmentlist, e y0 pari alla lista ottenuta prendendo il primo valore di ogni sottolista di\n",
    "#segmentlist. y0list e y1list sono due liste di n_candle elementi\n",
    "y0list = list(map(lambda i : segmentlists[i][0], range(candle_n)))\n",
    "y1list = list(map(lambda i : segmentlists[i][1], range(candle_n)))"
   ]
  },
  {
   "cell_type": "code",
   "execution_count": 17,
   "metadata": {
    "collapsed": false
   },
   "outputs": [],
   "source": [
    "p = figure(\n",
    "    plot_width = 1000,\n",
    "    plot_height = 500,\n",
    "    y_range = Range1d(-3*std, 3*std) #range di visualizzazione dati in y preso multiplo della std della sorgente dati\n",
    ")\n",
    "#formattazione asse ascisse con date. \n",
    "#Le unità dell'asse delle x sono convertite in ms e mostrate con formattazione indicata nelle diverse scale temporali\n",
    "p.xaxis[0].formatter = DatetimeTickFormatter(\n",
    "    formats=dict(\n",
    "        hours=[\"%d %b\"],\n",
    "        days=[\"%d %b\"],\n",
    "        months=[\"%d %b\"],\n",
    "        years=[\"%d %b\"],\n",
    "    )\n",
    ")"
   ]
  },
  {
   "cell_type": "code",
   "execution_count": 18,
   "metadata": {
    "collapsed": false
   },
   "outputs": [
    {
     "data": {
      "text/plain": [
       "<bokeh.plotting.Figure at 0x7faefe14b860>"
      ]
     },
     "execution_count": 18,
     "metadata": {},
     "output_type": "execute_result"
    }
   ],
   "source": [
    "#inserito un solo glifo per tutte le candele\n",
    "p.quad(\n",
    "    top = toplist,\n",
    "    bottom = bottomlist,\n",
    "    left = leftlist,\n",
    "    right = rightlist,\n",
    "    fill_color = colorlist,\n",
    "    fill_line = colorlist,\n",
    "    name = \"candles\"    \n",
    ")"
   ]
  },
  {
   "cell_type": "code",
   "execution_count": 19,
   "metadata": {
    "collapsed": false
   },
   "outputs": [
    {
     "data": {
      "text/plain": [
       "<bokeh.plotting.Figure at 0x7faefe14b860>"
      ]
     },
     "execution_count": 19,
     "metadata": {},
     "output_type": "execute_result"
    }
   ],
   "source": [
    "#inserito un solo glifo per tutti i segmenti\n",
    "p.segment(\n",
    "    x0 = xlist,\n",
    "    x1 = xlist,\n",
    "    y0 = y0list,\n",
    "    y1 = y1list,\n",
    "    name = \"segments\"\n",
    "    )"
   ]
  },
  {
   "cell_type": "code",
   "execution_count": 20,
   "metadata": {
    "collapsed": false
   },
   "outputs": [
    {
     "ename": "KeyboardInterrupt",
     "evalue": "",
     "output_type": "error",
     "traceback": [
      "\u001b[1;31m---------------------------------------------------------------------------\u001b[0m",
      "\u001b[1;31mKeyboardInterrupt\u001b[0m                         Traceback (most recent call last)",
      "\u001b[1;32m<ipython-input-20-2499fa54e603>\u001b[0m in \u001b[0;36m<module>\u001b[1;34m()\u001b[0m\n\u001b[0;32m      7\u001b[0m \u001b[1;32mwhile\u001b[0m \u001b[1;32mTrue\u001b[0m\u001b[1;33m:\u001b[0m\u001b[1;33m\u001b[0m\u001b[0m\n\u001b[0;32m      8\u001b[0m     \u001b[1;31m#generati i dati per una nuova candlestick e divisi in dati relativi a candela e a segmento\u001b[0m\u001b[1;33m\u001b[0m\u001b[1;33m\u001b[0m\u001b[0m\n\u001b[1;32m----> 9\u001b[1;33m     \u001b[0mnew_candle_single\u001b[0m \u001b[1;33m=\u001b[0m \u001b[0msorted\u001b[0m\u001b[1;33m(\u001b[0m\u001b[0mgen\u001b[0m\u001b[1;33m.\u001b[0m\u001b[0mnormal_list\u001b[0m\u001b[1;33m(\u001b[0m\u001b[1;36m4\u001b[0m\u001b[1;33m,\u001b[0m \u001b[0mmean\u001b[0m\u001b[1;33m,\u001b[0m \u001b[0mstd\u001b[0m\u001b[1;33m,\u001b[0m \u001b[0mdelay\u001b[0m\u001b[1;33m)\u001b[0m\u001b[1;33m)\u001b[0m\u001b[1;33m\u001b[0m\u001b[0m\n\u001b[0m\u001b[0;32m     10\u001b[0m     \u001b[0mnew_segment_single\u001b[0m \u001b[1;33m=\u001b[0m \u001b[1;33m[\u001b[0m\u001b[0mnew_candle_single\u001b[0m\u001b[1;33m[\u001b[0m\u001b[1;36m0\u001b[0m\u001b[1;33m]\u001b[0m\u001b[1;33m,\u001b[0m \u001b[0mnew_candle_single\u001b[0m\u001b[1;33m[\u001b[0m\u001b[1;36m3\u001b[0m\u001b[1;33m]\u001b[0m\u001b[1;33m]\u001b[0m\u001b[1;33m\u001b[0m\u001b[0m\n\u001b[0;32m     11\u001b[0m     \u001b[0mnew_quad_single\u001b[0m \u001b[1;33m=\u001b[0m \u001b[0mhand\u001b[0m\u001b[1;33m.\u001b[0m\u001b[0mshuffle_return\u001b[0m\u001b[1;33m(\u001b[0m\u001b[0mnew_candle_single\u001b[0m\u001b[1;33m[\u001b[0m\u001b[1;36m1\u001b[0m\u001b[1;33m:\u001b[0m\u001b[1;36m3\u001b[0m\u001b[1;33m]\u001b[0m\u001b[1;33m)\u001b[0m\u001b[1;33m\u001b[0m\u001b[0m\n",
      "\u001b[1;32m<ipython-input-10-806b20dfe67f>\u001b[0m in \u001b[0;36mnormal_list\u001b[1;34m(self, listlen, mean, std, delay)\u001b[0m\n\u001b[0;32m      4\u001b[0m     \u001b[1;31m#di probabilità gaussiana a media mean e deviazione standard std argomento\u001b[0m\u001b[1;33m\u001b[0m\u001b[1;33m\u001b[0m\u001b[0m\n\u001b[0;32m      5\u001b[0m     \u001b[1;32mdef\u001b[0m \u001b[0mnormal_list\u001b[0m\u001b[1;33m(\u001b[0m\u001b[0mself\u001b[0m\u001b[1;33m,\u001b[0m \u001b[0mlistlen\u001b[0m\u001b[1;33m,\u001b[0m \u001b[0mmean\u001b[0m\u001b[1;33m,\u001b[0m \u001b[0mstd\u001b[0m\u001b[1;33m,\u001b[0m \u001b[0mdelay\u001b[0m\u001b[1;33m)\u001b[0m\u001b[1;33m:\u001b[0m\u001b[1;33m\u001b[0m\u001b[0m\n\u001b[1;32m----> 6\u001b[1;33m         \u001b[0mtime\u001b[0m\u001b[1;33m.\u001b[0m\u001b[0msleep\u001b[0m\u001b[1;33m(\u001b[0m\u001b[0mdelay\u001b[0m\u001b[1;33m)\u001b[0m\u001b[1;33m\u001b[0m\u001b[0m\n\u001b[0m\u001b[0;32m      7\u001b[0m         \u001b[0mnormallist\u001b[0m \u001b[1;33m=\u001b[0m \u001b[1;33m[\u001b[0m\u001b[1;33m]\u001b[0m\u001b[1;33m\u001b[0m\u001b[0m\n\u001b[0;32m      8\u001b[0m         \u001b[1;32mfor\u001b[0m \u001b[0mi\u001b[0m \u001b[1;32min\u001b[0m \u001b[0mrange\u001b[0m\u001b[1;33m(\u001b[0m\u001b[0mlistlen\u001b[0m\u001b[1;33m)\u001b[0m\u001b[1;33m:\u001b[0m\u001b[1;33m\u001b[0m\u001b[0m\n",
      "\u001b[1;31mKeyboardInterrupt\u001b[0m: "
     ]
    }
   ],
   "source": [
    "show(p)\n",
    "\n",
    "#create variabili data_source per il glifo \"candles\" e il glifo \"segments\"\n",
    "ds_candles = p.select({\"name\":\"candles\"})[0].data_source\n",
    "ds_segments = p.select({\"name\":\"segments\"})[0].data_source\n",
    "\n",
    "while True:\n",
    "    #generati i dati per una nuova candlestick e divisi in dati relativi a candela e a segmento\n",
    "    new_candle_single = sorted(gen.normal_list(4, mean, std, delay))\n",
    "    new_segment_single = [new_candle_single[0], new_candle_single[3]]\n",
    "    new_quad_single = hand.shuffle_return(new_candle_single[1:3])\n",
    "    \n",
    "    #aggiornamento del campo data delle data_source del glifo \"candles\"\n",
    "    #in generale è tolto dalle liste aggiornate l'ultimo elemento, e inserito in prima posizione un elemento pari a:\n",
    "    #...gli elementi trovati in new_candle_single\n",
    "    ds_candles.data[\"top\"] = hand.shift_insert(toplist, new_quad_single[1]) \n",
    "    ds_candles.data[\"bottom\"] = hand.shift_insert(bottomlist, new_quad_single[0])\n",
    "    #...l'ultimo elemento della lista prima dell'inserimento, incrementato di time_scale (la distanza tra due ticks)\n",
    "    ds_candles.data[\"left\"] = hand.shift_insert(leftlist, leftlist[-1] + time_scale)\n",
    "    ds_candles.data[\"right\"] = hand.shift_insert(rightlist, rightlist[-1] + time_scale) \n",
    "    #...il colore della nuova candela, determinato in base a quale è il maggiore tra gli elementi in new_candle_single\n",
    "    if toplist[0] > bottomlist[0]: hand.shift_insert(colorlist, \"green\")\n",
    "    else: hand.shift_insert(colorlist, \"red\")\n",
    "    ds_candles.data[\"fill_color\"] = colorlist\n",
    "    ds_candles.data[\"line_color\"] = colorlist\n",
    "    \n",
    "    #aggiornamento del campo data delle data_source del glifo \"segments\"\n",
    "    #...l'ultimo elemento della lista prima dell'inserimento, incrementato di time_scale (la distanza tra due ticks)\n",
    "    xlist = hand.shift_insert(xlist, xlist[-1] + time_scale)\n",
    "    ds_segments.data[\"x0\"] = xlist\n",
    "    ds_segments.data[\"x1\"] = xlist\n",
    "    #...gli elementi trovati in new_segment_single\n",
    "    ds_segments.data[\"y0\"] = hand.shift_insert(y0list, new_segment_single[0])\n",
    "    ds_segments.data[\"y1\"] = hand.shift_insert(y1list, new_segment_single[1])\n",
    "    \n",
    "    time.sleep(0.1)\n",
    "    cursession().store_objects(ds_candles, ds_segments)"
   ]
  },
  {
   "cell_type": "code",
   "execution_count": null,
   "metadata": {
    "collapsed": true
   },
   "outputs": [],
   "source": []
  },
  {
   "cell_type": "markdown",
   "metadata": {
    "collapsed": false
   },
   "source": [
    "#Test"
   ]
  },
  {
   "cell_type": "code",
   "execution_count": null,
   "metadata": {
    "collapsed": false
   },
   "outputs": [],
   "source": [
    "#test candlelists\n",
    "list(len(x) for x in candlelists)\n",
    "print(\"candlelist e'\\n\", candlelists)\n",
    "print(\"\\nEssa ha %d elementi, e deve averne tanti quanti le candele del grafico, cioe' %d\" %(len(candlelists),candle_n))\n",
    "print(\"\\nLa lunghezza di ciascuna sottolista è %r e dovrebbe essere 4\"% [len(x) for x in candlelists])\n",
    "print(\"\\nLa media e la std dei suoi elementi sono %f e %f e dovrebbero essere %f e %f\" \n",
    "      %(np.mean(candlelists), np.std(candlelists), mean, std))"
   ]
  },
  {
   "cell_type": "code",
   "execution_count": null,
   "metadata": {
    "collapsed": false
   },
   "outputs": [],
   "source": [
    "np.array(bottomlist) - np.array(toplist)"
   ]
  },
  {
   "cell_type": "code",
   "execution_count": null,
   "metadata": {
    "collapsed": false
   },
   "outputs": [],
   "source": [
    "#test di segmentlists\n",
    "print(\"La lista contenente gli elementi di segmentlists mediati lungo l'asse 0 e'\", np.mean(segmentlists, axis = 0))\n",
    "print(\"\\nEssa ha %d elementi, e deve averne tanti quanti le candele del grafico, cioe' %d\" %(len(segmentlists),candle_n))\n",
    "print(\"\\nLa lunghezza di ciascuna sottolista è %r e dovrebbe essere 2\" %[len(x) for x in segmentlists])\n",
    "minmaxlists = list(map(lambda i : [min(candlelists[i]), max(candlelists[i])], range(candle_n)))\n",
    "print(\"\\ne il minimo e il massimo della lista di dati sono %s e deve essere uguale a quella sopra\" \n",
    "      % np.mean(minmaxlists, axis = 0))"
   ]
  },
  {
   "cell_type": "code",
   "execution_count": null,
   "metadata": {
    "collapsed": false,
    "scrolled": true
   },
   "outputs": [],
   "source": [
    "#test di quadlists\n",
    "shuffle_n = 1000\n",
    "s = [0.0, 0.0]\n",
    "quadlists_mean = np.mean(quadlists, axis = 0)\n",
    "for i in range(shuffle_n):\n",
    "    quadlists_mean_shuffled = hand.shuffle_return(quadlists_mean)\n",
    "    s[0] += quadlists_mean_shuffled[0]\n",
    "    s[1] += quadlists_mean_shuffled[1]\n",
    "s = [s[0]/shuffle_n, s[1]/shuffle_n]\n",
    "print(\"\\nquadlists ha %d elementi, e deve averne tanti quanti le candele del grafico, cioe' %d\" \n",
    "      %(len(segmentlists),candle_n))\n",
    "print(\"\\nLa lunghezza di ciascuna sottolista è %r e dovrebbe essere 2\" %[len(x) for x in segmentlists])\n",
    "print(\"Dopo %d mescolamenti di quad_single, la lista contenenete i valori medi dei suoi due elementi e'\" %shuffle_n)\n",
    "print(\"%r\" %s)\n",
    "print(\"\\nCiascun valore dovrebbe essere pari alla media dei valori dei due elementi di centrali di candlelists, cioe'\",\n",
    "     np.mean(np.array(candlelists)[:,1:3]))"
   ]
  },
  {
   "cell_type": "code",
   "execution_count": null,
   "metadata": {
    "collapsed": false
   },
   "outputs": [],
   "source": [
    "candlelists"
   ]
  },
  {
   "cell_type": "code",
   "execution_count": null,
   "metadata": {
    "collapsed": false
   },
   "outputs": [],
   "source": [
    "#test di toplist\n",
    "print(\"toplist è %r, \\nconfrontala con i primi elementi delle sottoliste di candlelists\"  %toplist)\n",
    "print(\"\\nEssa ha %r elementi e dovrebbe averne %r\" %(len(toplist), candle_n))"
   ]
  },
  {
   "cell_type": "code",
   "execution_count": null,
   "metadata": {
    "collapsed": false
   },
   "outputs": [],
   "source": [
    "#test di bottomlist\n",
    "print(\"bottomlist è %r, \\nconfrontala con i secondi elementi delle sottoliste di candlelists\"  %bottomlist)\n",
    "print(\"\\nEssa ha %r elementi e dovrebbe averne %r\" %(len(bottomlist), candle_n))"
   ]
  },
  {
   "cell_type": "code",
   "execution_count": null,
   "metadata": {
    "collapsed": false
   },
   "outputs": [],
   "source": [
    "#test di leftlist e xlist\n",
    "print(\"leftlist è\\n%r\" %leftlist)\n",
    "print(\"\\nxlist è\\n%r\" %xlist)\n",
    "print(\"\\nLa semiampiezza di una candela è %r\" % (candlewidth / 2))\n",
    "print(\"e dovrebbe coindidere con la differenza tra leftlist e xlist\")\n",
    "print(\"Inoltre, in entrambe le liste, valori adiacenti dovrebbero differire di\", time_scale)\n",
    "print(\"\\nleftlist ha %r elementi e xlist ne ha %r. Entrambe devono averne %r.\" \n",
    "      %(len(bottomlist), len(xlist), candle_n))"
   ]
  },
  {
   "cell_type": "code",
   "execution_count": null,
   "metadata": {
    "collapsed": false
   },
   "outputs": [],
   "source": [
    "#test di rightlist e xlist\n",
    "print(\"rightlist è\\n%r\" %rightlist)\n",
    "print(\"\\nxlist è\\n%r\" %xlist)\n",
    "print(\"\\nLa semiampiezza di una candela è %r\" % (candlewidth / 2))\n",
    "print(\"e dovrebbe coindidere con la differenza tra xlist e rightlist\")\n",
    "print(\"Inoltre, in entrambe le liste, valori adiacenti dovrebbero differire di\", time_scale)\n",
    "print(\"\\nrightlist ha %r elementi e xlist ne ha %r. Entrambe devono averne %r.\" \n",
    "      %(len(bottomlist), len(xlist), candle_n))"
   ]
  },
  {
   "cell_type": "code",
   "execution_count": null,
   "metadata": {
    "collapsed": false
   },
   "outputs": [],
   "source": [
    "#test di colorlist\n",
    "print(\"La lista dei colori dei vari intervalli è la seguente \\n%r.\" % \n",
    "      [(hand.sign(toplist[i] - bottomlist[i]), colorlist[i]) for i in range(candle_n)])\n",
    "print(\"\\nEssa ha %r elementi e dovrebbe averne %r\" %(len(bottomlist), candle_n))\n",
    "print(\"\\nSi è affiancato 1 se top > bottom (intervallo verde), -1 se top < bottom (intervallo rosso)\")"
   ]
  },
  {
   "cell_type": "code",
   "execution_count": null,
   "metadata": {
    "collapsed": false
   },
   "outputs": [],
   "source": [
    "#test di y0list\n",
    "print(\"y0 è\\n%r\"% y0list)\n",
    "print(\"\\nEssa ha %r elementi e dovrebbe averne %r\" %(len(y0list), candle_n))\n",
    "candleminlist = [min(candlelists[i]) for i in range(candle_n)]\n",
    "print(\"\\nLa lista differenza tra y0list e i minimi di candlelist è\\n\", np.array(y0list)-np.array(candleminlist))"
   ]
  },
  {
   "cell_type": "code",
   "execution_count": null,
   "metadata": {
    "collapsed": false
   },
   "outputs": [],
   "source": [
    "#test di y1list\n",
    "print(\"y1 è\\n%r\"% y1list)\n",
    "print(\"\\nEssa ha %r elementi e dovrebbe averne %r\" %(len(y1list), candle_n))\n",
    "candlemaxlist = [max(candlelists[i]) for i in range(candle_n)]\n",
    "print(\"\\nLa lista differenza tra y0list e i minimi di candlelist è\\n\", np.array(y1list)-np.array(candlemaxlist))"
   ]
  },
  {
   "cell_type": "code",
   "execution_count": null,
   "metadata": {
    "collapsed": true
   },
   "outputs": [],
   "source": []
  },
  {
   "cell_type": "code",
   "execution_count": null,
   "metadata": {
    "collapsed": false
   },
   "outputs": [],
   "source": [
    "#test di new_candle_single\n",
    "new_candle_single"
   ]
  },
  {
   "cell_type": "code",
   "execution_count": null,
   "metadata": {
    "collapsed": false
   },
   "outputs": [],
   "source": [
    "#test di segmentdata\n",
    "print(\"Segmentdata è\", segment_single) \n",
    "print(\"e il minimo e il massimo della lista di dati sono %f e %f\" %(min(candle_single), max(candle_single)))"
   ]
  },
  {
   "cell_type": "code",
   "execution_count": null,
   "metadata": {
    "collapsed": false
   },
   "outputs": [],
   "source": [
    "#test di new_quad_single\n",
    "shuffle_n = 1000\n",
    "s = [0.0, 0.0]\n",
    "for i in range(shuffle_n):\n",
    "    new_quad_single_shuffled = hand.shuffle_return(new_quad_single)\n",
    "    s[0] += new_quad_single_shuffled[0]\n",
    "    s[1] += new_quad_single_shuffled[1]\n",
    "s = [s[0]/shuffle_n, s[1]/shuffle_n]\n",
    "print(\"Dopo %d mescolamenti di new_quad_single, la lista contenenete i valori medi dei suoi due elementi e'\" %shuffle_n)\n",
    "print(\"%r\" % s)\n",
    "print(\"Ciascun valore dovrebbe essere pari alla media dei valori dei due elementi di centrali di candle_single, cioe'\",\n",
    "     np.mean(new_candle_single[1:3]))"
   ]
  },
  {
   "cell_type": "code",
   "execution_count": null,
   "metadata": {
    "collapsed": false
   },
   "outputs": [],
   "source": [
    "#test dell'aggionrnamento di colorlist\n",
    "print(\"Stampo -1 se l'intervallo deve essere rosso e 1 se deve essere verde:\", \n",
    "      hand.sign(new_quad_single[1] - new_quad_single[0]) , colorlist[0])"
   ]
  }
 ],
 "metadata": {
  "kernelspec": {
   "display_name": "Python 3",
   "language": "python",
   "name": "python3"
  },
  "language_info": {
   "codemirror_mode": {
    "name": "ipython",
    "version": 3
   },
   "file_extension": ".py",
   "mimetype": "text/x-python",
   "name": "python",
   "nbconvert_exporter": "python",
   "pygments_lexer": "ipython3",
   "version": "3.4.3"
  }
 },
 "nbformat": 4,
 "nbformat_minor": 0
}
