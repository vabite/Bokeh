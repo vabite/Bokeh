{
 "cells": [
  {
   "cell_type": "code",
   "execution_count": 1,
   "metadata": {
    "collapsed": false
   },
   "outputs": [],
   "source": [
    "import time\n",
    "import zmq\n",
    "from bokeh.plotting import figure, show, Session, cursession, output_server\n",
    "from bokeh.models import Range1d, DatetimeTickFormatter\n",
    "from data import datagenerator\n",
    "from data import datahandler\n",
    "from data import datastream"
   ]
  },
  {
   "cell_type": "code",
   "execution_count": 2,
   "metadata": {
    "collapsed": false
   },
   "outputs": [
    {
     "name": "stdout",
     "output_type": "stream",
     "text": [
      "Using saved session configuration for http://127.0.0.1:5006/\n",
      "To override, pass 'load_from_config=False' to Session\n"
     ]
    }
   ],
   "source": [
    "session = Session(load_from_config=False, root_url = \"http://127.0.0.1:5006/\")\n",
    "output_server(\"candlestick\", url = \"http://127.0.0.1:5006/\")\n",
    "#session.register(\"vabite\",\"clanugu\")\n",
    "#session.login(\"vabite\", \"clanugu\")"
   ]
  },
  {
   "cell_type": "code",
   "execution_count": 3,
   "metadata": {
    "collapsed": true
   },
   "outputs": [],
   "source": [
    "#inizializzazione variabili\n",
    "#variabili relative al numero di candele che sono visualizzate di default a schermo (oltre le quale le candele\n",
    "#precedentemente emesse non sono eliminate, ma semplicemente escono dal range di visualizzazione) e \n",
    "candle_visualized_n = 20\n",
    "candlewidth_percentual = 0.2\n",
    "\n",
    "#variabili relative all'indirizzo cui sottoscriversi per ricevere i dati, topic al quale sottoscriversi, e all'url \n",
    "#cui connettersi per ricevere il ping ed inviare il pong prima che i dati comincino ad essere pubblicati\n",
    "url_sub = \"tcp://localhost:5561\"\n",
    "url_pong = \"tcp://*:5562\"\n",
    "topic = b''"
   ]
  },
  {
   "cell_type": "code",
   "execution_count": 4,
   "metadata": {
    "collapsed": false
   },
   "outputs": [
    {
     "data": {
      "text/plain": [
       "0"
      ]
     },
     "execution_count": 4,
     "metadata": {},
     "output_type": "execute_result"
    }
   ],
   "source": [
    "#creazione della socket SUB utilizzata per ricevere i dati utilizzati per effettuare il grafico seguita da pong \n",
    "#in risposta al ping dell'app pubblicante i dati\n",
    "context = zmq.Context()\n",
    "s_sub = context.socket(zmq.SUB)\n",
    "s_sub.connect(url_sub)\n",
    "s_sub.setsockopt(zmq.SUBSCRIBE, topic)\n",
    "datastream.pong(url_pong, context)"
   ]
  },
  {
   "cell_type": "code",
   "execution_count": 5,
   "metadata": {
    "collapsed": false
   },
   "outputs": [],
   "source": [
    "#ricazione delle prime due candele e relativi dati temporali.\n",
    "#i dati sono ricevuti dalla SUB sotto forma di tupla in cui il primo valore rappresenta l'istante temporale della misura,\n",
    "#mentre il secondo valore è una candela passata come lista di quattro valori (vedi sopra)\n",
    "tm0, candlelist0 = s_sub.recv_pyobj()\n",
    "tm, candlelist = s_sub.recv_pyobj()"
   ]
  },
  {
   "cell_type": "code",
   "execution_count": 6,
   "metadata": {
    "collapsed": false
   },
   "outputs": [],
   "source": [
    "#tmscale calcolata con i primi due dati ricevuti è poi utilizzata come distanza per settare il range di visualizzazion\n",
    "#per le ascisse del grafico, SUPPONENDO A PRIORI CHE I DATI RICEVUTI SIANO EQUISPAZIATI\n",
    "tmscale = tm - tm0\n",
    "candlewidth = tmscale * candlewidth_percentual #float da 0 a 1. Se uguale a 1, allora candele attaccate"
   ]
  },
  {
   "cell_type": "code",
   "execution_count": 7,
   "metadata": {
    "collapsed": false
   },
   "outputs": [],
   "source": [
    "#print(tm0); print(candlelist0); print(tm); print(candlelist)"
   ]
  },
  {
   "cell_type": "code",
   "execution_count": 8,
   "metadata": {
    "collapsed": false
   },
   "outputs": [],
   "source": [
    "#assegna i dati della prima candela ricevuta alle variabili che rappresenteranno i valori degli estremi superiore, \n",
    "#inferiore, sinistro e destro (rettangolo) della prima candela rappresentata nel grafico\n",
    "toplist = [candlelist0[2]]\n",
    "bottomlist = [candlelist0[1]]\n",
    "leftlist = [tm0 - candlewidth / 2]\n",
    "rightlist = [tm0 + candlewidth / 2]\n",
    "#se il terzo dato relativo alla candela è maggiore del secondo, cio' è interpretato come valore chiusura > apertura, e la\n",
    "#alla variabile relativa al colore della prima candela è associata al stringa \"green\"; se il terzo dato relativo alla \n",
    "#candela è minore del secondo, cio' è interpretato come valore chiusura < apertura, e la alla variabile relativa al \n",
    "#colore della prima candela è associata al stringa \"red\"\n",
    "if candlelist0[2] > candlelist0[1]: colorlist = [\"green\"]\n",
    "else: colorlist = [\"red\"]\n",
    "#tutti i valori sono wrappati in liste, in modo da poter appendere ad essi i successivi dati della stessa categoria\n",
    "#man mano che verranno ricevuti dalla sorgente"
   ]
  },
  {
   "cell_type": "code",
   "execution_count": 9,
   "metadata": {
    "collapsed": false
   },
   "outputs": [],
   "source": [
    "#print(toplist); print(bottomlist); print(leftlist); print(rightlist); print(colorlist)"
   ]
  },
  {
   "cell_type": "code",
   "execution_count": 10,
   "metadata": {
    "collapsed": true
   },
   "outputs": [],
   "source": [
    "#assegna il dato temporale e i dati della prima candela alle variabili che rappresenteranno l'ascissa centrale e valori \n",
    "#massimo e minimo (segmento) della prima candela del grafico\n",
    "xlist = [tm0]\n",
    "y0list = [candlelist0[0]]\n",
    "y1list = [candlelist0[3]]\n",
    "#tutti i valori sono wrappati in liste, in modo da poter appendere ad essi i successivi dati della stessa categoria\n",
    "#man mano che verranno ricevuti dalla sorgente"
   ]
  },
  {
   "cell_type": "code",
   "execution_count": 11,
   "metadata": {
    "collapsed": false
   },
   "outputs": [],
   "source": [
    "#print(xlist); print(y0list); print(y1list)"
   ]
  },
  {
   "cell_type": "code",
   "execution_count": 12,
   "metadata": {
    "collapsed": false
   },
   "outputs": [],
   "source": [
    "#range delle ascisse del grafico stimato a partire dalla ascissa iniziale e dalla distanza tra due candele successive\n",
    "#(valori stimati a partire dal dato temporale delle prime due candele ricevute)\n",
    "#range delle ordinate del grafico stimati a partire dalla ordinata massima e minima (da cui anche la lunghezza) della \n",
    "#prima candela)\n",
    "#definita formattazione temporale per le ascisse\n",
    "p = figure(\n",
    "    plot_width = 1000,\n",
    "    plot_height = 500,\n",
    "    x_range = Range1d(tm0 - (candle_visualized_n + 1) * tmscale, tm0 + tmscale),\n",
    "    y_range = Range1d(candlelist0[0] - 2 * (candlelist0[3] - candlelist0[0]), \n",
    "                      candlelist0[3] + 2 * (candlelist0[3] - candlelist0[0]))\n",
    "    )\n",
    "\n",
    "p.xaxis[0].formatter = DatetimeTickFormatter(\n",
    "    formats = dict(\n",
    "        hours = [\"%H\"], #ora come intero da 00 a 23\n",
    "        days = [\"%d %b %Y\"], #numero giorno, sigla mese, numero anno\n",
    "        months = [\"%d %b %Y\"], #numero giorno, sigla mese, numero anno\n",
    "        years = [\"%d %b %Y\"], #numero giorno, sigla mese, numero anno\n",
    "    )\n",
    ")"
   ]
  },
  {
   "cell_type": "code",
   "execution_count": 13,
   "metadata": {
    "collapsed": false
   },
   "outputs": [
    {
     "data": {
      "text/plain": [
       "<bokeh.models.renderers.GlyphRenderer at 0x7f2f23e542e8>"
      ]
     },
     "execution_count": 13,
     "metadata": {},
     "output_type": "execute_result"
    }
   ],
   "source": [
    "#assegnato al grafico un glifo rettangolo contenente gli estremi e il colore del rettangolo della prima candela\n",
    "#il glifo è nominato \"candles\"\n",
    "p.quad(\n",
    "    top = toplist,\n",
    "    bottom = bottomlist,\n",
    "    left = leftlist,\n",
    "    right = rightlist,\n",
    "    fill_color = colorlist,\n",
    "    #fill_line = colorlist,\n",
    "    name = \"candles\"    \n",
    ")"
   ]
  },
  {
   "cell_type": "code",
   "execution_count": 14,
   "metadata": {
    "collapsed": false
   },
   "outputs": [
    {
     "data": {
      "text/plain": [
       "<bokeh.models.renderers.GlyphRenderer at 0x7f2ef549e6a0>"
      ]
     },
     "execution_count": 14,
     "metadata": {},
     "output_type": "execute_result"
    }
   ],
   "source": [
    "#assegnato al grafico un glifo segmento contenente gli estremi del segmento della prima candela (ascisse uguali: \n",
    "#è verticale). Il glifo è nominato \"segments\"\n",
    "p.segment(\n",
    "    x0 = xlist,\n",
    "    x1 = xlist,\n",
    "    y0 = y0list,\n",
    "    y1 = y1list,\n",
    "    name = \"segments\"\n",
    "    )"
   ]
  },
  {
   "cell_type": "code",
   "execution_count": 15,
   "metadata": {
    "collapsed": false
   },
   "outputs": [
    {
     "ename": "KeyboardInterrupt",
     "evalue": "",
     "output_type": "error",
     "traceback": [
      "\u001b[1;31m---------------------------------------------------------------------------\u001b[0m",
      "\u001b[1;31mKeyboardInterrupt\u001b[0m                         Traceback (most recent call last)",
      "\u001b[1;32m<ipython-input-15-44f223c14783>\u001b[0m in \u001b[0;36m<module>\u001b[1;34m()\u001b[0m\n\u001b[0;32m     41\u001b[0m     \u001b[0mcursession\u001b[0m\u001b[1;33m(\u001b[0m\u001b[1;33m)\u001b[0m\u001b[1;33m.\u001b[0m\u001b[0mstore_objects\u001b[0m\u001b[1;33m(\u001b[0m\u001b[0mds_candles\u001b[0m\u001b[1;33m,\u001b[0m \u001b[0mds_segments\u001b[0m\u001b[1;33m,\u001b[0m \u001b[0mp\u001b[0m\u001b[1;33m.\u001b[0m\u001b[0mx_range\u001b[0m\u001b[1;33m)\u001b[0m\u001b[1;33m\u001b[0m\u001b[0m\n\u001b[0;32m     42\u001b[0m \u001b[1;31m#attende tramite la socket SUB il nuovo oggetto tupla contenente dato temporale e valori della nuova candela\u001b[0m\u001b[1;33m\u001b[0m\u001b[1;33m\u001b[0m\u001b[0m\n\u001b[1;32m---> 43\u001b[1;33m     \u001b[0mtm\u001b[0m\u001b[1;33m,\u001b[0m \u001b[0mcandlelist\u001b[0m \u001b[1;33m=\u001b[0m \u001b[0ms_sub\u001b[0m\u001b[1;33m.\u001b[0m\u001b[0mrecv_pyobj\u001b[0m\u001b[1;33m(\u001b[0m\u001b[1;33m)\u001b[0m\u001b[1;33m\u001b[0m\u001b[0m\n\u001b[0m\u001b[0;32m     44\u001b[0m     \u001b[1;31m#time.sleep(0.1)\u001b[0m\u001b[1;33m\u001b[0m\u001b[1;33m\u001b[0m\u001b[0m\n",
      "\u001b[1;32m/home/valerio/Projects/anaconda3/envs/Bokeh/lib/python3.4/site-packages/zmq/sugar/socket.py\u001b[0m in \u001b[0;36mrecv_pyobj\u001b[1;34m(self, flags)\u001b[0m\n\u001b[0;32m    434\u001b[0m             \u001b[0mThe\u001b[0m \u001b[0mPython\u001b[0m \u001b[0mobject\u001b[0m \u001b[0mthat\u001b[0m \u001b[0marrives\u001b[0m \u001b[1;32mas\u001b[0m \u001b[0ma\u001b[0m \u001b[0mmessage\u001b[0m\u001b[1;33m.\u001b[0m\u001b[1;33m\u001b[0m\u001b[0m\n\u001b[0;32m    435\u001b[0m         \"\"\"\n\u001b[1;32m--> 436\u001b[1;33m         \u001b[0ms\u001b[0m \u001b[1;33m=\u001b[0m \u001b[0mself\u001b[0m\u001b[1;33m.\u001b[0m\u001b[0mrecv\u001b[0m\u001b[1;33m(\u001b[0m\u001b[0mflags\u001b[0m\u001b[1;33m)\u001b[0m\u001b[1;33m\u001b[0m\u001b[0m\n\u001b[0m\u001b[0;32m    437\u001b[0m         \u001b[1;32mreturn\u001b[0m \u001b[0mpickle\u001b[0m\u001b[1;33m.\u001b[0m\u001b[0mloads\u001b[0m\u001b[1;33m(\u001b[0m\u001b[0ms\u001b[0m\u001b[1;33m)\u001b[0m\u001b[1;33m\u001b[0m\u001b[0m\n\u001b[0;32m    438\u001b[0m \u001b[1;33m\u001b[0m\u001b[0m\n",
      "\u001b[1;32mzmq/backend/cython/socket.pyx\u001b[0m in \u001b[0;36mzmq.backend.cython.socket.Socket.recv (zmq/backend/cython/socket.c:6507)\u001b[1;34m()\u001b[0m\n",
      "\u001b[1;32mzmq/backend/cython/socket.pyx\u001b[0m in \u001b[0;36mzmq.backend.cython.socket.Socket.recv (zmq/backend/cython/socket.c:6307)\u001b[1;34m()\u001b[0m\n",
      "\u001b[1;32mzmq/backend/cython/socket.pyx\u001b[0m in \u001b[0;36mzmq.backend.cython.socket._recv_copy (zmq/backend/cython/socket.c:1877)\u001b[1;34m()\u001b[0m\n",
      "\u001b[1;32m/home/valerio/Projects/anaconda3/envs/Bokeh/lib/python3.4/site-packages/zmq/backend/cython/checkrc.pxd\u001b[0m in \u001b[0;36mzmq.backend.cython.checkrc._check_rc (zmq/backend/cython/socket.c:6758)\u001b[1;34m()\u001b[0m\n\u001b[0;32m     10\u001b[0m     \"\"\"\n\u001b[0;32m     11\u001b[0m     \u001b[0mcdef\u001b[0m \u001b[0mint\u001b[0m \u001b[0merrno\u001b[0m \u001b[1;33m=\u001b[0m \u001b[0mzmq_errno\u001b[0m\u001b[1;33m(\u001b[0m\u001b[1;33m)\u001b[0m\u001b[1;33m\u001b[0m\u001b[0m\n\u001b[1;32m---> 12\u001b[1;33m     \u001b[0mPyErr_CheckSignals\u001b[0m\u001b[1;33m(\u001b[0m\u001b[1;33m)\u001b[0m\u001b[1;33m\u001b[0m\u001b[0m\n\u001b[0m\u001b[0;32m     13\u001b[0m     \u001b[1;32mif\u001b[0m \u001b[0mrc\u001b[0m \u001b[1;33m<\u001b[0m \u001b[1;36m0\u001b[0m\u001b[1;33m:\u001b[0m\u001b[1;33m\u001b[0m\u001b[0m\n\u001b[0;32m     14\u001b[0m         \u001b[1;32mif\u001b[0m \u001b[0merrno\u001b[0m \u001b[1;33m==\u001b[0m \u001b[0mEINTR\u001b[0m\u001b[1;33m:\u001b[0m\u001b[1;33m\u001b[0m\u001b[0m\n",
      "\u001b[1;31mKeyboardInterrupt\u001b[0m: "
     ]
    }
   ],
   "source": [
    "show(p)\n",
    "\n",
    "ds_candles = p.select({\"name\":\"candles\"})[0].data_source\n",
    "ds_segments = p.select({\"name\":\"segments\"})[0].data_source\n",
    "\n",
    "while True:\n",
    "#aggiorna le liste rappresentanti gli estremi dei rettangoli e dei segmenti del grafico aggiungendo i dati relativi al \n",
    "#all'ultima candela ricevuta. Alla prima iterazione inserisce i dati della seconda candela già ricevuti fuori dal ciclo \n",
    "#al fine di calcolare timescale utilizzata per definire il range di visualizzazione temporale\n",
    "#NB: al momento tutti i dati ricevuti sono salvati, senza porre alcun limite sul nuemero massimo dei dati salvati\n",
    "    toplist.append(candlelist[2])\n",
    "    bottomlist.append(candlelist[1])\n",
    "    leftlist.append(tm - candlewidth / 2)\n",
    "    rightlist.append(tm + candlewidth / 2)\n",
    "    if candlelist[2] > candlelist[1]: colorlist.append(\"green\")\n",
    "    else: colorlist.append(\"red\")\n",
    "        \n",
    "    xlist.append(tm)\n",
    "    y0list.append(candlelist[0])\n",
    "    y1list.append(candlelist[3])\n",
    "\n",
    "#inserisce le liste così aggiornate nei relativi campi data source dei rispettivi glifi\n",
    "    ds_candles.data[\"top\"] = toplist\n",
    "    ds_candles.data[\"bottom\"] = bottomlist\n",
    "    ds_candles.data[\"left\"] = leftlist\n",
    "    ds_candles.data[\"right\"] = rightlist\n",
    "    ds_candles.data[\"fill_color\"] = colorlist\n",
    "    ds_candles.data[\"line_color\"] = colorlist\n",
    "    \n",
    "    ds_segments.data[\"x0\"] = xlist\n",
    "    ds_segments.data[\"x1\"] = xlist\n",
    "    ds_segments.data[\"y0\"] = y0list\n",
    "    ds_segments.data[\"y1\"] = y1list\n",
    "\n",
    "#aggiorna il range temporale di visualizzazione del grafico, inserendo il dato temporale della nuova candela al posto\n",
    "#del dato temporale della precedente candela. In pratica shita il range di una timescale\n",
    "    p.x_range.start = tm - (candle_visualized_n - 0.5) * tmscale #mezzo tmscale a sx della prima candela\n",
    "    p.x_range.end = tm + 0.5 * tmscale #mezzo tmscale a dx dell'ultima candela\n",
    "\n",
    "#immagazzina i cambiamenti relatici dai data source dei glifi e al range di visualizzazione delle ascisse\n",
    "    cursession().store_objects(ds_candles, ds_segments, p.x_range) \n",
    "#attende tramite la socket SUB il nuovo oggetto tupla contenente dato temporale e valori della nuova candela\n",
    "    tm, candlelist = s_sub.recv_pyobj()\n",
    "    #time.sleep(0.1)"
   ]
  },
  {
   "cell_type": "code",
   "execution_count": null,
   "metadata": {
    "collapsed": false
   },
   "outputs": [],
   "source": []
  },
  {
   "cell_type": "code",
   "execution_count": null,
   "metadata": {
    "collapsed": false
   },
   "outputs": [],
   "source": [
    "#VOLENDO TENERE UN NUMERO MASSIMO DI DATI MAX_DATA, E' POSSIBILE SOSTITUIRE IL WHILE CON\n",
    "#for i in range(MAX_DATA):\n",
    "#E POI FAR SEGUIRE UN WHILE IN CUI APPEND E' SOSTITUITO DA SHIFT_INSERT\n",
    "\n",
    "#while True:\n",
    "    #ds_candles.data[\"top\"] = dataHandler.shift_insert(toplist, new_quad_single[1]) \n",
    "    #ds_candles.data[\"bottom\"] = datahandler.shift_insert(bottomlist, new_quad_single[0])\n",
    "    #ds_candles.data[\"left\"] = datahandler.shift_insert(leftlist, leftlist[-1] + tmscale)\n",
    "    #ds_candles.data[\"right\"] = datahandler.shift_insert(rightlist, rightlist[-1] + tmscale) \n",
    "    #if toplist[0] > bottomlist[0]: datahandler.shift_insert(colorlist, \"green\")\n",
    "    #else: datahandler.shift_insert(colorlist, \"red\")\n",
    "    #ds_candles.data[\"fill_color\"] = colorlist\n",
    "    #ds_candles.data[\"line_color\"] = colorlist\n",
    "    \n",
    "    #xlist = datahandler.shift_insert(xlist, xlist[-1] + tmscale) #ds_segments.data[\"x0\"] = xlist #ds_segments.data[\"x1\"] = xlist\n",
    "    #ds_segments.data[\"y0\"] = datahandler.shift_insert(y0list, new_segment_single[0])\n",
    "    #ds_segments.data[\"y1\"] = datahandler.shift_insert(y1list, new_segment_single[1])\n",
    "    \n",
    "    #time.sleep(0.1)\n",
    "    #cursession().store_objects(ds_candles, ds_segments)"
   ]
  },
  {
   "cell_type": "code",
   "execution_count": null,
   "metadata": {
    "collapsed": false
   },
   "outputs": [],
   "source": []
  }
 ],
 "metadata": {
  "kernelspec": {
   "display_name": "Python 3",
   "language": "python",
   "name": "python3"
  },
  "language_info": {
   "codemirror_mode": {
    "name": "ipython",
    "version": 3
   },
   "file_extension": ".py",
   "mimetype": "text/x-python",
   "name": "python",
   "nbconvert_exporter": "python",
   "pygments_lexer": "ipython3",
   "version": "3.4.3"
  }
 },
 "nbformat": 4,
 "nbformat_minor": 0
}
