{
 "cells": [
  {
   "cell_type": "code",
   "execution_count": 65,
   "metadata": {
    "collapsed": false
   },
   "outputs": [],
   "source": [
    "import calendar\n",
    "import time\n",
    "from bokeh.plotting import figure, show, Session, cursession, output_server\n",
    "from bokeh.models import Range1d, DatetimeTickFormatter\n",
    "from data import datagenerator, datahandler, datastream"
   ]
  },
  {
   "cell_type": "code",
   "execution_count": 66,
   "metadata": {
    "collapsed": false
   },
   "outputs": [
    {
     "name": "stdout",
     "output_type": "stream",
     "text": [
      "Using saved session configuration for http://127.0.0.1:5006/\n",
      "To override, pass 'load_from_config=False' to Session\n"
     ]
    }
   ],
   "source": [
    "session = Session(load_from_config=False, root_url = \"http://127.0.0.1:5006/\")\n",
    "output_server(\"candlestick\", url = \"http://127.0.0.1:5006/\")\n",
    "#session.register(\"vabite\",\"clanugu\")\n",
    "#session.login(\"vabite\", \"clanugu\")"
   ]
  },
  {
   "cell_type": "code",
   "execution_count": null,
   "metadata": {
    "collapsed": true
   },
   "outputs": [],
   "source": []
  },
  {
   "cell_type": "code",
   "execution_count": 67,
   "metadata": {
    "collapsed": false
   },
   "outputs": [],
   "source": [
    "def line_to_candledata(line):\n",
    "    \n",
    "    line_splitted = line.split(b',')\n",
    "    \n",
    "    tmstring = line_splitted[0]\n",
    "    tmlist = tmstring.split(b'-')\n",
    "    tm = 1000*calendar.timegm((int(tmlist[0]), int(tmlist[1]), int(tmlist[2]), 0, 0, 0, 0, 0, -1))\n",
    "        \n",
    "    candlelist = [float(line_splitted[3]), float(line_splitted[1]), float(line_splitted[4]), float(line_splitted[2])]\n",
    "    \n",
    "    return (tm, candlelist)"
   ]
  },
  {
   "cell_type": "code",
   "execution_count": null,
   "metadata": {
    "collapsed": true
   },
   "outputs": [],
   "source": []
  },
  {
   "cell_type": "code",
   "execution_count": 68,
   "metadata": {
    "collapsed": false
   },
   "outputs": [],
   "source": [
    "#inizializzazione variabili\n",
    "#parametri utilizzati per effettuare la query a Yahoo Finance\n",
    "quote_id = \"UCG.MI\"\n",
    "start_y = 2013\n",
    "start_m = 1\n",
    "start_d = 1\n",
    "stop_y = 2014\n",
    "stop_m = 12\n",
    "stop_d = 31\n",
    "step = \"d\" \n",
    "#parametri relativi al grafico\n",
    "candle_visualized_n = 15\n",
    "candlewidth_percentual = 0.5"
   ]
  },
  {
   "cell_type": "code",
   "execution_count": 69,
   "metadata": {
    "collapsed": false
   },
   "outputs": [
    {
     "data": {
      "text/plain": [
       "b'Date,Open,High,Low,Close,Volume,Adj Close\\n'"
      ]
     },
     "execution_count": 69,
     "metadata": {},
     "output_type": "execute_result"
    }
   ],
   "source": [
    "#effettua una query a Yahoo Finance chiedendo un csv relativo al titolo e all'intervallo temporale specificato\n",
    "#nei parametri di query, ritornando un oggetto che supporta i metodidella classe File\n",
    "file = datastream.queryinput_to_csv_yf(quote_id, start_y, start_m, start_d, stop_y, stop_m, stop_d, step)\n",
    "file.readline() #elimina la prima riga del file contenente l'intestazione delle colonne"
   ]
  },
  {
   "cell_type": "code",
   "execution_count": 70,
   "metadata": {
    "collapsed": false
   },
   "outputs": [],
   "source": [
    "linelist = file.readlines()\n",
    "file.close() #contenuto del csv trasferito in linelist. Posso chiudere la socket alla url\n",
    "#Ho utilizzato readlines() semplicemente per rendere banale l'accesso alle linee del csv a partire dal fondo.\n",
    "#Tuttavia, penso questo concentri il carico di lavoro tutto all'inizio.\n",
    "#Per dati in ordine cronologico il problema non sussiste, per dati in ordine anticronologico è probabilmente possibile\n",
    "#ottimizzare implementando lettura dal fondo una linea alla volta"
   ]
  },
  {
   "cell_type": "code",
   "execution_count": 71,
   "metadata": {
    "collapsed": false
   },
   "outputs": [
    {
     "name": "stdout",
     "output_type": "stream",
     "text": [
      "Dati di inizio e fine intervallo temporale:\n",
      "b'2013-01-01,3.706,3.706,3.706,3.706,000,3.55995\\n'\n",
      "b'2014-12-31,5.335,5.335,5.335,5.335,000,5.23378\\n'\n"
     ]
    }
   ],
   "source": [
    "print(\"Dati di inizio e fine intervallo temporale:\\n%r\\n%r\"% (linelist[-1], linelist[0]))"
   ]
  },
  {
   "cell_type": "code",
   "execution_count": 72,
   "metadata": {
    "collapsed": false
   },
   "outputs": [],
   "source": [
    "#inizializza un generatore che, ad ogni iterazione, restituisce un valore di linelist partendo dall'ultimo a salire\n",
    "#la lettura delle righe del csv a partire dall'ultima è effettuata perchè i dati sono in ordine anticronologico\n",
    "nextlast_line = datahandler.yield_from_last(linelist)\n",
    "tm0, candlelist0 = line_to_candledata(next(nextlast_line))\n",
    "tm, candlelist = line_to_candledata(next(nextlast_line))"
   ]
  },
  {
   "cell_type": "code",
   "execution_count": 73,
   "metadata": {
    "collapsed": false
   },
   "outputs": [],
   "source": [
    "##print(\"Primi due righe della query in ordine cronologico:\\n%r\\n%r\" %(linelist[-1], linelist[-2]))\n",
    "##print(\"\\nDa confrontare con le prime due candele:\")\n",
    "##print(time.gmtime(tm0/1000))\n",
    "##print(candlelist0) \n",
    "##print(time.gmtime(tm/1000))\n",
    "##print(candlelist)"
   ]
  },
  {
   "cell_type": "code",
   "execution_count": 74,
   "metadata": {
    "collapsed": true
   },
   "outputs": [],
   "source": [
    "tmscale = tm - tm0\n",
    "candlewidth = tmscale * candlewidth_percentual"
   ]
  },
  {
   "cell_type": "code",
   "execution_count": 75,
   "metadata": {
    "collapsed": true
   },
   "outputs": [],
   "source": [
    "toplist = [candlelist0[2]]\n",
    "bottomlist = [candlelist0[1]]\n",
    "leftlist = [tm0 - candlewidth / 2]\n",
    "rightlist = [tm0 + candlewidth / 2]\n",
    "\n",
    "if candlelist0[2] > candlelist0[1]: colorlist = [\"green\"]\n",
    "else: colorlist = [\"red\"]"
   ]
  },
  {
   "cell_type": "code",
   "execution_count": 76,
   "metadata": {
    "collapsed": true
   },
   "outputs": [],
   "source": [
    "xlist = [tm0]\n",
    "y0list = [candlelist0[0]]\n",
    "y1list = [candlelist0[3]]"
   ]
  },
  {
   "cell_type": "code",
   "execution_count": 77,
   "metadata": {
    "collapsed": false
   },
   "outputs": [],
   "source": [
    "p = figure(\n",
    "    plot_width = 1000,\n",
    "    plot_height = 500,\n",
    "    x_range = Range1d(tm0 - (candle_visualized_n + 1) * tmscale, tm0 + tmscale),\n",
    "    #y_range = Range1d(candlelist0[0] - 2 * (candlelist0[3] - candlelist0[0]), \n",
    "                      #candlelist0[3] + 2 * (candlelist0[3] - candlelist0[0]))\n",
    "    )\n",
    "\n",
    "p.xaxis[0].formatter = DatetimeTickFormatter(\n",
    "    formats = dict(\n",
    "        hours = [\"d %b %Y\"], #numero giorno, sigla mese, ora come intero da 00 a 23\n",
    "        days = [\"%d %b %Y\"], #numero giorno, sigla mese, numero anno\n",
    "        months = [\"%d %b %Y\"], #numero giorno, sigla mese, numero anno\n",
    "        years = [\"%d %b %Y\"], #numero giorno, sigla mese, numero anno\n",
    "    )\n",
    ")"
   ]
  },
  {
   "cell_type": "code",
   "execution_count": 78,
   "metadata": {
    "collapsed": false
   },
   "outputs": [
    {
     "data": {
      "text/plain": [
       "<bokeh.models.renderers.GlyphRenderer at 0x7f4f55697be0>"
      ]
     },
     "execution_count": 78,
     "metadata": {},
     "output_type": "execute_result"
    }
   ],
   "source": [
    "p.quad(\n",
    "    top = toplist,\n",
    "    bottom = bottomlist,\n",
    "    left = leftlist,\n",
    "    right = rightlist,\n",
    "    fill_color = colorlist,\n",
    "    #fill_line = colorlist,\n",
    "    name = \"candles\"    \n",
    ")"
   ]
  },
  {
   "cell_type": "code",
   "execution_count": 79,
   "metadata": {
    "collapsed": false
   },
   "outputs": [
    {
     "data": {
      "text/plain": [
       "<bokeh.models.renderers.GlyphRenderer at 0x7f4f556979b0>"
      ]
     },
     "execution_count": 79,
     "metadata": {},
     "output_type": "execute_result"
    }
   ],
   "source": [
    "p.segment(\n",
    "    x0 = xlist,\n",
    "    x1 = xlist,\n",
    "    y0 = y0list,\n",
    "    y1 = y1list,\n",
    "    name = \"segments\"\n",
    "    )"
   ]
  },
  {
   "cell_type": "code",
   "execution_count": 80,
   "metadata": {
    "collapsed": false
   },
   "outputs": [
    {
     "ename": "KeyboardInterrupt",
     "evalue": "",
     "output_type": "error",
     "traceback": [
      "\u001b[1;31m---------------------------------------------------------------------------\u001b[0m",
      "\u001b[1;31mKeyboardInterrupt\u001b[0m                         Traceback (most recent call last)",
      "\u001b[1;32m<ipython-input-80-432ccda93513>\u001b[0m in \u001b[0;36m<module>\u001b[1;34m()\u001b[0m\n\u001b[0;32m     42\u001b[0m     \u001b[1;31m##print(candlelist[1], candlelist[3], candlelist[0], candlelist[2])\u001b[0m\u001b[1;33m\u001b[0m\u001b[1;33m\u001b[0m\u001b[0m\n\u001b[0;32m     43\u001b[0m \u001b[1;33m\u001b[0m\u001b[0m\n\u001b[1;32m---> 44\u001b[1;33m     \u001b[0mtime\u001b[0m\u001b[1;33m.\u001b[0m\u001b[0msleep\u001b[0m\u001b[1;33m(\u001b[0m\u001b[1;36m0.5\u001b[0m\u001b[1;33m)\u001b[0m\u001b[1;33m\u001b[0m\u001b[0m\n\u001b[0m",
      "\u001b[1;31mKeyboardInterrupt\u001b[0m: "
     ]
    }
   ],
   "source": [
    "show(p)\n",
    "\n",
    "ds_candles = p.select({\"name\":\"candles\"})[0].data_source\n",
    "ds_segments = p.select({\"name\":\"segments\"})[0].data_source\n",
    "\n",
    "while nextlast_line:\n",
    "\n",
    "    toplist.append(candlelist[2])\n",
    "    bottomlist.append(candlelist[1])\n",
    "    leftlist.append(tm - candlewidth / 2)\n",
    "    rightlist.append(tm + candlewidth / 2)\n",
    "    if candlelist[2] > candlelist[1]: colorlist.append(\"green\")\n",
    "    else: colorlist.append(\"red\")\n",
    "        \n",
    "    xlist.append(tm)\n",
    "    y0list.append(candlelist[0])\n",
    "    y1list.append(candlelist[3])\n",
    "\n",
    "    ds_candles.data[\"top\"] = toplist\n",
    "    ds_candles.data[\"bottom\"] = bottomlist\n",
    "    ds_candles.data[\"left\"] = leftlist\n",
    "    ds_candles.data[\"right\"] = rightlist\n",
    "    ds_candles.data[\"fill_color\"] = colorlist\n",
    "    ds_candles.data[\"line_color\"] = colorlist\n",
    "    \n",
    "    ds_segments.data[\"x0\"] = xlist\n",
    "    ds_segments.data[\"x1\"] = xlist\n",
    "    ds_segments.data[\"y0\"] = y0list\n",
    "    ds_segments.data[\"y1\"] = y1list\n",
    "\n",
    "    p.x_range.start = tm - (candle_visualized_n - 0.5) * tmscale\n",
    "    p.x_range.end = tm + 0.5 * tmscale\n",
    "\n",
    "    cursession().store_objects(ds_candles, ds_segments, p.x_range)\n",
    "    \n",
    "    tm, candlelist = line_to_candledata(next(nextlast_line)) ##se effettui il test, commenta questa riga\n",
    "    ##current_line = next(nextlast_line)\n",
    "    ##tm, candlelist = line_to_candledata(current_line)  \n",
    "    ##print(current_line) #il primo dato ricevuto dev'essere il terzo in ordine cronologico\n",
    "    ##print(time.gmtime(tm/1000))\n",
    "    ##dovrebbero essere nello stesso ordine di current_line\n",
    "    ##print(candlelist[1], candlelist[3], candlelist[0], candlelist[2])\n",
    "    \n",
    "    time.sleep(0.5)"
   ]
  },
  {
   "cell_type": "code",
   "execution_count": null,
   "metadata": {
    "collapsed": true
   },
   "outputs": [],
   "source": []
  },
  {
   "cell_type": "code",
   "execution_count": null,
   "metadata": {
    "collapsed": true
   },
   "outputs": [],
   "source": []
  },
  {
   "cell_type": "code",
   "execution_count": null,
   "metadata": {
    "collapsed": false
   },
   "outputs": [],
   "source": []
  },
  {
   "cell_type": "code",
   "execution_count": null,
   "metadata": {
    "collapsed": true
   },
   "outputs": [],
   "source": []
  },
  {
   "cell_type": "code",
   "execution_count": null,
   "metadata": {
    "collapsed": true
   },
   "outputs": [],
   "source": []
  }
 ],
 "metadata": {
  "kernelspec": {
   "display_name": "Python 3",
   "language": "python",
   "name": "python3"
  },
  "language_info": {
   "codemirror_mode": {
    "name": "ipython",
    "version": 3
   },
   "file_extension": ".py",
   "mimetype": "text/x-python",
   "name": "python",
   "nbconvert_exporter": "python",
   "pygments_lexer": "ipython3",
   "version": "3.4.3"
  }
 },
 "nbformat": 4,
 "nbformat_minor": 0
}
