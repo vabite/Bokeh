{
 "cells": [
  {
   "cell_type": "code",
   "execution_count": 1,
   "metadata": {
    "collapsed": true
   },
   "outputs": [],
   "source": [
    "import time\n",
    "import calendar\n",
    "import zmq\n",
    "from data import datagenerator\n",
    "from data import datahandler\n",
    "from data import datastream"
   ]
  },
  {
   "cell_type": "code",
   "execution_count": 2,
   "metadata": {
    "collapsed": false
   },
   "outputs": [],
   "source": [
    "#inizializzazione variabili\n",
    "#variabili relative al generatore di dati casuali utilizzato per generare i valori della candlelist\n",
    "mean = 50\n",
    "std = 5\n",
    "delay = 1.0\n",
    "#variabili relative al tempo del dato iniziale e all'intervallo temporale tra due dati adiacenti\n",
    "time_year = 2015; time_month = 10; time_day = 1; time_hour = 0; time_min = 0; time_sec = 0\n",
    "timestep_day = 1; timestep_hour = 0; timestep_min = 0; timestep_sec = 0\n",
    "#indirizzi a cui pubblicare i dati utilizzati per effettuare il grafico e indirizzo a cui fare ping del SUB\n",
    "#prima di cominciare la pubblicazione dei dati\n",
    "url_pub = \"tcp://*:5561\"\n",
    "url_ping = \"tcp://localhost:5562\""
   ]
  },
  {
   "cell_type": "code",
   "execution_count": 3,
   "metadata": {
    "collapsed": false
   },
   "outputs": [
    {
     "data": {
      "text/plain": [
       "0"
      ]
     },
     "execution_count": 3,
     "metadata": {},
     "output_type": "execute_result"
    }
   ],
   "source": [
    "#creazione della socket PUB utilizzata per pubblicare i dati utilizzati per effettuare il grafico seguita da ping al\n",
    "#all'applicazione ricevente i dati\n",
    "context = zmq.Context()\n",
    "s_pub = context.socket(zmq.PUB)\n",
    "s_pub.bind(url_pub)\n",
    "datastream.ping(url_ping, context)"
   ]
  },
  {
   "cell_type": "code",
   "execution_count": 4,
   "metadata": {
    "collapsed": false
   },
   "outputs": [],
   "source": [
    "#generazione della prima candela, lista il cui 4 valori rappresentano valore minimo della giornata, \n",
    "#valore di apertura, valore di chiusura, valore massimo della giornata\n",
    "candledata = sorted(datagenerator.normal_list(4, mean, std, delay))\n",
    "candlelist = [candledata[0]]+datahandler.shuffle_return(candledata[1:3])+[candledata[3]]"
   ]
  },
  {
   "cell_type": "code",
   "execution_count": 5,
   "metadata": {
    "collapsed": false
   },
   "outputs": [],
   "source": [
    "#converte in millisecondi i dati riguardanti il t0 del chart e lo step temporale tra due dati\n",
    "time_in_msec = 1000*int(calendar.timegm((time_year, time_month, time_day, time_hour, time_min, time_sec, 0, 0, 0)))\n",
    "timestep_in_msec = (((timestep_day * 24 + timestep_hour) * 60 + timestep_min) * 60 + timestep_sec)*1000"
   ]
  },
  {
   "cell_type": "code",
   "execution_count": null,
   "metadata": {
    "collapsed": false
   },
   "outputs": [],
   "source": [
    "#print(candledata); print(candlelist); print(time_in_msec); print(timestep_in_msec)"
   ]
  },
  {
   "cell_type": "code",
   "execution_count": null,
   "metadata": {
    "collapsed": false
   },
   "outputs": [],
   "source": [
    "#in loop \n",
    "# 1) pubblica all'indirizzo fornito una tupla in cui il primo valore rappresenta l'istante temporale della misura,\n",
    "#mentre il secondo valore è una candela passata come lista di quattro valori (vedi sopra)\n",
    "# 2) genera la successiva candela\n",
    "# 3) genera il successivo valore temporale, sommando lo step temporale prima definito all'ultimo valore temporale\n",
    "while True:\n",
    "    s_pub.send_pyobj((time_in_msec, candlelist))\n",
    "    \n",
    "    candledata = sorted(datagenerator.normal_list(4, mean, std, delay))\n",
    "    candlelist = [candledata[0]]+datahandler.shuffle_return(candledata[1:3])+[candledata[3]]\n",
    "    time_in_msec += timestep_in_msec\n",
    "    #print(candlelist); print(time_in_msec)"
   ]
  },
  {
   "cell_type": "code",
   "execution_count": null,
   "metadata": {
    "collapsed": false
   },
   "outputs": [],
   "source": []
  },
  {
   "cell_type": "code",
   "execution_count": null,
   "metadata": {
    "collapsed": false
   },
   "outputs": [],
   "source": []
  },
  {
   "cell_type": "code",
   "execution_count": null,
   "metadata": {
    "collapsed": false
   },
   "outputs": [],
   "source": []
  },
  {
   "cell_type": "code",
   "execution_count": null,
   "metadata": {
    "collapsed": false
   },
   "outputs": [],
   "source": [
    "#candledata = sorted(datagenerator.normal_list(3, mean, std, delay))\n",
    "#candlelist = [min(old_closure, candledata[0]), old_closure, candledata[1], max(old_closure, candledata[2])]"
   ]
  },
  {
   "cell_type": "code",
   "execution_count": null,
   "metadata": {
    "collapsed": false
   },
   "outputs": [],
   "source": [
    "#candledata"
   ]
  },
  {
   "cell_type": "code",
   "execution_count": null,
   "metadata": {
    "collapsed": false
   },
   "outputs": [],
   "source": [
    "#old_closure = 52.49308906399358"
   ]
  },
  {
   "cell_type": "code",
   "execution_count": null,
   "metadata": {
    "collapsed": false
   },
   "outputs": [],
   "source": [
    "#candlelist = [min(old_closure, candledata[0]), old_closure, candledata[1], max(old_closure, candledata[2])]"
   ]
  },
  {
   "cell_type": "code",
   "execution_count": null,
   "metadata": {
    "collapsed": false
   },
   "outputs": [],
   "source": [
    "#candlelist"
   ]
  },
  {
   "cell_type": "code",
   "execution_count": null,
   "metadata": {
    "collapsed": true
   },
   "outputs": [],
   "source": [
    "#FUNZIONE PER GENERARE UNA CANDELA CON DATO DI APERTURA PARI AL DATO DI CHIUSURA DEL GIORNO PRECEDENTE.\n",
    "#PRENDE UN INGRESSO LA CANDELA DEL GIORNO PRECEDENTE E MEDIA, STD E DELAY CON CUI GENERARE I RESTANTI TRE DATI\n",
    "#DEL GIORNO ATTUALE.\n",
    "#MIGLIORABILE GENERANDO UNA LISTA DI DATI PER IL GIORNO ATTUALE DI CUI PRENDERE IL MINIMO, IL SECONDO PERCENTILE\n",
    "#E IL MASSIMO, PER RENDERE MENO PROBABILE CHE LA CHIUSURA DEL GIORNO PRECENDENTE SIA MINORE DEL MINIMO O MAGGIORE\n",
    "#DEL MASSIMO DEL GIORNO ATTUALE\n",
    "\n",
    "#def generate_candlelist(old_candlelist, mean, std, delay = 0):\n",
    "#    old_closure = old_candlelist[2]\n",
    "#    candledata = sorted(datagenerator.normal_list(3, mean, std, delay))\n",
    "#    candlelist = [min(old_closure, candledata[0]), old_closure, candledata[1], max(old_closure, candledata[2])]\n",
    "#    return candlelist"
   ]
  },
  {
   "cell_type": "code",
   "execution_count": null,
   "metadata": {
    "collapsed": true
   },
   "outputs": [],
   "source": []
  },
  {
   "cell_type": "code",
   "execution_count": null,
   "metadata": {
    "collapsed": true
   },
   "outputs": [],
   "source": []
  },
  {
   "cell_type": "code",
   "execution_count": null,
   "metadata": {
    "collapsed": true
   },
   "outputs": [],
   "source": []
  }
 ],
 "metadata": {
  "kernelspec": {
   "display_name": "Python 3",
   "language": "python",
   "name": "python3"
  },
  "language_info": {
   "codemirror_mode": {
    "name": "ipython",
    "version": 3
   },
   "file_extension": ".py",
   "mimetype": "text/x-python",
   "name": "python",
   "nbconvert_exporter": "python",
   "pygments_lexer": "ipython3",
   "version": "3.4.3"
  }
 },
 "nbformat": 4,
 "nbformat_minor": 0
}
