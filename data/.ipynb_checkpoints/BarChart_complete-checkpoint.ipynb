{
 "cells": [
  {
   "cell_type": "code",
   "execution_count": 62,
   "metadata": {
    "collapsed": false
   },
   "outputs": [],
   "source": [
    "import numpy as np\n",
    "import time\n",
    "from random import shuffle\n",
    "from bokeh.models import Range1d, PrintfTickFormatter\n",
    "from bokeh.plotting import figure, show, Session, output_server, cursession"
   ]
  },
  {
   "cell_type": "code",
   "execution_count": 63,
   "metadata": {
    "collapsed": false
   },
   "outputs": [
    {
     "name": "stdout",
     "output_type": "stream",
     "text": [
      "Using saved session configuration for http://127.0.0.1:5006/\n",
      "To override, pass 'load_from_config=False' to Session\n"
     ]
    }
   ],
   "source": [
    "session = Session(load_from_config=False, root_url = \"http://127.0.0.1:5006/\")\n",
    "output_server(\"barchart\", url = \"http://127.0.0.1:5006/\")\n",
    "#session.register(\"vabite\",\"clanugu\")\n",
    "#session.login(\"vabite\", \"clanugu\")"
   ]
  },
  {
   "cell_type": "code",
   "execution_count": 64,
   "metadata": {
    "collapsed": false
   },
   "outputs": [],
   "source": [
    "class DataGenerator(object):\n",
    "    \n",
    "    #attende delay secondi e poi restituisce float con distribuzione di probabilità gaussiana \n",
    "    #a media mean e deviazione standard std argomento\n",
    "    def normal_number(self, mean, std, delay):\n",
    "        time.sleep(delay)\n",
    "        return np.random.normal(mean, std)\n",
    "    \n",
    "    #attende delay secondi e poi restituisce una lista di lunghezza argomento di float con distribuzione \n",
    "    #di probabilità gaussiana a media mean e deviazione standard std argomento\n",
    "    def normal_list(self, listlen, mean, std, delay):\n",
    "        time.sleep(delay)\n",
    "        normallist = []\n",
    "        for i in range(listlen):\n",
    "            normallist.append(np.random.normal(mean, std))\n",
    "        return normallist\n",
    "    \n",
    "    #attende delay secondi e poi restituisce una lista di liste con lunghezza della lista e delle sottoliste\n",
    "    #argomento di float con distribuzione di probabilità gaussiana a media mean e deviazione standard std argomento\n",
    "    def normal_matrix(self, listlen, sublistlen, mean, std, delay):\n",
    "        time.sleep(delay)\n",
    "        normalmatrix = []\n",
    "        for i in range(listlen):\n",
    "            normallist = []\n",
    "            for j in range(sublistlen):\n",
    "                normallist.append(np.random.normal(mean, std))\n",
    "            normalmatrix.append(normallist)\n",
    "        return normalmatrix"
   ]
  },
  {
   "cell_type": "code",
   "execution_count": 65,
   "metadata": {
    "collapsed": false
   },
   "outputs": [],
   "source": [
    "class DataHandler(object):\n",
    "    \n",
    "    #ritorna una lista data dalla somma membro a membro di due liste, anche annidate, purche \n",
    "    #di ugual shape e grandezza delle dimensioni\n",
    "    def sum_list(self, list1, list2):\n",
    "        sumarray = np.array(list1) + np.array(list2)\n",
    "        return sumarray.tolist()\n",
    "    \n",
    "    #data una lista di liste argomento, ritorna una lista di liste in cui gli elementi di ciascuna lista \n",
    "    #sono dati dalla somma cumulata degli elementi della corrispettiva lista della lista di liste argomento\n",
    "    #NB: il metodo non funziona se la lista passata non è annidata (rango = 1)\n",
    "    def cumsum_matrix(self, tocumsum_matrix):\n",
    "        cumsum_array = np.cumsum(np.array(tocumsum_matrix), axis = 1)\n",
    "        return cumsum_array.tolist()\n",
    "    \n",
    "    #data una lista di liste argomento, ritorna una lista di liste in cui gli elementi di ciascuna lista \n",
    "    #sono dati dagli elementi della lista passata cui è stato aggiunto un elemento 0.0 all'indice 0\n",
    "    #NB: il metodo non funziona se la lista passata non è annidata (rango = 1)\n",
    "    def zeroappend_matrix(self, tozeroappend_matrix):\n",
    "        zeroappended_matrix = []\n",
    "        for i in range(len(tozeroappend_matrix)):\n",
    "            zeroappended_matrix += [[0.0]]\n",
    "            zeroappended_matrix[i] += tozeroappend_matrix[i]\n",
    "        return zeroappended_matrix\n",
    "    \n",
    "    #ritorna una lista ottenuta mischiando gli elementi di una lista argomento\n",
    "    def shuffle_return(self, alist):\n",
    "        shuffle(alist)\n",
    "        return alist\n",
    "    \n",
    "    #ritorna -1 se il numero argomento è negativo, 1 se positivo, 0 se il numero argomento è zero.\n",
    "    def sign(self, n):\n",
    "        if n > 0: return 1\n",
    "        elif n < 0: return -1\n",
    "        else: return 0\n",
    "    \n",
    "    #se direction True o non specificato, allora elimina il primo elemento di una lista argomento,\n",
    "    #shiftando indietro di un indice i restanti elementi, e vi appende (in fondo) l'elemento argomento.\n",
    "    #se direction False, allora elimina l'ultimo elemento di una lista argomento,\n",
    "    #shiftando avanti di un indice i restanti elementi, e vi inserisce l'elemento argomento all'indice 0.\n",
    "    #Ritorna la lista così modificata\n",
    "    def shift_insert(self, alist, new_elem, shift_sx = True):\n",
    "        if shift_sx:\n",
    "            alist.pop(0)\n",
    "            alist.append(new_elem)\n",
    "        else: \n",
    "            alist.pop()\n",
    "            alist.insert(0, new_elem)\n",
    "        return alist "
   ]
  },
  {
   "cell_type": "code",
   "execution_count": 66,
   "metadata": {
    "collapsed": false
   },
   "outputs": [],
   "source": [
    "class BarChart(object):\n",
    "       \n",
    "    #restituisce una lista di stringhe con nomi di colori di numero di elementi argomento, a partire da una lista\n",
    "    #di stringhe con nomi di colori vista come ciclica\n",
    "    def colorlist(self, colors, bar_interval_n):\n",
    "        colorlist = [colors[i%len(colors)] for i in range(bar_interval_n)]\n",
    "        return colorlist\n",
    "    \n",
    "    #restituisce un lista di tante liste quante le barre del bar chart. Ciascuna lista contiene un numero di elementi \n",
    "    #uguale agli intervalli del plot e con valore uguale all'ascissa sinistra della rispettiva barra\n",
    "    def leftlists(self, barwidth, bar_interval_n, bar_n):\n",
    "        leftlists = [[(j - barwidth / 2) for i in range(bar_interval_n)] for j in range(1, bar_n + 1)]\n",
    "        return leftlists\n",
    "    \n",
    "    #restituisce un lista di tante liste quante le barre del bar chart. Ciascuna lista contiene un numero di elementi \n",
    "    #uguale agli intervalli del plot e con valore uguale all'ascissa destra della rispettiva barra\n",
    "    def rightlists(self, barwidth, bar_interval_n, bar_n):\n",
    "        rightlists = [[(j + barwidth / 2) for i in range(bar_interval_n)] for j in range(1, bar_n + 1)]\n",
    "        return rightlists\n",
    "    \n",
    "    #restituisce un lista di tante liste quante le barre del bar chart. Ciascuna lista contiene un numero di elementi \n",
    "    #uguale agli intervalli del plot con valori uguale all'estremo inferiore di ciascun intervallo\n",
    "    def bottomlists(self, bar_interval_matrix):\n",
    "        bottomlists = [bar_interval_list[:-1] for bar_interval_list in bar_interval_matrix]\n",
    "        return bottomlists\n",
    "    \n",
    "    #restituisce un lista di tante liste quante le barre del bar chart. Ciascuna lista contiene un numero di elementi \n",
    "    #uguale agli intervalli del plot con valori uguale all'estremo superiore di ciascun intervallo\n",
    "    def toplists(self, bar_interval_matrix):\n",
    "        toplists = [bar_interval_list[1:] for bar_interval_list in bar_interval_matrix]\n",
    "        return toplists"
   ]
  },
  {
   "cell_type": "code",
   "execution_count": 67,
   "metadata": {
    "collapsed": true
   },
   "outputs": [],
   "source": [
    "#Inizializzazione delle variabili\n",
    "\n",
    "gen = DataGenerator()\n",
    "hand = DataHandler()\n",
    "barchart = BarChart()\n",
    "\n",
    "mean = 10\n",
    "std = 2\n",
    "delay = 0.1\n",
    "\n",
    "var_mean = 0\n",
    "var_std = 0.2\n",
    "var_delay = 0.1\n",
    "\n",
    "barwidth = 0.1 #larghezza compresa tra 0.0 e 1.0 (barre attaccate)\n",
    "bar_n = 5\n",
    "bar_interval_n = 4\n",
    "colors =[\"red\", \"orange\", \"yellow\", \"green\", \"aqua\", \"blue\", \"purple\", \"brown\", \"grey\", \"black\"]"
   ]
  },
  {
   "cell_type": "code",
   "execution_count": 68,
   "metadata": {
    "collapsed": false
   },
   "outputs": [],
   "source": [
    "#crea una lista di liste contenente gli intervalli delle barre del bar chart a partire da una matrice di dati \n",
    "#casualmente generate. Nella lista di lista di liste creata, gli elementi di una lista contengono i valori degli\n",
    "#estremi di una barra del bar chart, mentre le diverse liste si riferiscono a barre diverse\n",
    "datalists = gen.normal_matrix(bar_n, bar_interval_n, mean, std, delay)\n",
    "cumsumdatalists = hand.cumsum_matrix(datalists)\n",
    "bar_interval_lists = hand.zeroappend_matrix(cumsumdatalists)"
   ]
  },
  {
   "cell_type": "code",
   "execution_count": 69,
   "metadata": {
    "collapsed": false
   },
   "outputs": [],
   "source": [
    "#datalists"
   ]
  },
  {
   "cell_type": "code",
   "execution_count": 70,
   "metadata": {
    "collapsed": false
   },
   "outputs": [],
   "source": [
    "#cumsumdatalists"
   ]
  },
  {
   "cell_type": "code",
   "execution_count": 71,
   "metadata": {
    "collapsed": false
   },
   "outputs": [],
   "source": [
    "#bar_interval_lists"
   ]
  },
  {
   "cell_type": "code",
   "execution_count": 11,
   "metadata": {
    "collapsed": false
   },
   "outputs": [],
   "source": [
    "#crea le liste di liste (lista nel caso dei colori) relative a estremi superiori, inferiori, sinistri, destri e colori \n",
    "#di ciascun intervallo di ciascuna barra. Le liste di tali liste di liste (o tale lista nel caso dei colori) soo quelle \n",
    "#richieste dal costruttore dell'oggetto glifo Quad \n",
    "toplists = barchart.toplists(bar_interval_lists)\n",
    "bottomlists = barchart.bottomlists(bar_interval_lists)\n",
    "leftlists = barchart.leftlists(barwidth, bar_interval_n, bar_n)\n",
    "rightlists = barchart.rightlists(barwidth, bar_interval_n, bar_n)\n",
    "colorlist = barchart.colorlist(colors, bar_interval_n)"
   ]
  },
  {
   "cell_type": "code",
   "execution_count": 12,
   "metadata": {
    "collapsed": false
   },
   "outputs": [],
   "source": [
    "#crea un plot con intervallo id visualizzazione delle tale da lasciare a sisnitra della prima barra e a destra\n",
    "#dell'ultima barra metà dello spazio che intercorre tra due barre, \n",
    "p = figure(\n",
    "    plot_width = 1000,\n",
    "    plot_height = 600,\n",
    "    x_range = Range1d(0.5, bar_n + 0.5),\n",
    "    y_range = Range1d(- 0.05 * mean * bar_interval_n, 1.5 * mean * bar_interval_n),\n",
    ")\n",
    "\n",
    "#accede agli oggetti xgrid e xaxis dell'oggetto Figure creato per elimare la griglia verticale, le ticks sull'asse\n",
    "#delle ascisse e per settare sull'asse delle ascisse le etichette \"LOG n\" come dell'n-esima etichetta\n",
    "p.xgrid.grid_line_color = None\n",
    "p.xaxis.major_tick_line_color = None\n",
    "p.xaxis.minor_tick_line_color = None\n",
    "p.xaxis[0].formatter = PrintfTickFormatter(format=\"LOG %d\")"
   ]
  },
  {
   "cell_type": "code",
   "execution_count": 13,
   "metadata": {
    "collapsed": false
   },
   "outputs": [],
   "source": [
    "#appende al grafico un glifo rettangolare per ciascuna barra\n",
    "for bar in range(bar_n):\n",
    "    p.quad(\n",
    "        top = toplists[bar],\n",
    "        bottom = bottomlists[bar],\n",
    "        left = leftlists[bar],\n",
    "        right = rightlists[bar],\n",
    "        line_color = colorlist,\n",
    "        fill_color = colorlist,\n",
    "        name = \"bar\"\n",
    "    )"
   ]
  },
  {
   "cell_type": "code",
   "execution_count": null,
   "metadata": {
    "collapsed": false
   },
   "outputs": [],
   "source": [
    "show(p)\n",
    "\n",
    "#crea un array contenente i campi data_source dei glifi relativi alle singole barre\n",
    "ds = [p.select({\"name\":\"bar\"})[i].data_source for i in range(bar_n)]\n",
    "\n",
    "while True:\n",
    "    #genera una lista di liste in cui gli elementi di ciascuna lista sono le variazioni da apportare a ciascun \n",
    "    #intervallo della stessa barra, mentre le diverse liste si riferiscono alle variazioni di barre diverse\n",
    "    variancelists = gen.normal_matrix(bar_n, bar_interval_n, var_mean, var_std, var_delay)\n",
    "    \n",
    "    #crea la nuova datalist facendo la somma membro a membro degli elementi della precedente datalist e della\n",
    "    #matrice delle variazioni delle lunghezze degli intervalli e prendendo il massimo tra il risultato ottenuto\n",
    "    #e 0. Questo assicura che non si abbiano intervalli negativi, ponendo la loro lunghezza a 0 nel caso la \n",
    "    #variazione nella lunghezza dell'intervallo sia maggiore della precedente lunghezza dell'intervallo\n",
    "    datalists = np.maximum(0, hand.sum_list(datalists, variancelists))\n",
    "    \n",
    "    #trasforma datalist nella matrice contenente gli estremi degli intervalli del bar chart\n",
    "    cumsumdatalists = hand.cumsum_matrix(datalists)\n",
    "    bar_interval_lists = hand.zeroappend_matrix(cumsumdatalists)\n",
    "    \n",
    "    #aggiorna le matrici contenenti i valori degli estremi superiori e inferiori gdegli intervalli bar chart\n",
    "    toplists = barchart.toplists(bar_interval_lists)\n",
    "    bottomlists = barchart.bottomlists(bar_interval_lists)\n",
    "    \n",
    "    #aggiorna i campi data_source relativi a estremi superiori e inferiori dei glifi rappresentanti le barre\n",
    "    #del bar chart\n",
    "    for i in range(bar_n):\n",
    "        p.select({\"name\":\"bar\"})[i].data_source.data[\"top\"] = toplists[i]\n",
    "        p.select({\"name\":\"bar\"})[i].data_source.data[\"bottom\"] = bottomlists[i]\n",
    "    #salva le variazioni avvenute su server\n",
    "    cursession().store_objects(*ds)\n",
    "    \n",
    "    time.sleep(0.5)"
   ]
  },
  {
   "cell_type": "code",
   "execution_count": null,
   "metadata": {
    "collapsed": false
   },
   "outputs": [],
   "source": []
  },
  {
   "cell_type": "code",
   "execution_count": 27,
   "metadata": {
    "collapsed": false
   },
   "outputs": [],
   "source": [
    "#import DataGenerator\n",
    "\n",
    "class TestDataGenerator(object):\n",
    "    \n",
    "    def test_normal_number(self, mean, std, delay):\n",
    "        gen = DataGenerator()\n",
    "        sample_n = 100\n",
    "        normallist = []\n",
    "        start = time.time()\n",
    "        for i in range(sample_n):\n",
    "            normallist.append(gen.normal_number(mean, std, delay))\n",
    "        stop = time.time()\n",
    "        #print(normallist)\n",
    "        print(\"Media di %d float restituiti: %f\" %(sample_n, np.mean(normallist)))\n",
    "        print(\"\\nStd di %d float restituiti: %f\" %(sample_n, np.std(normallist)))\n",
    "        print(\"\\nDelay medio introdotto dalla funzione, calcolato su %d esecuzioni: %f s\" %(sample_n, (stop-start)/100))\n",
    "        \n",
    "    \n",
    "    def test_normal_list(self, listlen, mean, std, delay):\n",
    "        gen = DataGenerator()\n",
    "        start = time.time()\n",
    "        normallist = gen.normal_list(listlen, mean, std, delay)\n",
    "        stop = time.time()\n",
    "        print(\"La lista restituita è \\n%r\\ne ha %d elementi\" %(normallist, len(normallist)))\n",
    "        print(\"\\nMedia dei float appartenenti alla lista:\", np.mean(normallist))\n",
    "        print(\"\\nStd dei float appartenenti alla lista:\", np.std(normallist))\n",
    "        print(\"\\nDelay introdotto dalla funzione:\", (stop-start))\n",
    "       \n",
    "    \n",
    "    def test_normal_matrix(self, listlen, sublistlen, mean, std, delay):\n",
    "        gen = DataGenerator()\n",
    "        start = time.time()\n",
    "        normalmatrix = gen.normal_matrix(listlen, sublistlen, mean, std, delay)\n",
    "        stop = time.time()\n",
    "        sublistlen_list = [len(normalmatrix[i]) for i in range(len(normalmatrix))]\n",
    "        print(\"La lista di liste restituita è \\n%r\\ne ha %d sottoliste\" %(normalmatrix, len(normalmatrix)))\n",
    "        print(\"\\nLa lunghezza delle singole sottoliste è\", sublistlen_list)\n",
    "        print(\"\\nMedia dei float appartenenti alla lista:\", np.mean(normalmatrix))\n",
    "        print(\"\\nStd dei float appartenenti alla lista:\", np.std(normalmatrix))\n",
    "        print(\"\\nDelay introdotto dalla funzione:\", (stop-start))"
   ]
  },
  {
   "cell_type": "code",
   "execution_count": 84,
   "metadata": {
    "collapsed": false
   },
   "outputs": [],
   "source": [
    "#import DataHandler\n",
    "\n",
    "class TestDataHandler(object):\n",
    "    \n",
    "    def test_sum_list(self, list1, list2):\n",
    "        hand = DataHandler()\n",
    "        print(\"La somma delle liste %r e %r è %r\" %(list1, list2, hand.sum_list(list1, list2)))\n",
    "        \n",
    "    def test_cumsum_matrix(self, tocumsum_matrix):\n",
    "        hand = DataHandler()\n",
    "        print(\"Matrice da sommare cumulativamente:\", tocumsum_matrix)\n",
    "        print(\"\\nMatrice sommata cumulativamente:\", hand.cumsum_matrix(tocumsum_matrix))\n",
    "        \n",
    "    def test_zeroappend_matrix(self, tozeroappend_matrix):\n",
    "        hand = DataHandler()\n",
    "        print(\"Matrice cui appendere gli zeri:\", tozeroappend_matrix)\n",
    "        print(\"\\nMatrice cui sono stati appesi gli zeri:\", hand.zeroappend_matrix(tozeroappend_matrix))\n",
    "    \n",
    "    def test_shuffle_return(self, alist, sample_n):\n",
    "        hand = DataHandler()\n",
    "        print(\"Data la lista\", alist)\n",
    "        print(\"\\nLa mischio la prima volta\", hand.shuffle_return(alist))\n",
    "        print(\"\\nLa mischio la seconda volta\", hand.shuffle_return(alist))\n",
    "        print(\"\\nLa mischio la terza volta\", hand.shuffle_return(alist))\n",
    "        sumlist = np.array([0, 0, 0])\n",
    "        for i in range(sample_n): \n",
    "            sumlist = sumlist + hand.shuffle_return(alist)\n",
    "        print(\"\\nLa media di %r liste mischiate è %r\" % (sample_n, np.mean(sumlist)/sample_n))\n",
    "        \n",
    "    def test_sign(self, item):\n",
    "        hand = DataHandler()  \n",
    "        print(\"Passato argomento 10 ottengo\", hand.sign(10))\n",
    "        print(\"\\nPassato argomento 0 ottengo\", hand.sign(0))\n",
    "        print(\"\\nPassato argomento -1.0 ottengo\", hand.sign(-1.0))\n",
    "        print(\"\\nPassato argomento %r ottengo\"% item, hand.sign(item))\n",
    "        \n",
    "    def test_shift_insert(self):\n",
    "        hand = DataHandler()\n",
    "        alist = list(range(10))\n",
    "        print(\"Partendo dalla lista\", alist)\n",
    "        print(\"\\neffettuando 3 passi a destra ottengo la lista\")\n",
    "        for i in range(10, 13): hand.shift_insert(alist, i, shift_sx = False)\n",
    "        print(alist)\n",
    "        print(\"\\neffettuando poi 5 passi a sinistra ottengo la lista\")\n",
    "        for i in range(13, 18): hand.shift_insert(alist, i)\n",
    "        print(alist)"
   ]
  },
  {
   "cell_type": "code",
   "execution_count": 72,
   "metadata": {
    "collapsed": false
   },
   "outputs": [],
   "source": [
    "#import BarChart\n",
    "\n",
    "class TestBarChart(object):\n",
    "    \n",
    "    def test_leftlists(self, barwidth, bar_interval_n, bar_n):\n",
    "        barchart = BarChart()\n",
    "        leftlists = barchart.leftlists(barwidth, bar_interval_n, bar_n)\n",
    "        sublistlen_list = [len(leftlists[i]) for i in range(len(leftlists))]\n",
    "        print(\"La lista delle ascisse degli estremi sinistri delle barre è\", leftlists)\n",
    "        print(\"\\nEssa è composta da %d sottoliste\" %len(leftlists))\n",
    "        print(\"\\nIl numero di elementi nelle sottoliste è %r\" %sublistlen_list)\n",
    "    \n",
    "    def test_rightlists(self, barwidth, bar_interval_n, bar_n):\n",
    "        barchart = BarChart()\n",
    "        rightlists = barchart.rightlists(barwidth, bar_interval_n, bar_n)\n",
    "        sublistlen_list = [len(rightlists[i]) for i in range(len(rightlists))]\n",
    "        print(\"La lista delle ascisse degli estremi destri delle barre è\", rightlists)\n",
    "        print(\"\\nEssa è composta da %d sottoliste\" %len(rightlists))\n",
    "        print(\"\\nIl numero di elementi nelle sottoliste è %r\" %sublistlen_list)\n",
    "        \n",
    "    def test_colorlist(self, colors, bar_interval_n):\n",
    "        barchart = BarChart()\n",
    "        print(\"La lista dei colori è\", barchart.colorlist(colors, bar_interval_n))\n",
    "        print(\"\\nEssa ha %d elementi.\" %len(barchart.colorlist(colors, bar_interval_n)))        \n",
    "        \n",
    "    def test_bottomlists(self, bar_interval_matrix):\n",
    "        barchart = BarChart()\n",
    "        print(\"Liste estremi delle barre:\", bar_interval_matrix)\n",
    "        print(\"\\nListe dati cumulati con appeso 0.0 iniziale e scartato valore finale da ogni lista:\", \n",
    "              barchart.bottomlists(bar_interval_matrix))\n",
    "        \n",
    "    def test_toplists(self, bar_interval_matrix):\n",
    "        barchart = BarChart()\n",
    "        print(\"Liste estremi delle barre:\", bar_interval_matrix)\n",
    "        print(\"\\nListe estremi delle barre con scartato dato iniziale da ogni lista\", \n",
    "              barchart.toplists(bar_interval_matrix))"
   ]
  },
  {
   "cell_type": "code",
   "execution_count": null,
   "metadata": {
    "collapsed": false
   },
   "outputs": [],
   "source": [
    "tester = TestDataGenerator()\n",
    "mean = 5\n",
    "std = 1\n",
    "delay = 0.01\n",
    "tester.test_normal_number(mean, std, delay)"
   ]
  },
  {
   "cell_type": "code",
   "execution_count": null,
   "metadata": {
    "collapsed": false
   },
   "outputs": [],
   "source": [
    "tester = TestDataGenerator()\n",
    "listlen = 8\n",
    "mean = 10\n",
    "std = 3\n",
    "delay = 0.05\n",
    "tester.test_normal_list(listlen, mean, std, delay)"
   ]
  },
  {
   "cell_type": "code",
   "execution_count": null,
   "metadata": {
    "collapsed": false
   },
   "outputs": [],
   "source": [
    "tester = TestDataGenerator()\n",
    "sublistlen = 3\n",
    "listlen = 4\n",
    "mean = 20\n",
    "std = 5\n",
    "delay = 0.015\n",
    "tester.test_normal_matrix(listlen, sublistlen, mean, std, delay)"
   ]
  },
  {
   "cell_type": "code",
   "execution_count": null,
   "metadata": {
    "collapsed": false
   },
   "outputs": [],
   "source": [
    "tester = TestDataHandler()\n",
    "list1 = [1, 2, 3]\n",
    "list2 = [0, -3, 4]\n",
    "matrix1 = [[1, 2, 3],[-1, -2, -3]]\n",
    "matrix2 = [[0, 1, 0],[1, 0, 1]]\n",
    "tester.test_sum_list(list1, list2)\n",
    "print(\"\")\n",
    "tester.test_sum_list(matrix1, matrix2)"
   ]
  },
  {
   "cell_type": "code",
   "execution_count": null,
   "metadata": {
    "collapsed": false
   },
   "outputs": [],
   "source": [
    "tester = TestDataHandler()\n",
    "#list1 = [1, 2, -3]\n",
    "matrix = [[1, 2, 3],[-1, -2, 3]]\n",
    "#tester.test_cumsum_list(list1)\n",
    "tester.test_cumsum_matrix(matrix)"
   ]
  },
  {
   "cell_type": "code",
   "execution_count": null,
   "metadata": {
    "collapsed": false
   },
   "outputs": [],
   "source": [
    "tester = TestDataHandler()\n",
    "#list1 = [1, 2, -3]\n",
    "matrix = [[1, 2, 3],[-1, -2, 3]]\n",
    "#tester.test_zeroappend_matrix(list1)\n",
    "tester.test_zeroappend_matrix(matrix)"
   ]
  },
  {
   "cell_type": "code",
   "execution_count": 59,
   "metadata": {
    "collapsed": false
   },
   "outputs": [
    {
     "name": "stdout",
     "output_type": "stream",
     "text": [
      "\n",
      "Passato argomento 10 ottengo 1\n",
      "\n",
      "Passato argomento 0 ottengo 0\n",
      "\n",
      "Passato argomento -1.0 ottengo -1\n",
      "\n",
      "Passato argomento 0 ottengo 0\n"
     ]
    }
   ],
   "source": [
    "tester = TestDataHandler()\n",
    "#list1 =  [0, 1, 6, -6]\n",
    "tester.test_sign(0)"
   ]
  },
  {
   "cell_type": "code",
   "execution_count": 54,
   "metadata": {
    "collapsed": false
   },
   "outputs": [
    {
     "name": "stdout",
     "output_type": "stream",
     "text": [
      "Partendo dalla lista [0, 1, 2, 3, 4, 5, 6, 7, 8, 9]\n",
      "\n",
      "effettuando 3 passi a destra ottengo la lista\n",
      "[12, 11, 10, 0, 1, 2, 3, 4, 5, 6]\n",
      "\n",
      "effettuando poi 5 passi a sinistra ottengo la lista\n",
      "[2, 3, 4, 5, 6, 13, 14, 15, 16, 17]\n"
     ]
    }
   ],
   "source": [
    "tester = TestDataHandler()\n",
    "tester.test_shift_insert()"
   ]
  },
  {
   "cell_type": "code",
   "execution_count": 86,
   "metadata": {
    "collapsed": false
   },
   "outputs": [
    {
     "name": "stdout",
     "output_type": "stream",
     "text": [
      "Data la lista [-4, 0, 1]\n",
      "\n",
      "La mischio la prima volta [1, 0, -4]\n",
      "\n",
      "La mischio la seconda volta [-4, 0, 1]\n",
      "\n",
      "La mischio la terza volta [0, -4, 1]\n",
      "\n",
      "La media di 100 liste mischiate è -1.0\n"
     ]
    }
   ],
   "source": [
    "tester = TestDataHandler()\n",
    "list1 =  [-4, 0, 1]\n",
    "tester.test_shuffle_return(list1, 100)"
   ]
  },
  {
   "cell_type": "code",
   "execution_count": 49,
   "metadata": {
    "collapsed": false
   },
   "outputs": [
    {
     "ename": "NameError",
     "evalue": "name 'BarChart' is not defined",
     "output_type": "error",
     "traceback": [
      "\u001b[1;31m---------------------------------------------------------------------------\u001b[0m",
      "\u001b[1;31mNameError\u001b[0m                                 Traceback (most recent call last)",
      "\u001b[1;32m<ipython-input-49-a77cf790d3ea>\u001b[0m in \u001b[0;36m<module>\u001b[1;34m()\u001b[0m\n\u001b[0;32m      3\u001b[0m \u001b[0mbar_n\u001b[0m \u001b[1;33m=\u001b[0m \u001b[1;36m4\u001b[0m\u001b[1;33m\u001b[0m\u001b[0m\n\u001b[0;32m      4\u001b[0m \u001b[0mbar_interval_n\u001b[0m \u001b[1;33m=\u001b[0m \u001b[1;36m6\u001b[0m\u001b[1;33m\u001b[0m\u001b[0m\n\u001b[1;32m----> 5\u001b[1;33m \u001b[0mtester\u001b[0m\u001b[1;33m.\u001b[0m\u001b[0mtest_rightlists\u001b[0m\u001b[1;33m(\u001b[0m\u001b[0mbarwidth\u001b[0m\u001b[1;33m,\u001b[0m \u001b[0mbar_interval_n\u001b[0m\u001b[1;33m,\u001b[0m \u001b[0mbar_n\u001b[0m\u001b[1;33m)\u001b[0m\u001b[1;33m\u001b[0m\u001b[0m\n\u001b[0m",
      "\u001b[1;32m<ipython-input-23-93f28355b0b5>\u001b[0m in \u001b[0;36mtest_rightlists\u001b[1;34m(self, barwidth, bar_interval_n, bar_n)\u001b[0m\n\u001b[0;32m     12\u001b[0m \u001b[1;33m\u001b[0m\u001b[0m\n\u001b[0;32m     13\u001b[0m     \u001b[1;32mdef\u001b[0m \u001b[0mtest_rightlists\u001b[0m\u001b[1;33m(\u001b[0m\u001b[0mself\u001b[0m\u001b[1;33m,\u001b[0m \u001b[0mbarwidth\u001b[0m\u001b[1;33m,\u001b[0m \u001b[0mbar_interval_n\u001b[0m\u001b[1;33m,\u001b[0m \u001b[0mbar_n\u001b[0m\u001b[1;33m)\u001b[0m\u001b[1;33m:\u001b[0m\u001b[1;33m\u001b[0m\u001b[0m\n\u001b[1;32m---> 14\u001b[1;33m         \u001b[0mbarchart\u001b[0m \u001b[1;33m=\u001b[0m \u001b[0mBarChart\u001b[0m\u001b[1;33m(\u001b[0m\u001b[1;33m)\u001b[0m\u001b[1;33m\u001b[0m\u001b[0m\n\u001b[0m\u001b[0;32m     15\u001b[0m         \u001b[0mrightlists\u001b[0m \u001b[1;33m=\u001b[0m \u001b[0mbarchart\u001b[0m\u001b[1;33m.\u001b[0m\u001b[0mrightlists\u001b[0m\u001b[1;33m(\u001b[0m\u001b[0mbarwidth\u001b[0m\u001b[1;33m,\u001b[0m \u001b[0mbar_interval_n\u001b[0m\u001b[1;33m,\u001b[0m \u001b[0mbar_n\u001b[0m\u001b[1;33m)\u001b[0m\u001b[1;33m\u001b[0m\u001b[0m\n\u001b[0;32m     16\u001b[0m         \u001b[0msublistlen_list\u001b[0m \u001b[1;33m=\u001b[0m \u001b[1;33m[\u001b[0m\u001b[0mlen\u001b[0m\u001b[1;33m(\u001b[0m\u001b[0mrightlists\u001b[0m\u001b[1;33m[\u001b[0m\u001b[0mi\u001b[0m\u001b[1;33m]\u001b[0m\u001b[1;33m)\u001b[0m \u001b[1;32mfor\u001b[0m \u001b[0mi\u001b[0m \u001b[1;32min\u001b[0m \u001b[0mrange\u001b[0m\u001b[1;33m(\u001b[0m\u001b[0mlen\u001b[0m\u001b[1;33m(\u001b[0m\u001b[0mrightlists\u001b[0m\u001b[1;33m)\u001b[0m\u001b[1;33m)\u001b[0m\u001b[1;33m]\u001b[0m\u001b[1;33m\u001b[0m\u001b[0m\n",
      "\u001b[1;31mNameError\u001b[0m: name 'BarChart' is not defined"
     ]
    }
   ],
   "source": [
    "tester = TestBarChart()\n",
    "barwidth = 0.2\n",
    "bar_n = 4\n",
    "bar_interval_n = 6\n",
    "tester.test_rightlists(barwidth, bar_interval_n, bar_n)"
   ]
  },
  {
   "cell_type": "code",
   "execution_count": 50,
   "metadata": {
    "collapsed": false
   },
   "outputs": [
    {
     "ename": "NameError",
     "evalue": "name 'BarChart' is not defined",
     "output_type": "error",
     "traceback": [
      "\u001b[1;31m---------------------------------------------------------------------------\u001b[0m",
      "\u001b[1;31mNameError\u001b[0m                                 Traceback (most recent call last)",
      "\u001b[1;32m<ipython-input-50-544356796f20>\u001b[0m in \u001b[0;36m<module>\u001b[1;34m()\u001b[0m\n\u001b[0;32m      3\u001b[0m \u001b[0mbar_n\u001b[0m \u001b[1;33m=\u001b[0m \u001b[1;36m2\u001b[0m\u001b[1;33m\u001b[0m\u001b[0m\n\u001b[0;32m      4\u001b[0m \u001b[0mbar_interval_n\u001b[0m \u001b[1;33m=\u001b[0m \u001b[1;36m3\u001b[0m\u001b[1;33m\u001b[0m\u001b[0m\n\u001b[1;32m----> 5\u001b[1;33m \u001b[0mtester\u001b[0m\u001b[1;33m.\u001b[0m\u001b[0mtest_leftlists\u001b[0m\u001b[1;33m(\u001b[0m\u001b[0mbarwidth\u001b[0m\u001b[1;33m,\u001b[0m \u001b[0mbar_interval_n\u001b[0m\u001b[1;33m,\u001b[0m \u001b[0mbar_n\u001b[0m\u001b[1;33m)\u001b[0m\u001b[1;33m\u001b[0m\u001b[0m\n\u001b[0m",
      "\u001b[1;32m<ipython-input-23-93f28355b0b5>\u001b[0m in \u001b[0;36mtest_leftlists\u001b[1;34m(self, barwidth, bar_interval_n, bar_n)\u001b[0m\n\u001b[0;32m      4\u001b[0m \u001b[1;33m\u001b[0m\u001b[0m\n\u001b[0;32m      5\u001b[0m     \u001b[1;32mdef\u001b[0m \u001b[0mtest_leftlists\u001b[0m\u001b[1;33m(\u001b[0m\u001b[0mself\u001b[0m\u001b[1;33m,\u001b[0m \u001b[0mbarwidth\u001b[0m\u001b[1;33m,\u001b[0m \u001b[0mbar_interval_n\u001b[0m\u001b[1;33m,\u001b[0m \u001b[0mbar_n\u001b[0m\u001b[1;33m)\u001b[0m\u001b[1;33m:\u001b[0m\u001b[1;33m\u001b[0m\u001b[0m\n\u001b[1;32m----> 6\u001b[1;33m         \u001b[0mbarchart\u001b[0m \u001b[1;33m=\u001b[0m \u001b[0mBarChart\u001b[0m\u001b[1;33m(\u001b[0m\u001b[1;33m)\u001b[0m\u001b[1;33m\u001b[0m\u001b[0m\n\u001b[0m\u001b[0;32m      7\u001b[0m         \u001b[0mleftlists\u001b[0m \u001b[1;33m=\u001b[0m \u001b[0mbarchart\u001b[0m\u001b[1;33m.\u001b[0m\u001b[0mleftlists\u001b[0m\u001b[1;33m(\u001b[0m\u001b[0mbarwidth\u001b[0m\u001b[1;33m,\u001b[0m \u001b[0mbar_interval_n\u001b[0m\u001b[1;33m,\u001b[0m \u001b[0mbar_n\u001b[0m\u001b[1;33m)\u001b[0m\u001b[1;33m\u001b[0m\u001b[0m\n\u001b[0;32m      8\u001b[0m         \u001b[0msublistlen_list\u001b[0m \u001b[1;33m=\u001b[0m \u001b[1;33m[\u001b[0m\u001b[0mlen\u001b[0m\u001b[1;33m(\u001b[0m\u001b[0mleftlists\u001b[0m\u001b[1;33m[\u001b[0m\u001b[0mi\u001b[0m\u001b[1;33m]\u001b[0m\u001b[1;33m)\u001b[0m \u001b[1;32mfor\u001b[0m \u001b[0mi\u001b[0m \u001b[1;32min\u001b[0m \u001b[0mrange\u001b[0m\u001b[1;33m(\u001b[0m\u001b[0mlen\u001b[0m\u001b[1;33m(\u001b[0m\u001b[0mleftlists\u001b[0m\u001b[1;33m)\u001b[0m\u001b[1;33m)\u001b[0m\u001b[1;33m]\u001b[0m\u001b[1;33m\u001b[0m\u001b[0m\n",
      "\u001b[1;31mNameError\u001b[0m: name 'BarChart' is not defined"
     ]
    }
   ],
   "source": [
    "tester = TestBarChart()\n",
    "barwidth = 0.4\n",
    "bar_n = 2\n",
    "bar_interval_n = 3\n",
    "tester.test_leftlists(barwidth, bar_interval_n, bar_n)"
   ]
  },
  {
   "cell_type": "code",
   "execution_count": null,
   "metadata": {
    "collapsed": false
   },
   "outputs": [],
   "source": [
    "tester = TestBarChart()\n",
    "bar_interval_n = 12\n",
    "colors =[\"red\", \"orange\", \"yellow\", \"green\", \"aqua\", \"blue\", \"purple\", \"brown\", \"grey\", \"brown\"]\n",
    "tester.test_colorlist(colors, bar_interval_n)"
   ]
  },
  {
   "cell_type": "code",
   "execution_count": null,
   "metadata": {
    "collapsed": false
   },
   "outputs": [],
   "source": [
    "tester = TestBarChart()\n",
    "bar_interval_matrix = [[0.0, 3.5, 8.9, 34.9], [0.0, 5.4, 9.3, 20.4],[0.0, 0.1, 9.5, 13.9]]\n",
    "tester.test_bottomlists(bar_interval_matrix)"
   ]
  },
  {
   "cell_type": "code",
   "execution_count": null,
   "metadata": {
    "collapsed": false
   },
   "outputs": [],
   "source": [
    "tester = TestBarChart()\n",
    "bar_interval_matrix = [[0.0, 3.5, 8.9, 34.9], [0.0, 5.4, 9.3, 20.4],[0.0, 0.1, 9.5, 13.9]]\n",
    "tester.test_toplists(bar_interval_matrix)"
   ]
  }
 ],
 "metadata": {
  "kernelspec": {
   "display_name": "Python 3",
   "language": "python",
   "name": "python3"
  },
  "language_info": {
   "codemirror_mode": {
    "name": "ipython",
    "version": 3
   },
   "file_extension": ".py",
   "mimetype": "text/x-python",
   "name": "python",
   "nbconvert_exporter": "python",
   "pygments_lexer": "ipython3",
   "version": "3.4.3"
  }
 },
 "nbformat": 4,
 "nbformat_minor": 0
}
