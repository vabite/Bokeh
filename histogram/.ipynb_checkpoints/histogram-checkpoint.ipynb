{
 "cells": [
  {
   "cell_type": "code",
   "execution_count": 29,
   "metadata": {
    "collapsed": false
   },
   "outputs": [],
   "source": [
    "import time\n",
    "import numpy as np\n",
    "from bokeh.plotting import Session, cursession, output_server, show, figure\n",
    "\n",
    "from data.datagenerator import normal_list"
   ]
  },
  {
   "cell_type": "code",
   "execution_count": 30,
   "metadata": {
    "collapsed": false
   },
   "outputs": [
    {
     "name": "stdout",
     "output_type": "stream",
     "text": [
      "Using saved session configuration for http://127.0.0.1:5006/\n",
      "To override, pass 'load_from_config=False' to Session\n"
     ]
    }
   ],
   "source": [
    "session = Session(load_from_config=False, root_url = \"http://127.0.0.1:5006/\")\n",
    "output_server(\"histogram\", url = \"http://127.0.0.1:5006/\")"
   ]
  },
  {
   "cell_type": "code",
   "execution_count": 31,
   "metadata": {
    "collapsed": false
   },
   "outputs": [],
   "source": [
    "class Histogram(object):\n",
    "    \n",
    "    def __init__(self, title, bins = 100, maxdata = 10000):\n",
    "        self.bins = bins\n",
    "        self.maxdata = maxdata\n",
    "        self.data = []\n",
    "        self.plot = figure(plot_width = 800,\n",
    "                           plot_height = 400,\n",
    "                           tools = \"reset\",\n",
    "                           title = title)\n",
    "        self.plot.quad(top = [0 for i in range(bins)], \n",
    "                       bottom = [0 for i in range(bins)],\n",
    "                       left = [0 for i in range(bins)], \n",
    "                       right = [0 for i in range(bins)],\n",
    "                       line_color=\"black\",\n",
    "                       fill_alpha=0.2,\n",
    "                       name = \"quads\"\n",
    "                      ) \n",
    "        self.ds = self.plot.select({\"name\":\"quads\"})[0].data_source\n",
    "        \n",
    "    def get_plot(self):\n",
    "        return self.plot\n",
    "    \n",
    "    def update(self, data):\n",
    "        self.data += data\n",
    "        if len(self.data) > self.maxdata: \n",
    "            self.data = self.data[-self.maxdata:]\n",
    "        values, edges = np.histogram(self.data, self.bins)\n",
    "        self.ds.data[\"top\"] = list(values)\n",
    "        self.ds.data[\"left\"] = list(edges[:-1])\n",
    "        self.ds.data[\"right\"] = list(edges[1:])\n",
    "        return [self.ds]"
   ]
  },
  {
   "cell_type": "code",
   "execution_count": 32,
   "metadata": {
    "collapsed": false
   },
   "outputs": [
    {
     "name": "stdout",
     "output_type": "stream",
     "text": [
      "1040 100\n",
      "2040 100\n",
      "3040 100\n",
      "4040 100\n",
      "5040 100\n",
      "6040 100\n",
      "7040 100\n",
      "8040 100\n",
      "9040 100\n",
      "10000 100\n",
      "10000 100\n",
      "10000 100\n",
      "10000 100\n",
      "10000 100\n",
      "10000 100\n",
      "10000 100\n",
      "10000 100\n",
      "10000 100\n",
      "10000 100\n",
      "10000 100\n",
      "10000 100\n",
      "10000 100\n",
      "10000 100\n",
      "10000 100\n",
      "10000 100\n",
      "10000 100\n",
      "10000 100\n",
      "10000 100\n",
      "10000 100\n",
      "10000 100\n",
      "10000 100\n",
      "10000 100\n",
      "10000 100\n",
      "10000 100\n",
      "10000 100\n",
      "10000 100\n",
      "10000 100\n",
      "10000 100\n",
      "10000 100\n",
      "10000 100\n",
      "10000 100\n",
      "10000 100\n",
      "10000 100\n",
      "10000 100\n",
      "10000 100\n",
      "10000 100\n",
      "10000 100\n",
      "10000 100\n",
      "10000 100\n",
      "10000 100\n",
      "10000 100\n",
      "10000 100\n",
      "10000 100\n",
      "10000 100\n",
      "10000 100\n",
      "10000 100\n",
      "10000 100\n",
      "10000 100\n",
      "10000 100\n",
      "10000 100\n",
      "10000 100\n",
      "10000 100\n",
      "10000 100\n",
      "10000 100\n",
      "10000 100\n",
      "10000 100\n",
      "10000 100\n",
      "10000 100\n",
      "10000 100\n",
      "10000 100\n",
      "10000 100\n",
      "10000 100\n",
      "10000 100\n",
      "10000 100\n",
      "10000 100\n",
      "10000 100\n",
      "10000 100\n",
      "10000 100\n",
      "10000 100\n",
      "10000 100\n",
      "10000 100\n",
      "10000 100\n",
      "10000 100\n",
      "10000 100\n",
      "10000 100\n",
      "10000 100\n",
      "10000 100\n",
      "10000 100\n",
      "10000 100\n",
      "10000 100\n",
      "10000 100\n",
      "10000 100\n",
      "10000 100\n",
      "10000 100\n",
      "10000 100\n",
      "10000 100\n",
      "10000 100\n",
      "10000 100\n",
      "10000 100\n",
      "10000 100\n"
     ]
    }
   ],
   "source": [
    "h = Histogram(\"hist\")\n",
    "show(h.get_plot())\n",
    "cursession().store_objects(*h.update([i for i in range(bins)])) #inizializza a 1 tutti i bin in un sol colpo\n",
    "for i in range(bins):\n",
    "    cursession().store_objects(*h.update([i])) #incrementa di 1 il valore in ciascun bin, un bin alla volta\n",
    "    time.sleep(0.5)\n",
    "for i in range (100):\n",
    "    cursession().store_objects(*h.update(normal_list(1000, 10, 5, 0))) #aggiunge 10 valori casuali alla volta\n",
    "    print(len(h.data), len(h.ds.data[\"top\"])) #verifica che, arrivati alla lunghezza massima per data, non appenda più valori\n",
    "    time.sleep(0.5)  "
   ]
  },
  {
   "cell_type": "code",
   "execution_count": null,
   "metadata": {
    "collapsed": true
   },
   "outputs": [],
   "source": []
  },
  {
   "cell_type": "code",
   "execution_count": null,
   "metadata": {
    "collapsed": true
   },
   "outputs": [],
   "source": []
  },
  {
   "cell_type": "code",
   "execution_count": null,
   "metadata": {
    "collapsed": true
   },
   "outputs": [],
   "source": []
  }
 ],
 "metadata": {
  "kernelspec": {
   "display_name": "Python 3",
   "language": "python",
   "name": "python3"
  },
  "language_info": {
   "codemirror_mode": {
    "name": "ipython",
    "version": 3
   },
   "file_extension": ".py",
   "mimetype": "text/x-python",
   "name": "python",
   "nbconvert_exporter": "python",
   "pygments_lexer": "ipython3",
   "version": "3.4.3"
  }
 },
 "nbformat": 4,
 "nbformat_minor": 0
}
