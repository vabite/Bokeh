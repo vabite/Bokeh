{
 "cells": [
  {
   "cell_type": "code",
   "execution_count": null,
   "metadata": {
    "collapsed": true
   },
   "outputs": [],
   "source": [
    "from bokeh.plotting import *\n",
    "from bokeh.io import *\n",
    "from bokeh.models import *\n",
    "import time"
   ]
  },
  {
   "cell_type": "code",
   "execution_count": null,
   "metadata": {
    "collapsed": true
   },
   "outputs": [],
   "source": [
    "session = Session(load_from_config=False, root_url = \"http://127.0.0.1:5006/\")\n",
    "output_server(\"table\", url = \"http://127.0.0.1:5006/\")"
   ]
  },
  {
   "cell_type": "code",
   "execution_count": null,
   "metadata": {
    "collapsed": true
   },
   "outputs": [],
   "source": [
    "def callback(attrname, old, new):\n",
    "    print(\"0\")\n",
    "    if new == \"foo\" or new == \"bar\" or old == \"foo\" or old == \"bar\":\n",
    "        ds.data[\"x\"] = [100]\n",
    "        ds.data[\"y\"] = [100]\n",
    "        cursession.store_objects(ds)"
   ]
  },
  {
   "cell_type": "code",
   "execution_count": null,
   "metadata": {
    "collapsed": true
   },
   "outputs": [],
   "source": [
    "p = figure(\n",
    "    plot_width = 200,\n",
    "    plot_height = 200,\n",
    ")\n",
    "\n",
    "p.circle(\n",
    "    x = [0],\n",
    "    y = [0],\n",
    "    size = 10,\n",
    "    name = \"point\"\n",
    ")\n",
    "\n",
    "ds = p.select({\"name\":\"point\"})[0]"
   ]
  },
  {
   "cell_type": "code",
   "execution_count": null,
   "metadata": {
    "collapsed": true
   },
   "outputs": [],
   "source": [
    "t = Select(options = [\"foo\", \"bar\"], value = \"foo\")\n",
    "t.on_change('value', val)"
   ]
  },
  {
   "cell_type": "code",
   "execution_count": null,
   "metadata": {
    "collapsed": true
   },
   "outputs": [],
   "source": [
    "\n",
    "for i in range(20):\n",
    "    t.on_change('value', val())\n",
    "    if tv == \"bar\": \n",
    "        ds.data[\"x\"] = [100]\n",
    "        ds.data[\"y\"] = [100]\n",
    "        print(\"bar\")\n",
    "        cursession(). store_objects(ds)\n",
    "    elif t.value == \"break\":\n",
    "        print(\"break\")\n",
    "        break\n",
    "    elif tv == \"foo\":\n",
    "        print(\"foo\")\n",
    "    else:\n",
    "        print(\"?\")\n",
    "    time.sleep(1)"
   ]
  },
  {
   "cell_type": "code",
   "execution_count": 7,
   "metadata": {
    "collapsed": false
   },
   "outputs": [],
   "source": [
    "from bokeh.io import vform\n",
    "from bokeh.models import CustomJS, ColumnDataSource, Slider\n",
    "from bokeh.plotting import figure, output_file, show\n",
    "\n",
    "def power(attrname, old, new):\n",
    "    data = source.data\n",
    "    exponent = old\n",
    "    x = data[\"x\"]\n",
    "    y = data[\"y\"]\n",
    "    for i in range(len(x)):\n",
    "        y[i] = x**5\n",
    "\n",
    "output_file(\"callback.html\")\n",
    "\n",
    "x = [x*0.005 for x in range(0, 200)]\n",
    "y = x\n",
    "\n",
    "source = ColumnDataSource(data=dict(x=x, y=y))\n",
    "\n",
    "plot = figure(plot_width=400, plot_height=400)\n",
    "plot.line('x', 'y', source=source, line_width=3, line_alpha=0.6)\n",
    "\n",
    "slider = Slider(start=0.1, end=4, value=1, step=.1, title=\"power\")#, callback=power)\n",
    "slider.on_change('value', power)\n",
    "\n",
    "layout = vform(slider, plot)\n",
    "\n",
    "show(layout)"
   ]
  },
  {
   "cell_type": "code",
   "execution_count": null,
   "metadata": {
    "collapsed": true
   },
   "outputs": [],
   "source": [
    "callback = CustomJS(args=dict(source=source), code=\"\"\"\n",
    "        var data = source.get('data');\n",
    "        var f = cb_obj.get('value')\n",
    "        x = data['x']\n",
    "        y = data['y']\n",
    "        for (i = 0; i < x.length; i++) {\n",
    "            y[i] = Math.pow(x[i], f)\n",
    "        }\n",
    "        source.trigger('change');\n",
    "    \"\"\")\n"
   ]
  },
  {
   "cell_type": "code",
   "execution_count": 2,
   "metadata": {
    "collapsed": false
   },
   "outputs": [
    {
     "data": {
      "text/plain": [
       "[]"
      ]
     },
     "execution_count": 2,
     "metadata": {},
     "output_type": "execute_result"
    }
   ],
   "source": [
    "''' Present an interactive function explorer with slider widgets.\n",
    "Scrub the sliders to change the properties of the ``sin`` curve, or\n",
    "type into the title text box to update the title of the plot.\n",
    "Use the ``bokeh serve`` command to run the example by executing:\n",
    "    bokeh serve sliders.py\n",
    "at your command prompt. Then navigate to the URL\n",
    "    http://localhost:5006/sliders\n",
    "in your browser.\n",
    "'''\n",
    "import numpy as np\n",
    "\n",
    "from bokeh.plotting import Figure, Session, output_server, cursession, Document, push, show\n",
    "from bokeh.models import ColumnDataSource\n",
    "from bokeh.models.widgets import HBox, Slider, TextInput, VBoxForm\n",
    "from bokeh.io import curdoc\n",
    "\n",
    "# Set up data\n",
    "N = 200\n",
    "x = np.linspace(0, 4*np.pi, N)\n",
    "y = np.sin(x)\n",
    "source = ColumnDataSource(data=dict(x=x, y=y))\n",
    "\n",
    "session = Session(load_from_config=False, root_url = \"http://127.0.0.1:5006/\")\n",
    "#output_server(\"bottoni\", url = \"http://127.0.0.1:5006/\")\n",
    "doc = Document()\n",
    "session.use_doc(\"bottoni\")\n",
    "session.load_document(doc)\n",
    "\n",
    "# Set up plot\n",
    "plot = Figure(plot_height=400, plot_width=400, title=\"my sine wave\",\n",
    "              tools=\"crosshair,pan,reset,resize,save,wheel_zoom\",\n",
    "              x_range=[0, 4*np.pi], y_range=[-2.5, 2.5])\n",
    "\n",
    "plot.line('x', 'y', source=source, line_width=3, line_alpha=0.6)\n",
    "\n",
    "\n",
    "# Set up widgets\n",
    "text = TextInput(title=\"title\", value='my sine wave')\n",
    "offset = Slider(title=\"offset\", value=0.0, start=-5.0, end=5.0, step=0.1)\n",
    "amplitude = Slider(title=\"amplitude\", value=1.0, start=-5.0, end=5.0)\n",
    "phase = Slider(title=\"phase\", value=0.0, start=0.0, end=2*np.pi)\n",
    "freq = Slider(title=\"frequency\", value=1.0, start=0.1, end=5.1)\n",
    "\n",
    "\n",
    "# Set up callbacks\n",
    "def update_title(attrname, old, new):\n",
    "    plot.title = text.value\n",
    "\n",
    "text.on_change('value', update_title)\n",
    "\n",
    "def update_data(attrname, old, new):\n",
    "\n",
    "    # Get the current slider values\n",
    "    a = amplitude.value\n",
    "    b = offset.value\n",
    "    w = phase.value\n",
    "    k = freq.value\n",
    "\n",
    "    # Generate the new curve\n",
    "    x = np.linspace(0, 4*np.pi, N)\n",
    "    y = a*np.sin(k*x + w) + b\n",
    "\n",
    "    source.data = dict(x=x, y=y)\n",
    "\n",
    "for w in [offset, amplitude, phase, freq]:\n",
    "    w.on_change('value', update_data)\n",
    "\n",
    "\n",
    "# Set up layouts and add to document\n",
    "inputs = VBoxForm(children=[text, offset, amplitude, phase, freq])\n",
    "outputs = HBox(children=[inputs, plot])\n",
    "curdoc().add(outputs)\n",
    "show(outputs)\n",
    "push(session, doc)\n",
    "#for i in range(100):\n",
    "#    cursession().store_objects(outputs)\n",
    "#    time.sleep(0.1)"
   ]
  },
  {
   "cell_type": "code",
   "execution_count": null,
   "metadata": {
    "collapsed": true
   },
   "outputs": [],
   "source": []
  }
 ],
 "metadata": {
  "kernelspec": {
   "display_name": "Python 3",
   "language": "python",
   "name": "python3"
  },
  "language_info": {
   "codemirror_mode": {
    "name": "ipython",
    "version": 3
   },
   "file_extension": ".py",
   "mimetype": "text/x-python",
   "name": "python",
   "nbconvert_exporter": "python",
   "pygments_lexer": "ipython3",
   "version": "3.4.3"
  }
 },
 "nbformat": 4,
 "nbformat_minor": 0
}
