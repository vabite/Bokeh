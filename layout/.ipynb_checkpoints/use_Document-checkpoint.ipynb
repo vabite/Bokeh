{
 "cells": [
  {
   "cell_type": "code",
   "execution_count": null,
   "metadata": {
    "collapsed": true
   },
   "outputs": [],
   "source": []
  },
  {
   "cell_type": "code",
   "execution_count": 37,
   "metadata": {
    "collapsed": false
   },
   "outputs": [],
   "source": [
    "from bokeh.plotting import figure, push, cursession, Session\n",
    "from bokeh.embed import autoload_server\n",
    "#from bokeh.session import Session\n",
    "from bokeh.document import Document\n",
    "import time\n",
    "\n",
    "# alternative to these lines, bokeh.io.output_server(...)\n",
    "document = Document()\n",
    "#session = Session()\n",
    "session = Session(load_from_config = False, root_url = \"http://127.0.0.1:5006/\")\n",
    "session.use_doc('vale')\n",
    "session.load_document(document)\n",
    "\n",
    "plot = figure()\n",
    "plot.circle(x=[], y=[], name=\"circles\")\n",
    "ds = plot.select({\"name\":\"circles\"})[0].data_source\n",
    "\n",
    "push(session, document) #analogo\n",
    "document.add(plot)\n",
    "\n",
    "show(plot)\n",
    "\n",
    "for i in range(100):\n",
    "    ds.data[\"x\"] = [i]\n",
    "    ds.data[\"y\"] = [i]\n",
    "    push(session, document) #analogo\n",
    "    #session.store_document(document)\n",
    "    time.sleep(0.1)\n",
    "#script = autoload_server(plot, session)"
   ]
  },
  {
   "cell_type": "code",
   "execution_count": 23,
   "metadata": {
    "collapsed": false
   },
   "outputs": [
    {
     "name": "stdout",
     "output_type": "stream",
     "text": [
      "<script\n",
      "    src=\"http://127.0.0.1:5006/bokeh/autoload.js/a7bb7379-f48d-46e1-8ed8-6a9ed2a67417\"\n",
      "    id=\"a7bb7379-f48d-46e1-8ed8-6a9ed2a67417\"\n",
      "    async=\"true\"\n",
      "    data-bokeh-data=\"server\"\n",
      "    data-bokeh-modelid=\"6029ccd6-e65c-40bb-af40-8c7ca38a0094\"\n",
      "    data-bokeh-root-url=\"http://127.0.0.1:5006/\"\n",
      "    data-bokeh-docid=\"42859d80-8f34-416d-8284-8d306abbbf5a\"\n",
      "    \n",
      "    data-bokeh-docapikey=\"7f014b3b-bf59-485f-91bf-f3bc2f0a3efa\"\n",
      "    \n",
      "    data-bokeh-loglevel=\"info\"\n",
      "></script>\n"
     ]
    }
   ],
   "source": [
    "print(script)"
   ]
  },
  {
   "cell_type": "code",
   "execution_count": null,
   "metadata": {
    "collapsed": false
   },
   "outputs": [],
   "source": []
  },
  {
   "cell_type": "code",
   "execution_count": null,
   "metadata": {
    "collapsed": true
   },
   "outputs": [],
   "source": []
  }
 ],
 "metadata": {
  "kernelspec": {
   "display_name": "Python 3",
   "language": "python",
   "name": "python3"
  },
  "language_info": {
   "codemirror_mode": {
    "name": "ipython",
    "version": 3
   },
   "file_extension": ".py",
   "mimetype": "text/x-python",
   "name": "python",
   "nbconvert_exporter": "python",
   "pygments_lexer": "ipython3",
   "version": "3.4.3"
  }
 },
 "nbformat": 4,
 "nbformat_minor": 0
}
