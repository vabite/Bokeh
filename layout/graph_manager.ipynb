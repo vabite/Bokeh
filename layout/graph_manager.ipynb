{
 "cells": [
  {
   "cell_type": "code",
   "execution_count": 1,
   "metadata": {
    "collapsed": false
   },
   "outputs": [],
   "source": [
    "import redis\n",
    "import zmq\n",
    "import json\n",
    "\n",
    "from bokeh.plotting import Document, Session, push, show\n",
    "\n",
    "from histogram.histogram import Histogram\n",
    "from line.line import Line\n",
    "from scatter.scatter import Scatter"
   ]
  },
  {
   "cell_type": "code",
   "execution_count": 2,
   "metadata": {
    "collapsed": false
   },
   "outputs": [],
   "source": [
    "bokehport = \"5006\"\n",
    "bokehurl = \"http://127.0.0.1:%s/\" %bokehport\n",
    "s = Session(load_from_config = False, root_url = bokehurl)\n",
    "#s.login(\"user\",\"psw\")\n",
    "\n",
    "zmqport = \"5556\"\n",
    "zmqurl = \"tcp://localhost:%s\" %zmqport\n",
    "topic = b''\n",
    "context = zmq.Context()\n",
    "s_sub = context.socket(zmq.SUB)\n",
    "s_sub.connect(zmqurl)\n",
    "s_sub.setsockopt(zmq.SUBSCRIBE, topic)\n",
    "\n",
    "redishost = 'localhost'\n",
    "redisport = 6379"
   ]
  },
  {
   "cell_type": "code",
   "execution_count": 3,
   "metadata": {
    "collapsed": false
   },
   "outputs": [],
   "source": [
    "gtypes = {\"line\": lambda idkey: Line(title = idkey), \n",
    "          \"histogram\": lambda idkey: Histogram(title = idkey), \n",
    "          \"scatter\": lambda idkey: Scatter(title = idkey)}\n",
    "gobjs = {} #conterrà (idkey:gobj) per ogni graph creato\n",
    "gdocs = {} #conterrà (idkey:gdoc) per ogni graph creato\n",
    "gurls = redis.StrictRedis(host = redishost, port = redisport, db = 0) #conterrà idkey:gurl per ogni graph creato"
   ]
  },
  {
   "cell_type": "code",
   "execution_count": 4,
   "metadata": {
    "collapsed": false,
    "scrolled": true
   },
   "outputs": [
    {
     "ename": "KeyboardInterrupt",
     "evalue": "",
     "output_type": "error",
     "traceback": [
      "\u001b[1;31m---------------------------------------------------------------------------\u001b[0m",
      "\u001b[1;31mKeyboardInterrupt\u001b[0m                         Traceback (most recent call last)",
      "\u001b[1;32m<ipython-input-4-550bf4bc4295>\u001b[0m in \u001b[0;36m<module>\u001b[1;34m()\u001b[0m\n\u001b[0;32m      1\u001b[0m \u001b[1;32mwhile\u001b[0m \u001b[1;32mTrue\u001b[0m\u001b[1;33m:\u001b[0m\u001b[1;33m\u001b[0m\u001b[0m\n\u001b[0;32m      2\u001b[0m     \u001b[1;31m#resta in ascolto di un messaggio su zmqurl\u001b[0m\u001b[1;33m\u001b[0m\u001b[1;33m\u001b[0m\u001b[0m\n\u001b[1;32m----> 3\u001b[1;33m     \u001b[0mrawmsg\u001b[0m \u001b[1;33m=\u001b[0m \u001b[0ms_sub\u001b[0m\u001b[1;33m.\u001b[0m\u001b[0mrecv_string\u001b[0m\u001b[1;33m(\u001b[0m\u001b[1;33m)\u001b[0m\u001b[1;33m\u001b[0m\u001b[0m\n\u001b[0m\u001b[0;32m      4\u001b[0m     \u001b[1;31m#estrae dal messaggio ricevuto name, gtype, data\u001b[0m\u001b[1;33m\u001b[0m\u001b[1;33m\u001b[0m\u001b[0m\n\u001b[0;32m      5\u001b[0m     \u001b[0mmsg\u001b[0m \u001b[1;33m=\u001b[0m \u001b[0mjson\u001b[0m\u001b[1;33m.\u001b[0m\u001b[0mloads\u001b[0m\u001b[1;33m(\u001b[0m\u001b[0mrawmsg\u001b[0m\u001b[1;33m)\u001b[0m\u001b[1;33m\u001b[0m\u001b[0m\n",
      "\u001b[1;32m/home/valerio/Projects/anaconda3/envs/Bokeh/lib/python3.4/site-packages/zmq/sugar/socket.py\u001b[0m in \u001b[0;36mrecv_string\u001b[1;34m(self, flags, encoding)\u001b[0m\n\u001b[0;32m    400\u001b[0m             \u001b[0mThe\u001b[0m \u001b[0mPython\u001b[0m \u001b[0municode\u001b[0m \u001b[0mstring\u001b[0m \u001b[0mthat\u001b[0m \u001b[0marrives\u001b[0m \u001b[1;32mas\u001b[0m \u001b[0mencoded\u001b[0m \u001b[0mbytes\u001b[0m\u001b[1;33m.\u001b[0m\u001b[1;33m\u001b[0m\u001b[0m\n\u001b[0;32m    401\u001b[0m         \"\"\"\n\u001b[1;32m--> 402\u001b[1;33m         \u001b[0mb\u001b[0m \u001b[1;33m=\u001b[0m \u001b[0mself\u001b[0m\u001b[1;33m.\u001b[0m\u001b[0mrecv\u001b[0m\u001b[1;33m(\u001b[0m\u001b[0mflags\u001b[0m\u001b[1;33m=\u001b[0m\u001b[0mflags\u001b[0m\u001b[1;33m)\u001b[0m\u001b[1;33m\u001b[0m\u001b[0m\n\u001b[0m\u001b[0;32m    403\u001b[0m         \u001b[1;32mreturn\u001b[0m \u001b[0mb\u001b[0m\u001b[1;33m.\u001b[0m\u001b[0mdecode\u001b[0m\u001b[1;33m(\u001b[0m\u001b[0mencoding\u001b[0m\u001b[1;33m)\u001b[0m\u001b[1;33m\u001b[0m\u001b[0m\n\u001b[0;32m    404\u001b[0m \u001b[1;33m\u001b[0m\u001b[0m\n",
      "\u001b[1;32mzmq/backend/cython/socket.pyx\u001b[0m in \u001b[0;36mzmq.backend.cython.socket.Socket.recv (zmq/backend/cython/socket.c:6507)\u001b[1;34m()\u001b[0m\n",
      "\u001b[1;32mzmq/backend/cython/socket.pyx\u001b[0m in \u001b[0;36mzmq.backend.cython.socket.Socket.recv (zmq/backend/cython/socket.c:6307)\u001b[1;34m()\u001b[0m\n",
      "\u001b[1;32mzmq/backend/cython/socket.pyx\u001b[0m in \u001b[0;36mzmq.backend.cython.socket._recv_copy (zmq/backend/cython/socket.c:1877)\u001b[1;34m()\u001b[0m\n",
      "\u001b[1;32m/home/valerio/Projects/anaconda3/envs/Bokeh/lib/python3.4/site-packages/zmq/backend/cython/checkrc.pxd\u001b[0m in \u001b[0;36mzmq.backend.cython.checkrc._check_rc (zmq/backend/cython/socket.c:6758)\u001b[1;34m()\u001b[0m\n\u001b[0;32m     10\u001b[0m     \"\"\"\n\u001b[0;32m     11\u001b[0m     \u001b[0mcdef\u001b[0m \u001b[0mint\u001b[0m \u001b[0merrno\u001b[0m \u001b[1;33m=\u001b[0m \u001b[0mzmq_errno\u001b[0m\u001b[1;33m(\u001b[0m\u001b[1;33m)\u001b[0m\u001b[1;33m\u001b[0m\u001b[0m\n\u001b[1;32m---> 12\u001b[1;33m     \u001b[0mPyErr_CheckSignals\u001b[0m\u001b[1;33m(\u001b[0m\u001b[1;33m)\u001b[0m\u001b[1;33m\u001b[0m\u001b[0m\n\u001b[0m\u001b[0;32m     13\u001b[0m     \u001b[1;32mif\u001b[0m \u001b[0mrc\u001b[0m \u001b[1;33m<\u001b[0m \u001b[1;36m0\u001b[0m\u001b[1;33m:\u001b[0m\u001b[1;33m\u001b[0m\u001b[0m\n\u001b[0;32m     14\u001b[0m         \u001b[1;32mif\u001b[0m \u001b[0merrno\u001b[0m \u001b[1;33m==\u001b[0m \u001b[0mEINTR\u001b[0m\u001b[1;33m:\u001b[0m\u001b[1;33m\u001b[0m\u001b[0m\n",
      "\u001b[1;31mKeyboardInterrupt\u001b[0m: "
     ]
    }
   ],
   "source": [
    "while True:\n",
    "    #resta in ascolto di un messaggio su zmqurl\n",
    "    rawmsg = s_sub.recv_string()\n",
    "    #estrae dal messaggio ricevuto name, gtype, data \n",
    "    msg = json.loads(rawmsg)\n",
    "    name = msg[\"name\"]\n",
    "    gtype = msg[\"gtype\"]\n",
    "    data = msg[\"data\"]\n",
    "    #risale alla id univoca del graph\n",
    "    idkey = name + \" (\" + gtype + \")\"\n",
    "    \n",
    "    if idkey in gobjs: #se il graph già esiste\n",
    "        #recupera graph e lo aggiorna con data\n",
    "        g = gobjs[idkey]\n",
    "        g.update(data)\n",
    "        #aggiorna documento relativo a graph, passandone le info a bokeh-server\n",
    "        s.use_doc(\"%s\" %idkey) \n",
    "        s.store_document(gdocs[\"%s\" %idkey])\n",
    "        #salva graph aggiornato in dizionario\n",
    "        gobjs[idkey] = g\n",
    "        \n",
    "    else:  #se il graph non esiste     \n",
    "        #crea un nuovo graph\n",
    "        g = gtypes[gtype](idkey)\n",
    "        g.update(data)\n",
    "        #crea un nuovo documento\n",
    "        d = Document()\n",
    "        gdocs[\"%s\" %idkey] = d\n",
    "        d.add(g.get_plot())\n",
    "        #passa le info del documento a bokeh-server\n",
    "        s.use_doc(\"%s\" %idkey) \n",
    "        s.load_document(d)\n",
    "        push(s, d)\n",
    "        show(g.get_plot()) \n",
    "        #crea nuovi ingressi in dizionari in dizionari\n",
    "        gobjs[idkey] = g\n",
    "        gurls.set(idkey, s.object_link(g.get_plot()))\n",
    "        \n",
    "    #qui metti controllo su properties"
   ]
  },
  {
   "cell_type": "code",
   "execution_count": null,
   "metadata": {
    "collapsed": true
   },
   "outputs": [],
   "source": [
    "\n"
   ]
  }
 ],
 "metadata": {
  "kernelspec": {
   "display_name": "Python 3",
   "language": "python",
   "name": "python3"
  },
  "language_info": {
   "codemirror_mode": {
    "name": "ipython",
    "version": 3
   },
   "file_extension": ".py",
   "mimetype": "text/x-python",
   "name": "python",
   "nbconvert_exporter": "python",
   "pygments_lexer": "ipython3",
   "version": "3.4.3"
  }
 },
 "nbformat": 4,
 "nbformat_minor": 0
}
