{
 "cells": [
  {
   "cell_type": "code",
   "execution_count": 1,
   "metadata": {
    "collapsed": false
   },
   "outputs": [],
   "source": [
    "import time\n",
    "\n",
    "from bokeh.io import vplot, hplot, gridplot\n",
    "from bokeh.plotting import Session, cursession, output_server, show, figure\n",
    "\n",
    "from data.datastream import queriesinput_to_syncgens_yf\n",
    "\n",
    "from candlestick.candlestick import Candlestick\n",
    "from table.table_deltas import TableDeltas\n",
    "from scatterplot.scatterplot_deltas import ScatterplotDeltas"
   ]
  },
  {
   "cell_type": "code",
   "execution_count": 2,
   "metadata": {
    "collapsed": false
   },
   "outputs": [
    {
     "name": "stdout",
     "output_type": "stream",
     "text": [
      "Using saved session configuration for http://127.0.0.1:5006/\n",
      "To override, pass 'load_from_config=False' to Session\n"
     ]
    }
   ],
   "source": [
    "session = Session(load_from_config=False, root_url = \"http://127.0.0.1:5006/\")\n",
    "output_server(\"layout\", url = \"http://127.0.0.1:5006/\")\n",
    "#output_notebook()#Inizializzazione variabili query\n",
    "\n",
    "#parametri utilizzati per effettuare la query a Yahoo Finance\n",
    "x_quote_id = \"UCG.MI\"\n",
    "y_quote_id = \"ISP.MI\"\n",
    "start_y = 2013\n",
    "start_m = 1\n",
    "start_d = 1\n",
    "stop_y = 2015\n",
    "stop_m = 12\n",
    "stop_d = 31\n",
    "step = \"d\" \n",
    "\n",
    "#parametri relativi al grafico CandleStick\n",
    "tmdict = {\"d\":1, \"w\":7, \"m\":(365 * 4 + 1) / (12 * 4)}\n",
    "candle_visualized_n = 15\n",
    "quadwidth_percentual = 0.2\n",
    "tmstep = tmdict[step] #per i mesi preso step pari ai giorni in 4 anni diviso i mesi in 4 anni"
   ]
  },
  {
   "cell_type": "code",
   "execution_count": 3,
   "metadata": {
    "collapsed": false
   },
   "outputs": [],
   "source": [
    "#parametri relativi al widget Table\n",
    "row_n = 7\n",
    "\n",
    "s0 = ScatterplotDeltas()\n",
    "\n",
    "c1 = Candlestick(candle_visualized_n, quadwidth_percentual, tmstep)\n",
    "t1 = TableDeltas(row_n)\n",
    "\n",
    "c2 = Candlestick(candle_visualized_n, quadwidth_percentual, tmstep)\n",
    "t2 = TableDeltas(row_n)\n",
    "\n",
    "objrow1_list = [s0]\n",
    "objrow2_list = [c1, t1]\n",
    "objrow3_list = [c2, t2]"
   ]
  },
  {
   "cell_type": "code",
   "execution_count": 4,
   "metadata": {
    "collapsed": false
   },
   "outputs": [],
   "source": [
    "table_and_candlestick_height = 230\n",
    "candlestick_width = 900\n",
    "scatter_height = 320\n",
    "posizione_toolbar = None\n",
    "\n",
    "#QUESTA PARTE E' DA ELIMINARE PORTANDOLA ALL'INTERNO DELLE RISPETTIVE CLASSI. IN PARTICOLARE\n",
    "#DECIDERE UN POSIZIIONAMENTO PREDEFINITO DELLE TOOLBAR\n",
    "#DECIDERE UNA DIMENSIONE PREDEFINITA DEGLI OGGETTI IN BASE A DIMENSIONI RELATIVE E IMPAGINAMENTO\n",
    "s0.get_plot().toolbar_location = posizione_toolbar\n",
    "s0.get_plot().xaxis.axis_label = x_quote_id\n",
    "s0.get_plot().yaxis.axis_label = y_quote_id\n",
    "s0.get_plot().plot_height = scatter_height\n",
    "s0.get_plot().plot_width = scatter_height\n",
    "\n",
    "c1.get_plot().toolbar_location = posizione_toolbar\n",
    "c1.get_plot().yaxis.axis_label = x_quote_id\n",
    "c1.get_plot().plot_height = table_and_candlestick_height\n",
    "c1.get_plot().plot_width = candlestick_width\n",
    "\n",
    "t1_height = table_and_candlestick_height\n",
    "\n",
    "c2.get_plot().toolbar_location = posizione_toolbar\n",
    "c2.get_plot().yaxis.axis_label = y_quote_id\n",
    "c2.get_plot().plot_height = table_and_candlestick_height\n",
    "c2.get_plot().plot_width = candlestick_width\n",
    "\n",
    "t2.height = table_and_candlestick_height\n",
    "plot = vplot(gridplot([[None, s0.get_plot(), None]]),\n",
    "          hplot(c1.get_plot(), t1.get_plot()), \n",
    "          hplot(c2.get_plot(), t2.get_plot()))\n",
    "\n",
    "show(plot)"
   ]
  },
  {
   "cell_type": "code",
   "execution_count": 5,
   "metadata": {
    "collapsed": false
   },
   "outputs": [
    {
     "ename": "StopIteration",
     "evalue": "",
     "output_type": "error",
     "traceback": [
      "\u001b[1;31m---------------------------------------------------------------------------\u001b[0m",
      "\u001b[1;31mStopIteration\u001b[0m                             Traceback (most recent call last)",
      "\u001b[1;32m<ipython-input-5-d1744f238375>\u001b[0m in \u001b[0;36m<module>\u001b[1;34m()\u001b[0m\n\u001b[0;32m      1\u001b[0m \u001b[0mcsvlinesgen\u001b[0m \u001b[1;33m=\u001b[0m \u001b[0mqueriesinput_to_syncgens_yf\u001b[0m\u001b[1;33m(\u001b[0m\u001b[1;33m(\u001b[0m\u001b[0mx_quote_id\u001b[0m\u001b[1;33m,\u001b[0m \u001b[0my_quote_id\u001b[0m\u001b[1;33m)\u001b[0m\u001b[1;33m,\u001b[0m \u001b[0mstart_y\u001b[0m\u001b[1;33m,\u001b[0m \u001b[0mstart_m\u001b[0m\u001b[1;33m,\u001b[0m \u001b[0mstart_d\u001b[0m\u001b[1;33m,\u001b[0m \u001b[0mstop_y\u001b[0m\u001b[1;33m,\u001b[0m \u001b[0mstop_m\u001b[0m\u001b[1;33m,\u001b[0m \u001b[0mstop_d\u001b[0m\u001b[1;33m,\u001b[0m \u001b[0mstep\u001b[0m\u001b[1;33m,\u001b[0m \u001b[0mheaders\u001b[0m \u001b[1;33m=\u001b[0m \u001b[1;32mFalse\u001b[0m\u001b[1;33m)\u001b[0m\u001b[1;33m\u001b[0m\u001b[0m\n\u001b[0;32m      2\u001b[0m \u001b[1;32mwhile\u001b[0m \u001b[1;32mTrue\u001b[0m\u001b[1;33m:\u001b[0m\u001b[1;33m\u001b[0m\u001b[0m\n\u001b[1;32m----> 3\u001b[1;33m     \u001b[0mcsvlines\u001b[0m \u001b[1;33m=\u001b[0m \u001b[0mnext\u001b[0m\u001b[1;33m(\u001b[0m\u001b[0mcsvlinesgen\u001b[0m\u001b[1;33m)\u001b[0m\u001b[1;33m\u001b[0m\u001b[0m\n\u001b[0m\u001b[0;32m      4\u001b[0m     \u001b[0mto_update\u001b[0m \u001b[1;33m=\u001b[0m \u001b[1;33m[\u001b[0m\u001b[1;33m]\u001b[0m\u001b[1;33m\u001b[0m\u001b[0m\n\u001b[0;32m      5\u001b[0m     \u001b[1;32mfor\u001b[0m \u001b[0mobj\u001b[0m \u001b[1;32min\u001b[0m \u001b[0mobjrow1_list\u001b[0m\u001b[1;33m:\u001b[0m\u001b[1;33m\u001b[0m\u001b[0m\n",
      "\u001b[1;31mStopIteration\u001b[0m: "
     ]
    }
   ],
   "source": [
    "csvlinesgen = queriesinput_to_syncgens_yf((x_quote_id, y_quote_id), start_y, start_m, start_d, stop_y, stop_m, stop_d, step, headers = False)\n",
    "while True:\n",
    "    csvlines = next(csvlinesgen)\n",
    "    to_update = []\n",
    "    for obj in objrow1_list:\n",
    "        data = obj.csvlines_to_data_yf(csvlines)\n",
    "        to_update += obj.update(data)\n",
    "    for obj in objrow2_list: \n",
    "        data = obj.csvlines_to_data_yf([csvlines[0]])\n",
    "        to_update += obj.update(data)\n",
    "    for obj in objrow3_list: \n",
    "        data = obj.csvlines_to_data_yf([csvlines[1]])\n",
    "        to_update += obj.update(data)\n",
    "    cursession().store_objects(*to_update)\n",
    "    time.sleep(0.5)"
   ]
  },
  {
   "cell_type": "code",
   "execution_count": null,
   "metadata": {
    "collapsed": true
   },
   "outputs": [],
   "source": []
  },
  {
   "cell_type": "code",
   "execution_count": null,
   "metadata": {
    "collapsed": true
   },
   "outputs": [],
   "source": []
  },
  {
   "cell_type": "code",
   "execution_count": null,
   "metadata": {
    "collapsed": true
   },
   "outputs": [],
   "source": []
  }
 ],
 "metadata": {
  "kernelspec": {
   "display_name": "Python 3",
   "language": "python",
   "name": "python3"
  },
  "language_info": {
   "codemirror_mode": {
    "name": "ipython",
    "version": 3
   },
   "file_extension": ".py",
   "mimetype": "text/x-python",
   "name": "python",
   "nbconvert_exporter": "python",
   "pygments_lexer": "ipython3",
   "version": "3.4.3"
  }
 },
 "nbformat": 4,
 "nbformat_minor": 0
}
