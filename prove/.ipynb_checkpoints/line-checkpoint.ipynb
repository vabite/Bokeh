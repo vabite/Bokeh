{
 "cells": [
  {
   "cell_type": "code",
   "execution_count": 1,
   "metadata": {
    "collapsed": true
   },
   "outputs": [],
   "source": [
    "import time\n",
    "from bokeh.plotting import figure, show, Session, cursession, output_server\n",
    "\n",
    "import numpy as np"
   ]
  },
  {
   "cell_type": "code",
   "execution_count": 2,
   "metadata": {
    "collapsed": false
   },
   "outputs": [
    {
     "name": "stdout",
     "output_type": "stream",
     "text": [
      "Using saved session configuration for http://127.0.0.1:5006/\n",
      "To override, pass 'load_from_config=False' to Session\n"
     ]
    }
   ],
   "source": [
    "session = Session(load_from_config=False, root_url = \"http://127.0.0.1:5006/\")\n",
    "output_server(\"line\", url = \"http://127.0.0.1:5006/\")"
   ]
  },
  {
   "cell_type": "code",
   "execution_count": 4,
   "metadata": {
    "collapsed": false
   },
   "outputs": [],
   "source": [
    "class Line(object):\n",
    "        \n",
    "    #inizializza plot. Le variabili del plot non inizializzate sono comunque accessibili dall'esterno\n",
    "    def __init__(self, name = \"line\", points_n = 15):\n",
    "        self.plot = figure(\n",
    "            plot_width = 900,\n",
    "            plot_height = 300,\n",
    "            name = \"line\",\n",
    "            title = name\n",
    "        )\n",
    "        self.plot.line(\n",
    "            x = [],\n",
    "            y = [],\n",
    "            color = \"blue\",\n",
    "            name = \"segments\"\n",
    "        )\n",
    "        self.ds = self.plot.select({\"name\":\"segments\"})[0].data_source\n",
    "        \n",
    "    def get_plot(self):\n",
    "        return self.plot\n",
    "        \n",
    "    def update(self, data): #non previsto arrivo dati non validi\n",
    "        self.ds.data[\"x\"] += data[0] \n",
    "        self.ds.data[\"y\"] += data[1] \n",
    "        return [self.ds] #wrap in lista, per poter effettuare estrazione degli oggetti aggiornati in modo generico"
   ]
  },
  {
   "cell_type": "code",
   "execution_count": 5,
   "metadata": {
    "collapsed": false
   },
   "outputs": [],
   "source": [
    "#TEST\n",
    "#Effettua prima tre punti (due segmenti) tutti in una volta, poi appende un segmento ad ogni delay\n",
    "l = Line()\n",
    "show(l.get_plot())\n",
    "delay = 1\n",
    "\n",
    "x = [0,-1,-2]\n",
    "y = [0,-1, 0]\n",
    "data = [x, y]\n",
    "cursession().store_objects(*l.update(data))\n",
    "time.sleep(delay)\n",
    "\n",
    "for i in range(-3,-23,-2):\n",
    "    x = [i]\n",
    "    y = [np.random.randn()]\n",
    "    data = [x, y]\n",
    "    cursession().store_objects(*l.update(data))\n",
    "    time.sleep(delay)"
   ]
  },
  {
   "cell_type": "code",
   "execution_count": null,
   "metadata": {
    "collapsed": true
   },
   "outputs": [],
   "source": []
  }
 ],
 "metadata": {
  "kernelspec": {
   "display_name": "Python 3",
   "language": "python",
   "name": "python3"
  },
  "language_info": {
   "codemirror_mode": {
    "name": "ipython",
    "version": 3
   },
   "file_extension": ".py",
   "mimetype": "text/x-python",
   "name": "python",
   "nbconvert_exporter": "python",
   "pygments_lexer": "ipython3",
   "version": "3.4.3"
  }
 },
 "nbformat": 4,
 "nbformat_minor": 0
}
