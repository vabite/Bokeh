{
 "cells": [
  {
   "cell_type": "code",
   "execution_count": 29,
   "metadata": {
    "collapsed": false
   },
   "outputs": [],
   "source": [
    "import time\n",
    "import redis\n",
    "\n",
    "from bokeh.plotting import Document, Session, cursession, curdoc, push, show, output_server, figure\n",
    "from bokeh.models import Range1d\n",
    "\n",
    "from bokeh.embed import file_html, components, autoload_server"
   ]
  },
  {
   "cell_type": "code",
   "execution_count": 30,
   "metadata": {
    "collapsed": false
   },
   "outputs": [],
   "source": [
    "#session = Session(load_from_config = False, root_url = \"http://10.124.36.96:5006/\")\n",
    "#output_server(docname = \"documents\", url = \"http://10.124.36.96:5006/\", session = session)"
   ]
  },
  {
   "cell_type": "code",
   "execution_count": 31,
   "metadata": {
    "collapsed": false
   },
   "outputs": [],
   "source": [
    "d1 = Document()\n",
    "d2 = Document()\n",
    "d3 = Document()\n",
    "session = Session(load_from_config = False, root_url = \"http://127.0.0.1:5006/\")\n",
    "session.use_doc(\"d1\")\n",
    "session.load_document(d1)\n",
    "session.use_doc(\"d2\")\n",
    "session.load_document(d2)\n",
    "session.use_doc(\"d3\")\n",
    "session.load_document(d3)"
   ]
  },
  {
   "cell_type": "code",
   "execution_count": 32,
   "metadata": {
    "collapsed": false,
    "scrolled": false
   },
   "outputs": [
    {
     "name": "stdout",
     "output_type": "stream",
     "text": [
      "http://127.0.0.1:5006/bokeh/doc/7b38560a-fe2f-47c3-b375-84cbc3d6e98c/b71741bc-5465-4179-a478-f8500c70b98f\n",
      "http://127.0.0.1:5006/bokeh/doc/3ff7e8fe-4208-4e2d-8664-11ab759faafe/e3a83fcf-0182-4c56-98ea-993960b4af37\n",
      "http://127.0.0.1:5006/bokeh/doc/b0065241-b72b-4ec5-ab82-8555297dd7de/eee5797b-0627-4d16-8dc5-1df742ac8c5f\n"
     ]
    },
    {
     "data": {
      "text/plain": [
       "'\\nprint(session.object_link(p1))\\nprint(session.object_link(p2))\\nprint(session.object_link(p3))\\n\\nshow(hplot(p1,p2,p3))\\nsession.use_doc(\"d1\")\\nshow(p1)\\nsession.use_doc(\"d2\")\\nshow(p2)\\nsession.use_doc(\"d3\")\\nshow(p3)\\n\\nscript1 = autoload_server(p1, session, True)\\nscript2 = autoload_server(p2, session, True)\\nscript3 = autoload_server(p3, session, True)\\n#script1, div = components(p1)\\nprint(r.get(\"redplot\").decode()); #print(div1)\\nprint(r.get(\"blueplot\").decode()); #print(div1)\\nprint(r.get(\"greenplot\").decode()); #print(div1)\\n'"
      ]
     },
     "execution_count": 32,
     "metadata": {},
     "output_type": "execute_result"
    }
   ],
   "source": [
    "# create some data\n",
    "x1 = [0, 1, 2, 3, 4, 5, 6, 7, 8, 9, 10]\n",
    "y1 = [0, 8, 2, 4, 6, 9, 5, 6, 25, 28, 4, 7]\n",
    "x2 = [2, 5, 7, 15, 18, 19, 25, 28, 9, 10, 4]\n",
    "y2 = [2, 4, 6, 9, 15, 18, 0, 8, 2, 25, 28]\n",
    "x3 = [0, 1, 0, 8, 2, 4, 6, 9, 7, 8, 9]\n",
    "y3 = [0, 8, 4, 6, 9, 15, 18, 19, 19, 25, 28]\n",
    "\n",
    "r = redis.StrictRedis(host='localhost', port=6379, db=0)\n",
    "\n",
    "# the red and blue graphs will share this data range\n",
    "xr1 = Range1d(start=0, end=30)\n",
    "yr1 = Range1d(start=0, end=30)\n",
    "\n",
    "# only the green will use this data range\n",
    "xr2 = Range1d(start=0, end=30)\n",
    "yr2 = Range1d(start=0, end=30)\n",
    "\n",
    "# build our figures\n",
    "\n",
    "\n",
    "p1 = figure(plot_width=300, plot_height=300, name = \"redplot\")\n",
    "p1.scatter(x1, y1, size=12, color=\"red\", alpha=0.5)\n",
    "r.set(p1.name, session.object_link(p1))\n",
    "d1.add(p1)\n",
    "session.use_doc(\"d1\")\n",
    "session.store_objects(p1)\n",
    "#push(session, d1)\n",
    "\n",
    "\n",
    "p2 = figure(plot_width=300, plot_height=300, name = \"blueplot\")\n",
    "p2.scatter(x2, y2, size=12, color=\"blue\", alpha=0.5, name = \"blue\")\n",
    "r.set(p2.name, session.object_link(p2))\n",
    "d2.add(p2)\n",
    "session.use_doc(\"d2\")\n",
    "session.store_objects(p2)\n",
    "#push(session, d2)\n",
    "\n",
    "\n",
    "p3 = figure(plot_width=300, plot_height=300, name = \"greenplot\")\n",
    "p3.scatter(x3, y3, size=12, color=\"green\", alpha=0.5)\n",
    "r.set(p3.name, session.object_link(p3))\n",
    "d3.add(p3)\n",
    "session.use_doc(\"d3\")\n",
    "#push(session, d3)\n",
    "session.store_objects(p3)\n",
    "\n",
    "show([p1, p2, p3])\n",
    "\n",
    "print(r.get(\"redplot\").decode())\n",
    "print(r.get(\"blueplot\").decode())\n",
    "print(r.get(\"greenplot\").decode())\n",
    "\n",
    "\"\"\"\n",
    "print(session.object_link(p1))\n",
    "print(session.object_link(p2))\n",
    "print(session.object_link(p3))\n",
    "\n",
    "show(hplot(p1,p2,p3))\n",
    "session.use_doc(\"d1\")\n",
    "show(p1)\n",
    "session.use_doc(\"d2\")\n",
    "show(p2)\n",
    "session.use_doc(\"d3\")\n",
    "show(p3)\n",
    "\n",
    "script1 = autoload_server(p1, session, True)\n",
    "script2 = autoload_server(p2, session, True)\n",
    "script3 = autoload_server(p3, session, True)\n",
    "#script1, div = components(p1)\n",
    "print(r.get(\"redplot\").decode()); #print(div1)\n",
    "print(r.get(\"blueplot\").decode()); #print(div1)\n",
    "print(r.get(\"greenplot\").decode()); #print(div1)\n",
    "\"\"\""
   ]
  },
  {
   "cell_type": "code",
   "execution_count": 33,
   "metadata": {
    "collapsed": false
   },
   "outputs": [
    {
     "data": {
      "text/plain": [
       "{'_block_callbacks': False,\n",
       " '_callback_queue': [],\n",
       " '_callbacks': {},\n",
       " '_callbacks_dirty': False,\n",
       " '_changed_vars': {'children', 'tags'},\n",
       " '_children': [<bokeh.models.plots.Plot at 0x7f36a6385cf8>,\n",
       "  <bokeh.models.plots.Plot at 0x7f36a6361208>,\n",
       "  <bokeh.plotting.Figure at 0x7f36a63beeb8>],\n",
       " '_dirty': True,\n",
       " '_id': '89907bfa-060e-4a43-8ac8-5492810f3985',\n",
       " '_ref_props': {'children': [{'id': '22a096c2-5047-4d18-9ed0-21575e171ad6',\n",
       "    'type': 'Plot'},\n",
       "   {'id': '821527ed-f088-476f-9648-7ce95065a8c5', 'type': 'Plot'}]},\n",
       " '_session': None,\n",
       " '_tags': []}"
      ]
     },
     "execution_count": 33,
     "metadata": {},
     "output_type": "execute_result"
    }
   ],
   "source": [
    "d1.context.__dict__"
   ]
  },
  {
   "cell_type": "code",
   "execution_count": 34,
   "metadata": {
    "collapsed": false
   },
   "outputs": [],
   "source": [
    "for i in range(50):    \n",
    "    p1.renderers[-1].data_source.data[\"x\"].append(i)\n",
    "    p1.renderers[-1].data_source.data[\"y\"].append(i)\n",
    "    p2.renderers[-1].data_source.data[\"x\"].append(-i)\n",
    "    p2.renderers[-1].data_source.data[\"y\"].append(-i)   \n",
    "    p3.renderers[-1].data_source.data[\"x\"].append(i)\n",
    "    p3.renderers[-1].data_source.data[\"y\"].append(-i)\n",
    "    session.use_doc(\"d1\")\n",
    "    session.store_objects(p1)\n",
    "    #session.store_document(d1)\n",
    "    session.use_doc(\"d2\")\n",
    "    session.store_objects(p2)\n",
    "    #session.store_document(d2)\n",
    "    session.use_doc(\"d3\")\n",
    "    session.store_objects(p3)\n",
    "    #session.store_document(d3)\n",
    "    time.sleep(0.5)"
   ]
  },
  {
   "cell_type": "code",
   "execution_count": 35,
   "metadata": {
    "collapsed": false
   },
   "outputs": [
    {
     "data": {
      "text/plain": [
       "{'_autoadd': True,\n",
       " '_autostore': True,\n",
       " '_context': <bokeh.models.plots.PlotContext at 0x7f36a6118240>,\n",
       " '_current_plot': None,\n",
       " '_hold': False,\n",
       " '_models': {'0e25fe93-68ae-4bfe-8cf7-9717fbb91599': <bokeh.models.grids.Grid at 0x7f36a60d81d0>,\n",
       "  '12b1521c-580a-4761-8567-0b97b3b47cf6': <bokeh.models.tools.BoxZoomTool at 0x7f36a60d8128>,\n",
       "  '18579a2b-32de-4596-a2a0-a4a84fbdb95d': <bokeh.models.markers.Circle at 0x7f36a6118b00>,\n",
       "  '193d2b22-8949-4049-898d-f88dcc59c51a': <bokeh.models.tools.PreviewSaveTool at 0x7f36a60d8438>,\n",
       "  '1983dffc-fb3f-491b-960c-e7ad56b93012': <bokeh.models.axes.LinearAxis at 0x7f36a60d8278>,\n",
       "  '1b8858d8-0472-4a44-9368-0836299802af': <bokeh.models.formatters.BasicTickFormatter at 0x7f36a61182b0>,\n",
       "  '22a096c2-5047-4d18-9ed0-21575e171ad6': <bokeh.models.plots.Plot at 0x7f36a6385cf8>,\n",
       "  '261ae8ca-3683-40fb-ac42-bdcf83f4d988': <bokeh.models.grids.Grid at 0x7f36a6118fd0>,\n",
       "  '2cc1a762-863e-455e-b97e-8e81770c4f64': <bokeh.models.grids.Grid at 0x7f36a63be7b8>,\n",
       "  '3385309f-f08c-4f6e-be04-8ab5e7474f65': <bokeh.models.tools.BoxZoomTool at 0x7f36a68eb940>,\n",
       "  '3eebbe6d-4417-4a4f-8d26-7dede17a6b96': <bokeh.models.markers.Circle at 0x7f36a61187b8>,\n",
       "  '45ad836f-8200-40be-8365-0f40aafc1845': <bokeh.models.ranges.DataRange1d at 0x7f36a6118f98>,\n",
       "  '473b852b-40cd-48bf-af9d-aae2fdd74e9b': <bokeh.models.sources.ColumnDataSource at 0x7f36a6118470>,\n",
       "  '479860c2-f3b2-4513-9910-af3dd9866c2b': <bokeh.models.axes.LinearAxis at 0x7f36a6118588>,\n",
       "  '48976b6b-9b6a-42d8-9872-051a9fc9f8b1': <bokeh.models.tools.PanTool at 0x7f36a63851d0>,\n",
       "  '52b82401-0fc7-4844-93a1-2cee878069c1': <bokeh.models.tools.ToolEvents at 0x7f36a63618d0>,\n",
       "  '531b49dc-ecb4-43a4-b6a1-f5881e1b28de': <bokeh.models.renderers.GlyphRenderer at 0x7f36a6138588>,\n",
       "  '598599b3-2deb-499d-b51b-c4f98f989285': <bokeh.models.axes.LinearAxis at 0x7f36a6118be0>,\n",
       "  '5bf70faf-e0b2-4d2c-af42-5fb73ae91a7b': <bokeh.models.grids.Grid at 0x7f36a61189b0>,\n",
       "  '5c13a5eb-063a-4d82-b3ea-8b5723abff28': <bokeh.models.formatters.BasicTickFormatter at 0x7f36a6138dd8>,\n",
       "  '6198c0fe-4c9e-4b26-aefc-99dc385696a8': <bokeh.models.ranges.DataRange1d at 0x7f36a6118630>,\n",
       "  '61caa499-5719-4394-9f47-9a58d8d2a5a3': <bokeh.models.tools.ResizeTool at 0x7f36a6118da0>,\n",
       "  '631a6b99-6126-4e90-a4f9-dfb9bbd47299': <bokeh.models.ranges.DataRange1d at 0x7f36a63615c0>,\n",
       "  '639f1de7-92fc-4d51-a2a5-94e1a7561dc9': <bokeh.models.tools.PanTool at 0x7f36a6361c50>,\n",
       "  '6d7b88d7-04d1-4394-bbd5-cc745ea24ac6': <bokeh.models.grids.Grid at 0x7f36a68eb2e8>,\n",
       "  '6d8032d8-0173-4506-b367-16c501a587f3': <bokeh.models.ranges.DataRange1d at 0x7f36a68ebba8>,\n",
       "  '7489ee9c-3dd0-4ef0-a488-e850df1cea95': <bokeh.models.tools.PreviewSaveTool at 0x7f36a63619b0>,\n",
       "  '7732374b-3ee6-46ac-97af-d96dc9e5bf2c': <bokeh.models.markers.Circle at 0x7f36a6138550>,\n",
       "  '7bb97443-31e9-48aa-93f0-1c3d930fd67e': <bokeh.models.tools.BoxZoomTool at 0x7f36a6385f60>,\n",
       "  '821527ed-f088-476f-9648-7ce95065a8c5': <bokeh.models.plots.Plot at 0x7f36a6361208>,\n",
       "  '88816e2a-118b-498a-aa64-1cc9c6db3790': <bokeh.models.sources.ColumnDataSource at 0x7f36a68ebb00>,\n",
       "  '89907bfa-060e-4a43-8ac8-5492810f3985': <bokeh.models.plots.PlotContext at 0x7f36a6118240>,\n",
       "  '8c83045f-718e-410c-bea1-d78920333f89': <bokeh.models.tools.HelpTool at 0x7f36a6361278>,\n",
       "  '8e04a7b5-0c10-43ad-874b-85d01289b325': <bokeh.models.sources.ColumnDataSource at 0x7f36a61184a8>,\n",
       "  '8e080ed2-5973-4524-a63b-2844c3d3f628': <bokeh.models.markers.Circle at 0x7f36a6118860>,\n",
       "  '932f2531-0da2-4f37-ab69-fc63cc54c442': <bokeh.models.tools.WheelZoomTool at 0x7f36a60d83c8>,\n",
       "  '9a54459a-76b2-4a26-bf1e-6acfc8d2fc2e': <bokeh.models.axes.LinearAxis at 0x7f36a6361a58>,\n",
       "  '9d700ca2-024c-4992-91c5-a04a4e91261b': <bokeh.models.tools.ToolEvents at 0x7f36a6361a20>,\n",
       "  'a21f4a58-c9ce-48b9-846e-6284f68a870d': <bokeh.models.tickers.BasicTicker at 0x7f36a6118048>,\n",
       "  'a4c97cef-48bd-49b3-b5ce-851f0e173e5f': <bokeh.models.formatters.BasicTickFormatter at 0x7f36a6118710>,\n",
       "  'ab993b01-2d0e-4b2b-bca2-e29d1ed77d07': <bokeh.models.axes.LinearAxis at 0x7f36a60e5fd0>,\n",
       "  'abfbe7b2-98b0-4ce9-a1d3-8fe0d053fcbb': <bokeh.models.tools.PanTool at 0x7f36a60d85f8>,\n",
       "  'acccf837-fafa-4f31-b024-c8d21da86636': <bokeh.models.tickers.BasicTicker at 0x7f36a6118b38>,\n",
       "  'b54658ec-429b-483b-bab4-4e62c32f99b0': <bokeh.models.tools.ResetTool at 0x7f36a60d80f0>,\n",
       "  'b71741bc-5465-4179-a478-f8500c70b98f': <bokeh.plotting.Figure at 0x7f36a63beeb8>,\n",
       "  'b80be8ba-89aa-46fe-8eb8-1cc55c70cc8a': <bokeh.models.formatters.BasicTickFormatter at 0x7f36a60d8048>,\n",
       "  'bb85b704-a6a0-4a70-ba68-9b66f4c1d0b1': <bokeh.models.tools.WheelZoomTool at 0x7f36a6361470>,\n",
       "  'bbf3299a-cfbe-494a-8b40-bb6cde0cbaea': <bokeh.models.formatters.BasicTickFormatter at 0x7f36a6118c18>,\n",
       "  'bc9c4b39-56d7-4e60-bcf9-9cf6c7dd7383': <bokeh.models.renderers.GlyphRenderer at 0x7f36a6361588>,\n",
       "  'c12cc6bd-b0c8-4267-95d5-2ab4da4132e7': <bokeh.models.tickers.BasicTicker at 0x7f36a6361630>,\n",
       "  'c430e157-75f6-4494-86b8-a8186943b1f9': <bokeh.models.tools.HelpTool at 0x7f36a60d8630>,\n",
       "  'c6a4e20a-5a0e-4572-b9ab-14086a666dd4': <bokeh.models.ranges.DataRange1d at 0x7f36a61391d0>,\n",
       "  'c8684960-7cfd-4b3e-a456-b15c3283cea6': <bokeh.models.tools.ResetTool at 0x7f36a6361198>,\n",
       "  'c96c0a12-0ad9-4b0b-9cde-e8238983cdc4': <bokeh.models.tools.ToolEvents at 0x7f36a6138f28>,\n",
       "  'd68d977d-34c7-43ab-806c-0c9d66b4e09e': <bokeh.models.tickers.BasicTicker at 0x7f36a60d82b0>,\n",
       "  'dc3fd378-d926-4b28-a699-12ad644fed51': <bokeh.models.tools.ResetTool at 0x7f36a6385c18>,\n",
       "  'deb8eba7-10c2-4061-bfd3-842619ba781f': <bokeh.models.tools.WheelZoomTool at 0x7f36a6385470>,\n",
       "  'dfd4891c-bf8c-47e8-89e1-fa0fc5b29c7b': <bokeh.models.markers.Circle at 0x7f36a6118e80>,\n",
       "  'e0332694-adf1-4eb1-a39c-4b4a179d5a7f': <bokeh.models.tools.PreviewSaveTool at 0x7f36a6118828>,\n",
       "  'e721797c-e234-4122-a528-a8148b46e28a': <bokeh.models.tickers.BasicTicker at 0x7f36a6361fd0>,\n",
       "  'e9067be2-4a4b-4c27-8d3c-afe98932dbc3': <bokeh.models.markers.Circle at 0x7f36a63616a0>,\n",
       "  'ec3b0a5d-0d52-4f6b-8bb6-63817a6259be': <bokeh.models.tools.HelpTool at 0x7f36a6361048>,\n",
       "  'ecc4c5a9-fecf-473f-b0a9-afaa0d3539db': <bokeh.models.renderers.GlyphRenderer at 0x7f36a6118748>,\n",
       "  'ef5c5fa6-bbb3-4c29-8344-5b3a724206f1': <bokeh.models.grids.Grid at 0x7f36a6139da0>,\n",
       "  'ef864391-79f7-4388-a92d-e1aae82bacbf': <bokeh.models.axes.LinearAxis at 0x7f36a6361e80>,\n",
       "  'f84373db-a64c-4f15-ac3c-6a2b599bf62d': <bokeh.models.tools.ResizeTool at 0x7f36a60d8240>,\n",
       "  'f861c5ed-c21b-48d5-9bb4-ee6099402d1e': <bokeh.models.ranges.DataRange1d at 0x7f36a6361b38>,\n",
       "  'f8a72786-8883-4ea2-9db4-726afcf7c45e': <bokeh.models.tickers.BasicTicker at 0x7f36a6138da0>,\n",
       "  'fb675ba5-f7fe-4896-b02e-6828acb8ca7c': <bokeh.models.tools.ResizeTool at 0x7f36a6361da0>,\n",
       "  'fc7f455e-24cb-4363-b0ab-8e8424055b24': <bokeh.models.formatters.BasicTickFormatter at 0x7f36a6139240>},\n",
       " 'docid': '3ff7e8fe-4208-4e2d-8664-11ab759faafe'}"
      ]
     },
     "execution_count": 35,
     "metadata": {},
     "output_type": "execute_result"
    }
   ],
   "source": [
    "#d1.context.__dict__\n",
    "d1.__dict__"
   ]
  },
  {
   "cell_type": "code",
   "execution_count": 36,
   "metadata": {
    "collapsed": false
   },
   "outputs": [
    {
     "data": {
      "text/plain": [
       "<bokeh.models.renderers.GlyphRenderer at 0x7f36a6138588>"
      ]
     },
     "execution_count": 36,
     "metadata": {},
     "output_type": "execute_result"
    }
   ],
   "source": [
    "p1.renderers[-1]"
   ]
  },
  {
   "cell_type": "code",
   "execution_count": null,
   "metadata": {
    "collapsed": false,
    "scrolled": false
   },
   "outputs": [],
   "source": []
  },
  {
   "cell_type": "code",
   "execution_count": 37,
   "metadata": {
    "collapsed": false
   },
   "outputs": [
    {
     "data": {
      "text/plain": [
       "{'_block_callbacks': False,\n",
       " '_callback': None,\n",
       " '_callback_queue': [],\n",
       " '_callbacks': {},\n",
       " '_callbacks_dirty': False,\n",
       " '_changed_vars': set(),\n",
       " '_column_names': ['y', 'x'],\n",
       " '_data': {'x': [2,\n",
       "   5,\n",
       "   7,\n",
       "   15,\n",
       "   18,\n",
       "   19,\n",
       "   25,\n",
       "   28,\n",
       "   9,\n",
       "   10,\n",
       "   4,\n",
       "   0,\n",
       "   -1,\n",
       "   -2,\n",
       "   -3,\n",
       "   -4,\n",
       "   -5,\n",
       "   -6,\n",
       "   -7,\n",
       "   -8,\n",
       "   -9,\n",
       "   -10,\n",
       "   -11,\n",
       "   -12,\n",
       "   -13,\n",
       "   -14,\n",
       "   -15,\n",
       "   -16,\n",
       "   -17,\n",
       "   -18,\n",
       "   -19,\n",
       "   -20,\n",
       "   -21,\n",
       "   -22,\n",
       "   -23,\n",
       "   -24,\n",
       "   -25,\n",
       "   -26,\n",
       "   -27,\n",
       "   -28,\n",
       "   -29,\n",
       "   -30,\n",
       "   -31,\n",
       "   -32,\n",
       "   -33,\n",
       "   -34,\n",
       "   -35,\n",
       "   -36,\n",
       "   -37,\n",
       "   -38,\n",
       "   -39,\n",
       "   -40,\n",
       "   -41,\n",
       "   -42,\n",
       "   -43,\n",
       "   -44,\n",
       "   -45,\n",
       "   -46,\n",
       "   -47,\n",
       "   -48,\n",
       "   -49],\n",
       "  'y': [2,\n",
       "   4,\n",
       "   6,\n",
       "   9,\n",
       "   15,\n",
       "   18,\n",
       "   0,\n",
       "   8,\n",
       "   2,\n",
       "   25,\n",
       "   28,\n",
       "   0,\n",
       "   -1,\n",
       "   -2,\n",
       "   -3,\n",
       "   -4,\n",
       "   -5,\n",
       "   -6,\n",
       "   -7,\n",
       "   -8,\n",
       "   -9,\n",
       "   -10,\n",
       "   -11,\n",
       "   -12,\n",
       "   -13,\n",
       "   -14,\n",
       "   -15,\n",
       "   -16,\n",
       "   -17,\n",
       "   -18,\n",
       "   -19,\n",
       "   -20,\n",
       "   -21,\n",
       "   -22,\n",
       "   -23,\n",
       "   -24,\n",
       "   -25,\n",
       "   -26,\n",
       "   -27,\n",
       "   -28,\n",
       "   -29,\n",
       "   -30,\n",
       "   -31,\n",
       "   -32,\n",
       "   -33,\n",
       "   -34,\n",
       "   -35,\n",
       "   -36,\n",
       "   -37,\n",
       "   -38,\n",
       "   -39,\n",
       "   -40,\n",
       "   -41,\n",
       "   -42,\n",
       "   -43,\n",
       "   -44,\n",
       "   -45,\n",
       "   -46,\n",
       "   -47,\n",
       "   -48,\n",
       "   -49]},\n",
       " '_dirty': False,\n",
       " '_id': '5eb56c69-48e0-4776-89ea-65b26d66b5ce',\n",
       " '_selected': {'0d': {'flag': False, 'indices': []},\n",
       "  '1d': {'indices': []},\n",
       "  '2d': {'indices': []}},\n",
       " '_session': None,\n",
       " '_tags': []}"
      ]
     },
     "execution_count": 37,
     "metadata": {},
     "output_type": "execute_result"
    }
   ],
   "source": [
    "p2.renderers[-1].data_source.__dict__"
   ]
  },
  {
   "cell_type": "code",
   "execution_count": null,
   "metadata": {
    "collapsed": false
   },
   "outputs": [],
   "source": []
  },
  {
   "cell_type": "code",
   "execution_count": null,
   "metadata": {
    "collapsed": true
   },
   "outputs": [],
   "source": []
  }
 ],
 "metadata": {
  "kernelspec": {
   "display_name": "Python 3",
   "language": "python",
   "name": "python3"
  },
  "language_info": {
   "codemirror_mode": {
    "name": "ipython",
    "version": 3
   },
   "file_extension": ".py",
   "mimetype": "text/x-python",
   "name": "python",
   "nbconvert_exporter": "python",
   "pygments_lexer": "ipython3",
   "version": "3.4.3"
  }
 },
 "nbformat": 4,
 "nbformat_minor": 0
}
