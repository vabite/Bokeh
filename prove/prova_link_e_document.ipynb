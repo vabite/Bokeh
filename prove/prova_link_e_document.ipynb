{
 "cells": [
  {
   "cell_type": "code",
   "execution_count": 1,
   "metadata": {
    "collapsed": false
   },
   "outputs": [],
   "source": [
    "import time\n",
    "import redis\n",
    "\n",
    "from bokeh.plotting import Document, Session, cursession, curdoc, push, show, output_server, figure\n",
    "from bokeh.models import Range1d\n",
    "\n",
    "from bokeh.embed import file_html, components, autoload_server"
   ]
  },
  {
   "cell_type": "code",
   "execution_count": 2,
   "metadata": {
    "collapsed": false
   },
   "outputs": [],
   "source": [
    "#session = Session(load_from_config = False, root_url = \"http://10.124.36.96:5006/\")\n",
    "#output_server(docname = \"documents\", url = \"http://10.124.36.96:5006/\", session = session)"
   ]
  },
  {
   "cell_type": "code",
   "execution_count": 3,
   "metadata": {
    "collapsed": false
   },
   "outputs": [],
   "source": [
    "d1 = Document()\n",
    "d2 = Document()\n",
    "d3 = Document()\n",
    "session = Session(load_from_config = False, root_url = \"http://127.0.0.1:5006/\")\n",
    "session.use_doc(\"d1\")\n",
    "session.load_document(d1)\n",
    "session.use_doc(\"d2\")\n",
    "session.load_document(d2)\n",
    "session.use_doc(\"d3\")\n",
    "session.load_document(d3)"
   ]
  },
  {
   "cell_type": "code",
   "execution_count": 4,
   "metadata": {
    "collapsed": false,
    "scrolled": false
   },
   "outputs": [
    {
     "name": "stderr",
     "output_type": "stream",
     "text": [
      "ERROR:/home/valerio/Projects/anaconda3/envs/Bokeh/lib/python3.4/site-packages/bokeh/validation/check.py:E-1000 (COLUMN_LENGTHS): ColumnDataSource column lengths are not all the same: ColumnDataSource, ViewModel:ColumnDataSource, ref _id: 204efda8-19b6-4c7a-adaa-c9c18cb96128\n"
     ]
    },
    {
     "name": "stdout",
     "output_type": "stream",
     "text": [
      "http://127.0.0.1:5006/bokeh/doc/7b38560a-fe2f-47c3-b375-84cbc3d6e98c/973c808c-cba0-4b94-999c-b660afeeb65c\n",
      "http://127.0.0.1:5006/bokeh/doc/3ff7e8fe-4208-4e2d-8664-11ab759faafe/61474f08-d924-4f58-b334-7b48e2251237\n",
      "http://127.0.0.1:5006/bokeh/doc/b0065241-b72b-4ec5-ab82-8555297dd7de/79849fdb-b23c-409d-8753-02d1f96451a0\n"
     ]
    },
    {
     "data": {
      "text/plain": [
       "'\\nprint(session.object_link(p1))\\nprint(session.object_link(p2))\\nprint(session.object_link(p3))\\n\\nshow(hplot(p1,p2,p3))\\nsession.use_doc(\"d1\")\\nshow(p1)\\nsession.use_doc(\"d2\")\\nshow(p2)\\nsession.use_doc(\"d3\")\\nshow(p3)\\n\\nscript1 = autoload_server(p1, session, True)\\nscript2 = autoload_server(p2, session, True)\\nscript3 = autoload_server(p3, session, True)\\n#script1, div = components(p1)\\nprint(r.get(\"redplot\").decode()); #print(div1)\\nprint(r.get(\"blueplot\").decode()); #print(div1)\\nprint(r.get(\"greenplot\").decode()); #print(div1)\\n'"
      ]
     },
     "execution_count": 4,
     "metadata": {},
     "output_type": "execute_result"
    }
   ],
   "source": [
    "# create some data\n",
    "x1 = [0, 1, 2, 3, 4, 5, 6, 7, 8, 9, 10]\n",
    "y1 = [0, 8, 2, 4, 6, 9, 5, 6, 25, 28, 4, 7]\n",
    "x2 = [2, 5, 7, 15, 18, 19, 25, 28, 9, 10, 4]\n",
    "y2 = [2, 4, 6, 9, 15, 18, 0, 8, 2, 25, 28]\n",
    "x3 = [0, 1, 0, 8, 2, 4, 6, 9, 7, 8, 9]\n",
    "y3 = [0, 8, 4, 6, 9, 15, 18, 19, 19, 25, 28]\n",
    "\n",
    "r = redis.StrictRedis(host='localhost', port=6379, db=0)\n",
    "\n",
    "# the red and blue graphs will share this data range\n",
    "xr1 = Range1d(start=0, end=30)\n",
    "yr1 = Range1d(start=0, end=30)\n",
    "\n",
    "# only the green will use this data range\n",
    "xr2 = Range1d(start=0, end=30)\n",
    "yr2 = Range1d(start=0, end=30)\n",
    "\n",
    "# build our figures\n",
    "\n",
    "\n",
    "p1 = figure(plot_width=300, plot_height=300, name = \"redplot\")\n",
    "p1.scatter(x1, y1, size=12, color=\"red\", alpha=0.5)\n",
    "r.set(p1.name, session.object_link(p1))\n",
    "d1.add(p1)\n",
    "session.use_doc(\"d1\")\n",
    "#session.store_objects(p1)\n",
    "push(session, d1)\n",
    "\n",
    "\n",
    "p2 = figure(plot_width=300, plot_height=300, name = \"blueplot\")\n",
    "p2.scatter(x2, y2, size=12, color=\"blue\", alpha=0.5, name = \"blue\")\n",
    "r.set(p2.name, session.object_link(p2))\n",
    "d2.add(p2)\n",
    "session.use_doc(\"d2\")\n",
    "#session.store_objects(p2)\n",
    "push(session, d2)\n",
    "\n",
    "\n",
    "p3 = figure(plot_width=300, plot_height=300, name = \"greenplot\")\n",
    "p3.scatter(x3, y3, size=12, color=\"green\", alpha=0.5)\n",
    "r.set(p3.name, session.object_link(p3))\n",
    "d3.add(p3)\n",
    "session.use_doc(\"d3\")\n",
    "push(session, d3)\n",
    "#session.store_objects(p3)\n",
    "\n",
    "show([p1, p2, p3])\n",
    "\n",
    "print(r.get(\"redplot\").decode())\n",
    "print(r.get(\"blueplot\").decode())\n",
    "print(r.get(\"greenplot\").decode())\n",
    "\n",
    "\"\"\"\n",
    "print(session.object_link(p1))\n",
    "print(session.object_link(p2))\n",
    "print(session.object_link(p3))\n",
    "\n",
    "show(hplot(p1,p2,p3))\n",
    "session.use_doc(\"d1\")\n",
    "show(p1)\n",
    "session.use_doc(\"d2\")\n",
    "show(p2)\n",
    "session.use_doc(\"d3\")\n",
    "show(p3)\n",
    "\n",
    "script1 = autoload_server(p1, session, True)\n",
    "script2 = autoload_server(p2, session, True)\n",
    "script3 = autoload_server(p3, session, True)\n",
    "#script1, div = components(p1)\n",
    "print(r.get(\"redplot\").decode()); #print(div1)\n",
    "print(r.get(\"blueplot\").decode()); #print(div1)\n",
    "print(r.get(\"greenplot\").decode()); #print(div1)\n",
    "\"\"\""
   ]
  },
  {
   "cell_type": "code",
   "execution_count": 5,
   "metadata": {
    "collapsed": false
   },
   "outputs": [
    {
     "data": {
      "text/plain": [
       "{'_block_callbacks': False,\n",
       " '_callback_queue': [],\n",
       " '_callbacks': {},\n",
       " '_callbacks_dirty': False,\n",
       " '_changed_vars': {'children', 'tags'},\n",
       " '_children': [<bokeh.models.plots.Plot at 0x7f23c6ff8da0>,\n",
       "  <bokeh.models.plots.Plot at 0x7f23c6ff8f98>,\n",
       "  <bokeh.models.plots.Plot at 0x7f23c7004da0>,\n",
       "  <bokeh.models.plots.Plot at 0x7f23c6ff8240>,\n",
       "  <bokeh.models.plots.Plot at 0x7f23c7004630>,\n",
       "  <bokeh.models.plots.Plot at 0x7f23c6ff83c8>,\n",
       "  <bokeh.models.plots.Plot at 0x7f23c6ff8160>,\n",
       "  <bokeh.plotting.Figure at 0x7f23c762c2e8>],\n",
       " '_dirty': False,\n",
       " '_id': '89907bfa-060e-4a43-8ac8-5492810f3985',\n",
       " '_ref_props': {'children': [{'id': '22a096c2-5047-4d18-9ed0-21575e171ad6',\n",
       "    'type': 'Plot'},\n",
       "   {'id': '821527ed-f088-476f-9648-7ce95065a8c5', 'type': 'Plot'},\n",
       "   {'id': '89a6dafc-fb6b-465b-afdf-88d06b641f09', 'type': 'Plot'},\n",
       "   {'id': 'c840407b-dfc8-40e2-96ed-2550c6fc2b71', 'type': 'Plot'},\n",
       "   {'id': '13c6b57a-f4cd-480e-a8cd-bd26b7cc1769', 'type': 'Plot'},\n",
       "   {'id': '72b6f79a-f52b-4f66-b0ea-41dc5b463e3b', 'type': 'Plot'},\n",
       "   {'id': 'c96c46c8-e832-4089-a244-41537adf0755', 'type': 'Plot'}]},\n",
       " '_session': None,\n",
       " '_tags': []}"
      ]
     },
     "execution_count": 5,
     "metadata": {},
     "output_type": "execute_result"
    }
   ],
   "source": [
    "d1.context.__dict__"
   ]
  },
  {
   "cell_type": "code",
   "execution_count": 6,
   "metadata": {
    "collapsed": false
   },
   "outputs": [
    {
     "name": "stderr",
     "output_type": "stream",
     "text": [
      "ERROR:/home/valerio/Projects/anaconda3/envs/Bokeh/lib/python3.4/site-packages/bokeh/validation/check.py:E-1000 (COLUMN_LENGTHS): ColumnDataSource column lengths are not all the same: ColumnDataSource, ViewModel:ColumnDataSource, ref _id: 002275c9-12c0-459f-b3e5-d46cf1538373\n",
      "ERROR:/home/valerio/Projects/anaconda3/envs/Bokeh/lib/python3.4/site-packages/bokeh/validation/check.py:E-1000 (COLUMN_LENGTHS): ColumnDataSource column lengths are not all the same: ColumnDataSource, ViewModel:ColumnDataSource, ref _id: 204efda8-19b6-4c7a-adaa-c9c18cb96128\n",
      "ERROR:/home/valerio/Projects/anaconda3/envs/Bokeh/lib/python3.4/site-packages/bokeh/validation/check.py:E-1000 (COLUMN_LENGTHS): ColumnDataSource column lengths are not all the same: ColumnDataSource, ViewModel:ColumnDataSource, ref _id: 473b852b-40cd-48bf-af9d-aae2fdd74e9b\n",
      "ERROR:/home/valerio/Projects/anaconda3/envs/Bokeh/lib/python3.4/site-packages/bokeh/validation/check.py:E-1000 (COLUMN_LENGTHS): ColumnDataSource column lengths are not all the same: ColumnDataSource, ViewModel:ColumnDataSource, ref _id: 8e04a7b5-0c10-43ad-874b-85d01289b325\n",
      "ERROR:/home/valerio/Projects/anaconda3/envs/Bokeh/lib/python3.4/site-packages/bokeh/validation/check.py:E-1000 (COLUMN_LENGTHS): ColumnDataSource column lengths are not all the same: ColumnDataSource, ViewModel:ColumnDataSource, ref _id: 9b96bd09-355a-48d5-98d2-29ad451b86ac\n",
      "ERROR:/home/valerio/Projects/anaconda3/envs/Bokeh/lib/python3.4/site-packages/bokeh/validation/check.py:E-1000 (COLUMN_LENGTHS): ColumnDataSource column lengths are not all the same: ColumnDataSource, ViewModel:ColumnDataSource, ref _id: a0f570be-c5c3-496a-9c45-9cfc8427baf8\n",
      "ERROR:/home/valerio/Projects/anaconda3/envs/Bokeh/lib/python3.4/site-packages/bokeh/validation/check.py:E-1000 (COLUMN_LENGTHS): ColumnDataSource column lengths are not all the same: ColumnDataSource, ViewModel:ColumnDataSource, ref _id: baa09194-7d10-4f0c-afb8-f0e98b718f9c\n",
      "ERROR:/home/valerio/Projects/anaconda3/envs/Bokeh/lib/python3.4/site-packages/bokeh/validation/check.py:E-1000 (COLUMN_LENGTHS): ColumnDataSource column lengths are not all the same: ColumnDataSource, ViewModel:ColumnDataSource, ref _id: dd34e698-260e-42d2-9b63-1d04d56ac2c2\n"
     ]
    },
    {
     "name": "stdout",
     "output_type": "stream",
     "text": [
      "<bokeh.document.Document object at 0x7f23c762c278>\n",
      "<bokeh.document.Document object at 0x7f23c762c278>"
     ]
    },
    {
     "name": "stderr",
     "output_type": "stream",
     "text": [
      "ERROR:/home/valerio/Projects/anaconda3/envs/Bokeh/lib/python3.4/site-packages/bokeh/validation/check.py:E-1000 (COLUMN_LENGTHS): ColumnDataSource column lengths are not all the same: ColumnDataSource, ViewModel:ColumnDataSource, ref _id: 002275c9-12c0-459f-b3e5-d46cf1538373\n",
      "ERROR:/home/valerio/Projects/anaconda3/envs/Bokeh/lib/python3.4/site-packages/bokeh/validation/check.py:E-1000 (COLUMN_LENGTHS): ColumnDataSource column lengths are not all the same: ColumnDataSource, ViewModel:ColumnDataSource, ref _id: 204efda8-19b6-4c7a-adaa-c9c18cb96128\n",
      "ERROR:/home/valerio/Projects/anaconda3/envs/Bokeh/lib/python3.4/site-packages/bokeh/validation/check.py:E-1000 (COLUMN_LENGTHS): ColumnDataSource column lengths are not all the same: ColumnDataSource, ViewModel:ColumnDataSource, ref _id: 473b852b-40cd-48bf-af9d-aae2fdd74e9b\n",
      "ERROR:/home/valerio/Projects/anaconda3/envs/Bokeh/lib/python3.4/site-packages/bokeh/validation/check.py:E-1000 (COLUMN_LENGTHS): ColumnDataSource column lengths are not all the same: ColumnDataSource, ViewModel:ColumnDataSource, ref _id: 8e04a7b5-0c10-43ad-874b-85d01289b325\n",
      "ERROR:/home/valerio/Projects/anaconda3/envs/Bokeh/lib/python3.4/site-packages/bokeh/validation/check.py:E-1000 (COLUMN_LENGTHS): ColumnDataSource column lengths are not all the same: ColumnDataSource, ViewModel:ColumnDataSource, ref _id: 9b96bd09-355a-48d5-98d2-29ad451b86ac\n",
      "ERROR:/home/valerio/Projects/anaconda3/envs/Bokeh/lib/python3.4/site-packages/bokeh/validation/check.py:E-1000 (COLUMN_LENGTHS): ColumnDataSource column lengths are not all the same: ColumnDataSource, ViewModel:ColumnDataSource, ref _id: a0f570be-c5c3-496a-9c45-9cfc8427baf8\n",
      "ERROR:/home/valerio/Projects/anaconda3/envs/Bokeh/lib/python3.4/site-packages/bokeh/validation/check.py:E-1000 (COLUMN_LENGTHS): ColumnDataSource column lengths are not all the same: ColumnDataSource, ViewModel:ColumnDataSource, ref _id: baa09194-7d10-4f0c-afb8-f0e98b718f9c\n",
      "ERROR:/home/valerio/Projects/anaconda3/envs/Bokeh/lib/python3.4/site-packages/bokeh/validation/check.py:E-1000 (COLUMN_LENGTHS): ColumnDataSource column lengths are not all the same: ColumnDataSource, ViewModel:ColumnDataSource, ref _id: dd34e698-260e-42d2-9b63-1d04d56ac2c2\n"
     ]
    },
    {
     "name": "stdout",
     "output_type": "stream",
     "text": [
      "\n",
      "<bokeh.document.Document object at 0x7f23c762c278>\n",
      "<bokeh.document.Document object at 0x7f23c762c278>"
     ]
    },
    {
     "name": "stderr",
     "output_type": "stream",
     "text": [
      "ERROR:/home/valerio/Projects/anaconda3/envs/Bokeh/lib/python3.4/site-packages/bokeh/validation/check.py:E-1000 (COLUMN_LENGTHS): ColumnDataSource column lengths are not all the same: ColumnDataSource, ViewModel:ColumnDataSource, ref _id: 002275c9-12c0-459f-b3e5-d46cf1538373\n",
      "ERROR:/home/valerio/Projects/anaconda3/envs/Bokeh/lib/python3.4/site-packages/bokeh/validation/check.py:E-1000 (COLUMN_LENGTHS): ColumnDataSource column lengths are not all the same: ColumnDataSource, ViewModel:ColumnDataSource, ref _id: 204efda8-19b6-4c7a-adaa-c9c18cb96128\n",
      "ERROR:/home/valerio/Projects/anaconda3/envs/Bokeh/lib/python3.4/site-packages/bokeh/validation/check.py:E-1000 (COLUMN_LENGTHS): ColumnDataSource column lengths are not all the same: ColumnDataSource, ViewModel:ColumnDataSource, ref _id: 473b852b-40cd-48bf-af9d-aae2fdd74e9b\n",
      "ERROR:/home/valerio/Projects/anaconda3/envs/Bokeh/lib/python3.4/site-packages/bokeh/validation/check.py:E-1000 (COLUMN_LENGTHS): ColumnDataSource column lengths are not all the same: ColumnDataSource, ViewModel:ColumnDataSource, ref _id: 8e04a7b5-0c10-43ad-874b-85d01289b325\n",
      "ERROR:/home/valerio/Projects/anaconda3/envs/Bokeh/lib/python3.4/site-packages/bokeh/validation/check.py:E-1000 (COLUMN_LENGTHS): ColumnDataSource column lengths are not all the same: ColumnDataSource, ViewModel:ColumnDataSource, ref _id: 9b96bd09-355a-48d5-98d2-29ad451b86ac\n",
      "ERROR:/home/valerio/Projects/anaconda3/envs/Bokeh/lib/python3.4/site-packages/bokeh/validation/check.py:E-1000 (COLUMN_LENGTHS): ColumnDataSource column lengths are not all the same: ColumnDataSource, ViewModel:ColumnDataSource, ref _id: a0f570be-c5c3-496a-9c45-9cfc8427baf8\n",
      "ERROR:/home/valerio/Projects/anaconda3/envs/Bokeh/lib/python3.4/site-packages/bokeh/validation/check.py:E-1000 (COLUMN_LENGTHS): ColumnDataSource column lengths are not all the same: ColumnDataSource, ViewModel:ColumnDataSource, ref _id: baa09194-7d10-4f0c-afb8-f0e98b718f9c\n",
      "ERROR:/home/valerio/Projects/anaconda3/envs/Bokeh/lib/python3.4/site-packages/bokeh/validation/check.py:E-1000 (COLUMN_LENGTHS): ColumnDataSource column lengths are not all the same: ColumnDataSource, ViewModel:ColumnDataSource, ref _id: dd34e698-260e-42d2-9b63-1d04d56ac2c2\n"
     ]
    },
    {
     "name": "stdout",
     "output_type": "stream",
     "text": [
      "\n",
      "<bokeh.document.Document object at 0x7f23c762c278>\n",
      "<bokeh.document.Document object at 0x7f23c762c278>"
     ]
    },
    {
     "name": "stderr",
     "output_type": "stream",
     "text": [
      "ERROR:/home/valerio/Projects/anaconda3/envs/Bokeh/lib/python3.4/site-packages/bokeh/validation/check.py:E-1000 (COLUMN_LENGTHS): ColumnDataSource column lengths are not all the same: ColumnDataSource, ViewModel:ColumnDataSource, ref _id: 002275c9-12c0-459f-b3e5-d46cf1538373\n",
      "ERROR:/home/valerio/Projects/anaconda3/envs/Bokeh/lib/python3.4/site-packages/bokeh/validation/check.py:E-1000 (COLUMN_LENGTHS): ColumnDataSource column lengths are not all the same: ColumnDataSource, ViewModel:ColumnDataSource, ref _id: 204efda8-19b6-4c7a-adaa-c9c18cb96128\n",
      "ERROR:/home/valerio/Projects/anaconda3/envs/Bokeh/lib/python3.4/site-packages/bokeh/validation/check.py:E-1000 (COLUMN_LENGTHS): ColumnDataSource column lengths are not all the same: ColumnDataSource, ViewModel:ColumnDataSource, ref _id: 473b852b-40cd-48bf-af9d-aae2fdd74e9b\n",
      "ERROR:/home/valerio/Projects/anaconda3/envs/Bokeh/lib/python3.4/site-packages/bokeh/validation/check.py:E-1000 (COLUMN_LENGTHS): ColumnDataSource column lengths are not all the same: ColumnDataSource, ViewModel:ColumnDataSource, ref _id: 8e04a7b5-0c10-43ad-874b-85d01289b325\n",
      "ERROR:/home/valerio/Projects/anaconda3/envs/Bokeh/lib/python3.4/site-packages/bokeh/validation/check.py:E-1000 (COLUMN_LENGTHS): ColumnDataSource column lengths are not all the same: ColumnDataSource, ViewModel:ColumnDataSource, ref _id: 9b96bd09-355a-48d5-98d2-29ad451b86ac\n",
      "ERROR:/home/valerio/Projects/anaconda3/envs/Bokeh/lib/python3.4/site-packages/bokeh/validation/check.py:E-1000 (COLUMN_LENGTHS): ColumnDataSource column lengths are not all the same: ColumnDataSource, ViewModel:ColumnDataSource, ref _id: a0f570be-c5c3-496a-9c45-9cfc8427baf8\n",
      "ERROR:/home/valerio/Projects/anaconda3/envs/Bokeh/lib/python3.4/site-packages/bokeh/validation/check.py:E-1000 (COLUMN_LENGTHS): ColumnDataSource column lengths are not all the same: ColumnDataSource, ViewModel:ColumnDataSource, ref _id: baa09194-7d10-4f0c-afb8-f0e98b718f9c\n",
      "ERROR:/home/valerio/Projects/anaconda3/envs/Bokeh/lib/python3.4/site-packages/bokeh/validation/check.py:E-1000 (COLUMN_LENGTHS): ColumnDataSource column lengths are not all the same: ColumnDataSource, ViewModel:ColumnDataSource, ref _id: dd34e698-260e-42d2-9b63-1d04d56ac2c2\n"
     ]
    },
    {
     "name": "stdout",
     "output_type": "stream",
     "text": [
      "\n",
      "<bokeh.document.Document object at 0x7f23c762c278>\n",
      "<bokeh.document.Document object at 0x7f23c762c278>"
     ]
    },
    {
     "name": "stderr",
     "output_type": "stream",
     "text": [
      "ERROR:/home/valerio/Projects/anaconda3/envs/Bokeh/lib/python3.4/site-packages/bokeh/validation/check.py:E-1000 (COLUMN_LENGTHS): ColumnDataSource column lengths are not all the same: ColumnDataSource, ViewModel:ColumnDataSource, ref _id: 002275c9-12c0-459f-b3e5-d46cf1538373\n",
      "ERROR:/home/valerio/Projects/anaconda3/envs/Bokeh/lib/python3.4/site-packages/bokeh/validation/check.py:E-1000 (COLUMN_LENGTHS): ColumnDataSource column lengths are not all the same: ColumnDataSource, ViewModel:ColumnDataSource, ref _id: 204efda8-19b6-4c7a-adaa-c9c18cb96128\n",
      "ERROR:/home/valerio/Projects/anaconda3/envs/Bokeh/lib/python3.4/site-packages/bokeh/validation/check.py:E-1000 (COLUMN_LENGTHS): ColumnDataSource column lengths are not all the same: ColumnDataSource, ViewModel:ColumnDataSource, ref _id: 473b852b-40cd-48bf-af9d-aae2fdd74e9b\n",
      "ERROR:/home/valerio/Projects/anaconda3/envs/Bokeh/lib/python3.4/site-packages/bokeh/validation/check.py:E-1000 (COLUMN_LENGTHS): ColumnDataSource column lengths are not all the same: ColumnDataSource, ViewModel:ColumnDataSource, ref _id: 8e04a7b5-0c10-43ad-874b-85d01289b325\n",
      "ERROR:/home/valerio/Projects/anaconda3/envs/Bokeh/lib/python3.4/site-packages/bokeh/validation/check.py:E-1000 (COLUMN_LENGTHS): ColumnDataSource column lengths are not all the same: ColumnDataSource, ViewModel:ColumnDataSource, ref _id: 9b96bd09-355a-48d5-98d2-29ad451b86ac\n",
      "ERROR:/home/valerio/Projects/anaconda3/envs/Bokeh/lib/python3.4/site-packages/bokeh/validation/check.py:E-1000 (COLUMN_LENGTHS): ColumnDataSource column lengths are not all the same: ColumnDataSource, ViewModel:ColumnDataSource, ref _id: a0f570be-c5c3-496a-9c45-9cfc8427baf8\n",
      "ERROR:/home/valerio/Projects/anaconda3/envs/Bokeh/lib/python3.4/site-packages/bokeh/validation/check.py:E-1000 (COLUMN_LENGTHS): ColumnDataSource column lengths are not all the same: ColumnDataSource, ViewModel:ColumnDataSource, ref _id: baa09194-7d10-4f0c-afb8-f0e98b718f9c\n",
      "ERROR:/home/valerio/Projects/anaconda3/envs/Bokeh/lib/python3.4/site-packages/bokeh/validation/check.py:E-1000 (COLUMN_LENGTHS): ColumnDataSource column lengths are not all the same: ColumnDataSource, ViewModel:ColumnDataSource, ref _id: dd34e698-260e-42d2-9b63-1d04d56ac2c2\n"
     ]
    },
    {
     "name": "stdout",
     "output_type": "stream",
     "text": [
      "\n",
      "<bokeh.document.Document object at 0x7f23c762c278>\n",
      "<bokeh.document.Document object at 0x7f23c762c278>"
     ]
    },
    {
     "name": "stderr",
     "output_type": "stream",
     "text": [
      "ERROR:/home/valerio/Projects/anaconda3/envs/Bokeh/lib/python3.4/site-packages/bokeh/validation/check.py:E-1000 (COLUMN_LENGTHS): ColumnDataSource column lengths are not all the same: ColumnDataSource, ViewModel:ColumnDataSource, ref _id: 002275c9-12c0-459f-b3e5-d46cf1538373\n",
      "ERROR:/home/valerio/Projects/anaconda3/envs/Bokeh/lib/python3.4/site-packages/bokeh/validation/check.py:E-1000 (COLUMN_LENGTHS): ColumnDataSource column lengths are not all the same: ColumnDataSource, ViewModel:ColumnDataSource, ref _id: 204efda8-19b6-4c7a-adaa-c9c18cb96128\n",
      "ERROR:/home/valerio/Projects/anaconda3/envs/Bokeh/lib/python3.4/site-packages/bokeh/validation/check.py:E-1000 (COLUMN_LENGTHS): ColumnDataSource column lengths are not all the same: ColumnDataSource, ViewModel:ColumnDataSource, ref _id: 473b852b-40cd-48bf-af9d-aae2fdd74e9b\n",
      "ERROR:/home/valerio/Projects/anaconda3/envs/Bokeh/lib/python3.4/site-packages/bokeh/validation/check.py:E-1000 (COLUMN_LENGTHS): ColumnDataSource column lengths are not all the same: ColumnDataSource, ViewModel:ColumnDataSource, ref _id: 8e04a7b5-0c10-43ad-874b-85d01289b325\n",
      "ERROR:/home/valerio/Projects/anaconda3/envs/Bokeh/lib/python3.4/site-packages/bokeh/validation/check.py:E-1000 (COLUMN_LENGTHS): ColumnDataSource column lengths are not all the same: ColumnDataSource, ViewModel:ColumnDataSource, ref _id: 9b96bd09-355a-48d5-98d2-29ad451b86ac\n",
      "ERROR:/home/valerio/Projects/anaconda3/envs/Bokeh/lib/python3.4/site-packages/bokeh/validation/check.py:E-1000 (COLUMN_LENGTHS): ColumnDataSource column lengths are not all the same: ColumnDataSource, ViewModel:ColumnDataSource, ref _id: a0f570be-c5c3-496a-9c45-9cfc8427baf8\n",
      "ERROR:/home/valerio/Projects/anaconda3/envs/Bokeh/lib/python3.4/site-packages/bokeh/validation/check.py:E-1000 (COLUMN_LENGTHS): ColumnDataSource column lengths are not all the same: ColumnDataSource, ViewModel:ColumnDataSource, ref _id: baa09194-7d10-4f0c-afb8-f0e98b718f9c\n",
      "ERROR:/home/valerio/Projects/anaconda3/envs/Bokeh/lib/python3.4/site-packages/bokeh/validation/check.py:E-1000 (COLUMN_LENGTHS): ColumnDataSource column lengths are not all the same: ColumnDataSource, ViewModel:ColumnDataSource, ref _id: dd34e698-260e-42d2-9b63-1d04d56ac2c2\n"
     ]
    },
    {
     "name": "stdout",
     "output_type": "stream",
     "text": [
      "\n",
      "<bokeh.document.Document object at 0x7f23c762c278>\n",
      "<bokeh.document.Document object at 0x7f23c762c278>"
     ]
    },
    {
     "name": "stderr",
     "output_type": "stream",
     "text": [
      "ERROR:/home/valerio/Projects/anaconda3/envs/Bokeh/lib/python3.4/site-packages/bokeh/validation/check.py:E-1000 (COLUMN_LENGTHS): ColumnDataSource column lengths are not all the same: ColumnDataSource, ViewModel:ColumnDataSource, ref _id: 002275c9-12c0-459f-b3e5-d46cf1538373\n",
      "ERROR:/home/valerio/Projects/anaconda3/envs/Bokeh/lib/python3.4/site-packages/bokeh/validation/check.py:E-1000 (COLUMN_LENGTHS): ColumnDataSource column lengths are not all the same: ColumnDataSource, ViewModel:ColumnDataSource, ref _id: 204efda8-19b6-4c7a-adaa-c9c18cb96128\n",
      "ERROR:/home/valerio/Projects/anaconda3/envs/Bokeh/lib/python3.4/site-packages/bokeh/validation/check.py:E-1000 (COLUMN_LENGTHS): ColumnDataSource column lengths are not all the same: ColumnDataSource, ViewModel:ColumnDataSource, ref _id: 473b852b-40cd-48bf-af9d-aae2fdd74e9b\n",
      "ERROR:/home/valerio/Projects/anaconda3/envs/Bokeh/lib/python3.4/site-packages/bokeh/validation/check.py:E-1000 (COLUMN_LENGTHS): ColumnDataSource column lengths are not all the same: ColumnDataSource, ViewModel:ColumnDataSource, ref _id: 8e04a7b5-0c10-43ad-874b-85d01289b325\n",
      "ERROR:/home/valerio/Projects/anaconda3/envs/Bokeh/lib/python3.4/site-packages/bokeh/validation/check.py:E-1000 (COLUMN_LENGTHS): ColumnDataSource column lengths are not all the same: ColumnDataSource, ViewModel:ColumnDataSource, ref _id: 9b96bd09-355a-48d5-98d2-29ad451b86ac\n",
      "ERROR:/home/valerio/Projects/anaconda3/envs/Bokeh/lib/python3.4/site-packages/bokeh/validation/check.py:E-1000 (COLUMN_LENGTHS): ColumnDataSource column lengths are not all the same: ColumnDataSource, ViewModel:ColumnDataSource, ref _id: a0f570be-c5c3-496a-9c45-9cfc8427baf8\n",
      "ERROR:/home/valerio/Projects/anaconda3/envs/Bokeh/lib/python3.4/site-packages/bokeh/validation/check.py:E-1000 (COLUMN_LENGTHS): ColumnDataSource column lengths are not all the same: ColumnDataSource, ViewModel:ColumnDataSource, ref _id: baa09194-7d10-4f0c-afb8-f0e98b718f9c\n",
      "ERROR:/home/valerio/Projects/anaconda3/envs/Bokeh/lib/python3.4/site-packages/bokeh/validation/check.py:E-1000 (COLUMN_LENGTHS): ColumnDataSource column lengths are not all the same: ColumnDataSource, ViewModel:ColumnDataSource, ref _id: dd34e698-260e-42d2-9b63-1d04d56ac2c2\n"
     ]
    },
    {
     "name": "stdout",
     "output_type": "stream",
     "text": [
      "\n",
      "<bokeh.document.Document object at 0x7f23c762c278>\n",
      "<bokeh.document.Document object at 0x7f23c762c278>"
     ]
    },
    {
     "name": "stderr",
     "output_type": "stream",
     "text": [
      "ERROR:/home/valerio/Projects/anaconda3/envs/Bokeh/lib/python3.4/site-packages/bokeh/validation/check.py:E-1000 (COLUMN_LENGTHS): ColumnDataSource column lengths are not all the same: ColumnDataSource, ViewModel:ColumnDataSource, ref _id: 002275c9-12c0-459f-b3e5-d46cf1538373\n",
      "ERROR:/home/valerio/Projects/anaconda3/envs/Bokeh/lib/python3.4/site-packages/bokeh/validation/check.py:E-1000 (COLUMN_LENGTHS): ColumnDataSource column lengths are not all the same: ColumnDataSource, ViewModel:ColumnDataSource, ref _id: 204efda8-19b6-4c7a-adaa-c9c18cb96128\n",
      "ERROR:/home/valerio/Projects/anaconda3/envs/Bokeh/lib/python3.4/site-packages/bokeh/validation/check.py:E-1000 (COLUMN_LENGTHS): ColumnDataSource column lengths are not all the same: ColumnDataSource, ViewModel:ColumnDataSource, ref _id: 473b852b-40cd-48bf-af9d-aae2fdd74e9b\n",
      "ERROR:/home/valerio/Projects/anaconda3/envs/Bokeh/lib/python3.4/site-packages/bokeh/validation/check.py:E-1000 (COLUMN_LENGTHS): ColumnDataSource column lengths are not all the same: ColumnDataSource, ViewModel:ColumnDataSource, ref _id: 8e04a7b5-0c10-43ad-874b-85d01289b325\n",
      "ERROR:/home/valerio/Projects/anaconda3/envs/Bokeh/lib/python3.4/site-packages/bokeh/validation/check.py:E-1000 (COLUMN_LENGTHS): ColumnDataSource column lengths are not all the same: ColumnDataSource, ViewModel:ColumnDataSource, ref _id: 9b96bd09-355a-48d5-98d2-29ad451b86ac\n",
      "ERROR:/home/valerio/Projects/anaconda3/envs/Bokeh/lib/python3.4/site-packages/bokeh/validation/check.py:E-1000 (COLUMN_LENGTHS): ColumnDataSource column lengths are not all the same: ColumnDataSource, ViewModel:ColumnDataSource, ref _id: a0f570be-c5c3-496a-9c45-9cfc8427baf8\n",
      "ERROR:/home/valerio/Projects/anaconda3/envs/Bokeh/lib/python3.4/site-packages/bokeh/validation/check.py:E-1000 (COLUMN_LENGTHS): ColumnDataSource column lengths are not all the same: ColumnDataSource, ViewModel:ColumnDataSource, ref _id: baa09194-7d10-4f0c-afb8-f0e98b718f9c\n",
      "ERROR:/home/valerio/Projects/anaconda3/envs/Bokeh/lib/python3.4/site-packages/bokeh/validation/check.py:E-1000 (COLUMN_LENGTHS): ColumnDataSource column lengths are not all the same: ColumnDataSource, ViewModel:ColumnDataSource, ref _id: dd34e698-260e-42d2-9b63-1d04d56ac2c2\n"
     ]
    },
    {
     "name": "stdout",
     "output_type": "stream",
     "text": [
      "\n",
      "<bokeh.document.Document object at 0x7f23c762c278>\n",
      "<bokeh.document.Document object at 0x7f23c762c278>"
     ]
    },
    {
     "name": "stderr",
     "output_type": "stream",
     "text": [
      "ERROR:/home/valerio/Projects/anaconda3/envs/Bokeh/lib/python3.4/site-packages/bokeh/validation/check.py:E-1000 (COLUMN_LENGTHS): ColumnDataSource column lengths are not all the same: ColumnDataSource, ViewModel:ColumnDataSource, ref _id: 002275c9-12c0-459f-b3e5-d46cf1538373\n",
      "ERROR:/home/valerio/Projects/anaconda3/envs/Bokeh/lib/python3.4/site-packages/bokeh/validation/check.py:E-1000 (COLUMN_LENGTHS): ColumnDataSource column lengths are not all the same: ColumnDataSource, ViewModel:ColumnDataSource, ref _id: 204efda8-19b6-4c7a-adaa-c9c18cb96128\n",
      "ERROR:/home/valerio/Projects/anaconda3/envs/Bokeh/lib/python3.4/site-packages/bokeh/validation/check.py:E-1000 (COLUMN_LENGTHS): ColumnDataSource column lengths are not all the same: ColumnDataSource, ViewModel:ColumnDataSource, ref _id: 473b852b-40cd-48bf-af9d-aae2fdd74e9b\n",
      "ERROR:/home/valerio/Projects/anaconda3/envs/Bokeh/lib/python3.4/site-packages/bokeh/validation/check.py:E-1000 (COLUMN_LENGTHS): ColumnDataSource column lengths are not all the same: ColumnDataSource, ViewModel:ColumnDataSource, ref _id: 8e04a7b5-0c10-43ad-874b-85d01289b325\n",
      "ERROR:/home/valerio/Projects/anaconda3/envs/Bokeh/lib/python3.4/site-packages/bokeh/validation/check.py:E-1000 (COLUMN_LENGTHS): ColumnDataSource column lengths are not all the same: ColumnDataSource, ViewModel:ColumnDataSource, ref _id: 9b96bd09-355a-48d5-98d2-29ad451b86ac\n",
      "ERROR:/home/valerio/Projects/anaconda3/envs/Bokeh/lib/python3.4/site-packages/bokeh/validation/check.py:E-1000 (COLUMN_LENGTHS): ColumnDataSource column lengths are not all the same: ColumnDataSource, ViewModel:ColumnDataSource, ref _id: a0f570be-c5c3-496a-9c45-9cfc8427baf8\n",
      "ERROR:/home/valerio/Projects/anaconda3/envs/Bokeh/lib/python3.4/site-packages/bokeh/validation/check.py:E-1000 (COLUMN_LENGTHS): ColumnDataSource column lengths are not all the same: ColumnDataSource, ViewModel:ColumnDataSource, ref _id: baa09194-7d10-4f0c-afb8-f0e98b718f9c\n",
      "ERROR:/home/valerio/Projects/anaconda3/envs/Bokeh/lib/python3.4/site-packages/bokeh/validation/check.py:E-1000 (COLUMN_LENGTHS): ColumnDataSource column lengths are not all the same: ColumnDataSource, ViewModel:ColumnDataSource, ref _id: dd34e698-260e-42d2-9b63-1d04d56ac2c2\n"
     ]
    },
    {
     "name": "stdout",
     "output_type": "stream",
     "text": [
      "\n",
      "<bokeh.document.Document object at 0x7f23c762c278>\n",
      "<bokeh.document.Document object at 0x7f23c762c278>"
     ]
    },
    {
     "name": "stderr",
     "output_type": "stream",
     "text": [
      "ERROR:/home/valerio/Projects/anaconda3/envs/Bokeh/lib/python3.4/site-packages/bokeh/validation/check.py:E-1000 (COLUMN_LENGTHS): ColumnDataSource column lengths are not all the same: ColumnDataSource, ViewModel:ColumnDataSource, ref _id: 002275c9-12c0-459f-b3e5-d46cf1538373\n",
      "ERROR:/home/valerio/Projects/anaconda3/envs/Bokeh/lib/python3.4/site-packages/bokeh/validation/check.py:E-1000 (COLUMN_LENGTHS): ColumnDataSource column lengths are not all the same: ColumnDataSource, ViewModel:ColumnDataSource, ref _id: 204efda8-19b6-4c7a-adaa-c9c18cb96128\n",
      "ERROR:/home/valerio/Projects/anaconda3/envs/Bokeh/lib/python3.4/site-packages/bokeh/validation/check.py:E-1000 (COLUMN_LENGTHS): ColumnDataSource column lengths are not all the same: ColumnDataSource, ViewModel:ColumnDataSource, ref _id: 473b852b-40cd-48bf-af9d-aae2fdd74e9b\n",
      "ERROR:/home/valerio/Projects/anaconda3/envs/Bokeh/lib/python3.4/site-packages/bokeh/validation/check.py:E-1000 (COLUMN_LENGTHS): ColumnDataSource column lengths are not all the same: ColumnDataSource, ViewModel:ColumnDataSource, ref _id: 8e04a7b5-0c10-43ad-874b-85d01289b325\n",
      "ERROR:/home/valerio/Projects/anaconda3/envs/Bokeh/lib/python3.4/site-packages/bokeh/validation/check.py:E-1000 (COLUMN_LENGTHS): ColumnDataSource column lengths are not all the same: ColumnDataSource, ViewModel:ColumnDataSource, ref _id: 9b96bd09-355a-48d5-98d2-29ad451b86ac\n",
      "ERROR:/home/valerio/Projects/anaconda3/envs/Bokeh/lib/python3.4/site-packages/bokeh/validation/check.py:E-1000 (COLUMN_LENGTHS): ColumnDataSource column lengths are not all the same: ColumnDataSource, ViewModel:ColumnDataSource, ref _id: a0f570be-c5c3-496a-9c45-9cfc8427baf8\n",
      "ERROR:/home/valerio/Projects/anaconda3/envs/Bokeh/lib/python3.4/site-packages/bokeh/validation/check.py:E-1000 (COLUMN_LENGTHS): ColumnDataSource column lengths are not all the same: ColumnDataSource, ViewModel:ColumnDataSource, ref _id: baa09194-7d10-4f0c-afb8-f0e98b718f9c\n",
      "ERROR:/home/valerio/Projects/anaconda3/envs/Bokeh/lib/python3.4/site-packages/bokeh/validation/check.py:E-1000 (COLUMN_LENGTHS): ColumnDataSource column lengths are not all the same: ColumnDataSource, ViewModel:ColumnDataSource, ref _id: dd34e698-260e-42d2-9b63-1d04d56ac2c2\n"
     ]
    },
    {
     "name": "stdout",
     "output_type": "stream",
     "text": [
      "\n",
      "<bokeh.document.Document object at 0x7f23c762c278>\n",
      "<bokeh.document.Document object at 0x7f23c762c278>"
     ]
    },
    {
     "name": "stderr",
     "output_type": "stream",
     "text": [
      "ERROR:/home/valerio/Projects/anaconda3/envs/Bokeh/lib/python3.4/site-packages/bokeh/validation/check.py:E-1000 (COLUMN_LENGTHS): ColumnDataSource column lengths are not all the same: ColumnDataSource, ViewModel:ColumnDataSource, ref _id: 002275c9-12c0-459f-b3e5-d46cf1538373\n",
      "ERROR:/home/valerio/Projects/anaconda3/envs/Bokeh/lib/python3.4/site-packages/bokeh/validation/check.py:E-1000 (COLUMN_LENGTHS): ColumnDataSource column lengths are not all the same: ColumnDataSource, ViewModel:ColumnDataSource, ref _id: 204efda8-19b6-4c7a-adaa-c9c18cb96128\n",
      "ERROR:/home/valerio/Projects/anaconda3/envs/Bokeh/lib/python3.4/site-packages/bokeh/validation/check.py:E-1000 (COLUMN_LENGTHS): ColumnDataSource column lengths are not all the same: ColumnDataSource, ViewModel:ColumnDataSource, ref _id: 473b852b-40cd-48bf-af9d-aae2fdd74e9b\n",
      "ERROR:/home/valerio/Projects/anaconda3/envs/Bokeh/lib/python3.4/site-packages/bokeh/validation/check.py:E-1000 (COLUMN_LENGTHS): ColumnDataSource column lengths are not all the same: ColumnDataSource, ViewModel:ColumnDataSource, ref _id: 8e04a7b5-0c10-43ad-874b-85d01289b325\n",
      "ERROR:/home/valerio/Projects/anaconda3/envs/Bokeh/lib/python3.4/site-packages/bokeh/validation/check.py:E-1000 (COLUMN_LENGTHS): ColumnDataSource column lengths are not all the same: ColumnDataSource, ViewModel:ColumnDataSource, ref _id: 9b96bd09-355a-48d5-98d2-29ad451b86ac\n",
      "ERROR:/home/valerio/Projects/anaconda3/envs/Bokeh/lib/python3.4/site-packages/bokeh/validation/check.py:E-1000 (COLUMN_LENGTHS): ColumnDataSource column lengths are not all the same: ColumnDataSource, ViewModel:ColumnDataSource, ref _id: a0f570be-c5c3-496a-9c45-9cfc8427baf8\n",
      "ERROR:/home/valerio/Projects/anaconda3/envs/Bokeh/lib/python3.4/site-packages/bokeh/validation/check.py:E-1000 (COLUMN_LENGTHS): ColumnDataSource column lengths are not all the same: ColumnDataSource, ViewModel:ColumnDataSource, ref _id: baa09194-7d10-4f0c-afb8-f0e98b718f9c\n",
      "ERROR:/home/valerio/Projects/anaconda3/envs/Bokeh/lib/python3.4/site-packages/bokeh/validation/check.py:E-1000 (COLUMN_LENGTHS): ColumnDataSource column lengths are not all the same: ColumnDataSource, ViewModel:ColumnDataSource, ref _id: dd34e698-260e-42d2-9b63-1d04d56ac2c2\n"
     ]
    },
    {
     "name": "stdout",
     "output_type": "stream",
     "text": [
      "\n",
      "<bokeh.document.Document object at 0x7f23c762c278>\n",
      "<bokeh.document.Document object at 0x7f23c762c278>"
     ]
    },
    {
     "name": "stderr",
     "output_type": "stream",
     "text": [
      "ERROR:/home/valerio/Projects/anaconda3/envs/Bokeh/lib/python3.4/site-packages/bokeh/validation/check.py:E-1000 (COLUMN_LENGTHS): ColumnDataSource column lengths are not all the same: ColumnDataSource, ViewModel:ColumnDataSource, ref _id: 002275c9-12c0-459f-b3e5-d46cf1538373\n",
      "ERROR:/home/valerio/Projects/anaconda3/envs/Bokeh/lib/python3.4/site-packages/bokeh/validation/check.py:E-1000 (COLUMN_LENGTHS): ColumnDataSource column lengths are not all the same: ColumnDataSource, ViewModel:ColumnDataSource, ref _id: 204efda8-19b6-4c7a-adaa-c9c18cb96128\n",
      "ERROR:/home/valerio/Projects/anaconda3/envs/Bokeh/lib/python3.4/site-packages/bokeh/validation/check.py:E-1000 (COLUMN_LENGTHS): ColumnDataSource column lengths are not all the same: ColumnDataSource, ViewModel:ColumnDataSource, ref _id: 473b852b-40cd-48bf-af9d-aae2fdd74e9b\n",
      "ERROR:/home/valerio/Projects/anaconda3/envs/Bokeh/lib/python3.4/site-packages/bokeh/validation/check.py:E-1000 (COLUMN_LENGTHS): ColumnDataSource column lengths are not all the same: ColumnDataSource, ViewModel:ColumnDataSource, ref _id: 8e04a7b5-0c10-43ad-874b-85d01289b325\n",
      "ERROR:/home/valerio/Projects/anaconda3/envs/Bokeh/lib/python3.4/site-packages/bokeh/validation/check.py:E-1000 (COLUMN_LENGTHS): ColumnDataSource column lengths are not all the same: ColumnDataSource, ViewModel:ColumnDataSource, ref _id: 9b96bd09-355a-48d5-98d2-29ad451b86ac\n",
      "ERROR:/home/valerio/Projects/anaconda3/envs/Bokeh/lib/python3.4/site-packages/bokeh/validation/check.py:E-1000 (COLUMN_LENGTHS): ColumnDataSource column lengths are not all the same: ColumnDataSource, ViewModel:ColumnDataSource, ref _id: a0f570be-c5c3-496a-9c45-9cfc8427baf8\n",
      "ERROR:/home/valerio/Projects/anaconda3/envs/Bokeh/lib/python3.4/site-packages/bokeh/validation/check.py:E-1000 (COLUMN_LENGTHS): ColumnDataSource column lengths are not all the same: ColumnDataSource, ViewModel:ColumnDataSource, ref _id: baa09194-7d10-4f0c-afb8-f0e98b718f9c\n",
      "ERROR:/home/valerio/Projects/anaconda3/envs/Bokeh/lib/python3.4/site-packages/bokeh/validation/check.py:E-1000 (COLUMN_LENGTHS): ColumnDataSource column lengths are not all the same: ColumnDataSource, ViewModel:ColumnDataSource, ref _id: dd34e698-260e-42d2-9b63-1d04d56ac2c2\n"
     ]
    },
    {
     "name": "stdout",
     "output_type": "stream",
     "text": [
      "\n",
      "<bokeh.document.Document object at 0x7f23c762c278>\n",
      "<bokeh.document.Document object at 0x7f23c762c278>"
     ]
    },
    {
     "name": "stderr",
     "output_type": "stream",
     "text": [
      "ERROR:/home/valerio/Projects/anaconda3/envs/Bokeh/lib/python3.4/site-packages/bokeh/validation/check.py:E-1000 (COLUMN_LENGTHS): ColumnDataSource column lengths are not all the same: ColumnDataSource, ViewModel:ColumnDataSource, ref _id: 002275c9-12c0-459f-b3e5-d46cf1538373\n",
      "ERROR:/home/valerio/Projects/anaconda3/envs/Bokeh/lib/python3.4/site-packages/bokeh/validation/check.py:E-1000 (COLUMN_LENGTHS): ColumnDataSource column lengths are not all the same: ColumnDataSource, ViewModel:ColumnDataSource, ref _id: 204efda8-19b6-4c7a-adaa-c9c18cb96128\n",
      "ERROR:/home/valerio/Projects/anaconda3/envs/Bokeh/lib/python3.4/site-packages/bokeh/validation/check.py:E-1000 (COLUMN_LENGTHS): ColumnDataSource column lengths are not all the same: ColumnDataSource, ViewModel:ColumnDataSource, ref _id: 473b852b-40cd-48bf-af9d-aae2fdd74e9b\n",
      "ERROR:/home/valerio/Projects/anaconda3/envs/Bokeh/lib/python3.4/site-packages/bokeh/validation/check.py:E-1000 (COLUMN_LENGTHS): ColumnDataSource column lengths are not all the same: ColumnDataSource, ViewModel:ColumnDataSource, ref _id: 8e04a7b5-0c10-43ad-874b-85d01289b325\n",
      "ERROR:/home/valerio/Projects/anaconda3/envs/Bokeh/lib/python3.4/site-packages/bokeh/validation/check.py:E-1000 (COLUMN_LENGTHS): ColumnDataSource column lengths are not all the same: ColumnDataSource, ViewModel:ColumnDataSource, ref _id: 9b96bd09-355a-48d5-98d2-29ad451b86ac\n",
      "ERROR:/home/valerio/Projects/anaconda3/envs/Bokeh/lib/python3.4/site-packages/bokeh/validation/check.py:E-1000 (COLUMN_LENGTHS): ColumnDataSource column lengths are not all the same: ColumnDataSource, ViewModel:ColumnDataSource, ref _id: a0f570be-c5c3-496a-9c45-9cfc8427baf8\n",
      "ERROR:/home/valerio/Projects/anaconda3/envs/Bokeh/lib/python3.4/site-packages/bokeh/validation/check.py:E-1000 (COLUMN_LENGTHS): ColumnDataSource column lengths are not all the same: ColumnDataSource, ViewModel:ColumnDataSource, ref _id: baa09194-7d10-4f0c-afb8-f0e98b718f9c\n",
      "ERROR:/home/valerio/Projects/anaconda3/envs/Bokeh/lib/python3.4/site-packages/bokeh/validation/check.py:E-1000 (COLUMN_LENGTHS): ColumnDataSource column lengths are not all the same: ColumnDataSource, ViewModel:ColumnDataSource, ref _id: dd34e698-260e-42d2-9b63-1d04d56ac2c2\n"
     ]
    },
    {
     "name": "stdout",
     "output_type": "stream",
     "text": [
      "\n",
      "<bokeh.document.Document object at 0x7f23c762c278>\n",
      "<bokeh.document.Document object at 0x7f23c762c278>"
     ]
    },
    {
     "name": "stderr",
     "output_type": "stream",
     "text": [
      "ERROR:/home/valerio/Projects/anaconda3/envs/Bokeh/lib/python3.4/site-packages/bokeh/validation/check.py:E-1000 (COLUMN_LENGTHS): ColumnDataSource column lengths are not all the same: ColumnDataSource, ViewModel:ColumnDataSource, ref _id: 002275c9-12c0-459f-b3e5-d46cf1538373\n",
      "ERROR:/home/valerio/Projects/anaconda3/envs/Bokeh/lib/python3.4/site-packages/bokeh/validation/check.py:E-1000 (COLUMN_LENGTHS): ColumnDataSource column lengths are not all the same: ColumnDataSource, ViewModel:ColumnDataSource, ref _id: 204efda8-19b6-4c7a-adaa-c9c18cb96128\n",
      "ERROR:/home/valerio/Projects/anaconda3/envs/Bokeh/lib/python3.4/site-packages/bokeh/validation/check.py:E-1000 (COLUMN_LENGTHS): ColumnDataSource column lengths are not all the same: ColumnDataSource, ViewModel:ColumnDataSource, ref _id: 473b852b-40cd-48bf-af9d-aae2fdd74e9b\n",
      "ERROR:/home/valerio/Projects/anaconda3/envs/Bokeh/lib/python3.4/site-packages/bokeh/validation/check.py:E-1000 (COLUMN_LENGTHS): ColumnDataSource column lengths are not all the same: ColumnDataSource, ViewModel:ColumnDataSource, ref _id: 8e04a7b5-0c10-43ad-874b-85d01289b325\n",
      "ERROR:/home/valerio/Projects/anaconda3/envs/Bokeh/lib/python3.4/site-packages/bokeh/validation/check.py:E-1000 (COLUMN_LENGTHS): ColumnDataSource column lengths are not all the same: ColumnDataSource, ViewModel:ColumnDataSource, ref _id: 9b96bd09-355a-48d5-98d2-29ad451b86ac\n",
      "ERROR:/home/valerio/Projects/anaconda3/envs/Bokeh/lib/python3.4/site-packages/bokeh/validation/check.py:E-1000 (COLUMN_LENGTHS): ColumnDataSource column lengths are not all the same: ColumnDataSource, ViewModel:ColumnDataSource, ref _id: a0f570be-c5c3-496a-9c45-9cfc8427baf8\n",
      "ERROR:/home/valerio/Projects/anaconda3/envs/Bokeh/lib/python3.4/site-packages/bokeh/validation/check.py:E-1000 (COLUMN_LENGTHS): ColumnDataSource column lengths are not all the same: ColumnDataSource, ViewModel:ColumnDataSource, ref _id: baa09194-7d10-4f0c-afb8-f0e98b718f9c\n",
      "ERROR:/home/valerio/Projects/anaconda3/envs/Bokeh/lib/python3.4/site-packages/bokeh/validation/check.py:E-1000 (COLUMN_LENGTHS): ColumnDataSource column lengths are not all the same: ColumnDataSource, ViewModel:ColumnDataSource, ref _id: dd34e698-260e-42d2-9b63-1d04d56ac2c2\n"
     ]
    },
    {
     "name": "stdout",
     "output_type": "stream",
     "text": [
      "\n",
      "<bokeh.document.Document object at 0x7f23c762c278>\n",
      "<bokeh.document.Document object at 0x7f23c762c278>"
     ]
    },
    {
     "name": "stderr",
     "output_type": "stream",
     "text": [
      "ERROR:/home/valerio/Projects/anaconda3/envs/Bokeh/lib/python3.4/site-packages/bokeh/validation/check.py:E-1000 (COLUMN_LENGTHS): ColumnDataSource column lengths are not all the same: ColumnDataSource, ViewModel:ColumnDataSource, ref _id: 002275c9-12c0-459f-b3e5-d46cf1538373\n",
      "ERROR:/home/valerio/Projects/anaconda3/envs/Bokeh/lib/python3.4/site-packages/bokeh/validation/check.py:E-1000 (COLUMN_LENGTHS): ColumnDataSource column lengths are not all the same: ColumnDataSource, ViewModel:ColumnDataSource, ref _id: 204efda8-19b6-4c7a-adaa-c9c18cb96128\n",
      "ERROR:/home/valerio/Projects/anaconda3/envs/Bokeh/lib/python3.4/site-packages/bokeh/validation/check.py:E-1000 (COLUMN_LENGTHS): ColumnDataSource column lengths are not all the same: ColumnDataSource, ViewModel:ColumnDataSource, ref _id: 473b852b-40cd-48bf-af9d-aae2fdd74e9b\n",
      "ERROR:/home/valerio/Projects/anaconda3/envs/Bokeh/lib/python3.4/site-packages/bokeh/validation/check.py:E-1000 (COLUMN_LENGTHS): ColumnDataSource column lengths are not all the same: ColumnDataSource, ViewModel:ColumnDataSource, ref _id: 8e04a7b5-0c10-43ad-874b-85d01289b325\n",
      "ERROR:/home/valerio/Projects/anaconda3/envs/Bokeh/lib/python3.4/site-packages/bokeh/validation/check.py:E-1000 (COLUMN_LENGTHS): ColumnDataSource column lengths are not all the same: ColumnDataSource, ViewModel:ColumnDataSource, ref _id: 9b96bd09-355a-48d5-98d2-29ad451b86ac\n",
      "ERROR:/home/valerio/Projects/anaconda3/envs/Bokeh/lib/python3.4/site-packages/bokeh/validation/check.py:E-1000 (COLUMN_LENGTHS): ColumnDataSource column lengths are not all the same: ColumnDataSource, ViewModel:ColumnDataSource, ref _id: a0f570be-c5c3-496a-9c45-9cfc8427baf8\n",
      "ERROR:/home/valerio/Projects/anaconda3/envs/Bokeh/lib/python3.4/site-packages/bokeh/validation/check.py:E-1000 (COLUMN_LENGTHS): ColumnDataSource column lengths are not all the same: ColumnDataSource, ViewModel:ColumnDataSource, ref _id: baa09194-7d10-4f0c-afb8-f0e98b718f9c\n",
      "ERROR:/home/valerio/Projects/anaconda3/envs/Bokeh/lib/python3.4/site-packages/bokeh/validation/check.py:E-1000 (COLUMN_LENGTHS): ColumnDataSource column lengths are not all the same: ColumnDataSource, ViewModel:ColumnDataSource, ref _id: dd34e698-260e-42d2-9b63-1d04d56ac2c2\n"
     ]
    },
    {
     "name": "stdout",
     "output_type": "stream",
     "text": [
      "\n",
      "<bokeh.document.Document object at 0x7f23c762c278>\n",
      "<bokeh.document.Document object at 0x7f23c762c278>"
     ]
    },
    {
     "name": "stderr",
     "output_type": "stream",
     "text": [
      "ERROR:/home/valerio/Projects/anaconda3/envs/Bokeh/lib/python3.4/site-packages/bokeh/validation/check.py:E-1000 (COLUMN_LENGTHS): ColumnDataSource column lengths are not all the same: ColumnDataSource, ViewModel:ColumnDataSource, ref _id: 002275c9-12c0-459f-b3e5-d46cf1538373\n",
      "ERROR:/home/valerio/Projects/anaconda3/envs/Bokeh/lib/python3.4/site-packages/bokeh/validation/check.py:E-1000 (COLUMN_LENGTHS): ColumnDataSource column lengths are not all the same: ColumnDataSource, ViewModel:ColumnDataSource, ref _id: 204efda8-19b6-4c7a-adaa-c9c18cb96128\n",
      "ERROR:/home/valerio/Projects/anaconda3/envs/Bokeh/lib/python3.4/site-packages/bokeh/validation/check.py:E-1000 (COLUMN_LENGTHS): ColumnDataSource column lengths are not all the same: ColumnDataSource, ViewModel:ColumnDataSource, ref _id: 473b852b-40cd-48bf-af9d-aae2fdd74e9b\n",
      "ERROR:/home/valerio/Projects/anaconda3/envs/Bokeh/lib/python3.4/site-packages/bokeh/validation/check.py:E-1000 (COLUMN_LENGTHS): ColumnDataSource column lengths are not all the same: ColumnDataSource, ViewModel:ColumnDataSource, ref _id: 8e04a7b5-0c10-43ad-874b-85d01289b325\n",
      "ERROR:/home/valerio/Projects/anaconda3/envs/Bokeh/lib/python3.4/site-packages/bokeh/validation/check.py:E-1000 (COLUMN_LENGTHS): ColumnDataSource column lengths are not all the same: ColumnDataSource, ViewModel:ColumnDataSource, ref _id: 9b96bd09-355a-48d5-98d2-29ad451b86ac\n",
      "ERROR:/home/valerio/Projects/anaconda3/envs/Bokeh/lib/python3.4/site-packages/bokeh/validation/check.py:E-1000 (COLUMN_LENGTHS): ColumnDataSource column lengths are not all the same: ColumnDataSource, ViewModel:ColumnDataSource, ref _id: a0f570be-c5c3-496a-9c45-9cfc8427baf8\n",
      "ERROR:/home/valerio/Projects/anaconda3/envs/Bokeh/lib/python3.4/site-packages/bokeh/validation/check.py:E-1000 (COLUMN_LENGTHS): ColumnDataSource column lengths are not all the same: ColumnDataSource, ViewModel:ColumnDataSource, ref _id: baa09194-7d10-4f0c-afb8-f0e98b718f9c\n",
      "ERROR:/home/valerio/Projects/anaconda3/envs/Bokeh/lib/python3.4/site-packages/bokeh/validation/check.py:E-1000 (COLUMN_LENGTHS): ColumnDataSource column lengths are not all the same: ColumnDataSource, ViewModel:ColumnDataSource, ref _id: dd34e698-260e-42d2-9b63-1d04d56ac2c2\n"
     ]
    },
    {
     "name": "stdout",
     "output_type": "stream",
     "text": [
      "\n",
      "<bokeh.document.Document object at 0x7f23c762c278>\n",
      "<bokeh.document.Document object at 0x7f23c762c278>"
     ]
    },
    {
     "name": "stderr",
     "output_type": "stream",
     "text": [
      "ERROR:/home/valerio/Projects/anaconda3/envs/Bokeh/lib/python3.4/site-packages/bokeh/validation/check.py:E-1000 (COLUMN_LENGTHS): ColumnDataSource column lengths are not all the same: ColumnDataSource, ViewModel:ColumnDataSource, ref _id: 002275c9-12c0-459f-b3e5-d46cf1538373\n",
      "ERROR:/home/valerio/Projects/anaconda3/envs/Bokeh/lib/python3.4/site-packages/bokeh/validation/check.py:E-1000 (COLUMN_LENGTHS): ColumnDataSource column lengths are not all the same: ColumnDataSource, ViewModel:ColumnDataSource, ref _id: 204efda8-19b6-4c7a-adaa-c9c18cb96128\n",
      "ERROR:/home/valerio/Projects/anaconda3/envs/Bokeh/lib/python3.4/site-packages/bokeh/validation/check.py:E-1000 (COLUMN_LENGTHS): ColumnDataSource column lengths are not all the same: ColumnDataSource, ViewModel:ColumnDataSource, ref _id: 473b852b-40cd-48bf-af9d-aae2fdd74e9b\n",
      "ERROR:/home/valerio/Projects/anaconda3/envs/Bokeh/lib/python3.4/site-packages/bokeh/validation/check.py:E-1000 (COLUMN_LENGTHS): ColumnDataSource column lengths are not all the same: ColumnDataSource, ViewModel:ColumnDataSource, ref _id: 8e04a7b5-0c10-43ad-874b-85d01289b325\n",
      "ERROR:/home/valerio/Projects/anaconda3/envs/Bokeh/lib/python3.4/site-packages/bokeh/validation/check.py:E-1000 (COLUMN_LENGTHS): ColumnDataSource column lengths are not all the same: ColumnDataSource, ViewModel:ColumnDataSource, ref _id: 9b96bd09-355a-48d5-98d2-29ad451b86ac\n",
      "ERROR:/home/valerio/Projects/anaconda3/envs/Bokeh/lib/python3.4/site-packages/bokeh/validation/check.py:E-1000 (COLUMN_LENGTHS): ColumnDataSource column lengths are not all the same: ColumnDataSource, ViewModel:ColumnDataSource, ref _id: a0f570be-c5c3-496a-9c45-9cfc8427baf8\n",
      "ERROR:/home/valerio/Projects/anaconda3/envs/Bokeh/lib/python3.4/site-packages/bokeh/validation/check.py:E-1000 (COLUMN_LENGTHS): ColumnDataSource column lengths are not all the same: ColumnDataSource, ViewModel:ColumnDataSource, ref _id: baa09194-7d10-4f0c-afb8-f0e98b718f9c\n",
      "ERROR:/home/valerio/Projects/anaconda3/envs/Bokeh/lib/python3.4/site-packages/bokeh/validation/check.py:E-1000 (COLUMN_LENGTHS): ColumnDataSource column lengths are not all the same: ColumnDataSource, ViewModel:ColumnDataSource, ref _id: dd34e698-260e-42d2-9b63-1d04d56ac2c2\n"
     ]
    },
    {
     "name": "stdout",
     "output_type": "stream",
     "text": [
      "\n",
      "<bokeh.document.Document object at 0x7f23c762c278>\n",
      "<bokeh.document.Document object at 0x7f23c762c278>"
     ]
    },
    {
     "name": "stderr",
     "output_type": "stream",
     "text": [
      "ERROR:/home/valerio/Projects/anaconda3/envs/Bokeh/lib/python3.4/site-packages/bokeh/validation/check.py:E-1000 (COLUMN_LENGTHS): ColumnDataSource column lengths are not all the same: ColumnDataSource, ViewModel:ColumnDataSource, ref _id: 002275c9-12c0-459f-b3e5-d46cf1538373\n",
      "ERROR:/home/valerio/Projects/anaconda3/envs/Bokeh/lib/python3.4/site-packages/bokeh/validation/check.py:E-1000 (COLUMN_LENGTHS): ColumnDataSource column lengths are not all the same: ColumnDataSource, ViewModel:ColumnDataSource, ref _id: 204efda8-19b6-4c7a-adaa-c9c18cb96128\n",
      "ERROR:/home/valerio/Projects/anaconda3/envs/Bokeh/lib/python3.4/site-packages/bokeh/validation/check.py:E-1000 (COLUMN_LENGTHS): ColumnDataSource column lengths are not all the same: ColumnDataSource, ViewModel:ColumnDataSource, ref _id: 473b852b-40cd-48bf-af9d-aae2fdd74e9b\n",
      "ERROR:/home/valerio/Projects/anaconda3/envs/Bokeh/lib/python3.4/site-packages/bokeh/validation/check.py:E-1000 (COLUMN_LENGTHS): ColumnDataSource column lengths are not all the same: ColumnDataSource, ViewModel:ColumnDataSource, ref _id: 8e04a7b5-0c10-43ad-874b-85d01289b325\n",
      "ERROR:/home/valerio/Projects/anaconda3/envs/Bokeh/lib/python3.4/site-packages/bokeh/validation/check.py:E-1000 (COLUMN_LENGTHS): ColumnDataSource column lengths are not all the same: ColumnDataSource, ViewModel:ColumnDataSource, ref _id: 9b96bd09-355a-48d5-98d2-29ad451b86ac\n",
      "ERROR:/home/valerio/Projects/anaconda3/envs/Bokeh/lib/python3.4/site-packages/bokeh/validation/check.py:E-1000 (COLUMN_LENGTHS): ColumnDataSource column lengths are not all the same: ColumnDataSource, ViewModel:ColumnDataSource, ref _id: a0f570be-c5c3-496a-9c45-9cfc8427baf8\n",
      "ERROR:/home/valerio/Projects/anaconda3/envs/Bokeh/lib/python3.4/site-packages/bokeh/validation/check.py:E-1000 (COLUMN_LENGTHS): ColumnDataSource column lengths are not all the same: ColumnDataSource, ViewModel:ColumnDataSource, ref _id: baa09194-7d10-4f0c-afb8-f0e98b718f9c\n",
      "ERROR:/home/valerio/Projects/anaconda3/envs/Bokeh/lib/python3.4/site-packages/bokeh/validation/check.py:E-1000 (COLUMN_LENGTHS): ColumnDataSource column lengths are not all the same: ColumnDataSource, ViewModel:ColumnDataSource, ref _id: dd34e698-260e-42d2-9b63-1d04d56ac2c2\n"
     ]
    },
    {
     "name": "stdout",
     "output_type": "stream",
     "text": [
      "\n",
      "<bokeh.document.Document object at 0x7f23c762c278>\n",
      "<bokeh.document.Document object at 0x7f23c762c278>"
     ]
    },
    {
     "name": "stderr",
     "output_type": "stream",
     "text": [
      "ERROR:/home/valerio/Projects/anaconda3/envs/Bokeh/lib/python3.4/site-packages/bokeh/validation/check.py:E-1000 (COLUMN_LENGTHS): ColumnDataSource column lengths are not all the same: ColumnDataSource, ViewModel:ColumnDataSource, ref _id: 002275c9-12c0-459f-b3e5-d46cf1538373\n",
      "ERROR:/home/valerio/Projects/anaconda3/envs/Bokeh/lib/python3.4/site-packages/bokeh/validation/check.py:E-1000 (COLUMN_LENGTHS): ColumnDataSource column lengths are not all the same: ColumnDataSource, ViewModel:ColumnDataSource, ref _id: 204efda8-19b6-4c7a-adaa-c9c18cb96128\n",
      "ERROR:/home/valerio/Projects/anaconda3/envs/Bokeh/lib/python3.4/site-packages/bokeh/validation/check.py:E-1000 (COLUMN_LENGTHS): ColumnDataSource column lengths are not all the same: ColumnDataSource, ViewModel:ColumnDataSource, ref _id: 473b852b-40cd-48bf-af9d-aae2fdd74e9b\n",
      "ERROR:/home/valerio/Projects/anaconda3/envs/Bokeh/lib/python3.4/site-packages/bokeh/validation/check.py:E-1000 (COLUMN_LENGTHS): ColumnDataSource column lengths are not all the same: ColumnDataSource, ViewModel:ColumnDataSource, ref _id: 8e04a7b5-0c10-43ad-874b-85d01289b325\n",
      "ERROR:/home/valerio/Projects/anaconda3/envs/Bokeh/lib/python3.4/site-packages/bokeh/validation/check.py:E-1000 (COLUMN_LENGTHS): ColumnDataSource column lengths are not all the same: ColumnDataSource, ViewModel:ColumnDataSource, ref _id: 9b96bd09-355a-48d5-98d2-29ad451b86ac\n",
      "ERROR:/home/valerio/Projects/anaconda3/envs/Bokeh/lib/python3.4/site-packages/bokeh/validation/check.py:E-1000 (COLUMN_LENGTHS): ColumnDataSource column lengths are not all the same: ColumnDataSource, ViewModel:ColumnDataSource, ref _id: a0f570be-c5c3-496a-9c45-9cfc8427baf8\n",
      "ERROR:/home/valerio/Projects/anaconda3/envs/Bokeh/lib/python3.4/site-packages/bokeh/validation/check.py:E-1000 (COLUMN_LENGTHS): ColumnDataSource column lengths are not all the same: ColumnDataSource, ViewModel:ColumnDataSource, ref _id: baa09194-7d10-4f0c-afb8-f0e98b718f9c\n",
      "ERROR:/home/valerio/Projects/anaconda3/envs/Bokeh/lib/python3.4/site-packages/bokeh/validation/check.py:E-1000 (COLUMN_LENGTHS): ColumnDataSource column lengths are not all the same: ColumnDataSource, ViewModel:ColumnDataSource, ref _id: dd34e698-260e-42d2-9b63-1d04d56ac2c2\n"
     ]
    },
    {
     "name": "stdout",
     "output_type": "stream",
     "text": [
      "\n",
      "<bokeh.document.Document object at 0x7f23c762c278>\n",
      "<bokeh.document.Document object at 0x7f23c762c278>"
     ]
    },
    {
     "name": "stderr",
     "output_type": "stream",
     "text": [
      "ERROR:/home/valerio/Projects/anaconda3/envs/Bokeh/lib/python3.4/site-packages/bokeh/validation/check.py:E-1000 (COLUMN_LENGTHS): ColumnDataSource column lengths are not all the same: ColumnDataSource, ViewModel:ColumnDataSource, ref _id: 002275c9-12c0-459f-b3e5-d46cf1538373\n",
      "ERROR:/home/valerio/Projects/anaconda3/envs/Bokeh/lib/python3.4/site-packages/bokeh/validation/check.py:E-1000 (COLUMN_LENGTHS): ColumnDataSource column lengths are not all the same: ColumnDataSource, ViewModel:ColumnDataSource, ref _id: 204efda8-19b6-4c7a-adaa-c9c18cb96128\n",
      "ERROR:/home/valerio/Projects/anaconda3/envs/Bokeh/lib/python3.4/site-packages/bokeh/validation/check.py:E-1000 (COLUMN_LENGTHS): ColumnDataSource column lengths are not all the same: ColumnDataSource, ViewModel:ColumnDataSource, ref _id: 473b852b-40cd-48bf-af9d-aae2fdd74e9b\n",
      "ERROR:/home/valerio/Projects/anaconda3/envs/Bokeh/lib/python3.4/site-packages/bokeh/validation/check.py:E-1000 (COLUMN_LENGTHS): ColumnDataSource column lengths are not all the same: ColumnDataSource, ViewModel:ColumnDataSource, ref _id: 8e04a7b5-0c10-43ad-874b-85d01289b325\n",
      "ERROR:/home/valerio/Projects/anaconda3/envs/Bokeh/lib/python3.4/site-packages/bokeh/validation/check.py:E-1000 (COLUMN_LENGTHS): ColumnDataSource column lengths are not all the same: ColumnDataSource, ViewModel:ColumnDataSource, ref _id: 9b96bd09-355a-48d5-98d2-29ad451b86ac\n",
      "ERROR:/home/valerio/Projects/anaconda3/envs/Bokeh/lib/python3.4/site-packages/bokeh/validation/check.py:E-1000 (COLUMN_LENGTHS): ColumnDataSource column lengths are not all the same: ColumnDataSource, ViewModel:ColumnDataSource, ref _id: a0f570be-c5c3-496a-9c45-9cfc8427baf8\n",
      "ERROR:/home/valerio/Projects/anaconda3/envs/Bokeh/lib/python3.4/site-packages/bokeh/validation/check.py:E-1000 (COLUMN_LENGTHS): ColumnDataSource column lengths are not all the same: ColumnDataSource, ViewModel:ColumnDataSource, ref _id: baa09194-7d10-4f0c-afb8-f0e98b718f9c\n",
      "ERROR:/home/valerio/Projects/anaconda3/envs/Bokeh/lib/python3.4/site-packages/bokeh/validation/check.py:E-1000 (COLUMN_LENGTHS): ColumnDataSource column lengths are not all the same: ColumnDataSource, ViewModel:ColumnDataSource, ref _id: dd34e698-260e-42d2-9b63-1d04d56ac2c2\n"
     ]
    },
    {
     "name": "stdout",
     "output_type": "stream",
     "text": [
      "\n",
      "<bokeh.document.Document object at 0x7f23c762c278>\n",
      "<bokeh.document.Document object at 0x7f23c762c278>"
     ]
    },
    {
     "name": "stderr",
     "output_type": "stream",
     "text": [
      "ERROR:/home/valerio/Projects/anaconda3/envs/Bokeh/lib/python3.4/site-packages/bokeh/validation/check.py:E-1000 (COLUMN_LENGTHS): ColumnDataSource column lengths are not all the same: ColumnDataSource, ViewModel:ColumnDataSource, ref _id: 002275c9-12c0-459f-b3e5-d46cf1538373\n",
      "ERROR:/home/valerio/Projects/anaconda3/envs/Bokeh/lib/python3.4/site-packages/bokeh/validation/check.py:E-1000 (COLUMN_LENGTHS): ColumnDataSource column lengths are not all the same: ColumnDataSource, ViewModel:ColumnDataSource, ref _id: 204efda8-19b6-4c7a-adaa-c9c18cb96128\n",
      "ERROR:/home/valerio/Projects/anaconda3/envs/Bokeh/lib/python3.4/site-packages/bokeh/validation/check.py:E-1000 (COLUMN_LENGTHS): ColumnDataSource column lengths are not all the same: ColumnDataSource, ViewModel:ColumnDataSource, ref _id: 473b852b-40cd-48bf-af9d-aae2fdd74e9b\n",
      "ERROR:/home/valerio/Projects/anaconda3/envs/Bokeh/lib/python3.4/site-packages/bokeh/validation/check.py:E-1000 (COLUMN_LENGTHS): ColumnDataSource column lengths are not all the same: ColumnDataSource, ViewModel:ColumnDataSource, ref _id: 8e04a7b5-0c10-43ad-874b-85d01289b325\n",
      "ERROR:/home/valerio/Projects/anaconda3/envs/Bokeh/lib/python3.4/site-packages/bokeh/validation/check.py:E-1000 (COLUMN_LENGTHS): ColumnDataSource column lengths are not all the same: ColumnDataSource, ViewModel:ColumnDataSource, ref _id: 9b96bd09-355a-48d5-98d2-29ad451b86ac\n",
      "ERROR:/home/valerio/Projects/anaconda3/envs/Bokeh/lib/python3.4/site-packages/bokeh/validation/check.py:E-1000 (COLUMN_LENGTHS): ColumnDataSource column lengths are not all the same: ColumnDataSource, ViewModel:ColumnDataSource, ref _id: a0f570be-c5c3-496a-9c45-9cfc8427baf8\n",
      "ERROR:/home/valerio/Projects/anaconda3/envs/Bokeh/lib/python3.4/site-packages/bokeh/validation/check.py:E-1000 (COLUMN_LENGTHS): ColumnDataSource column lengths are not all the same: ColumnDataSource, ViewModel:ColumnDataSource, ref _id: baa09194-7d10-4f0c-afb8-f0e98b718f9c\n",
      "ERROR:/home/valerio/Projects/anaconda3/envs/Bokeh/lib/python3.4/site-packages/bokeh/validation/check.py:E-1000 (COLUMN_LENGTHS): ColumnDataSource column lengths are not all the same: ColumnDataSource, ViewModel:ColumnDataSource, ref _id: dd34e698-260e-42d2-9b63-1d04d56ac2c2\n"
     ]
    },
    {
     "name": "stdout",
     "output_type": "stream",
     "text": [
      "\n",
      "<bokeh.document.Document object at 0x7f23c762c278>\n",
      "<bokeh.document.Document object at 0x7f23c762c278>"
     ]
    },
    {
     "name": "stderr",
     "output_type": "stream",
     "text": [
      "ERROR:/home/valerio/Projects/anaconda3/envs/Bokeh/lib/python3.4/site-packages/bokeh/validation/check.py:E-1000 (COLUMN_LENGTHS): ColumnDataSource column lengths are not all the same: ColumnDataSource, ViewModel:ColumnDataSource, ref _id: 002275c9-12c0-459f-b3e5-d46cf1538373\n",
      "ERROR:/home/valerio/Projects/anaconda3/envs/Bokeh/lib/python3.4/site-packages/bokeh/validation/check.py:E-1000 (COLUMN_LENGTHS): ColumnDataSource column lengths are not all the same: ColumnDataSource, ViewModel:ColumnDataSource, ref _id: 204efda8-19b6-4c7a-adaa-c9c18cb96128\n",
      "ERROR:/home/valerio/Projects/anaconda3/envs/Bokeh/lib/python3.4/site-packages/bokeh/validation/check.py:E-1000 (COLUMN_LENGTHS): ColumnDataSource column lengths are not all the same: ColumnDataSource, ViewModel:ColumnDataSource, ref _id: 473b852b-40cd-48bf-af9d-aae2fdd74e9b\n",
      "ERROR:/home/valerio/Projects/anaconda3/envs/Bokeh/lib/python3.4/site-packages/bokeh/validation/check.py:E-1000 (COLUMN_LENGTHS): ColumnDataSource column lengths are not all the same: ColumnDataSource, ViewModel:ColumnDataSource, ref _id: 8e04a7b5-0c10-43ad-874b-85d01289b325\n",
      "ERROR:/home/valerio/Projects/anaconda3/envs/Bokeh/lib/python3.4/site-packages/bokeh/validation/check.py:E-1000 (COLUMN_LENGTHS): ColumnDataSource column lengths are not all the same: ColumnDataSource, ViewModel:ColumnDataSource, ref _id: 9b96bd09-355a-48d5-98d2-29ad451b86ac\n",
      "ERROR:/home/valerio/Projects/anaconda3/envs/Bokeh/lib/python3.4/site-packages/bokeh/validation/check.py:E-1000 (COLUMN_LENGTHS): ColumnDataSource column lengths are not all the same: ColumnDataSource, ViewModel:ColumnDataSource, ref _id: a0f570be-c5c3-496a-9c45-9cfc8427baf8\n",
      "ERROR:/home/valerio/Projects/anaconda3/envs/Bokeh/lib/python3.4/site-packages/bokeh/validation/check.py:E-1000 (COLUMN_LENGTHS): ColumnDataSource column lengths are not all the same: ColumnDataSource, ViewModel:ColumnDataSource, ref _id: baa09194-7d10-4f0c-afb8-f0e98b718f9c\n",
      "ERROR:/home/valerio/Projects/anaconda3/envs/Bokeh/lib/python3.4/site-packages/bokeh/validation/check.py:E-1000 (COLUMN_LENGTHS): ColumnDataSource column lengths are not all the same: ColumnDataSource, ViewModel:ColumnDataSource, ref _id: dd34e698-260e-42d2-9b63-1d04d56ac2c2\n"
     ]
    },
    {
     "name": "stdout",
     "output_type": "stream",
     "text": [
      "\n",
      "<bokeh.document.Document object at 0x7f23c762c278>\n",
      "<bokeh.document.Document object at 0x7f23c762c278>"
     ]
    },
    {
     "name": "stderr",
     "output_type": "stream",
     "text": [
      "ERROR:/home/valerio/Projects/anaconda3/envs/Bokeh/lib/python3.4/site-packages/bokeh/validation/check.py:E-1000 (COLUMN_LENGTHS): ColumnDataSource column lengths are not all the same: ColumnDataSource, ViewModel:ColumnDataSource, ref _id: 002275c9-12c0-459f-b3e5-d46cf1538373\n",
      "ERROR:/home/valerio/Projects/anaconda3/envs/Bokeh/lib/python3.4/site-packages/bokeh/validation/check.py:E-1000 (COLUMN_LENGTHS): ColumnDataSource column lengths are not all the same: ColumnDataSource, ViewModel:ColumnDataSource, ref _id: 204efda8-19b6-4c7a-adaa-c9c18cb96128\n",
      "ERROR:/home/valerio/Projects/anaconda3/envs/Bokeh/lib/python3.4/site-packages/bokeh/validation/check.py:E-1000 (COLUMN_LENGTHS): ColumnDataSource column lengths are not all the same: ColumnDataSource, ViewModel:ColumnDataSource, ref _id: 473b852b-40cd-48bf-af9d-aae2fdd74e9b\n",
      "ERROR:/home/valerio/Projects/anaconda3/envs/Bokeh/lib/python3.4/site-packages/bokeh/validation/check.py:E-1000 (COLUMN_LENGTHS): ColumnDataSource column lengths are not all the same: ColumnDataSource, ViewModel:ColumnDataSource, ref _id: 8e04a7b5-0c10-43ad-874b-85d01289b325\n",
      "ERROR:/home/valerio/Projects/anaconda3/envs/Bokeh/lib/python3.4/site-packages/bokeh/validation/check.py:E-1000 (COLUMN_LENGTHS): ColumnDataSource column lengths are not all the same: ColumnDataSource, ViewModel:ColumnDataSource, ref _id: 9b96bd09-355a-48d5-98d2-29ad451b86ac\n",
      "ERROR:/home/valerio/Projects/anaconda3/envs/Bokeh/lib/python3.4/site-packages/bokeh/validation/check.py:E-1000 (COLUMN_LENGTHS): ColumnDataSource column lengths are not all the same: ColumnDataSource, ViewModel:ColumnDataSource, ref _id: a0f570be-c5c3-496a-9c45-9cfc8427baf8\n",
      "ERROR:/home/valerio/Projects/anaconda3/envs/Bokeh/lib/python3.4/site-packages/bokeh/validation/check.py:E-1000 (COLUMN_LENGTHS): ColumnDataSource column lengths are not all the same: ColumnDataSource, ViewModel:ColumnDataSource, ref _id: baa09194-7d10-4f0c-afb8-f0e98b718f9c\n",
      "ERROR:/home/valerio/Projects/anaconda3/envs/Bokeh/lib/python3.4/site-packages/bokeh/validation/check.py:E-1000 (COLUMN_LENGTHS): ColumnDataSource column lengths are not all the same: ColumnDataSource, ViewModel:ColumnDataSource, ref _id: dd34e698-260e-42d2-9b63-1d04d56ac2c2\n"
     ]
    },
    {
     "name": "stdout",
     "output_type": "stream",
     "text": [
      "\n",
      "<bokeh.document.Document object at 0x7f23c762c278>\n",
      "<bokeh.document.Document object at 0x7f23c762c278>"
     ]
    },
    {
     "name": "stderr",
     "output_type": "stream",
     "text": [
      "ERROR:/home/valerio/Projects/anaconda3/envs/Bokeh/lib/python3.4/site-packages/bokeh/validation/check.py:E-1000 (COLUMN_LENGTHS): ColumnDataSource column lengths are not all the same: ColumnDataSource, ViewModel:ColumnDataSource, ref _id: 002275c9-12c0-459f-b3e5-d46cf1538373\n",
      "ERROR:/home/valerio/Projects/anaconda3/envs/Bokeh/lib/python3.4/site-packages/bokeh/validation/check.py:E-1000 (COLUMN_LENGTHS): ColumnDataSource column lengths are not all the same: ColumnDataSource, ViewModel:ColumnDataSource, ref _id: 204efda8-19b6-4c7a-adaa-c9c18cb96128\n",
      "ERROR:/home/valerio/Projects/anaconda3/envs/Bokeh/lib/python3.4/site-packages/bokeh/validation/check.py:E-1000 (COLUMN_LENGTHS): ColumnDataSource column lengths are not all the same: ColumnDataSource, ViewModel:ColumnDataSource, ref _id: 473b852b-40cd-48bf-af9d-aae2fdd74e9b\n",
      "ERROR:/home/valerio/Projects/anaconda3/envs/Bokeh/lib/python3.4/site-packages/bokeh/validation/check.py:E-1000 (COLUMN_LENGTHS): ColumnDataSource column lengths are not all the same: ColumnDataSource, ViewModel:ColumnDataSource, ref _id: 8e04a7b5-0c10-43ad-874b-85d01289b325\n",
      "ERROR:/home/valerio/Projects/anaconda3/envs/Bokeh/lib/python3.4/site-packages/bokeh/validation/check.py:E-1000 (COLUMN_LENGTHS): ColumnDataSource column lengths are not all the same: ColumnDataSource, ViewModel:ColumnDataSource, ref _id: 9b96bd09-355a-48d5-98d2-29ad451b86ac\n",
      "ERROR:/home/valerio/Projects/anaconda3/envs/Bokeh/lib/python3.4/site-packages/bokeh/validation/check.py:E-1000 (COLUMN_LENGTHS): ColumnDataSource column lengths are not all the same: ColumnDataSource, ViewModel:ColumnDataSource, ref _id: a0f570be-c5c3-496a-9c45-9cfc8427baf8\n",
      "ERROR:/home/valerio/Projects/anaconda3/envs/Bokeh/lib/python3.4/site-packages/bokeh/validation/check.py:E-1000 (COLUMN_LENGTHS): ColumnDataSource column lengths are not all the same: ColumnDataSource, ViewModel:ColumnDataSource, ref _id: baa09194-7d10-4f0c-afb8-f0e98b718f9c\n",
      "ERROR:/home/valerio/Projects/anaconda3/envs/Bokeh/lib/python3.4/site-packages/bokeh/validation/check.py:E-1000 (COLUMN_LENGTHS): ColumnDataSource column lengths are not all the same: ColumnDataSource, ViewModel:ColumnDataSource, ref _id: dd34e698-260e-42d2-9b63-1d04d56ac2c2\n"
     ]
    },
    {
     "name": "stdout",
     "output_type": "stream",
     "text": [
      "\n",
      "<bokeh.document.Document object at 0x7f23c762c278>\n",
      "<bokeh.document.Document object at 0x7f23c762c278>"
     ]
    },
    {
     "name": "stderr",
     "output_type": "stream",
     "text": [
      "ERROR:/home/valerio/Projects/anaconda3/envs/Bokeh/lib/python3.4/site-packages/bokeh/validation/check.py:E-1000 (COLUMN_LENGTHS): ColumnDataSource column lengths are not all the same: ColumnDataSource, ViewModel:ColumnDataSource, ref _id: 002275c9-12c0-459f-b3e5-d46cf1538373\n",
      "ERROR:/home/valerio/Projects/anaconda3/envs/Bokeh/lib/python3.4/site-packages/bokeh/validation/check.py:E-1000 (COLUMN_LENGTHS): ColumnDataSource column lengths are not all the same: ColumnDataSource, ViewModel:ColumnDataSource, ref _id: 204efda8-19b6-4c7a-adaa-c9c18cb96128\n",
      "ERROR:/home/valerio/Projects/anaconda3/envs/Bokeh/lib/python3.4/site-packages/bokeh/validation/check.py:E-1000 (COLUMN_LENGTHS): ColumnDataSource column lengths are not all the same: ColumnDataSource, ViewModel:ColumnDataSource, ref _id: 473b852b-40cd-48bf-af9d-aae2fdd74e9b\n",
      "ERROR:/home/valerio/Projects/anaconda3/envs/Bokeh/lib/python3.4/site-packages/bokeh/validation/check.py:E-1000 (COLUMN_LENGTHS): ColumnDataSource column lengths are not all the same: ColumnDataSource, ViewModel:ColumnDataSource, ref _id: 8e04a7b5-0c10-43ad-874b-85d01289b325\n",
      "ERROR:/home/valerio/Projects/anaconda3/envs/Bokeh/lib/python3.4/site-packages/bokeh/validation/check.py:E-1000 (COLUMN_LENGTHS): ColumnDataSource column lengths are not all the same: ColumnDataSource, ViewModel:ColumnDataSource, ref _id: 9b96bd09-355a-48d5-98d2-29ad451b86ac\n",
      "ERROR:/home/valerio/Projects/anaconda3/envs/Bokeh/lib/python3.4/site-packages/bokeh/validation/check.py:E-1000 (COLUMN_LENGTHS): ColumnDataSource column lengths are not all the same: ColumnDataSource, ViewModel:ColumnDataSource, ref _id: a0f570be-c5c3-496a-9c45-9cfc8427baf8\n",
      "ERROR:/home/valerio/Projects/anaconda3/envs/Bokeh/lib/python3.4/site-packages/bokeh/validation/check.py:E-1000 (COLUMN_LENGTHS): ColumnDataSource column lengths are not all the same: ColumnDataSource, ViewModel:ColumnDataSource, ref _id: baa09194-7d10-4f0c-afb8-f0e98b718f9c\n",
      "ERROR:/home/valerio/Projects/anaconda3/envs/Bokeh/lib/python3.4/site-packages/bokeh/validation/check.py:E-1000 (COLUMN_LENGTHS): ColumnDataSource column lengths are not all the same: ColumnDataSource, ViewModel:ColumnDataSource, ref _id: dd34e698-260e-42d2-9b63-1d04d56ac2c2\n"
     ]
    },
    {
     "name": "stdout",
     "output_type": "stream",
     "text": [
      "\n",
      "<bokeh.document.Document object at 0x7f23c762c278>\n",
      "<bokeh.document.Document object at 0x7f23c762c278>"
     ]
    },
    {
     "name": "stderr",
     "output_type": "stream",
     "text": [
      "ERROR:/home/valerio/Projects/anaconda3/envs/Bokeh/lib/python3.4/site-packages/bokeh/validation/check.py:E-1000 (COLUMN_LENGTHS): ColumnDataSource column lengths are not all the same: ColumnDataSource, ViewModel:ColumnDataSource, ref _id: 002275c9-12c0-459f-b3e5-d46cf1538373\n",
      "ERROR:/home/valerio/Projects/anaconda3/envs/Bokeh/lib/python3.4/site-packages/bokeh/validation/check.py:E-1000 (COLUMN_LENGTHS): ColumnDataSource column lengths are not all the same: ColumnDataSource, ViewModel:ColumnDataSource, ref _id: 204efda8-19b6-4c7a-adaa-c9c18cb96128\n",
      "ERROR:/home/valerio/Projects/anaconda3/envs/Bokeh/lib/python3.4/site-packages/bokeh/validation/check.py:E-1000 (COLUMN_LENGTHS): ColumnDataSource column lengths are not all the same: ColumnDataSource, ViewModel:ColumnDataSource, ref _id: 473b852b-40cd-48bf-af9d-aae2fdd74e9b\n",
      "ERROR:/home/valerio/Projects/anaconda3/envs/Bokeh/lib/python3.4/site-packages/bokeh/validation/check.py:E-1000 (COLUMN_LENGTHS): ColumnDataSource column lengths are not all the same: ColumnDataSource, ViewModel:ColumnDataSource, ref _id: 8e04a7b5-0c10-43ad-874b-85d01289b325\n",
      "ERROR:/home/valerio/Projects/anaconda3/envs/Bokeh/lib/python3.4/site-packages/bokeh/validation/check.py:E-1000 (COLUMN_LENGTHS): ColumnDataSource column lengths are not all the same: ColumnDataSource, ViewModel:ColumnDataSource, ref _id: 9b96bd09-355a-48d5-98d2-29ad451b86ac\n",
      "ERROR:/home/valerio/Projects/anaconda3/envs/Bokeh/lib/python3.4/site-packages/bokeh/validation/check.py:E-1000 (COLUMN_LENGTHS): ColumnDataSource column lengths are not all the same: ColumnDataSource, ViewModel:ColumnDataSource, ref _id: a0f570be-c5c3-496a-9c45-9cfc8427baf8\n",
      "ERROR:/home/valerio/Projects/anaconda3/envs/Bokeh/lib/python3.4/site-packages/bokeh/validation/check.py:E-1000 (COLUMN_LENGTHS): ColumnDataSource column lengths are not all the same: ColumnDataSource, ViewModel:ColumnDataSource, ref _id: baa09194-7d10-4f0c-afb8-f0e98b718f9c\n",
      "ERROR:/home/valerio/Projects/anaconda3/envs/Bokeh/lib/python3.4/site-packages/bokeh/validation/check.py:E-1000 (COLUMN_LENGTHS): ColumnDataSource column lengths are not all the same: ColumnDataSource, ViewModel:ColumnDataSource, ref _id: dd34e698-260e-42d2-9b63-1d04d56ac2c2\n"
     ]
    },
    {
     "name": "stdout",
     "output_type": "stream",
     "text": [
      "\n",
      "<bokeh.document.Document object at 0x7f23c762c278>\n",
      "<bokeh.document.Document object at 0x7f23c762c278>"
     ]
    },
    {
     "name": "stderr",
     "output_type": "stream",
     "text": [
      "ERROR:/home/valerio/Projects/anaconda3/envs/Bokeh/lib/python3.4/site-packages/bokeh/validation/check.py:E-1000 (COLUMN_LENGTHS): ColumnDataSource column lengths are not all the same: ColumnDataSource, ViewModel:ColumnDataSource, ref _id: 002275c9-12c0-459f-b3e5-d46cf1538373\n",
      "ERROR:/home/valerio/Projects/anaconda3/envs/Bokeh/lib/python3.4/site-packages/bokeh/validation/check.py:E-1000 (COLUMN_LENGTHS): ColumnDataSource column lengths are not all the same: ColumnDataSource, ViewModel:ColumnDataSource, ref _id: 204efda8-19b6-4c7a-adaa-c9c18cb96128\n",
      "ERROR:/home/valerio/Projects/anaconda3/envs/Bokeh/lib/python3.4/site-packages/bokeh/validation/check.py:E-1000 (COLUMN_LENGTHS): ColumnDataSource column lengths are not all the same: ColumnDataSource, ViewModel:ColumnDataSource, ref _id: 473b852b-40cd-48bf-af9d-aae2fdd74e9b\n",
      "ERROR:/home/valerio/Projects/anaconda3/envs/Bokeh/lib/python3.4/site-packages/bokeh/validation/check.py:E-1000 (COLUMN_LENGTHS): ColumnDataSource column lengths are not all the same: ColumnDataSource, ViewModel:ColumnDataSource, ref _id: 8e04a7b5-0c10-43ad-874b-85d01289b325\n",
      "ERROR:/home/valerio/Projects/anaconda3/envs/Bokeh/lib/python3.4/site-packages/bokeh/validation/check.py:E-1000 (COLUMN_LENGTHS): ColumnDataSource column lengths are not all the same: ColumnDataSource, ViewModel:ColumnDataSource, ref _id: 9b96bd09-355a-48d5-98d2-29ad451b86ac\n",
      "ERROR:/home/valerio/Projects/anaconda3/envs/Bokeh/lib/python3.4/site-packages/bokeh/validation/check.py:E-1000 (COLUMN_LENGTHS): ColumnDataSource column lengths are not all the same: ColumnDataSource, ViewModel:ColumnDataSource, ref _id: a0f570be-c5c3-496a-9c45-9cfc8427baf8\n",
      "ERROR:/home/valerio/Projects/anaconda3/envs/Bokeh/lib/python3.4/site-packages/bokeh/validation/check.py:E-1000 (COLUMN_LENGTHS): ColumnDataSource column lengths are not all the same: ColumnDataSource, ViewModel:ColumnDataSource, ref _id: baa09194-7d10-4f0c-afb8-f0e98b718f9c\n",
      "ERROR:/home/valerio/Projects/anaconda3/envs/Bokeh/lib/python3.4/site-packages/bokeh/validation/check.py:E-1000 (COLUMN_LENGTHS): ColumnDataSource column lengths are not all the same: ColumnDataSource, ViewModel:ColumnDataSource, ref _id: dd34e698-260e-42d2-9b63-1d04d56ac2c2\n"
     ]
    },
    {
     "name": "stdout",
     "output_type": "stream",
     "text": [
      "\n",
      "<bokeh.document.Document object at 0x7f23c762c278>\n",
      "<bokeh.document.Document object at 0x7f23c762c278>"
     ]
    },
    {
     "name": "stderr",
     "output_type": "stream",
     "text": [
      "ERROR:/home/valerio/Projects/anaconda3/envs/Bokeh/lib/python3.4/site-packages/bokeh/validation/check.py:E-1000 (COLUMN_LENGTHS): ColumnDataSource column lengths are not all the same: ColumnDataSource, ViewModel:ColumnDataSource, ref _id: 002275c9-12c0-459f-b3e5-d46cf1538373\n",
      "ERROR:/home/valerio/Projects/anaconda3/envs/Bokeh/lib/python3.4/site-packages/bokeh/validation/check.py:E-1000 (COLUMN_LENGTHS): ColumnDataSource column lengths are not all the same: ColumnDataSource, ViewModel:ColumnDataSource, ref _id: 204efda8-19b6-4c7a-adaa-c9c18cb96128\n",
      "ERROR:/home/valerio/Projects/anaconda3/envs/Bokeh/lib/python3.4/site-packages/bokeh/validation/check.py:E-1000 (COLUMN_LENGTHS): ColumnDataSource column lengths are not all the same: ColumnDataSource, ViewModel:ColumnDataSource, ref _id: 473b852b-40cd-48bf-af9d-aae2fdd74e9b\n",
      "ERROR:/home/valerio/Projects/anaconda3/envs/Bokeh/lib/python3.4/site-packages/bokeh/validation/check.py:E-1000 (COLUMN_LENGTHS): ColumnDataSource column lengths are not all the same: ColumnDataSource, ViewModel:ColumnDataSource, ref _id: 8e04a7b5-0c10-43ad-874b-85d01289b325\n",
      "ERROR:/home/valerio/Projects/anaconda3/envs/Bokeh/lib/python3.4/site-packages/bokeh/validation/check.py:E-1000 (COLUMN_LENGTHS): ColumnDataSource column lengths are not all the same: ColumnDataSource, ViewModel:ColumnDataSource, ref _id: 9b96bd09-355a-48d5-98d2-29ad451b86ac\n",
      "ERROR:/home/valerio/Projects/anaconda3/envs/Bokeh/lib/python3.4/site-packages/bokeh/validation/check.py:E-1000 (COLUMN_LENGTHS): ColumnDataSource column lengths are not all the same: ColumnDataSource, ViewModel:ColumnDataSource, ref _id: a0f570be-c5c3-496a-9c45-9cfc8427baf8\n",
      "ERROR:/home/valerio/Projects/anaconda3/envs/Bokeh/lib/python3.4/site-packages/bokeh/validation/check.py:E-1000 (COLUMN_LENGTHS): ColumnDataSource column lengths are not all the same: ColumnDataSource, ViewModel:ColumnDataSource, ref _id: baa09194-7d10-4f0c-afb8-f0e98b718f9c\n",
      "ERROR:/home/valerio/Projects/anaconda3/envs/Bokeh/lib/python3.4/site-packages/bokeh/validation/check.py:E-1000 (COLUMN_LENGTHS): ColumnDataSource column lengths are not all the same: ColumnDataSource, ViewModel:ColumnDataSource, ref _id: dd34e698-260e-42d2-9b63-1d04d56ac2c2\n"
     ]
    },
    {
     "name": "stdout",
     "output_type": "stream",
     "text": [
      "\n",
      "<bokeh.document.Document object at 0x7f23c762c278>\n",
      "<bokeh.document.Document object at 0x7f23c762c278>"
     ]
    },
    {
     "name": "stderr",
     "output_type": "stream",
     "text": [
      "ERROR:/home/valerio/Projects/anaconda3/envs/Bokeh/lib/python3.4/site-packages/bokeh/validation/check.py:E-1000 (COLUMN_LENGTHS): ColumnDataSource column lengths are not all the same: ColumnDataSource, ViewModel:ColumnDataSource, ref _id: 002275c9-12c0-459f-b3e5-d46cf1538373\n",
      "ERROR:/home/valerio/Projects/anaconda3/envs/Bokeh/lib/python3.4/site-packages/bokeh/validation/check.py:E-1000 (COLUMN_LENGTHS): ColumnDataSource column lengths are not all the same: ColumnDataSource, ViewModel:ColumnDataSource, ref _id: 204efda8-19b6-4c7a-adaa-c9c18cb96128\n",
      "ERROR:/home/valerio/Projects/anaconda3/envs/Bokeh/lib/python3.4/site-packages/bokeh/validation/check.py:E-1000 (COLUMN_LENGTHS): ColumnDataSource column lengths are not all the same: ColumnDataSource, ViewModel:ColumnDataSource, ref _id: 473b852b-40cd-48bf-af9d-aae2fdd74e9b\n",
      "ERROR:/home/valerio/Projects/anaconda3/envs/Bokeh/lib/python3.4/site-packages/bokeh/validation/check.py:E-1000 (COLUMN_LENGTHS): ColumnDataSource column lengths are not all the same: ColumnDataSource, ViewModel:ColumnDataSource, ref _id: 8e04a7b5-0c10-43ad-874b-85d01289b325\n",
      "ERROR:/home/valerio/Projects/anaconda3/envs/Bokeh/lib/python3.4/site-packages/bokeh/validation/check.py:E-1000 (COLUMN_LENGTHS): ColumnDataSource column lengths are not all the same: ColumnDataSource, ViewModel:ColumnDataSource, ref _id: 9b96bd09-355a-48d5-98d2-29ad451b86ac\n",
      "ERROR:/home/valerio/Projects/anaconda3/envs/Bokeh/lib/python3.4/site-packages/bokeh/validation/check.py:E-1000 (COLUMN_LENGTHS): ColumnDataSource column lengths are not all the same: ColumnDataSource, ViewModel:ColumnDataSource, ref _id: a0f570be-c5c3-496a-9c45-9cfc8427baf8\n",
      "ERROR:/home/valerio/Projects/anaconda3/envs/Bokeh/lib/python3.4/site-packages/bokeh/validation/check.py:E-1000 (COLUMN_LENGTHS): ColumnDataSource column lengths are not all the same: ColumnDataSource, ViewModel:ColumnDataSource, ref _id: baa09194-7d10-4f0c-afb8-f0e98b718f9c\n",
      "ERROR:/home/valerio/Projects/anaconda3/envs/Bokeh/lib/python3.4/site-packages/bokeh/validation/check.py:E-1000 (COLUMN_LENGTHS): ColumnDataSource column lengths are not all the same: ColumnDataSource, ViewModel:ColumnDataSource, ref _id: dd34e698-260e-42d2-9b63-1d04d56ac2c2\n"
     ]
    },
    {
     "name": "stdout",
     "output_type": "stream",
     "text": [
      "\n",
      "<bokeh.document.Document object at 0x7f23c762c278>\n",
      "<bokeh.document.Document object at 0x7f23c762c278>"
     ]
    },
    {
     "name": "stderr",
     "output_type": "stream",
     "text": [
      "ERROR:/home/valerio/Projects/anaconda3/envs/Bokeh/lib/python3.4/site-packages/bokeh/validation/check.py:E-1000 (COLUMN_LENGTHS): ColumnDataSource column lengths are not all the same: ColumnDataSource, ViewModel:ColumnDataSource, ref _id: 002275c9-12c0-459f-b3e5-d46cf1538373\n",
      "ERROR:/home/valerio/Projects/anaconda3/envs/Bokeh/lib/python3.4/site-packages/bokeh/validation/check.py:E-1000 (COLUMN_LENGTHS): ColumnDataSource column lengths are not all the same: ColumnDataSource, ViewModel:ColumnDataSource, ref _id: 204efda8-19b6-4c7a-adaa-c9c18cb96128\n",
      "ERROR:/home/valerio/Projects/anaconda3/envs/Bokeh/lib/python3.4/site-packages/bokeh/validation/check.py:E-1000 (COLUMN_LENGTHS): ColumnDataSource column lengths are not all the same: ColumnDataSource, ViewModel:ColumnDataSource, ref _id: 473b852b-40cd-48bf-af9d-aae2fdd74e9b\n",
      "ERROR:/home/valerio/Projects/anaconda3/envs/Bokeh/lib/python3.4/site-packages/bokeh/validation/check.py:E-1000 (COLUMN_LENGTHS): ColumnDataSource column lengths are not all the same: ColumnDataSource, ViewModel:ColumnDataSource, ref _id: 8e04a7b5-0c10-43ad-874b-85d01289b325\n",
      "ERROR:/home/valerio/Projects/anaconda3/envs/Bokeh/lib/python3.4/site-packages/bokeh/validation/check.py:E-1000 (COLUMN_LENGTHS): ColumnDataSource column lengths are not all the same: ColumnDataSource, ViewModel:ColumnDataSource, ref _id: 9b96bd09-355a-48d5-98d2-29ad451b86ac\n",
      "ERROR:/home/valerio/Projects/anaconda3/envs/Bokeh/lib/python3.4/site-packages/bokeh/validation/check.py:E-1000 (COLUMN_LENGTHS): ColumnDataSource column lengths are not all the same: ColumnDataSource, ViewModel:ColumnDataSource, ref _id: a0f570be-c5c3-496a-9c45-9cfc8427baf8\n",
      "ERROR:/home/valerio/Projects/anaconda3/envs/Bokeh/lib/python3.4/site-packages/bokeh/validation/check.py:E-1000 (COLUMN_LENGTHS): ColumnDataSource column lengths are not all the same: ColumnDataSource, ViewModel:ColumnDataSource, ref _id: baa09194-7d10-4f0c-afb8-f0e98b718f9c\n",
      "ERROR:/home/valerio/Projects/anaconda3/envs/Bokeh/lib/python3.4/site-packages/bokeh/validation/check.py:E-1000 (COLUMN_LENGTHS): ColumnDataSource column lengths are not all the same: ColumnDataSource, ViewModel:ColumnDataSource, ref _id: dd34e698-260e-42d2-9b63-1d04d56ac2c2\n"
     ]
    },
    {
     "name": "stdout",
     "output_type": "stream",
     "text": [
      "\n",
      "<bokeh.document.Document object at 0x7f23c762c278>\n",
      "<bokeh.document.Document object at 0x7f23c762c278>"
     ]
    },
    {
     "name": "stderr",
     "output_type": "stream",
     "text": [
      "ERROR:/home/valerio/Projects/anaconda3/envs/Bokeh/lib/python3.4/site-packages/bokeh/validation/check.py:E-1000 (COLUMN_LENGTHS): ColumnDataSource column lengths are not all the same: ColumnDataSource, ViewModel:ColumnDataSource, ref _id: 002275c9-12c0-459f-b3e5-d46cf1538373\n",
      "ERROR:/home/valerio/Projects/anaconda3/envs/Bokeh/lib/python3.4/site-packages/bokeh/validation/check.py:E-1000 (COLUMN_LENGTHS): ColumnDataSource column lengths are not all the same: ColumnDataSource, ViewModel:ColumnDataSource, ref _id: 204efda8-19b6-4c7a-adaa-c9c18cb96128\n",
      "ERROR:/home/valerio/Projects/anaconda3/envs/Bokeh/lib/python3.4/site-packages/bokeh/validation/check.py:E-1000 (COLUMN_LENGTHS): ColumnDataSource column lengths are not all the same: ColumnDataSource, ViewModel:ColumnDataSource, ref _id: 473b852b-40cd-48bf-af9d-aae2fdd74e9b\n",
      "ERROR:/home/valerio/Projects/anaconda3/envs/Bokeh/lib/python3.4/site-packages/bokeh/validation/check.py:E-1000 (COLUMN_LENGTHS): ColumnDataSource column lengths are not all the same: ColumnDataSource, ViewModel:ColumnDataSource, ref _id: 8e04a7b5-0c10-43ad-874b-85d01289b325\n",
      "ERROR:/home/valerio/Projects/anaconda3/envs/Bokeh/lib/python3.4/site-packages/bokeh/validation/check.py:E-1000 (COLUMN_LENGTHS): ColumnDataSource column lengths are not all the same: ColumnDataSource, ViewModel:ColumnDataSource, ref _id: 9b96bd09-355a-48d5-98d2-29ad451b86ac\n",
      "ERROR:/home/valerio/Projects/anaconda3/envs/Bokeh/lib/python3.4/site-packages/bokeh/validation/check.py:E-1000 (COLUMN_LENGTHS): ColumnDataSource column lengths are not all the same: ColumnDataSource, ViewModel:ColumnDataSource, ref _id: a0f570be-c5c3-496a-9c45-9cfc8427baf8\n",
      "ERROR:/home/valerio/Projects/anaconda3/envs/Bokeh/lib/python3.4/site-packages/bokeh/validation/check.py:E-1000 (COLUMN_LENGTHS): ColumnDataSource column lengths are not all the same: ColumnDataSource, ViewModel:ColumnDataSource, ref _id: baa09194-7d10-4f0c-afb8-f0e98b718f9c\n",
      "ERROR:/home/valerio/Projects/anaconda3/envs/Bokeh/lib/python3.4/site-packages/bokeh/validation/check.py:E-1000 (COLUMN_LENGTHS): ColumnDataSource column lengths are not all the same: ColumnDataSource, ViewModel:ColumnDataSource, ref _id: dd34e698-260e-42d2-9b63-1d04d56ac2c2\n"
     ]
    },
    {
     "name": "stdout",
     "output_type": "stream",
     "text": [
      "\n",
      "<bokeh.document.Document object at 0x7f23c762c278>\n",
      "<bokeh.document.Document object at 0x7f23c762c278>"
     ]
    },
    {
     "name": "stderr",
     "output_type": "stream",
     "text": [
      "ERROR:/home/valerio/Projects/anaconda3/envs/Bokeh/lib/python3.4/site-packages/bokeh/validation/check.py:E-1000 (COLUMN_LENGTHS): ColumnDataSource column lengths are not all the same: ColumnDataSource, ViewModel:ColumnDataSource, ref _id: 002275c9-12c0-459f-b3e5-d46cf1538373\n",
      "ERROR:/home/valerio/Projects/anaconda3/envs/Bokeh/lib/python3.4/site-packages/bokeh/validation/check.py:E-1000 (COLUMN_LENGTHS): ColumnDataSource column lengths are not all the same: ColumnDataSource, ViewModel:ColumnDataSource, ref _id: 204efda8-19b6-4c7a-adaa-c9c18cb96128\n",
      "ERROR:/home/valerio/Projects/anaconda3/envs/Bokeh/lib/python3.4/site-packages/bokeh/validation/check.py:E-1000 (COLUMN_LENGTHS): ColumnDataSource column lengths are not all the same: ColumnDataSource, ViewModel:ColumnDataSource, ref _id: 473b852b-40cd-48bf-af9d-aae2fdd74e9b\n",
      "ERROR:/home/valerio/Projects/anaconda3/envs/Bokeh/lib/python3.4/site-packages/bokeh/validation/check.py:E-1000 (COLUMN_LENGTHS): ColumnDataSource column lengths are not all the same: ColumnDataSource, ViewModel:ColumnDataSource, ref _id: 8e04a7b5-0c10-43ad-874b-85d01289b325\n",
      "ERROR:/home/valerio/Projects/anaconda3/envs/Bokeh/lib/python3.4/site-packages/bokeh/validation/check.py:E-1000 (COLUMN_LENGTHS): ColumnDataSource column lengths are not all the same: ColumnDataSource, ViewModel:ColumnDataSource, ref _id: 9b96bd09-355a-48d5-98d2-29ad451b86ac\n",
      "ERROR:/home/valerio/Projects/anaconda3/envs/Bokeh/lib/python3.4/site-packages/bokeh/validation/check.py:E-1000 (COLUMN_LENGTHS): ColumnDataSource column lengths are not all the same: ColumnDataSource, ViewModel:ColumnDataSource, ref _id: a0f570be-c5c3-496a-9c45-9cfc8427baf8\n",
      "ERROR:/home/valerio/Projects/anaconda3/envs/Bokeh/lib/python3.4/site-packages/bokeh/validation/check.py:E-1000 (COLUMN_LENGTHS): ColumnDataSource column lengths are not all the same: ColumnDataSource, ViewModel:ColumnDataSource, ref _id: baa09194-7d10-4f0c-afb8-f0e98b718f9c\n",
      "ERROR:/home/valerio/Projects/anaconda3/envs/Bokeh/lib/python3.4/site-packages/bokeh/validation/check.py:E-1000 (COLUMN_LENGTHS): ColumnDataSource column lengths are not all the same: ColumnDataSource, ViewModel:ColumnDataSource, ref _id: dd34e698-260e-42d2-9b63-1d04d56ac2c2\n"
     ]
    },
    {
     "name": "stdout",
     "output_type": "stream",
     "text": [
      "\n",
      "<bokeh.document.Document object at 0x7f23c762c278>\n",
      "<bokeh.document.Document object at 0x7f23c762c278>"
     ]
    },
    {
     "name": "stderr",
     "output_type": "stream",
     "text": [
      "ERROR:/home/valerio/Projects/anaconda3/envs/Bokeh/lib/python3.4/site-packages/bokeh/validation/check.py:E-1000 (COLUMN_LENGTHS): ColumnDataSource column lengths are not all the same: ColumnDataSource, ViewModel:ColumnDataSource, ref _id: 002275c9-12c0-459f-b3e5-d46cf1538373\n",
      "ERROR:/home/valerio/Projects/anaconda3/envs/Bokeh/lib/python3.4/site-packages/bokeh/validation/check.py:E-1000 (COLUMN_LENGTHS): ColumnDataSource column lengths are not all the same: ColumnDataSource, ViewModel:ColumnDataSource, ref _id: 204efda8-19b6-4c7a-adaa-c9c18cb96128\n",
      "ERROR:/home/valerio/Projects/anaconda3/envs/Bokeh/lib/python3.4/site-packages/bokeh/validation/check.py:E-1000 (COLUMN_LENGTHS): ColumnDataSource column lengths are not all the same: ColumnDataSource, ViewModel:ColumnDataSource, ref _id: 473b852b-40cd-48bf-af9d-aae2fdd74e9b\n",
      "ERROR:/home/valerio/Projects/anaconda3/envs/Bokeh/lib/python3.4/site-packages/bokeh/validation/check.py:E-1000 (COLUMN_LENGTHS): ColumnDataSource column lengths are not all the same: ColumnDataSource, ViewModel:ColumnDataSource, ref _id: 8e04a7b5-0c10-43ad-874b-85d01289b325\n",
      "ERROR:/home/valerio/Projects/anaconda3/envs/Bokeh/lib/python3.4/site-packages/bokeh/validation/check.py:E-1000 (COLUMN_LENGTHS): ColumnDataSource column lengths are not all the same: ColumnDataSource, ViewModel:ColumnDataSource, ref _id: 9b96bd09-355a-48d5-98d2-29ad451b86ac\n",
      "ERROR:/home/valerio/Projects/anaconda3/envs/Bokeh/lib/python3.4/site-packages/bokeh/validation/check.py:E-1000 (COLUMN_LENGTHS): ColumnDataSource column lengths are not all the same: ColumnDataSource, ViewModel:ColumnDataSource, ref _id: a0f570be-c5c3-496a-9c45-9cfc8427baf8\n",
      "ERROR:/home/valerio/Projects/anaconda3/envs/Bokeh/lib/python3.4/site-packages/bokeh/validation/check.py:E-1000 (COLUMN_LENGTHS): ColumnDataSource column lengths are not all the same: ColumnDataSource, ViewModel:ColumnDataSource, ref _id: baa09194-7d10-4f0c-afb8-f0e98b718f9c\n",
      "ERROR:/home/valerio/Projects/anaconda3/envs/Bokeh/lib/python3.4/site-packages/bokeh/validation/check.py:E-1000 (COLUMN_LENGTHS): ColumnDataSource column lengths are not all the same: ColumnDataSource, ViewModel:ColumnDataSource, ref _id: dd34e698-260e-42d2-9b63-1d04d56ac2c2\n"
     ]
    },
    {
     "name": "stdout",
     "output_type": "stream",
     "text": [
      "\n",
      "<bokeh.document.Document object at 0x7f23c762c278>\n",
      "<bokeh.document.Document object at 0x7f23c762c278>"
     ]
    },
    {
     "name": "stderr",
     "output_type": "stream",
     "text": [
      "ERROR:/home/valerio/Projects/anaconda3/envs/Bokeh/lib/python3.4/site-packages/bokeh/validation/check.py:E-1000 (COLUMN_LENGTHS): ColumnDataSource column lengths are not all the same: ColumnDataSource, ViewModel:ColumnDataSource, ref _id: 002275c9-12c0-459f-b3e5-d46cf1538373\n",
      "ERROR:/home/valerio/Projects/anaconda3/envs/Bokeh/lib/python3.4/site-packages/bokeh/validation/check.py:E-1000 (COLUMN_LENGTHS): ColumnDataSource column lengths are not all the same: ColumnDataSource, ViewModel:ColumnDataSource, ref _id: 204efda8-19b6-4c7a-adaa-c9c18cb96128\n",
      "ERROR:/home/valerio/Projects/anaconda3/envs/Bokeh/lib/python3.4/site-packages/bokeh/validation/check.py:E-1000 (COLUMN_LENGTHS): ColumnDataSource column lengths are not all the same: ColumnDataSource, ViewModel:ColumnDataSource, ref _id: 473b852b-40cd-48bf-af9d-aae2fdd74e9b\n",
      "ERROR:/home/valerio/Projects/anaconda3/envs/Bokeh/lib/python3.4/site-packages/bokeh/validation/check.py:E-1000 (COLUMN_LENGTHS): ColumnDataSource column lengths are not all the same: ColumnDataSource, ViewModel:ColumnDataSource, ref _id: 8e04a7b5-0c10-43ad-874b-85d01289b325\n",
      "ERROR:/home/valerio/Projects/anaconda3/envs/Bokeh/lib/python3.4/site-packages/bokeh/validation/check.py:E-1000 (COLUMN_LENGTHS): ColumnDataSource column lengths are not all the same: ColumnDataSource, ViewModel:ColumnDataSource, ref _id: 9b96bd09-355a-48d5-98d2-29ad451b86ac\n",
      "ERROR:/home/valerio/Projects/anaconda3/envs/Bokeh/lib/python3.4/site-packages/bokeh/validation/check.py:E-1000 (COLUMN_LENGTHS): ColumnDataSource column lengths are not all the same: ColumnDataSource, ViewModel:ColumnDataSource, ref _id: a0f570be-c5c3-496a-9c45-9cfc8427baf8\n",
      "ERROR:/home/valerio/Projects/anaconda3/envs/Bokeh/lib/python3.4/site-packages/bokeh/validation/check.py:E-1000 (COLUMN_LENGTHS): ColumnDataSource column lengths are not all the same: ColumnDataSource, ViewModel:ColumnDataSource, ref _id: baa09194-7d10-4f0c-afb8-f0e98b718f9c\n",
      "ERROR:/home/valerio/Projects/anaconda3/envs/Bokeh/lib/python3.4/site-packages/bokeh/validation/check.py:E-1000 (COLUMN_LENGTHS): ColumnDataSource column lengths are not all the same: ColumnDataSource, ViewModel:ColumnDataSource, ref _id: dd34e698-260e-42d2-9b63-1d04d56ac2c2\n"
     ]
    },
    {
     "name": "stdout",
     "output_type": "stream",
     "text": [
      "\n",
      "<bokeh.document.Document object at 0x7f23c762c278>\n",
      "<bokeh.document.Document object at 0x7f23c762c278>"
     ]
    },
    {
     "name": "stderr",
     "output_type": "stream",
     "text": [
      "ERROR:/home/valerio/Projects/anaconda3/envs/Bokeh/lib/python3.4/site-packages/bokeh/validation/check.py:E-1000 (COLUMN_LENGTHS): ColumnDataSource column lengths are not all the same: ColumnDataSource, ViewModel:ColumnDataSource, ref _id: 002275c9-12c0-459f-b3e5-d46cf1538373\n",
      "ERROR:/home/valerio/Projects/anaconda3/envs/Bokeh/lib/python3.4/site-packages/bokeh/validation/check.py:E-1000 (COLUMN_LENGTHS): ColumnDataSource column lengths are not all the same: ColumnDataSource, ViewModel:ColumnDataSource, ref _id: 204efda8-19b6-4c7a-adaa-c9c18cb96128\n",
      "ERROR:/home/valerio/Projects/anaconda3/envs/Bokeh/lib/python3.4/site-packages/bokeh/validation/check.py:E-1000 (COLUMN_LENGTHS): ColumnDataSource column lengths are not all the same: ColumnDataSource, ViewModel:ColumnDataSource, ref _id: 473b852b-40cd-48bf-af9d-aae2fdd74e9b\n",
      "ERROR:/home/valerio/Projects/anaconda3/envs/Bokeh/lib/python3.4/site-packages/bokeh/validation/check.py:E-1000 (COLUMN_LENGTHS): ColumnDataSource column lengths are not all the same: ColumnDataSource, ViewModel:ColumnDataSource, ref _id: 8e04a7b5-0c10-43ad-874b-85d01289b325\n",
      "ERROR:/home/valerio/Projects/anaconda3/envs/Bokeh/lib/python3.4/site-packages/bokeh/validation/check.py:E-1000 (COLUMN_LENGTHS): ColumnDataSource column lengths are not all the same: ColumnDataSource, ViewModel:ColumnDataSource, ref _id: 9b96bd09-355a-48d5-98d2-29ad451b86ac\n",
      "ERROR:/home/valerio/Projects/anaconda3/envs/Bokeh/lib/python3.4/site-packages/bokeh/validation/check.py:E-1000 (COLUMN_LENGTHS): ColumnDataSource column lengths are not all the same: ColumnDataSource, ViewModel:ColumnDataSource, ref _id: a0f570be-c5c3-496a-9c45-9cfc8427baf8\n",
      "ERROR:/home/valerio/Projects/anaconda3/envs/Bokeh/lib/python3.4/site-packages/bokeh/validation/check.py:E-1000 (COLUMN_LENGTHS): ColumnDataSource column lengths are not all the same: ColumnDataSource, ViewModel:ColumnDataSource, ref _id: baa09194-7d10-4f0c-afb8-f0e98b718f9c\n",
      "ERROR:/home/valerio/Projects/anaconda3/envs/Bokeh/lib/python3.4/site-packages/bokeh/validation/check.py:E-1000 (COLUMN_LENGTHS): ColumnDataSource column lengths are not all the same: ColumnDataSource, ViewModel:ColumnDataSource, ref _id: dd34e698-260e-42d2-9b63-1d04d56ac2c2\n"
     ]
    },
    {
     "name": "stdout",
     "output_type": "stream",
     "text": [
      "\n",
      "<bokeh.document.Document object at 0x7f23c762c278>\n",
      "<bokeh.document.Document object at 0x7f23c762c278>"
     ]
    },
    {
     "name": "stderr",
     "output_type": "stream",
     "text": [
      "ERROR:/home/valerio/Projects/anaconda3/envs/Bokeh/lib/python3.4/site-packages/bokeh/validation/check.py:E-1000 (COLUMN_LENGTHS): ColumnDataSource column lengths are not all the same: ColumnDataSource, ViewModel:ColumnDataSource, ref _id: 002275c9-12c0-459f-b3e5-d46cf1538373\n",
      "ERROR:/home/valerio/Projects/anaconda3/envs/Bokeh/lib/python3.4/site-packages/bokeh/validation/check.py:E-1000 (COLUMN_LENGTHS): ColumnDataSource column lengths are not all the same: ColumnDataSource, ViewModel:ColumnDataSource, ref _id: 204efda8-19b6-4c7a-adaa-c9c18cb96128\n",
      "ERROR:/home/valerio/Projects/anaconda3/envs/Bokeh/lib/python3.4/site-packages/bokeh/validation/check.py:E-1000 (COLUMN_LENGTHS): ColumnDataSource column lengths are not all the same: ColumnDataSource, ViewModel:ColumnDataSource, ref _id: 473b852b-40cd-48bf-af9d-aae2fdd74e9b\n",
      "ERROR:/home/valerio/Projects/anaconda3/envs/Bokeh/lib/python3.4/site-packages/bokeh/validation/check.py:E-1000 (COLUMN_LENGTHS): ColumnDataSource column lengths are not all the same: ColumnDataSource, ViewModel:ColumnDataSource, ref _id: 8e04a7b5-0c10-43ad-874b-85d01289b325\n",
      "ERROR:/home/valerio/Projects/anaconda3/envs/Bokeh/lib/python3.4/site-packages/bokeh/validation/check.py:E-1000 (COLUMN_LENGTHS): ColumnDataSource column lengths are not all the same: ColumnDataSource, ViewModel:ColumnDataSource, ref _id: 9b96bd09-355a-48d5-98d2-29ad451b86ac\n",
      "ERROR:/home/valerio/Projects/anaconda3/envs/Bokeh/lib/python3.4/site-packages/bokeh/validation/check.py:E-1000 (COLUMN_LENGTHS): ColumnDataSource column lengths are not all the same: ColumnDataSource, ViewModel:ColumnDataSource, ref _id: a0f570be-c5c3-496a-9c45-9cfc8427baf8\n",
      "ERROR:/home/valerio/Projects/anaconda3/envs/Bokeh/lib/python3.4/site-packages/bokeh/validation/check.py:E-1000 (COLUMN_LENGTHS): ColumnDataSource column lengths are not all the same: ColumnDataSource, ViewModel:ColumnDataSource, ref _id: baa09194-7d10-4f0c-afb8-f0e98b718f9c\n",
      "ERROR:/home/valerio/Projects/anaconda3/envs/Bokeh/lib/python3.4/site-packages/bokeh/validation/check.py:E-1000 (COLUMN_LENGTHS): ColumnDataSource column lengths are not all the same: ColumnDataSource, ViewModel:ColumnDataSource, ref _id: dd34e698-260e-42d2-9b63-1d04d56ac2c2\n"
     ]
    },
    {
     "name": "stdout",
     "output_type": "stream",
     "text": [
      "\n",
      "<bokeh.document.Document object at 0x7f23c762c278>\n",
      "<bokeh.document.Document object at 0x7f23c762c278>"
     ]
    },
    {
     "name": "stderr",
     "output_type": "stream",
     "text": [
      "ERROR:/home/valerio/Projects/anaconda3/envs/Bokeh/lib/python3.4/site-packages/bokeh/validation/check.py:E-1000 (COLUMN_LENGTHS): ColumnDataSource column lengths are not all the same: ColumnDataSource, ViewModel:ColumnDataSource, ref _id: 002275c9-12c0-459f-b3e5-d46cf1538373\n",
      "ERROR:/home/valerio/Projects/anaconda3/envs/Bokeh/lib/python3.4/site-packages/bokeh/validation/check.py:E-1000 (COLUMN_LENGTHS): ColumnDataSource column lengths are not all the same: ColumnDataSource, ViewModel:ColumnDataSource, ref _id: 204efda8-19b6-4c7a-adaa-c9c18cb96128\n",
      "ERROR:/home/valerio/Projects/anaconda3/envs/Bokeh/lib/python3.4/site-packages/bokeh/validation/check.py:E-1000 (COLUMN_LENGTHS): ColumnDataSource column lengths are not all the same: ColumnDataSource, ViewModel:ColumnDataSource, ref _id: 473b852b-40cd-48bf-af9d-aae2fdd74e9b\n",
      "ERROR:/home/valerio/Projects/anaconda3/envs/Bokeh/lib/python3.4/site-packages/bokeh/validation/check.py:E-1000 (COLUMN_LENGTHS): ColumnDataSource column lengths are not all the same: ColumnDataSource, ViewModel:ColumnDataSource, ref _id: 8e04a7b5-0c10-43ad-874b-85d01289b325\n",
      "ERROR:/home/valerio/Projects/anaconda3/envs/Bokeh/lib/python3.4/site-packages/bokeh/validation/check.py:E-1000 (COLUMN_LENGTHS): ColumnDataSource column lengths are not all the same: ColumnDataSource, ViewModel:ColumnDataSource, ref _id: 9b96bd09-355a-48d5-98d2-29ad451b86ac\n",
      "ERROR:/home/valerio/Projects/anaconda3/envs/Bokeh/lib/python3.4/site-packages/bokeh/validation/check.py:E-1000 (COLUMN_LENGTHS): ColumnDataSource column lengths are not all the same: ColumnDataSource, ViewModel:ColumnDataSource, ref _id: a0f570be-c5c3-496a-9c45-9cfc8427baf8\n",
      "ERROR:/home/valerio/Projects/anaconda3/envs/Bokeh/lib/python3.4/site-packages/bokeh/validation/check.py:E-1000 (COLUMN_LENGTHS): ColumnDataSource column lengths are not all the same: ColumnDataSource, ViewModel:ColumnDataSource, ref _id: baa09194-7d10-4f0c-afb8-f0e98b718f9c\n",
      "ERROR:/home/valerio/Projects/anaconda3/envs/Bokeh/lib/python3.4/site-packages/bokeh/validation/check.py:E-1000 (COLUMN_LENGTHS): ColumnDataSource column lengths are not all the same: ColumnDataSource, ViewModel:ColumnDataSource, ref _id: dd34e698-260e-42d2-9b63-1d04d56ac2c2\n"
     ]
    },
    {
     "name": "stdout",
     "output_type": "stream",
     "text": [
      "\n",
      "<bokeh.document.Document object at 0x7f23c762c278>\n",
      "<bokeh.document.Document object at 0x7f23c762c278>"
     ]
    },
    {
     "name": "stderr",
     "output_type": "stream",
     "text": [
      "ERROR:/home/valerio/Projects/anaconda3/envs/Bokeh/lib/python3.4/site-packages/bokeh/validation/check.py:E-1000 (COLUMN_LENGTHS): ColumnDataSource column lengths are not all the same: ColumnDataSource, ViewModel:ColumnDataSource, ref _id: 002275c9-12c0-459f-b3e5-d46cf1538373\n",
      "ERROR:/home/valerio/Projects/anaconda3/envs/Bokeh/lib/python3.4/site-packages/bokeh/validation/check.py:E-1000 (COLUMN_LENGTHS): ColumnDataSource column lengths are not all the same: ColumnDataSource, ViewModel:ColumnDataSource, ref _id: 204efda8-19b6-4c7a-adaa-c9c18cb96128\n",
      "ERROR:/home/valerio/Projects/anaconda3/envs/Bokeh/lib/python3.4/site-packages/bokeh/validation/check.py:E-1000 (COLUMN_LENGTHS): ColumnDataSource column lengths are not all the same: ColumnDataSource, ViewModel:ColumnDataSource, ref _id: 473b852b-40cd-48bf-af9d-aae2fdd74e9b\n",
      "ERROR:/home/valerio/Projects/anaconda3/envs/Bokeh/lib/python3.4/site-packages/bokeh/validation/check.py:E-1000 (COLUMN_LENGTHS): ColumnDataSource column lengths are not all the same: ColumnDataSource, ViewModel:ColumnDataSource, ref _id: 8e04a7b5-0c10-43ad-874b-85d01289b325\n",
      "ERROR:/home/valerio/Projects/anaconda3/envs/Bokeh/lib/python3.4/site-packages/bokeh/validation/check.py:E-1000 (COLUMN_LENGTHS): ColumnDataSource column lengths are not all the same: ColumnDataSource, ViewModel:ColumnDataSource, ref _id: 9b96bd09-355a-48d5-98d2-29ad451b86ac\n",
      "ERROR:/home/valerio/Projects/anaconda3/envs/Bokeh/lib/python3.4/site-packages/bokeh/validation/check.py:E-1000 (COLUMN_LENGTHS): ColumnDataSource column lengths are not all the same: ColumnDataSource, ViewModel:ColumnDataSource, ref _id: a0f570be-c5c3-496a-9c45-9cfc8427baf8\n",
      "ERROR:/home/valerio/Projects/anaconda3/envs/Bokeh/lib/python3.4/site-packages/bokeh/validation/check.py:E-1000 (COLUMN_LENGTHS): ColumnDataSource column lengths are not all the same: ColumnDataSource, ViewModel:ColumnDataSource, ref _id: baa09194-7d10-4f0c-afb8-f0e98b718f9c\n",
      "ERROR:/home/valerio/Projects/anaconda3/envs/Bokeh/lib/python3.4/site-packages/bokeh/validation/check.py:E-1000 (COLUMN_LENGTHS): ColumnDataSource column lengths are not all the same: ColumnDataSource, ViewModel:ColumnDataSource, ref _id: dd34e698-260e-42d2-9b63-1d04d56ac2c2\n"
     ]
    },
    {
     "name": "stdout",
     "output_type": "stream",
     "text": [
      "\n",
      "<bokeh.document.Document object at 0x7f23c762c278>\n",
      "<bokeh.document.Document object at 0x7f23c762c278>"
     ]
    },
    {
     "name": "stderr",
     "output_type": "stream",
     "text": [
      "ERROR:/home/valerio/Projects/anaconda3/envs/Bokeh/lib/python3.4/site-packages/bokeh/validation/check.py:E-1000 (COLUMN_LENGTHS): ColumnDataSource column lengths are not all the same: ColumnDataSource, ViewModel:ColumnDataSource, ref _id: 002275c9-12c0-459f-b3e5-d46cf1538373\n",
      "ERROR:/home/valerio/Projects/anaconda3/envs/Bokeh/lib/python3.4/site-packages/bokeh/validation/check.py:E-1000 (COLUMN_LENGTHS): ColumnDataSource column lengths are not all the same: ColumnDataSource, ViewModel:ColumnDataSource, ref _id: 204efda8-19b6-4c7a-adaa-c9c18cb96128\n",
      "ERROR:/home/valerio/Projects/anaconda3/envs/Bokeh/lib/python3.4/site-packages/bokeh/validation/check.py:E-1000 (COLUMN_LENGTHS): ColumnDataSource column lengths are not all the same: ColumnDataSource, ViewModel:ColumnDataSource, ref _id: 473b852b-40cd-48bf-af9d-aae2fdd74e9b\n",
      "ERROR:/home/valerio/Projects/anaconda3/envs/Bokeh/lib/python3.4/site-packages/bokeh/validation/check.py:E-1000 (COLUMN_LENGTHS): ColumnDataSource column lengths are not all the same: ColumnDataSource, ViewModel:ColumnDataSource, ref _id: 8e04a7b5-0c10-43ad-874b-85d01289b325\n",
      "ERROR:/home/valerio/Projects/anaconda3/envs/Bokeh/lib/python3.4/site-packages/bokeh/validation/check.py:E-1000 (COLUMN_LENGTHS): ColumnDataSource column lengths are not all the same: ColumnDataSource, ViewModel:ColumnDataSource, ref _id: 9b96bd09-355a-48d5-98d2-29ad451b86ac\n",
      "ERROR:/home/valerio/Projects/anaconda3/envs/Bokeh/lib/python3.4/site-packages/bokeh/validation/check.py:E-1000 (COLUMN_LENGTHS): ColumnDataSource column lengths are not all the same: ColumnDataSource, ViewModel:ColumnDataSource, ref _id: a0f570be-c5c3-496a-9c45-9cfc8427baf8\n",
      "ERROR:/home/valerio/Projects/anaconda3/envs/Bokeh/lib/python3.4/site-packages/bokeh/validation/check.py:E-1000 (COLUMN_LENGTHS): ColumnDataSource column lengths are not all the same: ColumnDataSource, ViewModel:ColumnDataSource, ref _id: baa09194-7d10-4f0c-afb8-f0e98b718f9c\n",
      "ERROR:/home/valerio/Projects/anaconda3/envs/Bokeh/lib/python3.4/site-packages/bokeh/validation/check.py:E-1000 (COLUMN_LENGTHS): ColumnDataSource column lengths are not all the same: ColumnDataSource, ViewModel:ColumnDataSource, ref _id: dd34e698-260e-42d2-9b63-1d04d56ac2c2\n"
     ]
    },
    {
     "name": "stdout",
     "output_type": "stream",
     "text": [
      "\n",
      "<bokeh.document.Document object at 0x7f23c762c278>\n",
      "<bokeh.document.Document object at 0x7f23c762c278>"
     ]
    },
    {
     "name": "stderr",
     "output_type": "stream",
     "text": [
      "ERROR:/home/valerio/Projects/anaconda3/envs/Bokeh/lib/python3.4/site-packages/bokeh/validation/check.py:E-1000 (COLUMN_LENGTHS): ColumnDataSource column lengths are not all the same: ColumnDataSource, ViewModel:ColumnDataSource, ref _id: 002275c9-12c0-459f-b3e5-d46cf1538373\n",
      "ERROR:/home/valerio/Projects/anaconda3/envs/Bokeh/lib/python3.4/site-packages/bokeh/validation/check.py:E-1000 (COLUMN_LENGTHS): ColumnDataSource column lengths are not all the same: ColumnDataSource, ViewModel:ColumnDataSource, ref _id: 204efda8-19b6-4c7a-adaa-c9c18cb96128\n",
      "ERROR:/home/valerio/Projects/anaconda3/envs/Bokeh/lib/python3.4/site-packages/bokeh/validation/check.py:E-1000 (COLUMN_LENGTHS): ColumnDataSource column lengths are not all the same: ColumnDataSource, ViewModel:ColumnDataSource, ref _id: 473b852b-40cd-48bf-af9d-aae2fdd74e9b\n",
      "ERROR:/home/valerio/Projects/anaconda3/envs/Bokeh/lib/python3.4/site-packages/bokeh/validation/check.py:E-1000 (COLUMN_LENGTHS): ColumnDataSource column lengths are not all the same: ColumnDataSource, ViewModel:ColumnDataSource, ref _id: 8e04a7b5-0c10-43ad-874b-85d01289b325\n",
      "ERROR:/home/valerio/Projects/anaconda3/envs/Bokeh/lib/python3.4/site-packages/bokeh/validation/check.py:E-1000 (COLUMN_LENGTHS): ColumnDataSource column lengths are not all the same: ColumnDataSource, ViewModel:ColumnDataSource, ref _id: 9b96bd09-355a-48d5-98d2-29ad451b86ac\n",
      "ERROR:/home/valerio/Projects/anaconda3/envs/Bokeh/lib/python3.4/site-packages/bokeh/validation/check.py:E-1000 (COLUMN_LENGTHS): ColumnDataSource column lengths are not all the same: ColumnDataSource, ViewModel:ColumnDataSource, ref _id: a0f570be-c5c3-496a-9c45-9cfc8427baf8\n",
      "ERROR:/home/valerio/Projects/anaconda3/envs/Bokeh/lib/python3.4/site-packages/bokeh/validation/check.py:E-1000 (COLUMN_LENGTHS): ColumnDataSource column lengths are not all the same: ColumnDataSource, ViewModel:ColumnDataSource, ref _id: baa09194-7d10-4f0c-afb8-f0e98b718f9c\n",
      "ERROR:/home/valerio/Projects/anaconda3/envs/Bokeh/lib/python3.4/site-packages/bokeh/validation/check.py:E-1000 (COLUMN_LENGTHS): ColumnDataSource column lengths are not all the same: ColumnDataSource, ViewModel:ColumnDataSource, ref _id: dd34e698-260e-42d2-9b63-1d04d56ac2c2\n"
     ]
    },
    {
     "name": "stdout",
     "output_type": "stream",
     "text": [
      "\n",
      "<bokeh.document.Document object at 0x7f23c762c278>\n",
      "<bokeh.document.Document object at 0x7f23c762c278>"
     ]
    },
    {
     "name": "stderr",
     "output_type": "stream",
     "text": [
      "ERROR:/home/valerio/Projects/anaconda3/envs/Bokeh/lib/python3.4/site-packages/bokeh/validation/check.py:E-1000 (COLUMN_LENGTHS): ColumnDataSource column lengths are not all the same: ColumnDataSource, ViewModel:ColumnDataSource, ref _id: 002275c9-12c0-459f-b3e5-d46cf1538373\n",
      "ERROR:/home/valerio/Projects/anaconda3/envs/Bokeh/lib/python3.4/site-packages/bokeh/validation/check.py:E-1000 (COLUMN_LENGTHS): ColumnDataSource column lengths are not all the same: ColumnDataSource, ViewModel:ColumnDataSource, ref _id: 204efda8-19b6-4c7a-adaa-c9c18cb96128\n",
      "ERROR:/home/valerio/Projects/anaconda3/envs/Bokeh/lib/python3.4/site-packages/bokeh/validation/check.py:E-1000 (COLUMN_LENGTHS): ColumnDataSource column lengths are not all the same: ColumnDataSource, ViewModel:ColumnDataSource, ref _id: 473b852b-40cd-48bf-af9d-aae2fdd74e9b\n",
      "ERROR:/home/valerio/Projects/anaconda3/envs/Bokeh/lib/python3.4/site-packages/bokeh/validation/check.py:E-1000 (COLUMN_LENGTHS): ColumnDataSource column lengths are not all the same: ColumnDataSource, ViewModel:ColumnDataSource, ref _id: 8e04a7b5-0c10-43ad-874b-85d01289b325\n",
      "ERROR:/home/valerio/Projects/anaconda3/envs/Bokeh/lib/python3.4/site-packages/bokeh/validation/check.py:E-1000 (COLUMN_LENGTHS): ColumnDataSource column lengths are not all the same: ColumnDataSource, ViewModel:ColumnDataSource, ref _id: 9b96bd09-355a-48d5-98d2-29ad451b86ac\n",
      "ERROR:/home/valerio/Projects/anaconda3/envs/Bokeh/lib/python3.4/site-packages/bokeh/validation/check.py:E-1000 (COLUMN_LENGTHS): ColumnDataSource column lengths are not all the same: ColumnDataSource, ViewModel:ColumnDataSource, ref _id: a0f570be-c5c3-496a-9c45-9cfc8427baf8\n",
      "ERROR:/home/valerio/Projects/anaconda3/envs/Bokeh/lib/python3.4/site-packages/bokeh/validation/check.py:E-1000 (COLUMN_LENGTHS): ColumnDataSource column lengths are not all the same: ColumnDataSource, ViewModel:ColumnDataSource, ref _id: baa09194-7d10-4f0c-afb8-f0e98b718f9c\n",
      "ERROR:/home/valerio/Projects/anaconda3/envs/Bokeh/lib/python3.4/site-packages/bokeh/validation/check.py:E-1000 (COLUMN_LENGTHS): ColumnDataSource column lengths are not all the same: ColumnDataSource, ViewModel:ColumnDataSource, ref _id: dd34e698-260e-42d2-9b63-1d04d56ac2c2\n"
     ]
    },
    {
     "name": "stdout",
     "output_type": "stream",
     "text": [
      "\n",
      "<bokeh.document.Document object at 0x7f23c762c278>\n",
      "<bokeh.document.Document object at 0x7f23c762c278>"
     ]
    },
    {
     "name": "stderr",
     "output_type": "stream",
     "text": [
      "ERROR:/home/valerio/Projects/anaconda3/envs/Bokeh/lib/python3.4/site-packages/bokeh/validation/check.py:E-1000 (COLUMN_LENGTHS): ColumnDataSource column lengths are not all the same: ColumnDataSource, ViewModel:ColumnDataSource, ref _id: 002275c9-12c0-459f-b3e5-d46cf1538373\n",
      "ERROR:/home/valerio/Projects/anaconda3/envs/Bokeh/lib/python3.4/site-packages/bokeh/validation/check.py:E-1000 (COLUMN_LENGTHS): ColumnDataSource column lengths are not all the same: ColumnDataSource, ViewModel:ColumnDataSource, ref _id: 204efda8-19b6-4c7a-adaa-c9c18cb96128\n",
      "ERROR:/home/valerio/Projects/anaconda3/envs/Bokeh/lib/python3.4/site-packages/bokeh/validation/check.py:E-1000 (COLUMN_LENGTHS): ColumnDataSource column lengths are not all the same: ColumnDataSource, ViewModel:ColumnDataSource, ref _id: 473b852b-40cd-48bf-af9d-aae2fdd74e9b\n",
      "ERROR:/home/valerio/Projects/anaconda3/envs/Bokeh/lib/python3.4/site-packages/bokeh/validation/check.py:E-1000 (COLUMN_LENGTHS): ColumnDataSource column lengths are not all the same: ColumnDataSource, ViewModel:ColumnDataSource, ref _id: 8e04a7b5-0c10-43ad-874b-85d01289b325\n",
      "ERROR:/home/valerio/Projects/anaconda3/envs/Bokeh/lib/python3.4/site-packages/bokeh/validation/check.py:E-1000 (COLUMN_LENGTHS): ColumnDataSource column lengths are not all the same: ColumnDataSource, ViewModel:ColumnDataSource, ref _id: 9b96bd09-355a-48d5-98d2-29ad451b86ac\n",
      "ERROR:/home/valerio/Projects/anaconda3/envs/Bokeh/lib/python3.4/site-packages/bokeh/validation/check.py:E-1000 (COLUMN_LENGTHS): ColumnDataSource column lengths are not all the same: ColumnDataSource, ViewModel:ColumnDataSource, ref _id: a0f570be-c5c3-496a-9c45-9cfc8427baf8\n",
      "ERROR:/home/valerio/Projects/anaconda3/envs/Bokeh/lib/python3.4/site-packages/bokeh/validation/check.py:E-1000 (COLUMN_LENGTHS): ColumnDataSource column lengths are not all the same: ColumnDataSource, ViewModel:ColumnDataSource, ref _id: baa09194-7d10-4f0c-afb8-f0e98b718f9c\n",
      "ERROR:/home/valerio/Projects/anaconda3/envs/Bokeh/lib/python3.4/site-packages/bokeh/validation/check.py:E-1000 (COLUMN_LENGTHS): ColumnDataSource column lengths are not all the same: ColumnDataSource, ViewModel:ColumnDataSource, ref _id: dd34e698-260e-42d2-9b63-1d04d56ac2c2\n"
     ]
    },
    {
     "name": "stdout",
     "output_type": "stream",
     "text": [
      "\n",
      "<bokeh.document.Document object at 0x7f23c762c278>\n",
      "<bokeh.document.Document object at 0x7f23c762c278>"
     ]
    },
    {
     "name": "stderr",
     "output_type": "stream",
     "text": [
      "ERROR:/home/valerio/Projects/anaconda3/envs/Bokeh/lib/python3.4/site-packages/bokeh/validation/check.py:E-1000 (COLUMN_LENGTHS): ColumnDataSource column lengths are not all the same: ColumnDataSource, ViewModel:ColumnDataSource, ref _id: 002275c9-12c0-459f-b3e5-d46cf1538373\n",
      "ERROR:/home/valerio/Projects/anaconda3/envs/Bokeh/lib/python3.4/site-packages/bokeh/validation/check.py:E-1000 (COLUMN_LENGTHS): ColumnDataSource column lengths are not all the same: ColumnDataSource, ViewModel:ColumnDataSource, ref _id: 204efda8-19b6-4c7a-adaa-c9c18cb96128\n",
      "ERROR:/home/valerio/Projects/anaconda3/envs/Bokeh/lib/python3.4/site-packages/bokeh/validation/check.py:E-1000 (COLUMN_LENGTHS): ColumnDataSource column lengths are not all the same: ColumnDataSource, ViewModel:ColumnDataSource, ref _id: 473b852b-40cd-48bf-af9d-aae2fdd74e9b\n",
      "ERROR:/home/valerio/Projects/anaconda3/envs/Bokeh/lib/python3.4/site-packages/bokeh/validation/check.py:E-1000 (COLUMN_LENGTHS): ColumnDataSource column lengths are not all the same: ColumnDataSource, ViewModel:ColumnDataSource, ref _id: 8e04a7b5-0c10-43ad-874b-85d01289b325\n",
      "ERROR:/home/valerio/Projects/anaconda3/envs/Bokeh/lib/python3.4/site-packages/bokeh/validation/check.py:E-1000 (COLUMN_LENGTHS): ColumnDataSource column lengths are not all the same: ColumnDataSource, ViewModel:ColumnDataSource, ref _id: 9b96bd09-355a-48d5-98d2-29ad451b86ac\n",
      "ERROR:/home/valerio/Projects/anaconda3/envs/Bokeh/lib/python3.4/site-packages/bokeh/validation/check.py:E-1000 (COLUMN_LENGTHS): ColumnDataSource column lengths are not all the same: ColumnDataSource, ViewModel:ColumnDataSource, ref _id: a0f570be-c5c3-496a-9c45-9cfc8427baf8\n",
      "ERROR:/home/valerio/Projects/anaconda3/envs/Bokeh/lib/python3.4/site-packages/bokeh/validation/check.py:E-1000 (COLUMN_LENGTHS): ColumnDataSource column lengths are not all the same: ColumnDataSource, ViewModel:ColumnDataSource, ref _id: baa09194-7d10-4f0c-afb8-f0e98b718f9c\n",
      "ERROR:/home/valerio/Projects/anaconda3/envs/Bokeh/lib/python3.4/site-packages/bokeh/validation/check.py:E-1000 (COLUMN_LENGTHS): ColumnDataSource column lengths are not all the same: ColumnDataSource, ViewModel:ColumnDataSource, ref _id: dd34e698-260e-42d2-9b63-1d04d56ac2c2\n"
     ]
    },
    {
     "name": "stdout",
     "output_type": "stream",
     "text": [
      "\n",
      "<bokeh.document.Document object at 0x7f23c762c278>\n",
      "<bokeh.document.Document object at 0x7f23c762c278>"
     ]
    },
    {
     "name": "stderr",
     "output_type": "stream",
     "text": [
      "ERROR:/home/valerio/Projects/anaconda3/envs/Bokeh/lib/python3.4/site-packages/bokeh/validation/check.py:E-1000 (COLUMN_LENGTHS): ColumnDataSource column lengths are not all the same: ColumnDataSource, ViewModel:ColumnDataSource, ref _id: 002275c9-12c0-459f-b3e5-d46cf1538373\n",
      "ERROR:/home/valerio/Projects/anaconda3/envs/Bokeh/lib/python3.4/site-packages/bokeh/validation/check.py:E-1000 (COLUMN_LENGTHS): ColumnDataSource column lengths are not all the same: ColumnDataSource, ViewModel:ColumnDataSource, ref _id: 204efda8-19b6-4c7a-adaa-c9c18cb96128\n",
      "ERROR:/home/valerio/Projects/anaconda3/envs/Bokeh/lib/python3.4/site-packages/bokeh/validation/check.py:E-1000 (COLUMN_LENGTHS): ColumnDataSource column lengths are not all the same: ColumnDataSource, ViewModel:ColumnDataSource, ref _id: 473b852b-40cd-48bf-af9d-aae2fdd74e9b\n",
      "ERROR:/home/valerio/Projects/anaconda3/envs/Bokeh/lib/python3.4/site-packages/bokeh/validation/check.py:E-1000 (COLUMN_LENGTHS): ColumnDataSource column lengths are not all the same: ColumnDataSource, ViewModel:ColumnDataSource, ref _id: 8e04a7b5-0c10-43ad-874b-85d01289b325\n",
      "ERROR:/home/valerio/Projects/anaconda3/envs/Bokeh/lib/python3.4/site-packages/bokeh/validation/check.py:E-1000 (COLUMN_LENGTHS): ColumnDataSource column lengths are not all the same: ColumnDataSource, ViewModel:ColumnDataSource, ref _id: 9b96bd09-355a-48d5-98d2-29ad451b86ac\n",
      "ERROR:/home/valerio/Projects/anaconda3/envs/Bokeh/lib/python3.4/site-packages/bokeh/validation/check.py:E-1000 (COLUMN_LENGTHS): ColumnDataSource column lengths are not all the same: ColumnDataSource, ViewModel:ColumnDataSource, ref _id: a0f570be-c5c3-496a-9c45-9cfc8427baf8\n",
      "ERROR:/home/valerio/Projects/anaconda3/envs/Bokeh/lib/python3.4/site-packages/bokeh/validation/check.py:E-1000 (COLUMN_LENGTHS): ColumnDataSource column lengths are not all the same: ColumnDataSource, ViewModel:ColumnDataSource, ref _id: baa09194-7d10-4f0c-afb8-f0e98b718f9c\n",
      "ERROR:/home/valerio/Projects/anaconda3/envs/Bokeh/lib/python3.4/site-packages/bokeh/validation/check.py:E-1000 (COLUMN_LENGTHS): ColumnDataSource column lengths are not all the same: ColumnDataSource, ViewModel:ColumnDataSource, ref _id: dd34e698-260e-42d2-9b63-1d04d56ac2c2\n"
     ]
    },
    {
     "name": "stdout",
     "output_type": "stream",
     "text": [
      "\n",
      "<bokeh.document.Document object at 0x7f23c762c278>\n",
      "<bokeh.document.Document object at 0x7f23c762c278>"
     ]
    },
    {
     "name": "stderr",
     "output_type": "stream",
     "text": [
      "ERROR:/home/valerio/Projects/anaconda3/envs/Bokeh/lib/python3.4/site-packages/bokeh/validation/check.py:E-1000 (COLUMN_LENGTHS): ColumnDataSource column lengths are not all the same: ColumnDataSource, ViewModel:ColumnDataSource, ref _id: 002275c9-12c0-459f-b3e5-d46cf1538373\n",
      "ERROR:/home/valerio/Projects/anaconda3/envs/Bokeh/lib/python3.4/site-packages/bokeh/validation/check.py:E-1000 (COLUMN_LENGTHS): ColumnDataSource column lengths are not all the same: ColumnDataSource, ViewModel:ColumnDataSource, ref _id: 204efda8-19b6-4c7a-adaa-c9c18cb96128\n",
      "ERROR:/home/valerio/Projects/anaconda3/envs/Bokeh/lib/python3.4/site-packages/bokeh/validation/check.py:E-1000 (COLUMN_LENGTHS): ColumnDataSource column lengths are not all the same: ColumnDataSource, ViewModel:ColumnDataSource, ref _id: 473b852b-40cd-48bf-af9d-aae2fdd74e9b\n",
      "ERROR:/home/valerio/Projects/anaconda3/envs/Bokeh/lib/python3.4/site-packages/bokeh/validation/check.py:E-1000 (COLUMN_LENGTHS): ColumnDataSource column lengths are not all the same: ColumnDataSource, ViewModel:ColumnDataSource, ref _id: 8e04a7b5-0c10-43ad-874b-85d01289b325\n",
      "ERROR:/home/valerio/Projects/anaconda3/envs/Bokeh/lib/python3.4/site-packages/bokeh/validation/check.py:E-1000 (COLUMN_LENGTHS): ColumnDataSource column lengths are not all the same: ColumnDataSource, ViewModel:ColumnDataSource, ref _id: 9b96bd09-355a-48d5-98d2-29ad451b86ac\n",
      "ERROR:/home/valerio/Projects/anaconda3/envs/Bokeh/lib/python3.4/site-packages/bokeh/validation/check.py:E-1000 (COLUMN_LENGTHS): ColumnDataSource column lengths are not all the same: ColumnDataSource, ViewModel:ColumnDataSource, ref _id: a0f570be-c5c3-496a-9c45-9cfc8427baf8\n",
      "ERROR:/home/valerio/Projects/anaconda3/envs/Bokeh/lib/python3.4/site-packages/bokeh/validation/check.py:E-1000 (COLUMN_LENGTHS): ColumnDataSource column lengths are not all the same: ColumnDataSource, ViewModel:ColumnDataSource, ref _id: baa09194-7d10-4f0c-afb8-f0e98b718f9c\n",
      "ERROR:/home/valerio/Projects/anaconda3/envs/Bokeh/lib/python3.4/site-packages/bokeh/validation/check.py:E-1000 (COLUMN_LENGTHS): ColumnDataSource column lengths are not all the same: ColumnDataSource, ViewModel:ColumnDataSource, ref _id: dd34e698-260e-42d2-9b63-1d04d56ac2c2\n"
     ]
    },
    {
     "name": "stdout",
     "output_type": "stream",
     "text": [
      "\n",
      "<bokeh.document.Document object at 0x7f23c762c278>\n",
      "<bokeh.document.Document object at 0x7f23c762c278>"
     ]
    },
    {
     "name": "stderr",
     "output_type": "stream",
     "text": [
      "ERROR:/home/valerio/Projects/anaconda3/envs/Bokeh/lib/python3.4/site-packages/bokeh/validation/check.py:E-1000 (COLUMN_LENGTHS): ColumnDataSource column lengths are not all the same: ColumnDataSource, ViewModel:ColumnDataSource, ref _id: 002275c9-12c0-459f-b3e5-d46cf1538373\n",
      "ERROR:/home/valerio/Projects/anaconda3/envs/Bokeh/lib/python3.4/site-packages/bokeh/validation/check.py:E-1000 (COLUMN_LENGTHS): ColumnDataSource column lengths are not all the same: ColumnDataSource, ViewModel:ColumnDataSource, ref _id: 204efda8-19b6-4c7a-adaa-c9c18cb96128\n",
      "ERROR:/home/valerio/Projects/anaconda3/envs/Bokeh/lib/python3.4/site-packages/bokeh/validation/check.py:E-1000 (COLUMN_LENGTHS): ColumnDataSource column lengths are not all the same: ColumnDataSource, ViewModel:ColumnDataSource, ref _id: 473b852b-40cd-48bf-af9d-aae2fdd74e9b\n",
      "ERROR:/home/valerio/Projects/anaconda3/envs/Bokeh/lib/python3.4/site-packages/bokeh/validation/check.py:E-1000 (COLUMN_LENGTHS): ColumnDataSource column lengths are not all the same: ColumnDataSource, ViewModel:ColumnDataSource, ref _id: 8e04a7b5-0c10-43ad-874b-85d01289b325\n",
      "ERROR:/home/valerio/Projects/anaconda3/envs/Bokeh/lib/python3.4/site-packages/bokeh/validation/check.py:E-1000 (COLUMN_LENGTHS): ColumnDataSource column lengths are not all the same: ColumnDataSource, ViewModel:ColumnDataSource, ref _id: 9b96bd09-355a-48d5-98d2-29ad451b86ac\n",
      "ERROR:/home/valerio/Projects/anaconda3/envs/Bokeh/lib/python3.4/site-packages/bokeh/validation/check.py:E-1000 (COLUMN_LENGTHS): ColumnDataSource column lengths are not all the same: ColumnDataSource, ViewModel:ColumnDataSource, ref _id: a0f570be-c5c3-496a-9c45-9cfc8427baf8\n",
      "ERROR:/home/valerio/Projects/anaconda3/envs/Bokeh/lib/python3.4/site-packages/bokeh/validation/check.py:E-1000 (COLUMN_LENGTHS): ColumnDataSource column lengths are not all the same: ColumnDataSource, ViewModel:ColumnDataSource, ref _id: baa09194-7d10-4f0c-afb8-f0e98b718f9c\n",
      "ERROR:/home/valerio/Projects/anaconda3/envs/Bokeh/lib/python3.4/site-packages/bokeh/validation/check.py:E-1000 (COLUMN_LENGTHS): ColumnDataSource column lengths are not all the same: ColumnDataSource, ViewModel:ColumnDataSource, ref _id: dd34e698-260e-42d2-9b63-1d04d56ac2c2\n"
     ]
    },
    {
     "name": "stdout",
     "output_type": "stream",
     "text": [
      "\n",
      "<bokeh.document.Document object at 0x7f23c762c278>\n",
      "<bokeh.document.Document object at 0x7f23c762c278>"
     ]
    },
    {
     "name": "stderr",
     "output_type": "stream",
     "text": [
      "ERROR:/home/valerio/Projects/anaconda3/envs/Bokeh/lib/python3.4/site-packages/bokeh/validation/check.py:E-1000 (COLUMN_LENGTHS): ColumnDataSource column lengths are not all the same: ColumnDataSource, ViewModel:ColumnDataSource, ref _id: 002275c9-12c0-459f-b3e5-d46cf1538373\n",
      "ERROR:/home/valerio/Projects/anaconda3/envs/Bokeh/lib/python3.4/site-packages/bokeh/validation/check.py:E-1000 (COLUMN_LENGTHS): ColumnDataSource column lengths are not all the same: ColumnDataSource, ViewModel:ColumnDataSource, ref _id: 204efda8-19b6-4c7a-adaa-c9c18cb96128\n",
      "ERROR:/home/valerio/Projects/anaconda3/envs/Bokeh/lib/python3.4/site-packages/bokeh/validation/check.py:E-1000 (COLUMN_LENGTHS): ColumnDataSource column lengths are not all the same: ColumnDataSource, ViewModel:ColumnDataSource, ref _id: 473b852b-40cd-48bf-af9d-aae2fdd74e9b\n",
      "ERROR:/home/valerio/Projects/anaconda3/envs/Bokeh/lib/python3.4/site-packages/bokeh/validation/check.py:E-1000 (COLUMN_LENGTHS): ColumnDataSource column lengths are not all the same: ColumnDataSource, ViewModel:ColumnDataSource, ref _id: 8e04a7b5-0c10-43ad-874b-85d01289b325\n",
      "ERROR:/home/valerio/Projects/anaconda3/envs/Bokeh/lib/python3.4/site-packages/bokeh/validation/check.py:E-1000 (COLUMN_LENGTHS): ColumnDataSource column lengths are not all the same: ColumnDataSource, ViewModel:ColumnDataSource, ref _id: 9b96bd09-355a-48d5-98d2-29ad451b86ac\n",
      "ERROR:/home/valerio/Projects/anaconda3/envs/Bokeh/lib/python3.4/site-packages/bokeh/validation/check.py:E-1000 (COLUMN_LENGTHS): ColumnDataSource column lengths are not all the same: ColumnDataSource, ViewModel:ColumnDataSource, ref _id: a0f570be-c5c3-496a-9c45-9cfc8427baf8\n",
      "ERROR:/home/valerio/Projects/anaconda3/envs/Bokeh/lib/python3.4/site-packages/bokeh/validation/check.py:E-1000 (COLUMN_LENGTHS): ColumnDataSource column lengths are not all the same: ColumnDataSource, ViewModel:ColumnDataSource, ref _id: baa09194-7d10-4f0c-afb8-f0e98b718f9c\n",
      "ERROR:/home/valerio/Projects/anaconda3/envs/Bokeh/lib/python3.4/site-packages/bokeh/validation/check.py:E-1000 (COLUMN_LENGTHS): ColumnDataSource column lengths are not all the same: ColumnDataSource, ViewModel:ColumnDataSource, ref _id: dd34e698-260e-42d2-9b63-1d04d56ac2c2\n"
     ]
    },
    {
     "name": "stdout",
     "output_type": "stream",
     "text": [
      "\n",
      "<bokeh.document.Document object at 0x7f23c762c278>\n",
      "<bokeh.document.Document object at 0x7f23c762c278>"
     ]
    },
    {
     "name": "stderr",
     "output_type": "stream",
     "text": [
      "ERROR:/home/valerio/Projects/anaconda3/envs/Bokeh/lib/python3.4/site-packages/bokeh/validation/check.py:E-1000 (COLUMN_LENGTHS): ColumnDataSource column lengths are not all the same: ColumnDataSource, ViewModel:ColumnDataSource, ref _id: 002275c9-12c0-459f-b3e5-d46cf1538373\n",
      "ERROR:/home/valerio/Projects/anaconda3/envs/Bokeh/lib/python3.4/site-packages/bokeh/validation/check.py:E-1000 (COLUMN_LENGTHS): ColumnDataSource column lengths are not all the same: ColumnDataSource, ViewModel:ColumnDataSource, ref _id: 204efda8-19b6-4c7a-adaa-c9c18cb96128\n",
      "ERROR:/home/valerio/Projects/anaconda3/envs/Bokeh/lib/python3.4/site-packages/bokeh/validation/check.py:E-1000 (COLUMN_LENGTHS): ColumnDataSource column lengths are not all the same: ColumnDataSource, ViewModel:ColumnDataSource, ref _id: 473b852b-40cd-48bf-af9d-aae2fdd74e9b\n",
      "ERROR:/home/valerio/Projects/anaconda3/envs/Bokeh/lib/python3.4/site-packages/bokeh/validation/check.py:E-1000 (COLUMN_LENGTHS): ColumnDataSource column lengths are not all the same: ColumnDataSource, ViewModel:ColumnDataSource, ref _id: 8e04a7b5-0c10-43ad-874b-85d01289b325\n",
      "ERROR:/home/valerio/Projects/anaconda3/envs/Bokeh/lib/python3.4/site-packages/bokeh/validation/check.py:E-1000 (COLUMN_LENGTHS): ColumnDataSource column lengths are not all the same: ColumnDataSource, ViewModel:ColumnDataSource, ref _id: 9b96bd09-355a-48d5-98d2-29ad451b86ac\n",
      "ERROR:/home/valerio/Projects/anaconda3/envs/Bokeh/lib/python3.4/site-packages/bokeh/validation/check.py:E-1000 (COLUMN_LENGTHS): ColumnDataSource column lengths are not all the same: ColumnDataSource, ViewModel:ColumnDataSource, ref _id: a0f570be-c5c3-496a-9c45-9cfc8427baf8\n",
      "ERROR:/home/valerio/Projects/anaconda3/envs/Bokeh/lib/python3.4/site-packages/bokeh/validation/check.py:E-1000 (COLUMN_LENGTHS): ColumnDataSource column lengths are not all the same: ColumnDataSource, ViewModel:ColumnDataSource, ref _id: baa09194-7d10-4f0c-afb8-f0e98b718f9c\n",
      "ERROR:/home/valerio/Projects/anaconda3/envs/Bokeh/lib/python3.4/site-packages/bokeh/validation/check.py:E-1000 (COLUMN_LENGTHS): ColumnDataSource column lengths are not all the same: ColumnDataSource, ViewModel:ColumnDataSource, ref _id: dd34e698-260e-42d2-9b63-1d04d56ac2c2\n"
     ]
    },
    {
     "name": "stdout",
     "output_type": "stream",
     "text": [
      "\n",
      "<bokeh.document.Document object at 0x7f23c762c278>\n",
      "<bokeh.document.Document object at 0x7f23c762c278>"
     ]
    },
    {
     "name": "stderr",
     "output_type": "stream",
     "text": [
      "ERROR:/home/valerio/Projects/anaconda3/envs/Bokeh/lib/python3.4/site-packages/bokeh/validation/check.py:E-1000 (COLUMN_LENGTHS): ColumnDataSource column lengths are not all the same: ColumnDataSource, ViewModel:ColumnDataSource, ref _id: 002275c9-12c0-459f-b3e5-d46cf1538373\n",
      "ERROR:/home/valerio/Projects/anaconda3/envs/Bokeh/lib/python3.4/site-packages/bokeh/validation/check.py:E-1000 (COLUMN_LENGTHS): ColumnDataSource column lengths are not all the same: ColumnDataSource, ViewModel:ColumnDataSource, ref _id: 204efda8-19b6-4c7a-adaa-c9c18cb96128\n",
      "ERROR:/home/valerio/Projects/anaconda3/envs/Bokeh/lib/python3.4/site-packages/bokeh/validation/check.py:E-1000 (COLUMN_LENGTHS): ColumnDataSource column lengths are not all the same: ColumnDataSource, ViewModel:ColumnDataSource, ref _id: 473b852b-40cd-48bf-af9d-aae2fdd74e9b\n",
      "ERROR:/home/valerio/Projects/anaconda3/envs/Bokeh/lib/python3.4/site-packages/bokeh/validation/check.py:E-1000 (COLUMN_LENGTHS): ColumnDataSource column lengths are not all the same: ColumnDataSource, ViewModel:ColumnDataSource, ref _id: 8e04a7b5-0c10-43ad-874b-85d01289b325\n",
      "ERROR:/home/valerio/Projects/anaconda3/envs/Bokeh/lib/python3.4/site-packages/bokeh/validation/check.py:E-1000 (COLUMN_LENGTHS): ColumnDataSource column lengths are not all the same: ColumnDataSource, ViewModel:ColumnDataSource, ref _id: 9b96bd09-355a-48d5-98d2-29ad451b86ac\n",
      "ERROR:/home/valerio/Projects/anaconda3/envs/Bokeh/lib/python3.4/site-packages/bokeh/validation/check.py:E-1000 (COLUMN_LENGTHS): ColumnDataSource column lengths are not all the same: ColumnDataSource, ViewModel:ColumnDataSource, ref _id: a0f570be-c5c3-496a-9c45-9cfc8427baf8\n",
      "ERROR:/home/valerio/Projects/anaconda3/envs/Bokeh/lib/python3.4/site-packages/bokeh/validation/check.py:E-1000 (COLUMN_LENGTHS): ColumnDataSource column lengths are not all the same: ColumnDataSource, ViewModel:ColumnDataSource, ref _id: baa09194-7d10-4f0c-afb8-f0e98b718f9c\n",
      "ERROR:/home/valerio/Projects/anaconda3/envs/Bokeh/lib/python3.4/site-packages/bokeh/validation/check.py:E-1000 (COLUMN_LENGTHS): ColumnDataSource column lengths are not all the same: ColumnDataSource, ViewModel:ColumnDataSource, ref _id: dd34e698-260e-42d2-9b63-1d04d56ac2c2\n"
     ]
    },
    {
     "name": "stdout",
     "output_type": "stream",
     "text": [
      "\n",
      "<bokeh.document.Document object at 0x7f23c762c278>\n",
      "<bokeh.document.Document object at 0x7f23c762c278>"
     ]
    },
    {
     "name": "stderr",
     "output_type": "stream",
     "text": [
      "ERROR:/home/valerio/Projects/anaconda3/envs/Bokeh/lib/python3.4/site-packages/bokeh/validation/check.py:E-1000 (COLUMN_LENGTHS): ColumnDataSource column lengths are not all the same: ColumnDataSource, ViewModel:ColumnDataSource, ref _id: 002275c9-12c0-459f-b3e5-d46cf1538373\n",
      "ERROR:/home/valerio/Projects/anaconda3/envs/Bokeh/lib/python3.4/site-packages/bokeh/validation/check.py:E-1000 (COLUMN_LENGTHS): ColumnDataSource column lengths are not all the same: ColumnDataSource, ViewModel:ColumnDataSource, ref _id: 204efda8-19b6-4c7a-adaa-c9c18cb96128\n",
      "ERROR:/home/valerio/Projects/anaconda3/envs/Bokeh/lib/python3.4/site-packages/bokeh/validation/check.py:E-1000 (COLUMN_LENGTHS): ColumnDataSource column lengths are not all the same: ColumnDataSource, ViewModel:ColumnDataSource, ref _id: 473b852b-40cd-48bf-af9d-aae2fdd74e9b\n",
      "ERROR:/home/valerio/Projects/anaconda3/envs/Bokeh/lib/python3.4/site-packages/bokeh/validation/check.py:E-1000 (COLUMN_LENGTHS): ColumnDataSource column lengths are not all the same: ColumnDataSource, ViewModel:ColumnDataSource, ref _id: 8e04a7b5-0c10-43ad-874b-85d01289b325\n",
      "ERROR:/home/valerio/Projects/anaconda3/envs/Bokeh/lib/python3.4/site-packages/bokeh/validation/check.py:E-1000 (COLUMN_LENGTHS): ColumnDataSource column lengths are not all the same: ColumnDataSource, ViewModel:ColumnDataSource, ref _id: 9b96bd09-355a-48d5-98d2-29ad451b86ac\n",
      "ERROR:/home/valerio/Projects/anaconda3/envs/Bokeh/lib/python3.4/site-packages/bokeh/validation/check.py:E-1000 (COLUMN_LENGTHS): ColumnDataSource column lengths are not all the same: ColumnDataSource, ViewModel:ColumnDataSource, ref _id: a0f570be-c5c3-496a-9c45-9cfc8427baf8\n",
      "ERROR:/home/valerio/Projects/anaconda3/envs/Bokeh/lib/python3.4/site-packages/bokeh/validation/check.py:E-1000 (COLUMN_LENGTHS): ColumnDataSource column lengths are not all the same: ColumnDataSource, ViewModel:ColumnDataSource, ref _id: baa09194-7d10-4f0c-afb8-f0e98b718f9c\n",
      "ERROR:/home/valerio/Projects/anaconda3/envs/Bokeh/lib/python3.4/site-packages/bokeh/validation/check.py:E-1000 (COLUMN_LENGTHS): ColumnDataSource column lengths are not all the same: ColumnDataSource, ViewModel:ColumnDataSource, ref _id: dd34e698-260e-42d2-9b63-1d04d56ac2c2\n"
     ]
    },
    {
     "name": "stdout",
     "output_type": "stream",
     "text": [
      "\n",
      "<bokeh.document.Document object at 0x7f23c762c278>\n",
      "<bokeh.document.Document object at 0x7f23c762c278>\n"
     ]
    }
   ],
   "source": [
    "for i in range(50):    \n",
    "    p1.renderers[-1].data_source.data[\"x\"].append(i)\n",
    "    p1.renderers[-1].data_source.data[\"y\"].append(i)\n",
    "    p2.renderers[-1].data_source.data[\"x\"].append(-i)\n",
    "    p2.renderers[-1].data_source.data[\"y\"].append(-i)   \n",
    "    p3.renderers[-1].data_source.data[\"x\"].append(i)\n",
    "    p3.renderers[-1].data_source.data[\"y\"].append(-i)\n",
    "    session.use_doc(\"d1\")\n",
    "    #session.store_objects(p1)\n",
    "    session.store_document(d1)\n",
    "    print(curdoc())\n",
    "    session.use_doc(\"d2\")\n",
    "    #session.store_objects(p2)\n",
    "    session.store_document(d2)\n",
    "    print(curdoc())\n",
    "    session.use_doc(\"d3\")\n",
    "    #session.store_objects(p3)\n",
    "    session.store_document(d3)\n",
    "    time.sleep(0.5)"
   ]
  },
  {
   "cell_type": "code",
   "execution_count": 7,
   "metadata": {
    "collapsed": false
   },
   "outputs": [
    {
     "data": {
      "text/plain": [
       "{'_autoadd': True,\n",
       " '_autostore': True,\n",
       " '_context': <bokeh.models.plots.PlotContext at 0x7f23c75d5668>,\n",
       " '_current_plot': None,\n",
       " '_hold': False,\n",
       " '_models': {'002275c9-12c0-459f-b3e5-d46cf1538373': <bokeh.models.sources.ColumnDataSource at 0x7f23ec03cf28>,\n",
       "  '063b81b3-f646-4a02-9826-519b0e2fd349': <bokeh.models.ranges.DataRange1d at 0x7f23c7004128>,\n",
       "  '06e0a74a-279f-48fe-ad9a-3162d730e633': <bokeh.models.tools.PanTool at 0x7f23c7004e48>,\n",
       "  '0deb7efa-9d28-4115-a4e0-22c5c9fe9a36': <bokeh.models.ranges.DataRange1d at 0x7f23c70044e0>,\n",
       "  '10461ac4-2b0a-4565-b3cd-ed864a21ada7': <bokeh.models.grids.Grid at 0x7f23c6fedc50>,\n",
       "  '105e403f-f19f-418a-a236-130f1279a0d3': <bokeh.models.ranges.DataRange1d at 0x7f23c6fdcc18>,\n",
       "  '13c6b57a-f4cd-480e-a8cd-bd26b7cc1769': <bokeh.models.plots.Plot at 0x7f23c7004630>,\n",
       "  '14733b89-7daa-4460-901a-ce4ecd163d16': <bokeh.models.tools.PanTool at 0x7f23c6ff87b8>,\n",
       "  '16c3502a-fdb5-4c6b-814e-746c0dfd9a28': <bokeh.models.tools.ToolEvents at 0x7f23c6ff8898>,\n",
       "  '17140b46-afd1-42d4-b067-040e3439350a': <bokeh.models.axes.LinearAxis at 0x7f23c6ff89e8>,\n",
       "  '172e03a0-a678-4606-8af1-415a5da62a87': <bokeh.models.tools.PreviewSaveTool at 0x7f23c6f6c550>,\n",
       "  '1802d0b3-4bdb-4673-944e-0a104cee0a43': <bokeh.models.grids.Grid at 0x7f23c6f6c518>,\n",
       "  '18150673-a5d5-4727-bad3-0699c2cc294e': <bokeh.models.tools.ResizeTool at 0x7f23c7004400>,\n",
       "  '18579a2b-32de-4596-a2a0-a4a84fbdb95d': <bokeh.models.markers.Circle at 0x7f23c7004940>,\n",
       "  '1b8858d8-0472-4a44-9368-0836299802af': <bokeh.models.formatters.BasicTickFormatter at 0x7f23c75d54e0>,\n",
       "  '1b974340-d744-4f88-a2f9-008b81219b91': <bokeh.models.axes.LinearAxis at 0x7f23c70044a8>,\n",
       "  '1c984fe2-94dd-4d90-92e4-469aeeecf45f': <bokeh.models.tools.ToolEvents at 0x7f23c6fedc18>,\n",
       "  '1ed8ea2e-5427-44cb-a4d4-896045c30ee1': <bokeh.models.tools.ResizeTool at 0x7f23c7004c18>,\n",
       "  '204efda8-19b6-4c7a-adaa-c9c18cb96128': <bokeh.models.sources.ColumnDataSource at 0x7f23c6fdce48>,\n",
       "  '208efa22-3f39-44c5-a580-24af0a77fafd': <bokeh.models.tools.PreviewSaveTool at 0x7f23c6fede80>,\n",
       "  '213ace16-ceff-435a-a9b6-5d1d5ec0bd1e': <bokeh.models.tools.PreviewSaveTool at 0x7f23c7004ba8>,\n",
       "  '2197912a-95ae-4f66-ab78-1f69ec42127c': <bokeh.models.axes.LinearAxis at 0x7f23c70049e8>,\n",
       "  '21a65058-95fa-416b-9db3-61cfbfb89dce': <bokeh.models.grids.Grid at 0x7f23c6fedef0>,\n",
       "  '22340149-72a5-4111-b9b6-5a91cb92ac16': <bokeh.models.tickers.BasicTicker at 0x7f23c6ff8208>,\n",
       "  '229a196d-1bf8-428f-9a50-d77ccc68cbc5': <bokeh.models.markers.Circle at 0x7f23c70043c8>,\n",
       "  '22a096c2-5047-4d18-9ed0-21575e171ad6': <bokeh.models.plots.Plot at 0x7f23c6ff8da0>,\n",
       "  '261ae8ca-3683-40fb-ac42-bdcf83f4d988': <bokeh.models.grids.Grid at 0x7f23c6ff8320>,\n",
       "  '26945f08-e2fb-43f9-8696-aca636ccb0cb': <bokeh.models.tools.BoxZoomTool at 0x7f23c6ff80b8>,\n",
       "  '272066cb-d11d-42b7-a549-83dda7e15312': <bokeh.models.tools.WheelZoomTool at 0x7f23c6ff8278>,\n",
       "  '2737e568-8ed7-4dc5-a01b-4eecc4d0a8ca': <bokeh.models.tools.WheelZoomTool at 0x7f23c7012080>,\n",
       "  '2b8ab7e6-3a18-42cb-9634-72955b520362': <bokeh.models.markers.Circle at 0x7f23c6ff88d0>,\n",
       "  '2ca82f74-fc58-4bbf-8c04-093d1a41d1a4': <bokeh.models.axes.LinearAxis at 0x7f23c6f6c748>,\n",
       "  '2cc1a762-863e-455e-b97e-8e81770c4f64': <bokeh.models.grids.Grid at 0x7f23c7004668>,\n",
       "  '2fe21c0a-dfb4-4421-b646-b83be7aa652b': <bokeh.models.renderers.GlyphRenderer at 0x7f23ec03c828>,\n",
       "  '310114f8-dfe6-4130-96da-8d1d0e688d1d': <bokeh.models.formatters.BasicTickFormatter at 0x7f23c70049b0>,\n",
       "  '3385309f-f08c-4f6e-be04-8ab5e7474f65': <bokeh.models.tools.BoxZoomTool at 0x7f23c7004240>,\n",
       "  '33e2c755-0ddd-45a0-92a0-7f8ceb739416': <bokeh.models.markers.Circle at 0x7f23c6ff8860>,\n",
       "  '3c300918-165a-4dab-9646-40d9af05f30a': <bokeh.models.axes.LinearAxis at 0x7f23c6fedb00>,\n",
       "  '3da1d089-6267-4feb-8079-2092e2967915': <bokeh.models.tools.ResetTool at 0x7f23c6fedeb8>,\n",
       "  '3fd3a3c1-c634-49bc-a643-df2af6891445': <bokeh.models.markers.Circle at 0x7f23c6ff8b38>,\n",
       "  '407e204c-6cd3-4233-9097-eaa8cd2e08c7': <bokeh.models.axes.LinearAxis at 0x7f23c7081748>,\n",
       "  '43e76a30-4a06-4532-a831-a9f555bf02cc': <bokeh.models.tools.PanTool at 0x7f23c6fedc88>,\n",
       "  '4478887d-b06a-46cc-9e51-aeee9ab43a56': <bokeh.models.tickers.BasicTicker at 0x7f23ec03ca90>,\n",
       "  '44e4e72d-9c01-4445-a98d-dd2808f99e07': <bokeh.models.markers.Circle at 0x7f23c7004b00>,\n",
       "  '45ad836f-8200-40be-8365-0f40aafc1845': <bokeh.models.ranges.DataRange1d at 0x7f23ec03ce80>,\n",
       "  '473b852b-40cd-48bf-af9d-aae2fdd74e9b': <bokeh.models.sources.ColumnDataSource at 0x7f23c75d5390>,\n",
       "  '479860c2-f3b2-4513-9910-af3dd9866c2b': <bokeh.models.axes.LinearAxis at 0x7f23c7004710>,\n",
       "  '48976b6b-9b6a-42d8-9872-051a9fc9f8b1': <bokeh.models.tools.PanTool at 0x7f23c6ff8a90>,\n",
       "  '49e128e2-eddd-43b7-844f-e96bd593d6ab': <bokeh.models.formatters.BasicTickFormatter at 0x7f23c6ff8c88>,\n",
       "  '4a982eb1-88fb-4292-a81c-b650c29ea38e': <bokeh.models.formatters.BasicTickFormatter at 0x7f23c70047b8>,\n",
       "  '4cea0964-ada0-4d4b-bb10-7f0647454dda': <bokeh.models.markers.Circle at 0x7f23c70040f0>,\n",
       "  '4f8c23d4-9190-4796-8160-91b7a55383b8': <bokeh.models.grids.Grid at 0x7f23c6ff8588>,\n",
       "  '520d9ab1-f1fa-490a-9ac5-a0f8356b364c': <bokeh.models.ranges.DataRange1d at 0x7f23c6ff85c0>,\n",
       "  '52b82401-0fc7-4844-93a1-2cee878069c1': <bokeh.models.tools.ToolEvents at 0x7f23c6ff84a8>,\n",
       "  '52be2d08-168d-4819-b074-ffbe3e5df37d': <bokeh.models.tools.ToolEvents at 0x7f23c6f6c5f8>,\n",
       "  '567ef159-be62-4105-a4cb-d2682219a5da': <bokeh.models.ranges.DataRange1d at 0x7f23c6fedcc0>,\n",
       "  '57f33cba-6a24-464b-a05d-d4269a7d2374': <bokeh.models.tickers.BasicTicker at 0x7f23c6ff8ba8>,\n",
       "  '598599b3-2deb-499d-b51b-c4f98f989285': <bokeh.models.axes.LinearAxis at 0x7f23c7004c88>,\n",
       "  '5a0c86ba-4d11-4a66-96df-49617a452f44': <bokeh.models.formatters.BasicTickFormatter at 0x7f23c7012198>,\n",
       "  '5b6d76c7-c50e-4e2c-8db1-76cf947b8598': <bokeh.models.tools.PanTool at 0x7f23c7004898>,\n",
       "  '5bf70faf-e0b2-4d2c-af42-5fb73ae91a7b': <bokeh.models.grids.Grid at 0x7f23c70046d8>,\n",
       "  '5d027c31-a5cb-4f3a-ae34-f3d49af52db9': <bokeh.models.tools.BoxZoomTool at 0x7f23c6ff8978>,\n",
       "  '6198c0fe-4c9e-4b26-aefc-99dc385696a8': <bokeh.models.ranges.DataRange1d at 0x7f23c6fedf28>,\n",
       "  '61caa499-5719-4394-9f47-9a58d8d2a5a3': <bokeh.models.tools.ResizeTool at 0x7f23c6fedbe0>,\n",
       "  '62d44b7c-47b6-4ed0-866d-1723af59fc38': <bokeh.models.tools.HelpTool at 0x7f23c6ff8e10>,\n",
       "  '631a6b99-6126-4e90-a4f9-dfb9bbd47299': <bokeh.models.ranges.DataRange1d at 0x7f23ec03c780>,\n",
       "  '6336d005-7d1e-4733-97a7-12942bee48d4': <bokeh.models.tools.HelpTool at 0x7f23c6fede48>,\n",
       "  '639f1de7-92fc-4d51-a2a5-94e1a7561dc9': <bokeh.models.tools.PanTool at 0x7f23c70048d0>,\n",
       "  '6509b62a-321c-46ec-a4fe-3497bbfd8fd9': <bokeh.models.tools.ToolEvents at 0x7f23c7004eb8>,\n",
       "  '65806515-474a-4ad8-a31e-50027b431980': <bokeh.models.grids.Grid at 0x7f23c6ff86d8>,\n",
       "  '6618b202-e874-4ae2-8bfa-a8a8208625cf': <bokeh.models.tools.HelpTool at 0x7f23c7004b70>,\n",
       "  '6775d6a1-6c4f-442c-8548-ac7391355ac1': <bokeh.models.formatters.BasicTickFormatter at 0x7f23c6fdce10>,\n",
       "  '68b0b29a-47f2-4a30-b2ee-0707259c708f': <bokeh.models.ranges.DataRange1d at 0x7f23c6ff8780>,\n",
       "  '695ca8d4-dd15-4d67-958a-a038f949cf8f': <bokeh.models.renderers.GlyphRenderer at 0x7f23c6ff8c18>,\n",
       "  '6b018547-8d27-4ca9-9b81-705c4428312e': <bokeh.models.tickers.BasicTicker at 0x7f23c6ff8ac8>,\n",
       "  '6d4a4018-053a-4f9f-ac92-cf96fad2a95e': <bokeh.models.ranges.DataRange1d at 0x7f23c6fd1ac8>,\n",
       "  '6f38af34-4602-4b8a-95fa-d2aa5fd63d8d': <bokeh.models.formatters.BasicTickFormatter at 0x7f23c6ff8710>,\n",
       "  '72b6f79a-f52b-4f66-b0ea-41dc5b463e3b': <bokeh.models.plots.Plot at 0x7f23c6ff83c8>,\n",
       "  '73e76fab-0a16-4401-a642-0048a3afebd6': <bokeh.models.markers.Circle at 0x7f23c7004780>,\n",
       "  '7489ee9c-3dd0-4ef0-a488-e850df1cea95': <bokeh.models.tools.PreviewSaveTool at 0x7f23c6ff8a58>,\n",
       "  '7598467f-8766-4693-a2bb-2f48264bc4f0': <bokeh.models.tools.WheelZoomTool at 0x7f23c7004518>,\n",
       "  '75aab9a7-c33f-4cad-93ed-07b64922c4f0': <bokeh.models.renderers.GlyphRenderer at 0x7f23f8d682e8>,\n",
       "  '77203479-e227-4b23-8957-feb5cbf0c7dd': <bokeh.models.grids.Grid at 0x7f23c6ff8748>,\n",
       "  '772118b0-35b9-4087-b73a-16b848b2ddca': <bokeh.models.tickers.BasicTicker at 0x7f23c6fd1a20>,\n",
       "  '789b5233-8943-4754-8ef0-9a0ebc32eaa3': <bokeh.models.tickers.BasicTicker at 0x7f23c7004a20>,\n",
       "  '79703efc-a5bf-4385-88ce-5c21ad27d099': <bokeh.models.tools.WheelZoomTool at 0x7f23c6ff8080>,\n",
       "  '7a3de82a-97e9-48b9-a633-814ba3c77978': <bokeh.models.tools.ToolEvents at 0x7f23c7004358>,\n",
       "  '7ae2c03c-71b4-4f67-9452-dbf1b4324ddf': <bokeh.models.tools.ResizeTool at 0x7f23c6fedf98>,\n",
       "  '7b0d05f1-ac71-49b5-9914-fe3bd9d89b88': <bokeh.models.grids.Grid at 0x7f23c7004b38>,\n",
       "  '7bb97443-31e9-48aa-93f0-1c3d930fd67e': <bokeh.models.tools.BoxZoomTool at 0x7f23c7004198>,\n",
       "  '80667f35-68e8-454a-ab7f-fa468101825a': <bokeh.models.tools.BoxZoomTool at 0x7f23c6f6c630>,\n",
       "  '80877de3-330c-4d4f-93d2-0c1840fcccdd': <bokeh.models.tools.ToolEvents at 0x7f23c6ff8668>,\n",
       "  '8170e73c-bbba-4d81-aa66-9103587ea20d': <bokeh.models.formatters.BasicTickFormatter at 0x7f23c6ff8c50>,\n",
       "  '821527ed-f088-476f-9648-7ce95065a8c5': <bokeh.models.plots.Plot at 0x7f23c6ff8f98>,\n",
       "  '8618fb50-4a07-4cbe-8f14-fc5288c9fde9': <bokeh.models.tools.HelpTool at 0x7f23c75d56a0>,\n",
       "  '89907bfa-060e-4a43-8ac8-5492810f3985': <bokeh.models.plots.PlotContext at 0x7f23c75d5668>,\n",
       "  '89a6dafc-fb6b-465b-afdf-88d06b641f09': <bokeh.models.plots.Plot at 0x7f23c7004da0>,\n",
       "  '8c83045f-718e-410c-bea1-d78920333f89': <bokeh.models.tools.HelpTool at 0x7f23c70817f0>,\n",
       "  '8d99c0dc-64b8-4da9-b9d6-8c94e8e99177': <bokeh.models.tickers.BasicTicker at 0x7f23c6f6c780>,\n",
       "  '8e04a7b5-0c10-43ad-874b-85d01289b325': <bokeh.models.sources.ColumnDataSource at 0x7f23c6ff8470>,\n",
       "  '8e080ed2-5973-4524-a63b-2844c3d3f628': <bokeh.models.markers.Circle at 0x7f23c6ff8e48>,\n",
       "  '90ec5345-4add-40b3-8e1b-7614396b7741': <bokeh.models.ranges.DataRange1d at 0x7f23c70041d0>,\n",
       "  '940783ac-d4ce-42f6-bf76-8c56490b540b': <bokeh.models.tools.BoxZoomTool at 0x7f23c7004cc0>,\n",
       "  '94bc50f9-4c65-4f11-a19b-aedf7536aeea': <bokeh.models.markers.Circle at 0x7f23ca334240>,\n",
       "  '973c808c-cba0-4b94-999c-b660afeeb65c': <bokeh.plotting.Figure at 0x7f23c762c2e8>,\n",
       "  '9a54459a-76b2-4a26-bf1e-6acfc8d2fc2e': <bokeh.models.axes.LinearAxis at 0x7f23c6ff8f60>,\n",
       "  '9a64790c-6779-4240-86f0-e4ee7b9fe495': <bokeh.models.ranges.DataRange1d at 0x7f23c6ff8b70>,\n",
       "  '9b10fd88-3daa-40fb-97c1-d264081d5e3d': <bokeh.models.tools.BoxZoomTool at 0x7f23c7004160>,\n",
       "  '9b96bd09-355a-48d5-98d2-29ad451b86ac': <bokeh.models.sources.ColumnDataSource at 0x7f23c7012358>,\n",
       "  '9cadfcf1-5c5a-4b04-a43e-ee77ae4c8360': <bokeh.models.tools.ResetTool at 0x7f23c7004f60>,\n",
       "  '9d700ca2-024c-4992-91c5-a04a4e91261b': <bokeh.models.tools.ToolEvents at 0x7f23c7012048>,\n",
       "  'a0f570be-c5c3-496a-9c45-9cfc8427baf8': <bokeh.models.sources.ColumnDataSource at 0x7f23c6ff84e0>,\n",
       "  'a1279fc3-24dc-416f-84ab-a3e364aa4e8f': <bokeh.models.axes.LinearAxis at 0x7f23c6fdc278>,\n",
       "  'a2045f1d-1773-4e9b-8b4c-79e7bbd86826': <bokeh.models.formatters.BasicTickFormatter at 0x7f23c6fedf60>,\n",
       "  'a21f4a58-c9ce-48b9-846e-6284f68a870d': <bokeh.models.tickers.BasicTicker at 0x7f23c6ff8908>,\n",
       "  'a4c97cef-48bd-49b3-b5ce-851f0e173e5f': <bokeh.models.formatters.BasicTickFormatter at 0x7f23c7004ac8>,\n",
       "  'ac194603-5262-4fe3-9c39-0c92dee6c746': <bokeh.models.tools.WheelZoomTool at 0x7f23c6f6c908>,\n",
       "  'acccf837-fafa-4f31-b024-c8d21da86636': <bokeh.models.tickers.BasicTicker at 0x7f23c6fedba8>,\n",
       "  'b2377115-348a-4cb5-bec3-83ecf228a32b': <bokeh.models.ranges.DataRange1d at 0x7f23c6ff8dd8>,\n",
       "  'ba40feef-9998-4559-9bec-2147d749014f': <bokeh.models.tools.PanTool at 0x7f23c7004ef0>,\n",
       "  'baa09194-7d10-4f0c-afb8-f0e98b718f9c': <bokeh.models.sources.ColumnDataSource at 0x7f23c7012160>,\n",
       "  'bb85b704-a6a0-4a70-ba68-9b66f4c1d0b1': <bokeh.models.tools.WheelZoomTool at 0x7f23c7004be0>,\n",
       "  'bbebb4dd-31cc-4f65-bde7-35dfb1b0bbb8': <bokeh.models.markers.Circle at 0x7f23f8d73f60>,\n",
       "  'bbf3299a-cfbe-494a-8b40-bb6cde0cbaea': <bokeh.models.formatters.BasicTickFormatter at 0x7f23c6ff8d68>,\n",
       "  'bc9c4b39-56d7-4e60-bcf9-9cf6c7dd7383': <bokeh.models.renderers.GlyphRenderer at 0x7f23c7012320>,\n",
       "  'bd7a42ab-f07c-4849-b2fd-06f181b13772': <bokeh.models.markers.Circle at 0x7f23c7004c50>,\n",
       "  'bf211bef-eef8-40bd-bdfc-0822b34d54d7': <bokeh.models.axes.LinearAxis at 0x7f23c6fedfd0>,\n",
       "  'c05a8927-5c5d-403a-af3e-8c2b8dd1ad06': <bokeh.models.ranges.DataRange1d at 0x7f23c7004748>,\n",
       "  'c09997e2-9096-49da-b3b9-53b8b8a4bf91': <bokeh.models.grids.Grid at 0x7f23c7004828>,\n",
       "  'c12cc6bd-b0c8-4267-95d5-2ab4da4132e7': <bokeh.models.tickers.BasicTicker at 0x7f23c7004a90>,\n",
       "  'c3d0b475-7eb4-4c01-9874-b0b943a14e5e': <bokeh.models.tools.ResetTool at 0x7f23c6ff8400>,\n",
       "  'c3ebb384-6922-43a4-a10a-ad2b2cb1788a': <bokeh.models.tools.ResetTool at 0x7f23c7004cf8>,\n",
       "  'c6caa565-e71f-494d-8e92-c931be6f8e2f': <bokeh.models.markers.Circle at 0x7f23c70045c0>,\n",
       "  'c7e92016-597d-405b-8558-7418f38db934': <bokeh.models.grids.Grid at 0x7f23c6f6c4e0>,\n",
       "  'c8032787-c1a1-434b-885e-4cc5b8477b28': <bokeh.models.tools.WheelZoomTool at 0x7f23c6fedb38>,\n",
       "  'c840407b-dfc8-40e2-96ed-2550c6fc2b71': <bokeh.models.plots.Plot at 0x7f23c6ff8240>,\n",
       "  'c8684960-7cfd-4b3e-a456-b15c3283cea6': <bokeh.models.tools.ResetTool at 0x7f23c7004f28>,\n",
       "  'c96c46c8-e832-4089-a244-41537adf0755': <bokeh.models.plots.Plot at 0x7f23c6ff8160>,\n",
       "  'cbdf5cee-2d8f-40b3-ace0-21a82e91437f': <bokeh.models.axes.LinearAxis at 0x7f23ec03ceb8>,\n",
       "  'cc7a0e44-ff15-44ae-91ae-f478f0c81a1a': <bokeh.models.tools.ResetTool at 0x7f23c6f6cac8>,\n",
       "  'cee09b78-c21b-4c1b-af2d-4feb4095b677': <bokeh.models.tools.PanTool at 0x7f23c6f6ca90>,\n",
       "  'cf892f78-9bfc-43b7-a8b3-07c7b2c7afb5': <bokeh.models.tools.ResizeTool at 0x7f23c6f6c7b8>,\n",
       "  'cffefa3b-761e-4b26-8328-35cef2a5f4ea': <bokeh.models.markers.Circle at 0x7f23c7004320>,\n",
       "  'd03986dc-216b-4bf2-9488-54a81718cc1d': <bokeh.models.grids.Grid at 0x7f23c6ff8518>,\n",
       "  'd238e58e-6822-48d8-8982-967f60807662': <bokeh.models.tickers.BasicTicker at 0x7f23c6ff8b00>,\n",
       "  'd373d43c-8e3d-40d3-8657-546429759851': <bokeh.models.tickers.BasicTicker at 0x7f23c70045f8>,\n",
       "  'd410a2dd-61bb-4612-a9c0-b37e9a448ec4': <bokeh.models.renderers.GlyphRenderer at 0x7f23c7004e80>,\n",
       "  'd5afa138-2150-4ebd-aab7-016164c65c09': <bokeh.models.axes.LinearAxis at 0x7f23c7004e10>,\n",
       "  'd6a4f862-bf76-442a-bb24-b8b0f04ef653': <bokeh.models.tools.ResizeTool at 0x7f23c6ff8550>,\n",
       "  'dab4482f-0da2-4a83-8ba7-36c1843beb8a': <bokeh.models.axes.LinearAxis at 0x7f23c6ff8be0>,\n",
       "  'dbc44b98-0747-4e7f-9579-306089169d8d': <bokeh.models.formatters.BasicTickFormatter at 0x7f23ec03c898>,\n",
       "  'dc3fd378-d926-4b28-a699-12ad644fed51': <bokeh.models.tools.ResetTool at 0x7f23ec03cf98>,\n",
       "  'dd34e698-260e-42d2-9b63-1d04d56ac2c2': <bokeh.models.sources.ColumnDataSource at 0x7f23c6ff8630>,\n",
       "  'de9f48cd-510c-421a-8852-1fabafa7c516': <bokeh.models.tickers.BasicTicker at 0x7f23ec03ce48>,\n",
       "  'deb8eba7-10c2-4061-bfd3-842619ba781f': <bokeh.models.tools.WheelZoomTool at 0x7f23c70123c8>,\n",
       "  'df71ef92-5b0c-4146-9071-f054a641fb07': <bokeh.models.ranges.DataRange1d at 0x7f23c6ff8198>,\n",
       "  'dfd4891c-bf8c-47e8-89e1-fa0fc5b29c7b': <bokeh.models.markers.Circle at 0x7f23c6ff85f8>,\n",
       "  'e023351d-b116-433e-a47b-004bbbf8e17b': <bokeh.models.grids.Grid at 0x7f23c6ff81d0>,\n",
       "  'e0332694-adf1-4eb1-a39c-4b4a179d5a7f': <bokeh.models.tools.PreviewSaveTool at 0x7f23c70046a0>,\n",
       "  'e3b9c2b9-06de-48ea-bbfd-6cac22ffe170': <bokeh.models.tools.BoxZoomTool at 0x7f23c6ff8390>,\n",
       "  'e721797c-e234-4122-a528-a8148b46e28a': <bokeh.models.tickers.BasicTicker at 0x7f23c7004d30>,\n",
       "  'e738757d-10fe-43be-99aa-c8f2f833259a': <bokeh.models.formatters.BasicTickFormatter at 0x7f23c6fedd68>,\n",
       "  'e9067be2-4a4b-4c27-8d3c-afe98932dbc3': <bokeh.models.markers.Circle at 0x7f23c6ff8a20>,\n",
       "  'ea2f4e5e-6642-486a-b038-866fbac53b9f': <bokeh.models.tickers.BasicTicker at 0x7f23c6fede10>,\n",
       "  'ea7549c6-1def-4a2d-bf27-863cb1ec257c': <bokeh.models.tools.HelpTool at 0x7f23c6ff87f0>,\n",
       "  'ebe4b3b1-fc80-48c4-afba-03ac89d1f261': <bokeh.models.grids.Grid at 0x7f23ec03cf60>,\n",
       "  'ec3b0a5d-0d52-4f6b-8bb6-63817a6259be': <bokeh.models.tools.HelpTool at 0x7f23c7004208>,\n",
       "  'ecc4c5a9-fecf-473f-b0a9-afaa0d3539db': <bokeh.models.renderers.GlyphRenderer at 0x7f23c70816d8>,\n",
       "  'ece2652a-8c31-40c9-a1b4-f1cd81e2a0e9': <bokeh.models.tools.ResizeTool at 0x7f23c7004080>,\n",
       "  'ee58c9ea-369b-4a37-a84b-05903454d9ed': <bokeh.models.tools.ResetTool at 0x7f23c6ff8cc0>,\n",
       "  'ef5c5fa6-bbb3-4c29-8344-5b3a724206f1': <bokeh.models.grids.Grid at 0x7f23c7004390>,\n",
       "  'ef864391-79f7-4388-a92d-e1aae82bacbf': <bokeh.models.axes.LinearAxis at 0x7f23c7012208>,\n",
       "  'f058168d-9a1b-4ad2-b475-cd10dc8782a1': <bokeh.models.tools.PreviewSaveTool at 0x7f23c6ff89b0>,\n",
       "  'f0cf843a-cb79-4060-88b4-6376906feab2': <bokeh.models.axes.LinearAxis at 0x7f23c6ff8eb8>,\n",
       "  'f461bd64-1c9c-481c-a505-2b57be45e74b': <bokeh.models.tickers.BasicTicker at 0x7f23ec0470f0>,\n",
       "  'f4cab82a-a4f7-4e4d-82d1-8f4347e413b1': <bokeh.models.tools.PreviewSaveTool at 0x7f23c7012400>,\n",
       "  'f5d12267-684b-43d3-87c8-fd987719f3a9': <bokeh.models.tools.PreviewSaveTool at 0x7f23c7004588>,\n",
       "  'f66c6b38-a9b6-4e06-b399-d70e2e8e8070': <bokeh.models.renderers.GlyphRenderer at 0x7f23c7081780>,\n",
       "  'f7177755-00fa-489f-96f4-19bf67a39c4d': <bokeh.models.renderers.GlyphRenderer at 0x7f23c7004978>,\n",
       "  'f726171f-287e-4f6e-ac1c-8076a9d2590b': <bokeh.models.formatters.BasicTickFormatter at 0x7f23c6f6c710>,\n",
       "  'f7da8c39-9c31-4cdd-9e27-8ebd4785c488': <bokeh.models.formatters.BasicTickFormatter at 0x7f23c6fedcf8>,\n",
       "  'f861c5ed-c21b-48d5-9bb4-ee6099402d1e': <bokeh.models.ranges.DataRange1d at 0x7f23c6ff8128>,\n",
       "  'fb675ba5-f7fe-4896-b02e-6828acb8ca7c': <bokeh.models.tools.ResizeTool at 0x7f23c70122e8>,\n",
       "  'fc7f455e-24cb-4363-b0ab-8e8424055b24': <bokeh.models.formatters.BasicTickFormatter at 0x7f23c6ff8fd0>,\n",
       "  'ff655f0f-263d-4530-b2e9-ae61d310e585': <bokeh.models.tools.HelpTool at 0x7f23c6f6c898>},\n",
       " 'docid': '3ff7e8fe-4208-4e2d-8664-11ab759faafe'}"
      ]
     },
     "execution_count": 7,
     "metadata": {},
     "output_type": "execute_result"
    }
   ],
   "source": [
    "#d1.context.__dict__\n",
    "d1.__dict__"
   ]
  },
  {
   "cell_type": "code",
   "execution_count": 8,
   "metadata": {
    "collapsed": false
   },
   "outputs": [
    {
     "data": {
      "text/plain": [
       "<bokeh.models.renderers.GlyphRenderer at 0x7f23f8d682e8>"
      ]
     },
     "execution_count": 8,
     "metadata": {},
     "output_type": "execute_result"
    }
   ],
   "source": [
    "p1.renderers[-1]"
   ]
  },
  {
   "cell_type": "code",
   "execution_count": null,
   "metadata": {
    "collapsed": false,
    "scrolled": false
   },
   "outputs": [],
   "source": []
  },
  {
   "cell_type": "code",
   "execution_count": 9,
   "metadata": {
    "collapsed": false
   },
   "outputs": [
    {
     "data": {
      "text/plain": [
       "{'_block_callbacks': False,\n",
       " '_callback': None,\n",
       " '_callback_queue': [],\n",
       " '_callbacks': {},\n",
       " '_callbacks_dirty': False,\n",
       " '_changed_vars': set(),\n",
       " '_column_names': ['x', 'y'],\n",
       " '_data': {'x': [2,\n",
       "   5,\n",
       "   7,\n",
       "   15,\n",
       "   18,\n",
       "   19,\n",
       "   25,\n",
       "   28,\n",
       "   9,\n",
       "   10,\n",
       "   4,\n",
       "   0,\n",
       "   -1,\n",
       "   -2,\n",
       "   -3,\n",
       "   -4,\n",
       "   -5,\n",
       "   -6,\n",
       "   -7,\n",
       "   -8,\n",
       "   -9,\n",
       "   -10,\n",
       "   -11,\n",
       "   -12,\n",
       "   -13,\n",
       "   -14,\n",
       "   -15,\n",
       "   -16,\n",
       "   -17,\n",
       "   -18,\n",
       "   -19,\n",
       "   -20,\n",
       "   -21,\n",
       "   -22,\n",
       "   -23,\n",
       "   -24,\n",
       "   -25,\n",
       "   -26,\n",
       "   -27,\n",
       "   -28,\n",
       "   -29,\n",
       "   -30,\n",
       "   -31,\n",
       "   -32,\n",
       "   -33,\n",
       "   -34,\n",
       "   -35,\n",
       "   -36,\n",
       "   -37,\n",
       "   -38,\n",
       "   -39,\n",
       "   -40,\n",
       "   -41,\n",
       "   -42,\n",
       "   -43,\n",
       "   -44,\n",
       "   -45,\n",
       "   -46,\n",
       "   -47,\n",
       "   -48,\n",
       "   -49],\n",
       "  'y': [2,\n",
       "   4,\n",
       "   6,\n",
       "   9,\n",
       "   15,\n",
       "   18,\n",
       "   0,\n",
       "   8,\n",
       "   2,\n",
       "   25,\n",
       "   28,\n",
       "   0,\n",
       "   -1,\n",
       "   -2,\n",
       "   -3,\n",
       "   -4,\n",
       "   -5,\n",
       "   -6,\n",
       "   -7,\n",
       "   -8,\n",
       "   -9,\n",
       "   -10,\n",
       "   -11,\n",
       "   -12,\n",
       "   -13,\n",
       "   -14,\n",
       "   -15,\n",
       "   -16,\n",
       "   -17,\n",
       "   -18,\n",
       "   -19,\n",
       "   -20,\n",
       "   -21,\n",
       "   -22,\n",
       "   -23,\n",
       "   -24,\n",
       "   -25,\n",
       "   -26,\n",
       "   -27,\n",
       "   -28,\n",
       "   -29,\n",
       "   -30,\n",
       "   -31,\n",
       "   -32,\n",
       "   -33,\n",
       "   -34,\n",
       "   -35,\n",
       "   -36,\n",
       "   -37,\n",
       "   -38,\n",
       "   -39,\n",
       "   -40,\n",
       "   -41,\n",
       "   -42,\n",
       "   -43,\n",
       "   -44,\n",
       "   -45,\n",
       "   -46,\n",
       "   -47,\n",
       "   -48,\n",
       "   -49]},\n",
       " '_dirty': False,\n",
       " '_id': '98ffad38-6ffa-417c-a66d-43b8725f0873',\n",
       " '_selected': {'0d': {'flag': False, 'indices': []},\n",
       "  '1d': {'indices': []},\n",
       "  '2d': {'indices': []}},\n",
       " '_session': None,\n",
       " '_tags': []}"
      ]
     },
     "execution_count": 9,
     "metadata": {},
     "output_type": "execute_result"
    }
   ],
   "source": [
    "p2.renderers[-1].data_source.__dict__"
   ]
  },
  {
   "cell_type": "code",
   "execution_count": null,
   "metadata": {
    "collapsed": false
   },
   "outputs": [],
   "source": []
  },
  {
   "cell_type": "code",
   "execution_count": null,
   "metadata": {
    "collapsed": true
   },
   "outputs": [],
   "source": []
  }
 ],
 "metadata": {
  "kernelspec": {
   "display_name": "Python 3",
   "language": "python",
   "name": "python3"
  },
  "language_info": {
   "codemirror_mode": {
    "name": "ipython",
    "version": 3
   },
   "file_extension": ".py",
   "mimetype": "text/x-python",
   "name": "python",
   "nbconvert_exporter": "python",
   "pygments_lexer": "ipython3",
   "version": "3.4.3"
  }
 },
 "nbformat": 4,
 "nbformat_minor": 0
}
