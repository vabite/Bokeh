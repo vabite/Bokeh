{
 "cells": [
  {
   "cell_type": "code",
   "execution_count": 1,
   "metadata": {
    "collapsed": false
   },
   "outputs": [],
   "source": [
    "#in questo file DataHandler e DataGenerator sono definiti in moduli esterni e importati\n",
    "import numpy as np\n",
    "import time\n",
    "from Data import DataGenerator\n",
    "from Data import DataHandler\n",
    "from bokeh.models import Range1d, PrintfTickFormatter\n",
    "from bokeh.plotting import figure, show, Session, output_server, cursession"
   ]
  },
  {
   "cell_type": "code",
   "execution_count": 2,
   "metadata": {
    "collapsed": false
   },
   "outputs": [
    {
     "name": "stdout",
     "output_type": "stream",
     "text": [
      "Using saved session configuration for http://127.0.0.1:5006/\n",
      "To override, pass 'load_from_config=False' to Session\n"
     ]
    }
   ],
   "source": [
    "#session = Session(load_from_config=False, root_url = \"http://127.0.0.1:5006/\")\n",
    "output_server(\"barchart\", url = \"http://127.0.0.1:5006/\")"
   ]
  },
  {
   "cell_type": "code",
   "execution_count": 3,
   "metadata": {
    "collapsed": false
   },
   "outputs": [],
   "source": [
    "class BarChart(object):\n",
    "       \n",
    "    #restituisce una lista di stringhe con nomi di colori di numero di elementi argomento, a partire da una lista\n",
    "    #di stringhe con nomi di colori vista come ciclica\n",
    "    def colorlist(self, colors, bar_interval_n):\n",
    "        colorlist = [colors[i%len(colors)] for i in range(bar_interval_n)]\n",
    "        return colorlist\n",
    "    \n",
    "    #restituisce un lista di tante liste quante le barre del bar chart. Ciascuna lista contiene un numero di elementi \n",
    "    #uguale agli intervalli del plot e con valore uguale all'ascissa sinistra della rispettiva barra\n",
    "    def leftlists(self, barwidth, bar_interval_n, bar_n):\n",
    "        leftlists = [[(j - barwidth / 2) for i in range(bar_interval_n)] for j in range(1, bar_n + 1)]\n",
    "        return leftlists\n",
    "    \n",
    "    #restituisce un lista di tante liste quante le barre del bar chart. Ciascuna lista contiene un numero di elementi \n",
    "    #uguale agli intervalli del plot e con valore uguale all'ascissa destra della rispettiva barra\n",
    "    def rightlists(self, barwidth, bar_interval_n, bar_n):\n",
    "        rightlists = [[(j + barwidth / 2) for i in range(bar_interval_n)] for j in range(1, bar_n + 1)]\n",
    "        return rightlists\n",
    "    \n",
    "    #restituisce un lista di tante liste quante le barre del bar chart. Ciascuna lista contiene un numero di elementi \n",
    "    #uguale agli intervalli del plot con valori uguale all'estremo inferiore di ciascun intervallo\n",
    "    def bottomlists(self, bar_interval_matrix):\n",
    "        bottomlists = [bar_interval_list[:-1] for bar_interval_list in bar_interval_matrix]\n",
    "        return bottomlists\n",
    "    \n",
    "    #restituisce un lista di tante liste quante le barre del bar chart. Ciascuna lista contiene un numero di elementi \n",
    "    #uguale agli intervalli del plot con valori uguale all'estremo superiore di ciascun intervallo\n",
    "    def toplists(self, bar_interval_matrix):\n",
    "        toplists = [bar_interval_list[1:] for bar_interval_list in bar_interval_matrix]\n",
    "        return toplists"
   ]
  },
  {
   "cell_type": "code",
   "execution_count": 4,
   "metadata": {
    "collapsed": false
   },
   "outputs": [],
   "source": [
    "#Inizializzazione delle variabili\n",
    "\n",
    "barchart = BarChart()\n",
    "\n",
    "mean = 10\n",
    "std = 2\n",
    "delay = 0.1\n",
    "\n",
    "var_mean = 0\n",
    "var_std = 0.4\n",
    "var_delay = 0.1\n",
    "\n",
    "barwidth = 0.1 #larghezza compresa tra 0.0 e 1.0 (barre attaccate)\n",
    "bar_n = 5\n",
    "bar_interval_n = 4\n",
    "colors =[\"red\", \"orange\", \"yellow\", \"green\", \"aqua\", \"blue\", \"purple\", \"brown\", \"grey\", \"black\"]"
   ]
  },
  {
   "cell_type": "code",
   "execution_count": 5,
   "metadata": {
    "collapsed": false
   },
   "outputs": [],
   "source": [
    "datalists = DataGenerator.normal_matrix(bar_n, bar_interval_n, mean, std, delay)\n",
    "cumsumdatalists = DataHandler.cumsum_matrix(datalists)\n",
    "bar_interval_lists = DataHandler.zeroappend_matrix(cumsumdatalists)"
   ]
  },
  {
   "cell_type": "code",
   "execution_count": 6,
   "metadata": {
    "collapsed": false
   },
   "outputs": [],
   "source": [
    "toplists = barchart.toplists(bar_interval_lists)\n",
    "bottomlists = barchart.bottomlists(bar_interval_lists)\n",
    "leftlists = barchart.leftlists(barwidth, bar_interval_n, bar_n)\n",
    "rightlists = barchart.rightlists(barwidth, bar_interval_n, bar_n)\n",
    "colorlist = barchart.colorlist(colors, bar_interval_n)"
   ]
  },
  {
   "cell_type": "code",
   "execution_count": 7,
   "metadata": {
    "collapsed": false
   },
   "outputs": [],
   "source": [
    "p = figure(\n",
    "    plot_width = 1000,\n",
    "    plot_height = 600,\n",
    "    x_range = Range1d(0.5, bar_n + 0.5),\n",
    "    y_range = Range1d(- 0.05 * mean * bar_interval_n, (mean * bar_interval_n)*1.5),\n",
    ")\n",
    "p.xgrid.grid_line_color = None\n",
    "p.xaxis.major_tick_line_color = None\n",
    "p.xaxis.minor_tick_line_color = None\n",
    "p.xaxis[0].formatter = PrintfTickFormatter(format=\"LOG %d\")"
   ]
  },
  {
   "cell_type": "code",
   "execution_count": 8,
   "metadata": {
    "collapsed": false
   },
   "outputs": [],
   "source": [
    "for bar in range(bar_n):\n",
    "    p.quad(\n",
    "        top = toplists[bar],\n",
    "        bottom = bottomlists[bar],\n",
    "        left = leftlists[bar],\n",
    "        right = rightlists[bar],\n",
    "        line_color = colorlist,\n",
    "        fill_color = colorlist,\n",
    "        name = \"bar\"\n",
    "    )"
   ]
  },
  {
   "cell_type": "code",
   "execution_count": 9,
   "metadata": {
    "collapsed": false
   },
   "outputs": [
    {
     "ename": "KeyboardInterrupt",
     "evalue": "",
     "output_type": "error",
     "traceback": [
      "\u001b[1;31m---------------------------------------------------------------------------\u001b[0m",
      "\u001b[1;31mKeyboardInterrupt\u001b[0m                         Traceback (most recent call last)",
      "\u001b[1;32m<ipython-input-9-6209489e7831>\u001b[0m in \u001b[0;36m<module>\u001b[1;34m()\u001b[0m\n\u001b[0;32m     19\u001b[0m     \u001b[1;31m#cursession().pubblish()\u001b[0m\u001b[1;33m\u001b[0m\u001b[1;33m\u001b[0m\u001b[0m\n\u001b[0;32m     20\u001b[0m \u001b[1;33m\u001b[0m\u001b[0m\n\u001b[1;32m---> 21\u001b[1;33m     \u001b[0mtime\u001b[0m\u001b[1;33m.\u001b[0m\u001b[0msleep\u001b[0m\u001b[1;33m(\u001b[0m\u001b[1;36m0.5\u001b[0m\u001b[1;33m)\u001b[0m\u001b[1;33m\u001b[0m\u001b[0m\n\u001b[0m",
      "\u001b[1;31mKeyboardInterrupt\u001b[0m: "
     ]
    }
   ],
   "source": [
    "show(p)\n",
    "\n",
    "ds = [p.select({\"name\":\"bar\"})[i].data_source for i in range(bar_n)]\n",
    "\n",
    "while True:\n",
    "    variancelists = DataGenerator.normal_matrix(bar_n, bar_interval_n, var_mean, var_std, var_delay)\n",
    "    \n",
    "    datalists = np.maximum(0, DataHandler.sum_list(datalists, variancelists))\n",
    "    cumsumdatalists = DataHandler.cumsum_matrix(datalists)\n",
    "    bar_interval_lists = DataHandler.zeroappend_matrix(cumsumdatalists)\n",
    "    \n",
    "    toplists = barchart.toplists(bar_interval_lists)\n",
    "    bottomlists = barchart.bottomlists(bar_interval_lists)\n",
    "    \n",
    "    for i in range(bar_n):\n",
    "        p.select({\"name\":\"bar\"})[i].data_source.data[\"top\"] = toplists[i]\n",
    "        p.select({\"name\":\"bar\"})[i].data_source.data[\"bottom\"] = bottomlists[i]\n",
    "    cursession().store_objects(*ds)\n",
    "    #cursession().pubblish()\n",
    "    \n",
    "    time.sleep(0.5)"
   ]
  },
  {
   "cell_type": "code",
   "execution_count": null,
   "metadata": {
    "collapsed": true
   },
   "outputs": [],
   "source": []
  },
  {
   "cell_type": "code",
   "execution_count": null,
   "metadata": {
    "collapsed": true
   },
   "outputs": [],
   "source": []
  }
 ],
 "metadata": {
  "kernelspec": {
   "display_name": "Python 3",
   "language": "python",
   "name": "python3"
  },
  "language_info": {
   "codemirror_mode": {
    "name": "ipython",
    "version": 3
   },
   "file_extension": ".py",
   "mimetype": "text/x-python",
   "name": "python",
   "nbconvert_exporter": "python",
   "pygments_lexer": "ipython3",
   "version": "3.4.3"
  }
 },
 "nbformat": 4,
 "nbformat_minor": 0
}
