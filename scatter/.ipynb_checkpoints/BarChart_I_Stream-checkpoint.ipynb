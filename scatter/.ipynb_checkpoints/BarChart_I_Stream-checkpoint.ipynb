{
 "cells": [
  {
   "cell_type": "code",
   "execution_count": 1,
   "metadata": {
    "collapsed": false
   },
   "outputs": [],
   "source": [
    "import numpy as np\n",
    "import time\n",
    "from random import shuffle\n",
    "from bokeh.models import Range1d, PrintfTickFormatter\n",
    "from bokeh.plotting import figure, show, Session, output_server, cursession\n",
    "import zmq\n",
    "from Data import DataHandler\n",
    "from Data import DataStream"
   ]
  },
  {
   "cell_type": "code",
   "execution_count": 2,
   "metadata": {
    "collapsed": false
   },
   "outputs": [
    {
     "name": "stdout",
     "output_type": "stream",
     "text": [
      "Using saved session configuration for http://127.0.0.1:5006/\n",
      "To override, pass 'load_from_config=False' to Session\n"
     ]
    }
   ],
   "source": [
    "#session = Session(load_from_config=False, root_url = \"http://127.0.0.1:5006/\")\n",
    "output_server(\"barchart\", url = \"http://127.0.0.1:5006/\")"
   ]
  },
  {
   "cell_type": "code",
   "execution_count": 3,
   "metadata": {
    "collapsed": true
   },
   "outputs": [],
   "source": [
    "class BarChart(object):\n",
    "       \n",
    "    #restituisce una lista di stringhe con nomi di colori di numero di elementi argomento, a partire da una lista\n",
    "    #di stringhe con nomi di colori vista come ciclica\n",
    "    def colorlist(self, colors, bar_interval_n):\n",
    "        colorlist = [colors[i%len(colors)] for i in range(bar_interval_n)]\n",
    "        return colorlist\n",
    "    \n",
    "    #restituisce una lista di stringhe con nomi di colori di numero di elementi argomento, a partire da una lista\n",
    "    #di stringhe con nomi di colori vista come ciclica\n",
    "    def colorlists_barresolved(self, colors, bar_interval_matrix):\n",
    "        bar_n = len(bar_interval_matrix)\n",
    "        #il -1 in len(bar_interval_matrix[i])-1 è dovuto al fatto che il numero di intervalli di una barra\n",
    "        #è pari al numero di estremi relativi alla barra stessa -1\n",
    "        bar_interval_n_list = [len(bar_interval_matrix[i])-1 for i in range(bar_n)]\n",
    "        colorlists = [[colors[i%len(colors)] for i in range(bar_interval_n_list[j])] for j in range(bar_n)]\n",
    "        return colorlists\n",
    "    \n",
    "    #restituisce un lista di tante liste quante le barre del bar chart. Ciascuna lista contiene un numero di elementi \n",
    "    #uguale agli intervalli del plot e con valore uguale all'ascissa sinistra della rispettiva barra\n",
    "    def leftlists(self, barwidth, bar_interval_n, bar_n):\n",
    "        leftlists = [[(1 + j - barwidth / 2) for i in range(bar_interval_n)] for j in range(bar_n)]\n",
    "        return leftlists\n",
    "    \n",
    "    #restituisce un lista di tante liste quante le barre del bar chart. Ciascuna lista contiene un numero di elementi \n",
    "    #uguale al numero di intervalli della relativa barra del plot, supposto poter variare da barra a barra, e valori\n",
    "    #uguali all'ascissa sinistra della rispettiva barra\n",
    "    def leftlists_barresolved(self, barwidth, bar_interval_matrix):\n",
    "        bar_n = len(bar_interval_matrix)\n",
    "        #il -1 in len(bar_interval_matrix[i])-1 è dovuto al fatto che il numero di intervalli di una barra\n",
    "        #è pari al numero di estremi relativi alla barra stessa -1\n",
    "        bar_interval_n_list = [len(bar_interval_matrix[i])-1 for i in range(bar_n)]\n",
    "        leftlists = [[(1 + j - barwidth / 2) for i in range(bar_interval_n_list[j])] for j in range(bar_n)]\n",
    "        return leftlists\n",
    "    \n",
    "    #restituisce un lista di tante liste quante le barre del bar chart. Ciascuna lista contiene un numero di elementi \n",
    "    #uguale agli intervalli del plot e con valore uguale all'ascissa destra della rispettiva barra\n",
    "    def rightlists(self, barwidth, bar_interval_n, bar_n):\n",
    "        rightlists = [[(1 + j + barwidth / 2) for i in range(bar_interval_n)] for j in range(bar_n)]\n",
    "        return rightlists\n",
    "    \n",
    "    #restituisce un lista di tante liste quante le barre del bar chart. Ciascuna lista contiene un numero di elementi \n",
    "    #uguale al numero di intervalli della relativa barra del plot, supposto poter variare da barra a barra, e valori\n",
    "    #uguali all'ascissa destra della rispettiva barra\n",
    "    def rightlists_barresolved(self, barwidth, bar_interval_matrix):\n",
    "        bar_n = len(bar_interval_matrix)\n",
    "        #il -1 in len(bar_interval_matrix[i])-1 è dovuto al fatto che il numero di intervalli di una barra\n",
    "        #è pari al numero di estremi relativi alla barra stessa -1\n",
    "        bar_interval_n_list = [len(bar_interval_matrix[i])-1 for i in range(bar_n)]\n",
    "        rightlists = [[(1 + j + barwidth / 2) for i in range(bar_interval_n_list[j])] for j in range(bar_n)]\n",
    "        return rightlists\n",
    "    \n",
    "    #restituisce un lista di tante liste quante le barre del bar chart. Ciascuna lista contiene un numero di elementi \n",
    "    #uguale agli intervalli del plot con valori uguale all'estremo inferiore di ciascun intervallo\n",
    "    def bottomlists(self, bar_interval_matrix):\n",
    "        bottomlists = [bar_interval_list[:-1] for bar_interval_list in bar_interval_matrix]\n",
    "        return bottomlists\n",
    "    \n",
    "    #restituisce un lista di tante liste quante le barre del bar chart. Ciascuna lista contiene un numero di elementi \n",
    "    #uguale agli intervalli del plot con valori uguale all'estremo superiore di ciascun intervallo\n",
    "    def toplists(self, bar_interval_matrix):\n",
    "        toplists = [bar_interval_list[1:] for bar_interval_list in bar_interval_matrix]\n",
    "        return toplists"
   ]
  },
  {
   "cell_type": "code",
   "execution_count": null,
   "metadata": {
    "collapsed": true
   },
   "outputs": [],
   "source": []
  },
  {
   "cell_type": "code",
   "execution_count": 4,
   "metadata": {
    "collapsed": false
   },
   "outputs": [],
   "source": [
    "url_sub = \"tcp://localhost:5561\"\n",
    "url_pong = \"tcp://*:5562\"\n",
    "topic = ''\n",
    "\n",
    "barchart = BarChart()\n",
    "barwidth = 0.1 #larghezza compresa tra 0.0 e 1.0 (barre attaccate)\n",
    "colors =[\"red\", \"orange\", \"yellow\", \"green\", \"aqua\", \"blue\", \"purple\", \"brown\", \"grey\", \"black\"]"
   ]
  },
  {
   "cell_type": "code",
   "execution_count": null,
   "metadata": {
    "collapsed": true
   },
   "outputs": [],
   "source": []
  },
  {
   "cell_type": "code",
   "execution_count": 5,
   "metadata": {
    "collapsed": true
   },
   "outputs": [],
   "source": [
    "context = zmq.Context()"
   ]
  },
  {
   "cell_type": "code",
   "execution_count": 6,
   "metadata": {
    "collapsed": false
   },
   "outputs": [],
   "source": [
    "s_sub = context.socket(zmq.SUB)\n",
    "s_sub.connect(url_sub)\n",
    "s_sub.setsockopt_string(zmq.SUBSCRIBE, topic)"
   ]
  },
  {
   "cell_type": "code",
   "execution_count": 7,
   "metadata": {
    "collapsed": false
   },
   "outputs": [
    {
     "data": {
      "text/plain": [
       "0"
      ]
     },
     "execution_count": 7,
     "metadata": {},
     "output_type": "execute_result"
    }
   ],
   "source": [
    "DataStream.pong(url_pong, context)"
   ]
  },
  {
   "cell_type": "code",
   "execution_count": 8,
   "metadata": {
    "collapsed": false
   },
   "outputs": [],
   "source": [
    "datalists = s_sub.recv_pyobj()\n",
    "cumsumdatalists = DataHandler.cumsum_matrix(datalists)\n",
    "bar_interval_lists = DataHandler.zeroappend_matrix(cumsumdatalists)\n",
    "#a partire dalla datalists di inizializzazione ricevuta, ricava il numero di barre da plottare\n",
    "#e il massimo tra gli estremi superiori delle barre passate (usato per definire un intervallo di\n",
    "#visualizzazione del plot)\n",
    "bar_n = len(datalists)\n",
    "top_max = max([max(bar_interval) for bar_interval in bar_interval_lists])"
   ]
  },
  {
   "cell_type": "code",
   "execution_count": 9,
   "metadata": {
    "collapsed": false
   },
   "outputs": [],
   "source": [
    "#datalists"
   ]
  },
  {
   "cell_type": "code",
   "execution_count": 10,
   "metadata": {
    "collapsed": false
   },
   "outputs": [],
   "source": [
    "#bar_interval_lists"
   ]
  },
  {
   "cell_type": "code",
   "execution_count": 11,
   "metadata": {
    "collapsed": false
   },
   "outputs": [],
   "source": [
    "#bar_n"
   ]
  },
  {
   "cell_type": "code",
   "execution_count": 12,
   "metadata": {
    "collapsed": false
   },
   "outputs": [],
   "source": [
    "toplists = barchart.toplists(bar_interval_lists)\n",
    "bottomlists = barchart.bottomlists(bar_interval_lists)\n",
    "leftlists = barchart.leftlists_barresolved(barwidth, bar_interval_lists)\n",
    "rightlists = barchart.rightlists_barresolved(barwidth, bar_interval_lists)\n",
    "colorlists = barchart.colorlists_barresolved(colors, bar_interval_lists)"
   ]
  },
  {
   "cell_type": "code",
   "execution_count": 13,
   "metadata": {
    "collapsed": false
   },
   "outputs": [],
   "source": [
    "#toplists"
   ]
  },
  {
   "cell_type": "code",
   "execution_count": 14,
   "metadata": {
    "collapsed": false
   },
   "outputs": [],
   "source": [
    "#bottomlists"
   ]
  },
  {
   "cell_type": "code",
   "execution_count": 15,
   "metadata": {
    "collapsed": false
   },
   "outputs": [],
   "source": [
    "#leftlists"
   ]
  },
  {
   "cell_type": "code",
   "execution_count": 16,
   "metadata": {
    "collapsed": false
   },
   "outputs": [],
   "source": [
    "#rightlists"
   ]
  },
  {
   "cell_type": "code",
   "execution_count": 17,
   "metadata": {
    "collapsed": false
   },
   "outputs": [],
   "source": [
    "#colorlists"
   ]
  },
  {
   "cell_type": "code",
   "execution_count": 18,
   "metadata": {
    "collapsed": false
   },
   "outputs": [],
   "source": [
    "p = figure(\n",
    "    plot_width = 1000,\n",
    "    plot_height = 600,\n",
    "    x_range = Range1d(0.5, bar_n + 0.5),\n",
    "    y_range = Range1d(- 0.05 * top_max, top_max*1.5),\n",
    ")\n",
    "p.xgrid.grid_line_color = None\n",
    "p.xaxis.major_tick_line_color = None\n",
    "p.xaxis.minor_tick_line_color = None\n",
    "p.xaxis[0].formatter = PrintfTickFormatter(format=\"LOG %d\")"
   ]
  },
  {
   "cell_type": "code",
   "execution_count": 19,
   "metadata": {
    "collapsed": false
   },
   "outputs": [],
   "source": [
    "for bar in range(bar_n):\n",
    "    p.quad(\n",
    "        top = toplists[bar],\n",
    "        bottom = bottomlists[bar],\n",
    "        left = leftlists[bar],\n",
    "        right = rightlists[bar],\n",
    "        line_color = colorlists[bar],\n",
    "        fill_color = colorlists[bar],\n",
    "        name = \"bar\"\n",
    "    )"
   ]
  },
  {
   "cell_type": "code",
   "execution_count": 20,
   "metadata": {
    "collapsed": true
   },
   "outputs": [],
   "source": [
    "#show(p)"
   ]
  },
  {
   "cell_type": "code",
   "execution_count": 21,
   "metadata": {
    "collapsed": false
   },
   "outputs": [
    {
     "ename": "KeyboardInterrupt",
     "evalue": "",
     "output_type": "error",
     "traceback": [
      "\u001b[1;31m---------------------------------------------------------------------------\u001b[0m",
      "\u001b[1;31mKeyboardInterrupt\u001b[0m                         Traceback (most recent call last)",
      "\u001b[1;32m<ipython-input-21-1d137d0e6eb6>\u001b[0m in \u001b[0;36m<module>\u001b[1;34m()\u001b[0m\n\u001b[0;32m     11\u001b[0m     \u001b[1;31m#datalists = np.maximum(0, DataHandler.sum_list(datalists, variancelists))\u001b[0m\u001b[1;33m\u001b[0m\u001b[1;33m\u001b[0m\u001b[0m\n\u001b[0;32m     12\u001b[0m \u001b[1;33m\u001b[0m\u001b[0m\n\u001b[1;32m---> 13\u001b[1;33m     \u001b[0mdatalists\u001b[0m \u001b[1;33m=\u001b[0m \u001b[0ms_sub\u001b[0m\u001b[1;33m.\u001b[0m\u001b[0mrecv_pyobj\u001b[0m\u001b[1;33m(\u001b[0m\u001b[1;33m)\u001b[0m\u001b[1;33m\u001b[0m\u001b[0m\n\u001b[0m\u001b[0;32m     14\u001b[0m     \u001b[0mcumsumdatalists\u001b[0m \u001b[1;33m=\u001b[0m \u001b[0mDataHandler\u001b[0m\u001b[1;33m.\u001b[0m\u001b[0mcumsum_matrix\u001b[0m\u001b[1;33m(\u001b[0m\u001b[0mdatalists\u001b[0m\u001b[1;33m)\u001b[0m\u001b[1;33m\u001b[0m\u001b[0m\n\u001b[0;32m     15\u001b[0m     \u001b[0mbar_interval_lists\u001b[0m \u001b[1;33m=\u001b[0m \u001b[0mDataHandler\u001b[0m\u001b[1;33m.\u001b[0m\u001b[0mzeroappend_matrix\u001b[0m\u001b[1;33m(\u001b[0m\u001b[0mcumsumdatalists\u001b[0m\u001b[1;33m)\u001b[0m\u001b[1;33m\u001b[0m\u001b[0m\n",
      "\u001b[1;32m/home/valerio/Projects/anaconda3/envs/Bokeh/lib/python3.4/site-packages/zmq/sugar/socket.py\u001b[0m in \u001b[0;36mrecv_pyobj\u001b[1;34m(self, flags)\u001b[0m\n\u001b[0;32m    434\u001b[0m             \u001b[0mThe\u001b[0m \u001b[0mPython\u001b[0m \u001b[0mobject\u001b[0m \u001b[0mthat\u001b[0m \u001b[0marrives\u001b[0m \u001b[1;32mas\u001b[0m \u001b[0ma\u001b[0m \u001b[0mmessage\u001b[0m\u001b[1;33m.\u001b[0m\u001b[1;33m\u001b[0m\u001b[0m\n\u001b[0;32m    435\u001b[0m         \"\"\"\n\u001b[1;32m--> 436\u001b[1;33m         \u001b[0ms\u001b[0m \u001b[1;33m=\u001b[0m \u001b[0mself\u001b[0m\u001b[1;33m.\u001b[0m\u001b[0mrecv\u001b[0m\u001b[1;33m(\u001b[0m\u001b[0mflags\u001b[0m\u001b[1;33m)\u001b[0m\u001b[1;33m\u001b[0m\u001b[0m\n\u001b[0m\u001b[0;32m    437\u001b[0m         \u001b[1;32mreturn\u001b[0m \u001b[0mpickle\u001b[0m\u001b[1;33m.\u001b[0m\u001b[0mloads\u001b[0m\u001b[1;33m(\u001b[0m\u001b[0ms\u001b[0m\u001b[1;33m)\u001b[0m\u001b[1;33m\u001b[0m\u001b[0m\n\u001b[0;32m    438\u001b[0m \u001b[1;33m\u001b[0m\u001b[0m\n",
      "\u001b[1;32mzmq/backend/cython/socket.pyx\u001b[0m in \u001b[0;36mzmq.backend.cython.socket.Socket.recv (zmq/backend/cython/socket.c:6507)\u001b[1;34m()\u001b[0m\n",
      "\u001b[1;32mzmq/backend/cython/socket.pyx\u001b[0m in \u001b[0;36mzmq.backend.cython.socket.Socket.recv (zmq/backend/cython/socket.c:6307)\u001b[1;34m()\u001b[0m\n",
      "\u001b[1;32mzmq/backend/cython/socket.pyx\u001b[0m in \u001b[0;36mzmq.backend.cython.socket._recv_copy (zmq/backend/cython/socket.c:1877)\u001b[1;34m()\u001b[0m\n",
      "\u001b[1;32m/home/valerio/Projects/anaconda3/envs/Bokeh/lib/python3.4/site-packages/zmq/backend/cython/checkrc.pxd\u001b[0m in \u001b[0;36mzmq.backend.cython.checkrc._check_rc (zmq/backend/cython/socket.c:6758)\u001b[1;34m()\u001b[0m\n\u001b[0;32m     10\u001b[0m     \"\"\"\n\u001b[0;32m     11\u001b[0m     \u001b[0mcdef\u001b[0m \u001b[0mint\u001b[0m \u001b[0merrno\u001b[0m \u001b[1;33m=\u001b[0m \u001b[0mzmq_errno\u001b[0m\u001b[1;33m(\u001b[0m\u001b[1;33m)\u001b[0m\u001b[1;33m\u001b[0m\u001b[0m\n\u001b[1;32m---> 12\u001b[1;33m     \u001b[0mPyErr_CheckSignals\u001b[0m\u001b[1;33m(\u001b[0m\u001b[1;33m)\u001b[0m\u001b[1;33m\u001b[0m\u001b[0m\n\u001b[0m\u001b[0;32m     13\u001b[0m     \u001b[1;32mif\u001b[0m \u001b[0mrc\u001b[0m \u001b[1;33m<\u001b[0m \u001b[1;36m0\u001b[0m\u001b[1;33m:\u001b[0m\u001b[1;33m\u001b[0m\u001b[0m\n\u001b[0;32m     14\u001b[0m         \u001b[1;32mif\u001b[0m \u001b[0merrno\u001b[0m \u001b[1;33m==\u001b[0m \u001b[0mEINTR\u001b[0m\u001b[1;33m:\u001b[0m\u001b[1;33m\u001b[0m\u001b[0m\n",
      "\u001b[1;31mKeyboardInterrupt\u001b[0m: "
     ]
    }
   ],
   "source": [
    "show(p)\n",
    "\n",
    "ds = [p.select({\"name\":\"bar\"})[i].data_source for i in range(bar_n)]\n",
    "\n",
    "while True:\n",
    "    #rispetto a versioni precedenti, ricevo dalla sorgente sempre una lista di liste in cui ciascuna lista\n",
    "    #contiene le lunghezze degli intervalli di una singola barra (e non le variazioni nella lunghezza degli\n",
    "    #intervalli). Per riattivare il comportamento precedente, scommentare le due seguenti righe e variare la\n",
    "    #sorgente:\n",
    "    #variancelists = s_sub.recv_pyobj()\n",
    "    #datalists = np.maximum(0, DataHandler.sum_list(datalists, variancelists))\n",
    "    \n",
    "    datalists = s_sub.recv_pyobj()\n",
    "    cumsumdatalists = DataHandler.cumsum_matrix(datalists)\n",
    "    bar_interval_lists = DataHandler.zeroappend_matrix(cumsumdatalists)\n",
    "    \n",
    "    toplists = barchart.toplists(bar_interval_lists)\n",
    "    bottomlists = barchart.bottomlists(bar_interval_lists)\n",
    "    \n",
    "    for i in range(bar_n):\n",
    "        p.select({\"name\":\"bar\"})[i].data_source.data[\"top\"] = toplists[i]\n",
    "        p.select({\"name\":\"bar\"})[i].data_source.data[\"bottom\"] = bottomlists[i]\n",
    "    cursession().store_objects(*ds)\n",
    "    \n",
    "    #time.sleep(0.5)"
   ]
  },
  {
   "cell_type": "code",
   "execution_count": null,
   "metadata": {
    "collapsed": true
   },
   "outputs": [],
   "source": []
  },
  {
   "cell_type": "code",
   "execution_count": null,
   "metadata": {
    "collapsed": true
   },
   "outputs": [],
   "source": []
  },
  {
   "cell_type": "code",
   "execution_count": null,
   "metadata": {
    "collapsed": false
   },
   "outputs": [],
   "source": [
    "#test di leftlists_barresolved(self, barwidth, bar_interval_n, bar_n)\n",
    "barchart = BarChart()\n",
    "barwidth = 0.3\n",
    "bar_interval_matrix = [[1],[],[7,\"pippo\", 6, 7.6, True]]\n",
    "print(barchart.leftlists_barresolved(barwidth, bar_interval_matrix))"
   ]
  },
  {
   "cell_type": "code",
   "execution_count": null,
   "metadata": {
    "collapsed": false
   },
   "outputs": [],
   "source": [
    "#test di leftlists_barresolved(self, barwidth, bar_interval_n, bar_n)\n",
    "barchart = BarChart()\n",
    "barwidth = 0.6\n",
    "bar_interval_matrix = [[1],[],[7,\"pippo\", 6, 7.6]]\n",
    "print(barchart.rightlists_barresolved(barwidth, bar_interval_matrix))"
   ]
  },
  {
   "cell_type": "code",
   "execution_count": null,
   "metadata": {
    "collapsed": false
   },
   "outputs": [],
   "source": [
    "#test di toplists(self, barwidth, bar_interval_n, bar_n)\n",
    "barchart = BarChart()\n",
    "bar_interval_matrix = [[11,12],[21,22],[]]\n",
    "print(barchart.toplists(bar_interval_matrix))"
   ]
  },
  {
   "cell_type": "code",
   "execution_count": null,
   "metadata": {
    "collapsed": false
   },
   "outputs": [],
   "source": [
    "#test di bottomlists(self, barwidth, bar_interval_n, bar_n)\n",
    "barchart = BarChart()\n",
    "bar_interval_matrix = [[11,12],[21,22],[]]\n",
    "print(barchart.bottomlists(bar_interval_matrix))"
   ]
  },
  {
   "cell_type": "code",
   "execution_count": null,
   "metadata": {
    "collapsed": false
   },
   "outputs": [],
   "source": [
    "#test di colorlists_barresolved(self, colors, bar_interval_matrix)\n",
    "barchart = BarChart()\n",
    "colors =[\"red\", \"orange\", \"yellow\", \"green\", \"aqua\", \"blue\", \"purple\", \"brown\", \"grey\", \"black\"]\n",
    "bar_interval_matrix = [[11],[21,22,23,24,25,26,27,28,29,\"210\",\"211\"],[]]\n",
    "print(barchart.colorlists_barresolved(colors, bar_interval_matrix))"
   ]
  },
  {
   "cell_type": "code",
   "execution_count": null,
   "metadata": {
    "collapsed": true
   },
   "outputs": [],
   "source": []
  },
  {
   "cell_type": "code",
   "execution_count": null,
   "metadata": {
    "collapsed": true
   },
   "outputs": [],
   "source": []
  }
 ],
 "metadata": {
  "kernelspec": {
   "display_name": "Python 3",
   "language": "python",
   "name": "python3"
  },
  "language_info": {
   "codemirror_mode": {
    "name": "ipython",
    "version": 3
   },
   "file_extension": ".py",
   "mimetype": "text/x-python",
   "name": "python",
   "nbconvert_exporter": "python",
   "pygments_lexer": "ipython3",
   "version": "3.4.3"
  }
 },
 "nbformat": 4,
 "nbformat_minor": 0
}
