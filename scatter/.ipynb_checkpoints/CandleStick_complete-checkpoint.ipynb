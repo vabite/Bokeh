{
 "cells": [
  {
   "cell_type": "code",
   "execution_count": null,
   "metadata": {
    "collapsed": true
   },
   "outputs": [],
   "source": [
    "import numpy as np\n",
    "import time\n",
    "from random import shuffle\n",
    "from bokeh.models import Range1d, DatetimeTickFormatter\n",
    "from bokeh.plotting import figure, show, Session, output_server, cursession"
   ]
  },
  {
   "cell_type": "code",
   "execution_count": 2,
   "metadata": {
    "collapsed": false
   },
   "outputs": [
    {
     "name": "stdout",
     "output_type": "stream",
     "text": [
      "Using saved session configuration for http://127.0.0.1:5006/\n",
      "To override, pass 'load_from_config=False' to Session\n"
     ]
    }
   ],
   "source": [
    "session = Session(load_from_config=False, root_url = \"http://127.0.0.1:5006/\")\n",
    "output_server(\"barchart\", url = \"http://127.0.0.1:5006/\")\n",
    "#session.register(\"vabite\",\"clanugu\")\n",
    "#session.login(\"vabite\", \"clanugu\")"
   ]
  },
  {
   "cell_type": "code",
   "execution_count": 3,
   "metadata": {
    "collapsed": false
   },
   "outputs": [],
   "source": [
    "class DataGenerator(object):\n",
    "    \n",
    "    #attende delay secondi e poi restituisce una lista di lunghezza argomento di float con distribuzione \n",
    "    #di probabilità gaussiana a media mean e deviazione standard std argomento\n",
    "    def normal_list(self, listlen, mean, std, delay):\n",
    "        time.sleep(delay)\n",
    "        normallist = []\n",
    "        for i in range(listlen):\n",
    "            normallist.append(np.random.normal(mean, std))\n",
    "        return normallist"
   ]
  },
  {
   "cell_type": "code",
   "execution_count": 16,
   "metadata": {
    "collapsed": false
   },
   "outputs": [],
   "source": [
    "class DataHandler(object):\n",
    "    \n",
    "    #ritorna una lista data dalla somma membro a membro di due liste, anche annidate, purche \n",
    "    #di ugual shape e grandezza delle dimensioni\n",
    "    def sum_list(self, list1, list2):\n",
    "        sumarray = np.array(list1) + np.array(list2)\n",
    "        return sumarray.tolist()\n",
    "        \n",
    "    #ritorna una lista ottenuta mischiando gli elementi di una lista argomento\n",
    "    def shuffle_return(self, alist):\n",
    "        shuffle(alist)\n",
    "        return alist\n",
    "    \n",
    "    #ritorna -1 se il numero argomento è negativo, 1 se positivo, 0 se il numero argomento è zero.\n",
    "    def sign(self, n):\n",
    "        if n > 0: return 1\n",
    "        elif n < 0: return -1\n",
    "        else: return 0\n",
    "    \n",
    "    #se direction True o non specificato, allora elimina il primo elemento di una lista argomento,\n",
    "    #shiftando indietro di un indice i restanti elementi, e vi appende (in fondo) l'elemento argomento.\n",
    "    #se direction False, allora elimina l'ultimo elemento di una lista argomento,\n",
    "    #shiftando avanti di un indice i restanti elementi, e vi inserisce l'elemento argomento all'indice 0.\n",
    "    #Ritorna la lista così modificata\n",
    "    def shift_insert(self, alist, new_elem, shift_sx = True):\n",
    "        if shift_sx:\n",
    "            alist.pop(0)\n",
    "            alist.append(new_elem)\n",
    "        else: \n",
    "            alist.pop()\n",
    "            alist.insert(0, new_elem)\n",
    "        return alist    "
   ]
  },
  {
   "cell_type": "code",
   "execution_count": null,
   "metadata": {
    "collapsed": false
   },
   "outputs": [],
   "source": []
  },
  {
   "cell_type": "code",
   "execution_count": 6,
   "metadata": {
    "collapsed": false
   },
   "outputs": [],
   "source": [
    "gen = DataGenerator()\n",
    "hand = DataHandler()\n",
    "\n",
    "#inizializzazione generatore liste casuali\n",
    "mean = 0\n",
    "std = 1\n",
    "delay = 0.5\n",
    "\n",
    "#scala dell'asse delle x. Definisce l'unità dei tempi visualizzati sull'asse delle ascisse\n",
    "time_scale = 1000 * 60 * 60 * 24\n",
    "\n",
    "#numero di canlstick visualizzate sul grafico\n",
    "candle_n = 20\n",
    "\n",
    "#float da 0 a 1. Se uguale a 1, allora candele attaccate\n",
    "percentual_candlewidth = 0.2 "
   ]
  },
  {
   "cell_type": "code",
   "execution_count": 7,
   "metadata": {
    "collapsed": false
   },
   "outputs": [],
   "source": [
    "#la larghezza delle candele e le ticks (che normalmente sarebbero range(0, candle_n + 1)), sono scalate per time_scale\n",
    "candlewidth = time_scale * percentual_candlewidth\n",
    "ticks = list(range(time_scale, time_scale * (candle_n + 1), time_scale))"
   ]
  },
  {
   "cell_type": "code",
   "execution_count": 8,
   "metadata": {
    "collapsed": false
   },
   "outputs": [],
   "source": [
    "#una candlelist è una lista di 4 valori crescenti e casuali rappresentanti min giornata, min(apertura,chiusura), \n",
    "#max(apertura,chiusura), max giornata ed è generata ogni delay secondi\n",
    "#genero una lista di candlestick, cioè una lista n_candle liste di quattro elementi\n",
    "candlelists = list(map(lambda x: sorted(gen.normal_list(4, mean, std, delay)), range(candle_n)))\n",
    "\n",
    "#i dati relativi ai segmenti sono ottenuti estraendo primo e ultimo valore delle candlestick, cioè min e max giornata\n",
    "#sono una lista di n_candle liste da due elementi\n",
    "segmentlists = list(map(lambda i: [candlelists[i][0], candlelists[i][3]], range(candle_n)))\n",
    "\n",
    "#i dati relativi alle candele sono ottenuti estraendo secondo e terzo valore delle candlestick, cioè valori di\n",
    "#apertura e chiusura, e mischiandone l'ordine per rendere casuale quale dei due risulta maggiore\n",
    "#sono una lista di n_candle liste da due elementi\n",
    "quadlists = list(map(lambda i: hand.shuffle_return(candlelists[i][1:3]), range(candle_n)))"
   ]
  },
  {
   "cell_type": "code",
   "execution_count": 9,
   "metadata": {
    "collapsed": false
   },
   "outputs": [],
   "source": [
    "#estraggo le ordinate dei valori terminali delle candele prendendo toplist pari alla lista ottenuta prendendo \n",
    "#il secondo valore di ogni sottolista si qualists, e bottomlist pari alla lista ottenuta prendendo il primo \n",
    "#valore di ogni sottolista di quadlist. toplist e bottomlist sono due list di n_candle elementi\n",
    "toplist = list(map(lambda i : quadlists[i][1], range(candle_n)))\n",
    "bottomlist = list(map(lambda i : quadlists[i][0], range(candle_n)))\n",
    "#estraggo le ascisse laterali delle candele sottaendo (leftlist) e sommando (rightlist) la semiampiezza delle candele\n",
    "#leftlist e rightlist sono due liste di n_candle elementi\n",
    "leftlist = list(map(lambda i : ticks[i] - candlewidth / 2, range(candle_n)))\n",
    "rightlist = list(map(lambda i : ticks[i] + candlewidth / 2, range(candle_n)))\n",
    "#colorlist è la lista rappresentante i colori di ciascuna candela. Assumendo toplist valori di chiusura e bottomlist\n",
    "#valori di apertura, il colore della rispettiva candela è verde se chiusura > apertura e rosso viceversa\n",
    "#colorlist è una lista di n_candle elementi\n",
    "colorlist = []\n",
    "for i in range(candle_n):\n",
    "    if toplist[i] > bottomlist[i]: colorlist.append(\"green\")\n",
    "    else: colorlist.append(\"red\")"
   ]
  },
  {
   "cell_type": "code",
   "execution_count": 10,
   "metadata": {
    "collapsed": false
   },
   "outputs": [],
   "source": [
    "#ascisse dei segmenti inizializzate alle ticks\n",
    "xlist = ticks\n",
    "#ordinate dei segmenti estratte prendendo y1list pari alla lista ottenuta prendendo il secondo valore di ogni \n",
    "#sottolista si segmentlist, e y0 pari alla lista ottenuta prendendo il primo valore di ogni sottolista di\n",
    "#segmentlist. y0list e y1list sono due liste di n_candle elementi\n",
    "y0list = list(map(lambda i : segmentlists[i][0], range(candle_n)))\n",
    "y1list = list(map(lambda i : segmentlists[i][1], range(candle_n)))"
   ]
  },
  {
   "cell_type": "code",
   "execution_count": 11,
   "metadata": {
    "collapsed": false
   },
   "outputs": [],
   "source": [
    "p = figure(\n",
    "    plot_width = 1000,\n",
    "    plot_height = 500,\n",
    "    y_range = Range1d(-3*std, 3*std) #range di visualizzazione dati in y preso multiplo della std della sorgente dati\n",
    ")\n",
    "#formattazione asse ascisse con date. \n",
    "#Le unità dell'asse delle x sono convertite in ms e mostrate con formattazione indicata nelle diverse scale temporali\n",
    "p.xaxis[0].formatter = DatetimeTickFormatter(\n",
    "    formats=dict(\n",
    "        hours=[\"%d %b\"],\n",
    "        days=[\"%d %b\"],\n",
    "        months=[\"%d %b\"],\n",
    "        years=[\"%d %b\"],\n",
    "    )\n",
    ")"
   ]
  },
  {
   "cell_type": "code",
   "execution_count": 12,
   "metadata": {
    "collapsed": false
   },
   "outputs": [
    {
     "data": {
      "text/plain": [
       "<bokeh.plotting.Figure at 0x7fb46c6e93c8>"
      ]
     },
     "execution_count": 12,
     "metadata": {},
     "output_type": "execute_result"
    }
   ],
   "source": [
    "#inserito un solo glifo per tutte le candele\n",
    "p.quad(\n",
    "    top = toplist,\n",
    "    bottom = bottomlist,\n",
    "    left = leftlist,\n",
    "    right = rightlist,\n",
    "    fill_color = colorlist,\n",
    "    fill_line = colorlist,\n",
    "    name = \"candles\"    \n",
    ")"
   ]
  },
  {
   "cell_type": "code",
   "execution_count": 13,
   "metadata": {
    "collapsed": false
   },
   "outputs": [
    {
     "data": {
      "text/plain": [
       "<bokeh.plotting.Figure at 0x7fb46c6e93c8>"
      ]
     },
     "execution_count": 13,
     "metadata": {},
     "output_type": "execute_result"
    }
   ],
   "source": [
    "#inserito un solo glifo per tutti i segmenti\n",
    "p.segment(\n",
    "    x0 = xlist,\n",
    "    x1 = xlist,\n",
    "    y0 = y0list,\n",
    "    y1 = y1list,\n",
    "    name = \"segments\"\n",
    "    )"
   ]
  },
  {
   "cell_type": "code",
   "execution_count": 14,
   "metadata": {
    "collapsed": false
   },
   "outputs": [
    {
     "ename": "KeyboardInterrupt",
     "evalue": "",
     "output_type": "error",
     "traceback": [
      "\u001b[1;31m---------------------------------------------------------------------------\u001b[0m",
      "\u001b[1;31mKeyboardInterrupt\u001b[0m                         Traceback (most recent call last)",
      "\u001b[1;32m<ipython-input-14-2499fa54e603>\u001b[0m in \u001b[0;36m<module>\u001b[1;34m()\u001b[0m\n\u001b[0;32m      7\u001b[0m \u001b[1;32mwhile\u001b[0m \u001b[1;32mTrue\u001b[0m\u001b[1;33m:\u001b[0m\u001b[1;33m\u001b[0m\u001b[0m\n\u001b[0;32m      8\u001b[0m     \u001b[1;31m#generati i dati per una nuova candlestick e divisi in dati relativi a candela e a segmento\u001b[0m\u001b[1;33m\u001b[0m\u001b[1;33m\u001b[0m\u001b[0m\n\u001b[1;32m----> 9\u001b[1;33m     \u001b[0mnew_candle_single\u001b[0m \u001b[1;33m=\u001b[0m \u001b[0msorted\u001b[0m\u001b[1;33m(\u001b[0m\u001b[0mgen\u001b[0m\u001b[1;33m.\u001b[0m\u001b[0mnormal_list\u001b[0m\u001b[1;33m(\u001b[0m\u001b[1;36m4\u001b[0m\u001b[1;33m,\u001b[0m \u001b[0mmean\u001b[0m\u001b[1;33m,\u001b[0m \u001b[0mstd\u001b[0m\u001b[1;33m,\u001b[0m \u001b[0mdelay\u001b[0m\u001b[1;33m)\u001b[0m\u001b[1;33m)\u001b[0m\u001b[1;33m\u001b[0m\u001b[0m\n\u001b[0m\u001b[0;32m     10\u001b[0m     \u001b[0mnew_segment_single\u001b[0m \u001b[1;33m=\u001b[0m \u001b[1;33m[\u001b[0m\u001b[0mnew_candle_single\u001b[0m\u001b[1;33m[\u001b[0m\u001b[1;36m0\u001b[0m\u001b[1;33m]\u001b[0m\u001b[1;33m,\u001b[0m \u001b[0mnew_candle_single\u001b[0m\u001b[1;33m[\u001b[0m\u001b[1;36m3\u001b[0m\u001b[1;33m]\u001b[0m\u001b[1;33m]\u001b[0m\u001b[1;33m\u001b[0m\u001b[0m\n\u001b[0;32m     11\u001b[0m     \u001b[0mnew_quad_single\u001b[0m \u001b[1;33m=\u001b[0m \u001b[0mhand\u001b[0m\u001b[1;33m.\u001b[0m\u001b[0mshuffle_return\u001b[0m\u001b[1;33m(\u001b[0m\u001b[0mnew_candle_single\u001b[0m\u001b[1;33m[\u001b[0m\u001b[1;36m1\u001b[0m\u001b[1;33m:\u001b[0m\u001b[1;36m3\u001b[0m\u001b[1;33m]\u001b[0m\u001b[1;33m)\u001b[0m\u001b[1;33m\u001b[0m\u001b[0m\n",
      "\u001b[1;32m<ipython-input-3-806b20dfe67f>\u001b[0m in \u001b[0;36mnormal_list\u001b[1;34m(self, listlen, mean, std, delay)\u001b[0m\n\u001b[0;32m      4\u001b[0m     \u001b[1;31m#di probabilità gaussiana a media mean e deviazione standard std argomento\u001b[0m\u001b[1;33m\u001b[0m\u001b[1;33m\u001b[0m\u001b[0m\n\u001b[0;32m      5\u001b[0m     \u001b[1;32mdef\u001b[0m \u001b[0mnormal_list\u001b[0m\u001b[1;33m(\u001b[0m\u001b[0mself\u001b[0m\u001b[1;33m,\u001b[0m \u001b[0mlistlen\u001b[0m\u001b[1;33m,\u001b[0m \u001b[0mmean\u001b[0m\u001b[1;33m,\u001b[0m \u001b[0mstd\u001b[0m\u001b[1;33m,\u001b[0m \u001b[0mdelay\u001b[0m\u001b[1;33m)\u001b[0m\u001b[1;33m:\u001b[0m\u001b[1;33m\u001b[0m\u001b[0m\n\u001b[1;32m----> 6\u001b[1;33m         \u001b[0mtime\u001b[0m\u001b[1;33m.\u001b[0m\u001b[0msleep\u001b[0m\u001b[1;33m(\u001b[0m\u001b[0mdelay\u001b[0m\u001b[1;33m)\u001b[0m\u001b[1;33m\u001b[0m\u001b[0m\n\u001b[0m\u001b[0;32m      7\u001b[0m         \u001b[0mnormallist\u001b[0m \u001b[1;33m=\u001b[0m \u001b[1;33m[\u001b[0m\u001b[1;33m]\u001b[0m\u001b[1;33m\u001b[0m\u001b[0m\n\u001b[0;32m      8\u001b[0m         \u001b[1;32mfor\u001b[0m \u001b[0mi\u001b[0m \u001b[1;32min\u001b[0m \u001b[0mrange\u001b[0m\u001b[1;33m(\u001b[0m\u001b[0mlistlen\u001b[0m\u001b[1;33m)\u001b[0m\u001b[1;33m:\u001b[0m\u001b[1;33m\u001b[0m\u001b[0m\n",
      "\u001b[1;31mKeyboardInterrupt\u001b[0m: "
     ]
    }
   ],
   "source": [
    "show(p)\n",
    "\n",
    "#create variabili data_source per il glifo \"candles\" e il glifo \"segments\"\n",
    "ds_candles = p.select({\"name\":\"candles\"})[0].data_source\n",
    "ds_segments = p.select({\"name\":\"segments\"})[0].data_source\n",
    "\n",
    "while True:\n",
    "    #generati i dati per una nuova candlestick e divisi in dati relativi a candela e a segmento\n",
    "    new_candle_single = sorted(gen.normal_list(4, mean, std, delay))\n",
    "    new_segment_single = [new_candle_single[0], new_candle_single[3]]\n",
    "    new_quad_single = hand.shuffle_return(new_candle_single[1:3])\n",
    "    \n",
    "    #aggiornamento del campo data delle data_source del glifo \"candles\"\n",
    "    #in generale è tolto dalle liste aggiornate l'ultimo elemento, e inserito in prima posizione un elemento pari a:\n",
    "    #...gli elementi trovati in new_candle_single\n",
    "    ds_candles.data[\"top\"] = hand.shift_insert(toplist, new_quad_single[1]) \n",
    "    ds_candles.data[\"bottom\"] = hand.shift_insert(bottomlist, new_quad_single[0])\n",
    "    #...l'ultimo elemento della lista prima dell'inserimento, incrementato di time_scale (la distanza tra due ticks)\n",
    "    ds_candles.data[\"left\"] = hand.shift_insert(leftlist, leftlist[-1] + time_scale)\n",
    "    ds_candles.data[\"right\"] = hand.shift_insert(rightlist, rightlist[-1] + time_scale) \n",
    "    #...il colore della nuova candela, determinato in base a quale è il maggiore tra gli elementi in new_candle_single\n",
    "    if toplist[0] > bottomlist[0]: hand.shift_insert(colorlist, \"green\")\n",
    "    else: hand.shift_insert(colorlist, \"red\")\n",
    "    ds_candles.data[\"fill_color\"] = colorlist\n",
    "    ds_candles.data[\"line_color\"] = colorlist\n",
    "    \n",
    "    #aggiornamento del campo data delle data_source del glifo \"segments\"\n",
    "    #...l'ultimo elemento della lista prima dell'inserimento, incrementato di time_scale (la distanza tra due ticks)\n",
    "    xlist = hand.shift_insert(xlist, xlist[-1] + time_scale)\n",
    "    ds_segments.data[\"x0\"] = xlist\n",
    "    ds_segments.data[\"x1\"] = xlist\n",
    "    #...gli elementi trovati in new_segment_single\n",
    "    ds_segments.data[\"y0\"] = hand.shift_insert(y0list, new_segment_single[0])\n",
    "    ds_segments.data[\"y1\"] = hand.shift_insert(y1list, new_segment_single[1])\n",
    "    \n",
    "    time.sleep(0.1)\n",
    "    cursession().store_objects(ds_candles, ds_segments)"
   ]
  },
  {
   "cell_type": "code",
   "execution_count": null,
   "metadata": {
    "collapsed": true
   },
   "outputs": [],
   "source": []
  },
  {
   "cell_type": "markdown",
   "metadata": {
    "collapsed": false
   },
   "source": [
    "#Test"
   ]
  },
  {
   "cell_type": "code",
   "execution_count": 39,
   "metadata": {
    "collapsed": false
   },
   "outputs": [
    {
     "name": "stdout",
     "output_type": "stream",
     "text": [
      "candlelist e'\n",
      " [[-2.561490136496832, 0.3477299470531849, 0.6017306514778659, 1.203668994132969], [-0.5919599421758173, 0.09148709765793028, 0.3618707747427794, 0.468997376058221], [-0.5566489312758279, -0.5072343167113718, -0.5070455753142571, 0.2289266968305942], [-1.9574083138657028, -0.8813599818740326, -0.16745975737645, 0.34848595359102097], [-0.5729557934110815, 0.8267216182457172, 1.285479249580015, 1.5931318118872402], [-0.9889274741472356, -0.6583261688883515, -0.05275169261373887, 0.824079747805144], [-3.081524499910461, -1.6092359215497778, -0.08450174577159016, 0.14661255322778488], [-0.5085577613639223, -0.46835972768351897, 0.3557070831301285, 1.9089865450440313], [-1.7022123022759956, -1.6252516988821093, -1.4356997077654263, 0.062254684973270566], [-1.5998557213138327, -0.21194770837327254, 0.3736119068913334, 1.4846728659659427], [-1.1081304968617276, -0.4004988360162761, -0.3989699548779095, 0.9878659476030477], [-1.3725477288317212, -0.9841669339335153, -0.162483732787718, 1.0464561507167809], [-1.6492552350739011, -1.1723879199021612, -0.7989422243876483, 1.5225515485215124], [-1.0808103964571845, -0.7919000938518679, -0.3125242128695722, 0.9902641542797103], [-1.7462102914488762, -0.8711637897899921, 0.38210738064148236, 1.2407666611823263], [-1.7045663455703475, -0.6303583887442834, 0.6194839810737844, 1.7060662568146336], [-0.8103615139300036, -0.505717147986373, 0.014253293616302487, 0.9440134573958343], [-1.53585363523696, -0.08162088848361974, 0.33523220187430813, 1.7682729887577764], [-1.4648277027619028, -0.22257288536883021, 0.6361917249890215, 0.9736915856893955], [-1.3662385596515996, -0.2014423894454234, 1.302626532848527, 1.3136750530611554]]\n",
      "\n",
      "Essa ha 20 elementi, e deve averne tanti quanti le candele del grafico, cioe' 20\n",
      "\n",
      "La lunghezza di ciascuna sottolista è [4, 4, 4, 4, 4, 4, 4, 4, 4, 4, 4, 4, 4, 4, 4, 4, 4, 4, 4, 4] e dovrebbe essere 4\n",
      "\n",
      "La media e la std dei suoi elementi sono -0.192582 e 1.077497 e dovrebbero essere 0.000000 e 1.000000\n"
     ]
    }
   ],
   "source": [
    "#test candlelists\n",
    "list(len(x) for x in candlelists)\n",
    "print(\"candlelist e'\\n\", candlelists)\n",
    "print(\"\\nEssa ha %d elementi, e deve averne tanti quanti le candele del grafico, cioe' %d\" %(len(candlelists),candle_n))\n",
    "print(\"\\nLa lunghezza di ciascuna sottolista è %r e dovrebbe essere 4\"% [len(x) for x in candlelists])\n",
    "print(\"\\nLa media e la std dei suoi elementi sono %f e %f e dovrebbero essere %f e %f\" \n",
    "      %(np.mean(candlelists), np.std(candlelists), mean, std))"
   ]
  },
  {
   "cell_type": "code",
   "execution_count": 952,
   "metadata": {
    "collapsed": false
   },
   "outputs": [
    {
     "data": {
      "text/plain": [
       "array([ 1.21472926,  1.87299439,  0.11941708, -0.12005317,  0.41944451,\n",
       "        0.0791119 , -1.57745373, -0.15790636,  0.38109239, -0.25902594,\n",
       "       -0.31180018,  0.7231289 , -0.14214432,  0.98391066, -0.50631979])"
      ]
     },
     "execution_count": 952,
     "metadata": {},
     "output_type": "execute_result"
    }
   ],
   "source": [
    "np.array(bottomlist) - np.array(toplist)"
   ]
  },
  {
   "cell_type": "code",
   "execution_count": 38,
   "metadata": {
    "collapsed": false
   },
   "outputs": [
    {
     "name": "stdout",
     "output_type": "stream",
     "text": [
      "La lista contenente gli elementi di segmentlists mediati lungo l'asse 0 e' [-1.39801714  1.03817205]\n",
      "\n",
      "Essa ha 20 elementi, e deve averne tanti quanti le candele del grafico, cioe' 20\n",
      "\n",
      "La lunghezza di ciascuna sottolista è [2, 2, 2, 2, 2, 2, 2, 2, 2, 2, 2, 2, 2, 2, 2, 2, 2, 2, 2, 2] e dovrebbe essere 2\n",
      "\n",
      "e il minimo e il massimo della lista di dati sono [-1.39801714  1.03817205] e deve essere uguale a quella sopra\n"
     ]
    }
   ],
   "source": [
    "#test di segmentlists\n",
    "print(\"La lista contenente gli elementi di segmentlists mediati lungo l'asse 0 e'\", np.mean(segmentlists, axis = 0))\n",
    "print(\"\\nEssa ha %d elementi, e deve averne tanti quanti le candele del grafico, cioe' %d\" %(len(segmentlists),candle_n))\n",
    "print(\"\\nLa lunghezza di ciascuna sottolista è %r e dovrebbe essere 2\" %[len(x) for x in segmentlists])\n",
    "minmaxlists = list(map(lambda i : [min(candlelists[i]), max(candlelists[i])], range(candle_n)))\n",
    "print(\"\\ne il minimo e il massimo della lista di dati sono %s e deve essere uguale a quella sopra\" \n",
    "      % np.mean(minmaxlists, axis = 0))"
   ]
  },
  {
   "cell_type": "code",
   "execution_count": 37,
   "metadata": {
    "collapsed": false,
    "scrolled": true
   },
   "outputs": [
    {
     "name": "stdout",
     "output_type": "stream",
     "text": [
      "\n",
      "quadlists ha 20 elementi, e deve averne tanti quanti le candele del grafico, cioe' 20\n",
      "\n",
      "La lunghezza di ciascuna sottolista è [2, 2, 2, 2, 2, 2, 2, 2, 2, 2, 2, 2, 2, 2, 2, 2, 2, 2, 2, 2] e dovrebbe essere 2\n",
      "Dopo 1000 mescolamenti di quad_single, la lista contenenete i valori medi dei suoi due elementi e'\n",
      "[-0.20382655230363991, -0.20665794556769193]\n",
      "\n",
      "Ciascun valore dovrebbe essere pari alla media dei valori dei due elementi di centrali di candlelists, cioe' -0.205242248936\n"
     ]
    }
   ],
   "source": [
    "#test di quadlists\n",
    "shuffle_n = 1000\n",
    "s = [0.0, 0.0]\n",
    "quadlists_mean = np.mean(quadlists, axis = 0)\n",
    "for i in range(shuffle_n):\n",
    "    quadlists_mean_shuffled = hand.shuffle_return(quadlists_mean)\n",
    "    s[0] += quadlists_mean_shuffled[0]\n",
    "    s[1] += quadlists_mean_shuffled[1]\n",
    "s = [s[0]/shuffle_n, s[1]/shuffle_n]\n",
    "print(\"\\nquadlists ha %d elementi, e deve averne tanti quanti le candele del grafico, cioe' %d\" \n",
    "      %(len(segmentlists),candle_n))\n",
    "print(\"\\nLa lunghezza di ciascuna sottolista è %r e dovrebbe essere 2\" %[len(x) for x in segmentlists])\n",
    "print(\"Dopo %d mescolamenti di quad_single, la lista contenenete i valori medi dei suoi due elementi e'\" %shuffle_n)\n",
    "print(\"%r\" %s)\n",
    "print(\"\\nCiascun valore dovrebbe essere pari alla media dei valori dei due elementi di centrali di candlelists, cioe'\",\n",
    "     np.mean(np.array(candlelists)[:,1:3]))"
   ]
  },
  {
   "cell_type": "code",
   "execution_count": 35,
   "metadata": {
    "collapsed": false
   },
   "outputs": [
    {
     "data": {
      "text/plain": [
       "[[-2.561490136496832,\n",
       "  0.3477299470531849,\n",
       "  0.6017306514778659,\n",
       "  1.203668994132969],\n",
       " [-0.5919599421758173,\n",
       "  0.09148709765793028,\n",
       "  0.3618707747427794,\n",
       "  0.468997376058221],\n",
       " [-0.5566489312758279,\n",
       "  -0.5072343167113718,\n",
       "  -0.5070455753142571,\n",
       "  0.2289266968305942],\n",
       " [-1.9574083138657028,\n",
       "  -0.8813599818740326,\n",
       "  -0.16745975737645,\n",
       "  0.34848595359102097],\n",
       " [-0.5729557934110815,\n",
       "  0.8267216182457172,\n",
       "  1.285479249580015,\n",
       "  1.5931318118872402],\n",
       " [-0.9889274741472356,\n",
       "  -0.6583261688883515,\n",
       "  -0.05275169261373887,\n",
       "  0.824079747805144],\n",
       " [-3.081524499910461,\n",
       "  -1.6092359215497778,\n",
       "  -0.08450174577159016,\n",
       "  0.14661255322778488],\n",
       " [-0.5085577613639223,\n",
       "  -0.46835972768351897,\n",
       "  0.3557070831301285,\n",
       "  1.9089865450440313],\n",
       " [-1.7022123022759956,\n",
       "  -1.6252516988821093,\n",
       "  -1.4356997077654263,\n",
       "  0.062254684973270566],\n",
       " [-1.5998557213138327,\n",
       "  -0.21194770837327254,\n",
       "  0.3736119068913334,\n",
       "  1.4846728659659427],\n",
       " [-1.1081304968617276,\n",
       "  -0.4004988360162761,\n",
       "  -0.3989699548779095,\n",
       "  0.9878659476030477],\n",
       " [-1.3725477288317212,\n",
       "  -0.9841669339335153,\n",
       "  -0.162483732787718,\n",
       "  1.0464561507167809],\n",
       " [-1.6492552350739011,\n",
       "  -1.1723879199021612,\n",
       "  -0.7989422243876483,\n",
       "  1.5225515485215124],\n",
       " [-1.0808103964571845,\n",
       "  -0.7919000938518679,\n",
       "  -0.3125242128695722,\n",
       "  0.9902641542797103],\n",
       " [-1.7462102914488762,\n",
       "  -0.8711637897899921,\n",
       "  0.38210738064148236,\n",
       "  1.2407666611823263],\n",
       " [-1.7045663455703475,\n",
       "  -0.6303583887442834,\n",
       "  0.6194839810737844,\n",
       "  1.7060662568146336],\n",
       " [-0.8103615139300036,\n",
       "  -0.505717147986373,\n",
       "  0.014253293616302487,\n",
       "  0.9440134573958343],\n",
       " [-1.53585363523696,\n",
       "  -0.08162088848361974,\n",
       "  0.33523220187430813,\n",
       "  1.7682729887577764],\n",
       " [-1.4648277027619028,\n",
       "  -0.22257288536883021,\n",
       "  0.6361917249890215,\n",
       "  0.9736915856893955],\n",
       " [-1.3662385596515996,\n",
       "  -0.2014423894454234,\n",
       "  1.302626532848527,\n",
       "  1.3136750530611554]]"
      ]
     },
     "execution_count": 35,
     "metadata": {},
     "output_type": "execute_result"
    }
   ],
   "source": [
    "candlelists"
   ]
  },
  {
   "cell_type": "code",
   "execution_count": 34,
   "metadata": {
    "collapsed": false
   },
   "outputs": [
    {
     "name": "stdout",
     "output_type": "stream",
     "text": [
      "toplist è [0.6017306514778659, 0.3618707747427794, -0.5070455753142571, -0.16745975737645, 1.285479249580015, -0.05275169261373887, -1.6092359215497778, -0.46835972768351897, -1.6252516988821093, 0.3736119068913334, -0.4004988360162761, -0.162483732787718, -1.1723879199021612, -0.3125242128695722, 0.38210738064148236, -0.6303583887442834, -0.505717147986373, 0.33523220187430813, 0.6361917249890215, 1.302626532848527], \n",
      "confrontala con i primi elementi delle sottoliste di candlelists\n",
      "\n",
      "Essa ha 20 elementi e dovrebbe averne 20\n"
     ]
    }
   ],
   "source": [
    "#test di toplist\n",
    "print(\"toplist è %r, \\nconfrontala con i primi elementi delle sottoliste di candlelists\"  %toplist)\n",
    "print(\"\\nEssa ha %r elementi e dovrebbe averne %r\" %(len(toplist), candle_n))"
   ]
  },
  {
   "cell_type": "code",
   "execution_count": 33,
   "metadata": {
    "collapsed": false
   },
   "outputs": [
    {
     "name": "stdout",
     "output_type": "stream",
     "text": [
      "bottomlist è [0.3477299470531849, 0.09148709765793028, -0.5072343167113718, -0.8813599818740326, 0.8267216182457172, -0.6583261688883515, -0.08450174577159016, 0.3557070831301285, -1.4356997077654263, -0.21194770837327254, -0.3989699548779095, -0.9841669339335153, -0.7989422243876483, -0.7919000938518679, -0.8711637897899921, 0.6194839810737844, 0.014253293616302487, -0.08162088848361974, -0.22257288536883021, -0.2014423894454234], \n",
      "confrontala con i secondi elementi delle sottoliste di candlelists\n",
      "\n",
      "Essa ha 20 elementi e dovrebbe averne 20\n"
     ]
    }
   ],
   "source": [
    "#test di bottomlist\n",
    "print(\"bottomlist è %r, \\nconfrontala con i secondi elementi delle sottoliste di candlelists\"  %bottomlist)\n",
    "print(\"\\nEssa ha %r elementi e dovrebbe averne %r\" %(len(bottomlist), candle_n))"
   ]
  },
  {
   "cell_type": "code",
   "execution_count": 36,
   "metadata": {
    "collapsed": false
   },
   "outputs": [
    {
     "name": "stdout",
     "output_type": "stream",
     "text": [
      "leftlist è\n",
      "[77760000.0, 164160000.0, 250560000.0, 336960000.0, 423360000.0, 509760000.0, 596160000.0, 682560000.0, 768960000.0, 855360000.0, 941760000.0, 1028160000.0, 1114560000.0, 1200960000.0, 1287360000.0, 1373760000.0, 1460160000.0, 1546560000.0, 1632960000.0, 1719360000.0]\n",
      "\n",
      "xlist è\n",
      "[86400000, 172800000, 259200000, 345600000, 432000000, 518400000, 604800000, 691200000, 777600000, 864000000, 950400000, 1036800000, 1123200000, 1209600000, 1296000000, 1382400000, 1468800000, 1555200000, 1641600000, 1728000000]\n",
      "\n",
      "La semiampiezza di una candela è 8640000.0\n",
      "e dovrebbe coindidere con la differenza tra leftlist e xlist\n",
      "Inoltre, in entrambe le liste, valori adiacenti dovrebbero differire di 86400000\n",
      "\n",
      "leftlist ha 20 elementi e xlist ne ha 20. Entrambe devono averne 20.\n"
     ]
    }
   ],
   "source": [
    "#test di leftlist e xlist\n",
    "print(\"leftlist è\\n%r\" %leftlist)\n",
    "print(\"\\nxlist è\\n%r\" %xlist)\n",
    "print(\"\\nLa semiampiezza di una candela è %r\" % (candlewidth / 2))\n",
    "print(\"e dovrebbe coindidere con la differenza tra leftlist e xlist\")\n",
    "print(\"Inoltre, in entrambe le liste, valori adiacenti dovrebbero differire di\", time_scale)\n",
    "print(\"\\nleftlist ha %r elementi e xlist ne ha %r. Entrambe devono averne %r.\" \n",
    "      %(len(bottomlist), len(xlist), candle_n))"
   ]
  },
  {
   "cell_type": "code",
   "execution_count": 38,
   "metadata": {
    "collapsed": false
   },
   "outputs": [
    {
     "name": "stdout",
     "output_type": "stream",
     "text": [
      "rightlist è\n",
      "[95040000.0, 181440000.0, 267840000.0, 354240000.0, 440640000.0, 527040000.0, 613440000.0, 699840000.0, 786240000.0, 872640000.0, 959040000.0, 1045440000.0, 1131840000.0, 1218240000.0, 1304640000.0, 1391040000.0, 1477440000.0, 1563840000.0, 1650240000.0, 1736640000.0]\n",
      "\n",
      "xlist è\n",
      "[86400000, 172800000, 259200000, 345600000, 432000000, 518400000, 604800000, 691200000, 777600000, 864000000, 950400000, 1036800000, 1123200000, 1209600000, 1296000000, 1382400000, 1468800000, 1555200000, 1641600000, 1728000000]\n",
      "\n",
      "La semiampiezza di una candela è 8640000.0\n",
      "e dovrebbe coindidere con la differenza tra xlist e rightlist\n",
      "Inoltre, in entrambe le liste, valori adiacenti dovrebbero differire di 86400000\n",
      "\n",
      "rightlist ha 20 elementi e xlist ne ha 20. Entrambe devono averne 20.\n"
     ]
    }
   ],
   "source": [
    "#test di rightlist e xlist\n",
    "print(\"rightlist è\\n%r\" %rightlist)\n",
    "print(\"\\nxlist è\\n%r\" %xlist)\n",
    "print(\"\\nLa semiampiezza di una candela è %r\" % (candlewidth / 2))\n",
    "print(\"e dovrebbe coindidere con la differenza tra xlist e rightlist\")\n",
    "print(\"Inoltre, in entrambe le liste, valori adiacenti dovrebbero differire di\", time_scale)\n",
    "print(\"\\nrightlist ha %r elementi e xlist ne ha %r. Entrambe devono averne %r.\" \n",
    "      %(len(bottomlist), len(xlist), candle_n))"
   ]
  },
  {
   "cell_type": "code",
   "execution_count": 1041,
   "metadata": {
    "collapsed": false
   },
   "outputs": [
    {
     "name": "stdout",
     "output_type": "stream",
     "text": [
      "La lista dei colori dei vari intervalli è la seguente \n",
      "[(1, 'green'), (-1, 'red'), (1, 'green'), (-1, 'red'), (-1, 'red'), (-1, 'red'), (1, 'green'), (-1, 'red'), (-1, 'red'), (1, 'green'), (-1, 'red'), (1, 'green'), (-1, 'red'), (1, 'green'), (1, 'green')].\n",
      "\n",
      "Essa ha 15 elementi e dovrebbe averne 15\n",
      "\n",
      "Si è affiancato 1 se top > bottom (intervallo verde), -1 se top < bottom (intervallo rosso)\n"
     ]
    }
   ],
   "source": [
    "#test di colorlist\n",
    "print(\"La lista dei colori dei vari intervalli è la seguente \\n%r.\" % \n",
    "      [(hand.sign(toplist[i] - bottomlist[i]), colorlist[i]) for i in range(candle_n)])\n",
    "print(\"\\nEssa ha %r elementi e dovrebbe averne %r\" %(len(bottomlist), candle_n))\n",
    "print(\"\\nSi è affiancato 1 se top > bottom (intervallo verde), -1 se top < bottom (intervallo rosso)\")"
   ]
  },
  {
   "cell_type": "code",
   "execution_count": 52,
   "metadata": {
    "collapsed": false
   },
   "outputs": [
    {
     "name": "stdout",
     "output_type": "stream",
     "text": [
      "y0 è\n",
      "[-1.4177176473753466, -1.332939683785647, -1.0744183524228892, -2.510124325036474, -1.971334437629489, -0.9504828657386698, -0.84433374050454, -2.058218634166545, -1.1633084619872174, -1.98262517624992, -1.3744772887885581, -0.5162738994488136, 0.5525761941579334, -1.0132493915273022, -2.3706083338810586, -1.356268854350033, -0.43534170452912546, -0.38872546451664186, -1.3151953702742032, 0.007663009959278108]\n",
      "\n",
      "Essa ha 20 elementi e dovrebbe averne 20\n",
      "\n",
      "La lista differenza tra y0list e i minimi di candlelist è\n",
      " [ 0.  0.  0.  0.  0.  0.  0.  0.  0.  0.  0.  0.  0.  0.  0.  0.  0.  0.\n",
      "  0.  0.]\n"
     ]
    }
   ],
   "source": [
    "#test di y0list\n",
    "print(\"y0 è\\n%r\"% y0list)\n",
    "print(\"\\nEssa ha %r elementi e dovrebbe averne %r\" %(len(y0list), candle_n))\n",
    "candleminlist = [min(candlelists[i]) for i in range(candle_n)]\n",
    "print(\"\\nLa lista differenza tra y0list e i minimi di candlelist è\\n\", np.array(y0list)-np.array(candleminlist))"
   ]
  },
  {
   "cell_type": "code",
   "execution_count": 53,
   "metadata": {
    "collapsed": false
   },
   "outputs": [
    {
     "name": "stdout",
     "output_type": "stream",
     "text": [
      "y1 è\n",
      "[2.7879135679373843, 1.3071036579386948, 0.6120283213159334, 0.7361998354888838, 0.5978563713236674, 0.6841907701570944, 1.1377508468445348, 1.150376260579845, -0.09743964527697313, 0.45863610599917115, 0.4426274415090553, 0.9882762594303502, 1.7539556533244895, 1.4510464165254418, 0.7451971254474113, 0.4764214107376778, 1.5266801220168988, 2.064390034951961, 0.7472341418462436, 1.107661822578191]\n",
      "\n",
      "Essa ha 20 elementi e dovrebbe averne 20\n",
      "\n",
      "La lista differenza tra y0list e i minimi di candlelist è\n",
      " [ 0.  0.  0.  0.  0.  0.  0.  0.  0.  0.  0.  0.  0.  0.  0.  0.  0.  0.\n",
      "  0.  0.]\n"
     ]
    }
   ],
   "source": [
    "#test di y1list\n",
    "print(\"y1 è\\n%r\"% y1list)\n",
    "print(\"\\nEssa ha %r elementi e dovrebbe averne %r\" %(len(y1list), candle_n))\n",
    "candlemaxlist = [max(candlelists[i]) for i in range(candle_n)]\n",
    "print(\"\\nLa lista differenza tra y0list e i minimi di candlelist è\\n\", np.array(y1list)-np.array(candlemaxlist))"
   ]
  },
  {
   "cell_type": "code",
   "execution_count": null,
   "metadata": {
    "collapsed": true
   },
   "outputs": [],
   "source": []
  },
  {
   "cell_type": "code",
   "execution_count": 36,
   "metadata": {
    "collapsed": false
   },
   "outputs": [
    {
     "ename": "NameError",
     "evalue": "name 'new_candle_single' is not defined",
     "output_type": "error",
     "traceback": [
      "\u001b[1;31m---------------------------------------------------------------------------\u001b[0m",
      "\u001b[1;31mNameError\u001b[0m                                 Traceback (most recent call last)",
      "\u001b[1;32m<ipython-input-36-7280900669c6>\u001b[0m in \u001b[0;36m<module>\u001b[1;34m()\u001b[0m\n\u001b[0;32m      1\u001b[0m \u001b[1;31m#test di new_candle_single\u001b[0m\u001b[1;33m\u001b[0m\u001b[1;33m\u001b[0m\u001b[0m\n\u001b[1;32m----> 2\u001b[1;33m \u001b[0mnew_candle_single\u001b[0m\u001b[1;33m\u001b[0m\u001b[0m\n\u001b[0m",
      "\u001b[1;31mNameError\u001b[0m: name 'new_candle_single' is not defined"
     ]
    }
   ],
   "source": [
    "#test di new_candle_single\n",
    "new_candle_single"
   ]
  },
  {
   "cell_type": "code",
   "execution_count": 1122,
   "metadata": {
    "collapsed": false
   },
   "outputs": [
    {
     "name": "stdout",
     "output_type": "stream",
     "text": [
      "Segmentdata è [-0.9176885687184841, 1.046805466807136]\n",
      "e il minimo e il massimo della lista di dati sono -0.917689 e 1.046805\n"
     ]
    }
   ],
   "source": [
    "#test di segmentdata\n",
    "print(\"Segmentdata è\", segment_single) \n",
    "print(\"e il minimo e il massimo della lista di dati sono %f e %f\" %(min(candle_single), max(candle_single)))"
   ]
  },
  {
   "cell_type": "code",
   "execution_count": 1177,
   "metadata": {
    "collapsed": false
   },
   "outputs": [
    {
     "name": "stdout",
     "output_type": "stream",
     "text": [
      "Dopo 1000 mescolamenti di new_quad_single, la lista contenenete i valori medi dei suoi due elementi e'\n",
      "[-0.5361711989282523, -0.5194613904201669]\n",
      "Ciascun valore dovrebbe essere pari alla media dei valori dei due elementi di centrali di candle_single, cioe' -0.527816294674\n"
     ]
    }
   ],
   "source": [
    "#test di new_quad_single\n",
    "shuffle_n = 1000\n",
    "s = [0.0, 0.0]\n",
    "for i in range(shuffle_n):\n",
    "    new_quad_single_shuffled = hand.shuffle_return(new_quad_single)\n",
    "    s[0] += new_quad_single_shuffled[0]\n",
    "    s[1] += new_quad_single_shuffled[1]\n",
    "s = [s[0]/shuffle_n, s[1]/shuffle_n]\n",
    "print(\"Dopo %d mescolamenti di new_quad_single, la lista contenenete i valori medi dei suoi due elementi e'\" %shuffle_n)\n",
    "print(\"%r\" % s)\n",
    "print(\"Ciascun valore dovrebbe essere pari alla media dei valori dei due elementi di centrali di candle_single, cioe'\",\n",
    "     np.mean(new_candle_single[1:3]))"
   ]
  },
  {
   "cell_type": "code",
   "execution_count": 1178,
   "metadata": {
    "collapsed": false
   },
   "outputs": [
    {
     "name": "stdout",
     "output_type": "stream",
     "text": [
      "Stampo -1 se l'intervallo deve essere rosso e 1 se deve essere verde: 1 green\n"
     ]
    }
   ],
   "source": [
    "#test dell'aggionrnamento di colorlist\n",
    "print(\"Stampo -1 se l'intervallo deve essere rosso e 1 se deve essere verde:\", \n",
    "      hand.sign(new_quad_single[1] - new_quad_single[0]) , colorlist[0])"
   ]
  }
 ],
 "metadata": {
  "kernelspec": {
   "display_name": "Python 3",
   "language": "python",
   "name": "python3"
  },
  "language_info": {
   "codemirror_mode": {
    "name": "ipython",
    "version": 3
   },
   "file_extension": ".py",
   "mimetype": "text/x-python",
   "name": "python",
   "nbconvert_exporter": "python",
   "pygments_lexer": "ipython3",
   "version": "3.4.3"
  }
 },
 "nbformat": 4,
 "nbformat_minor": 0
}
