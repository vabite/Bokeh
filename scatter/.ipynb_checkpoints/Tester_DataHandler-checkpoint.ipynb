{
 "cells": [
  {
   "cell_type": "code",
   "execution_count": 9,
   "metadata": {
    "collapsed": true
   },
   "outputs": [],
   "source": [
    "import DataHandler\n",
    "import numpy as np"
   ]
  },
  {
   "cell_type": "code",
   "execution_count": 25,
   "metadata": {
    "collapsed": true
   },
   "outputs": [],
   "source": [
    "def test_sum_list(list1, list2):\n",
    "    print(\"La somma delle liste %r e %r è %r\" %(list1, list2, DataHandler.sum_list(list1, list2)))"
   ]
  },
  {
   "cell_type": "code",
   "execution_count": 26,
   "metadata": {
    "collapsed": false
   },
   "outputs": [
    {
     "name": "stdout",
     "output_type": "stream",
     "text": [
      "La somma delle liste [1, 2, 3] e [0, -3, 4] è [1, -1, 7]\n",
      "\n",
      "La somma delle liste [[1, 2, 3], [-1, -2, -3]] e [[0, 1, 0], [1, 0, 1]] è [[1, 3, 3], [0, -2, -2]]\n"
     ]
    }
   ],
   "source": [
    "list1 = [1, 2, 3]\n",
    "list2 = [0, -3, 4]\n",
    "matrix1 = [[1, 2, 3],[-1, -2, -3]]\n",
    "matrix2 = [[0, 1, 0],[1, 0, 1]]\n",
    "test_sum_list(list1, list2)\n",
    "print(\"\")\n",
    "test_sum_list(matrix1, matrix2)"
   ]
  },
  {
   "cell_type": "code",
   "execution_count": null,
   "metadata": {
    "collapsed": true
   },
   "outputs": [],
   "source": []
  },
  {
   "cell_type": "code",
   "execution_count": 27,
   "metadata": {
    "collapsed": false
   },
   "outputs": [],
   "source": [
    "def test_cumsum_matrix(tocumsum_matrix):\n",
    "    print(\"Matrice da sommare cumulativamente:\", tocumsum_matrix)\n",
    "    print(\"\\nMatrice sommata cumulativamente:\", DataHandler.cumsum_matrix(tocumsum_matrix))"
   ]
  },
  {
   "cell_type": "code",
   "execution_count": 28,
   "metadata": {
    "collapsed": false
   },
   "outputs": [
    {
     "name": "stdout",
     "output_type": "stream",
     "text": [
      "Matrice da sommare cumulativamente: [[1, 2, 3], [-1, -2, 3]]\n",
      "\n",
      "Matrice sommata cumulativamente: [[1, 3, 6], [-1, -3, 0]]\n"
     ]
    }
   ],
   "source": [
    "#list1 = [1, 2, -3]\n",
    "matrix = [[1, 2, 3],[-1, -2, 3]]\n",
    "#tester.test_cumsum_list(list1)\n",
    "test_cumsum_matrix(matrix)"
   ]
  },
  {
   "cell_type": "code",
   "execution_count": null,
   "metadata": {
    "collapsed": true
   },
   "outputs": [],
   "source": []
  },
  {
   "cell_type": "code",
   "execution_count": 29,
   "metadata": {
    "collapsed": true
   },
   "outputs": [],
   "source": [
    "def test_zeroappend_matrix(tozeroappend_matrix):\n",
    "    print(\"Matrice cui appendere gli zeri:\", tozeroappend_matrix)\n",
    "    print(\"\\nMatrice cui sono stati appesi gli zeri:\", DataHandler.zeroappend_matrix(tozeroappend_matrix))"
   ]
  },
  {
   "cell_type": "code",
   "execution_count": 30,
   "metadata": {
    "collapsed": false
   },
   "outputs": [
    {
     "name": "stdout",
     "output_type": "stream",
     "text": [
      "Matrice cui appendere gli zeri: [[1, 2, 3], [-1, -2, 3]]\n",
      "\n",
      "Matrice cui sono stati appesi gli zeri: [[0.0, 1, 2, 3], [0.0, -1, -2, 3]]\n"
     ]
    }
   ],
   "source": [
    "#list1 = [1, 2, -3]\n",
    "matrix = [[1, 2, 3],[-1, -2, 3]]\n",
    "#tester.test_zeroappend_matrix(list1)\n",
    "test_zeroappend_matrix(matrix)"
   ]
  },
  {
   "cell_type": "code",
   "execution_count": null,
   "metadata": {
    "collapsed": true
   },
   "outputs": [],
   "source": []
  },
  {
   "cell_type": "code",
   "execution_count": 12,
   "metadata": {
    "collapsed": true
   },
   "outputs": [],
   "source": [
    "def test_shuffle_return(alist, sample_n):\n",
    "    print(\"Data la lista\", alist)\n",
    "    print(\"\\nLa mischio la prima volta\", DataHandler.shuffle_return(alist))\n",
    "    print(\"\\nLa mischio la seconda volta\", DataHandler.shuffle_return(alist))\n",
    "    print(\"\\nLa mischio la terza volta\", DataHandler.shuffle_return(alist))\n",
    "    sumlist = np.array([0, 0, 0])\n",
    "    for i in range(sample_n): \n",
    "        sumlist = sumlist + DataHandler.shuffle_return(alist)\n",
    "    print(\"\\nLa media degli elementi di %r liste mischiate è %r\" % (sample_n, np.mean(sumlist)/sample_n))"
   ]
  },
  {
   "cell_type": "code",
   "execution_count": 13,
   "metadata": {
    "collapsed": false
   },
   "outputs": [
    {
     "name": "stdout",
     "output_type": "stream",
     "text": [
      "Data la lista [-4, 0, 1]\n",
      "\n",
      "La mischio la prima volta [0, 1, -4]\n",
      "\n",
      "La mischio la seconda volta [-4, 1, 0]\n",
      "\n",
      "La mischio la terza volta [0, -4, 1]\n",
      "\n",
      "La media degli elementi di 100 liste mischiate è -1.0\n"
     ]
    }
   ],
   "source": [
    "list1 =  [-4, 0, 1]\n",
    "test_shuffle_return(list1, 100)"
   ]
  },
  {
   "cell_type": "code",
   "execution_count": null,
   "metadata": {
    "collapsed": true
   },
   "outputs": [],
   "source": []
  },
  {
   "cell_type": "code",
   "execution_count": 2,
   "metadata": {
    "collapsed": true
   },
   "outputs": [],
   "source": [
    "def test_sign(item):\n",
    "    print(\"Passato argomento 10 ottengo\", DataHandler.sign(10))\n",
    "    print(\"\\nPassato argomento 0 ottengo\", DataHandler.sign(0))\n",
    "    print(\"\\nPassato argomento -1.0 ottengo\", DataHandler.sign(-1.0))\n",
    "    print(\"\\nPassato argomento %r ottengo\"% item, DataHandler.sign(item))"
   ]
  },
  {
   "cell_type": "code",
   "execution_count": 3,
   "metadata": {
    "collapsed": false
   },
   "outputs": [
    {
     "name": "stdout",
     "output_type": "stream",
     "text": [
      "Passato argomento 10 ottengo 1\n",
      "\n",
      "Passato argomento 0 ottengo 0\n",
      "\n",
      "Passato argomento -1.0 ottengo -1\n",
      "\n",
      "Passato argomento 0 ottengo 0\n"
     ]
    }
   ],
   "source": [
    "#list1 =  [0, 1, 6, -6]\n",
    "test_sign(0)"
   ]
  },
  {
   "cell_type": "code",
   "execution_count": null,
   "metadata": {
    "collapsed": true
   },
   "outputs": [],
   "source": []
  },
  {
   "cell_type": "code",
   "execution_count": 5,
   "metadata": {
    "collapsed": true
   },
   "outputs": [],
   "source": [
    "def test_shift_insert():\n",
    "    alist = list(range(10))\n",
    "    print(\"Partendo dalla lista\", alist)\n",
    "    print(\"\\neffettuando 3 passi a destra ottengo la lista\")\n",
    "    for i in range(10, 13): DataHandler.shift_insert(alist, i, shift_sx = False)\n",
    "    print(alist)\n",
    "    print(\"\\neffettuando poi 5 passi a sinistra ottengo la lista\")\n",
    "    for i in range(13, 18): DataHandler.shift_insert(alist, i)\n",
    "    print(alist)"
   ]
  },
  {
   "cell_type": "code",
   "execution_count": 6,
   "metadata": {
    "collapsed": false
   },
   "outputs": [
    {
     "name": "stdout",
     "output_type": "stream",
     "text": [
      "Partendo dalla lista [0, 1, 2, 3, 4, 5, 6, 7, 8, 9]\n",
      "\n",
      "effettuando 3 passi a destra ottengo la lista\n",
      "[12, 11, 10, 0, 1, 2, 3, 4, 5, 6]\n",
      "\n",
      "effettuando poi 5 passi a sinistra ottengo la lista\n",
      "[2, 3, 4, 5, 6, 13, 14, 15, 16, 17]\n"
     ]
    }
   ],
   "source": [
    "test_shift_insert()"
   ]
  },
  {
   "cell_type": "code",
   "execution_count": null,
   "metadata": {
    "collapsed": true
   },
   "outputs": [],
   "source": []
  }
 ],
 "metadata": {
  "kernelspec": {
   "display_name": "Python 3",
   "language": "python",
   "name": "python3"
  },
  "language_info": {
   "codemirror_mode": {
    "name": "ipython",
    "version": 3
   },
   "file_extension": ".py",
   "mimetype": "text/x-python",
   "name": "python",
   "nbconvert_exporter": "python",
   "pygments_lexer": "ipython3",
   "version": "3.4.3"
  }
 },
 "nbformat": 4,
 "nbformat_minor": 0
}
