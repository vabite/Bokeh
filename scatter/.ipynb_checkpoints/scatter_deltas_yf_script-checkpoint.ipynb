{
 "cells": [
  {
   "cell_type": "code",
   "execution_count": 5,
   "metadata": {
    "collapsed": false
   },
   "outputs": [],
   "source": [
    "import time\n",
    "from bokeh.plotting import figure, show, Session, cursession, output_server\n",
    "from data import datagenerator, datahandler, datastream"
   ]
  },
  {
   "cell_type": "code",
   "execution_count": 6,
   "metadata": {
    "collapsed": false
   },
   "outputs": [
    {
     "name": "stdout",
     "output_type": "stream",
     "text": [
      "Using saved session configuration for http://127.0.0.1:5006/\n",
      "To override, pass 'load_from_config=False' to Session\n"
     ]
    }
   ],
   "source": [
    "session = Session(load_from_config=False, root_url = \"http://127.0.0.1:5006/\")\n",
    "output_server(\"barchart\", url = \"http://127.0.0.1:5006/\")"
   ]
  },
  {
   "cell_type": "code",
   "execution_count": null,
   "metadata": {
    "collapsed": false
   },
   "outputs": [],
   "source": []
  },
  {
   "cell_type": "code",
   "execution_count": 7,
   "metadata": {
    "collapsed": false
   },
   "outputs": [],
   "source": [
    "#Inizializzazione variabili query\n",
    "#GOOGL, ENEL.MI, UCG.MI, ISP.MI\n",
    "x_quote_id = \"UCG.MI\"\n",
    "y_quote_id = \"ISP.MI\"\n",
    "start_y = 2014\n",
    "start_m = 1\n",
    "start_d = 1\n",
    "stop_y = 2015\n",
    "stop_m = 6\n",
    "stop_d = 30\n",
    "step = \"d\""
   ]
  },
  {
   "cell_type": "code",
   "execution_count": 8,
   "metadata": {
    "collapsed": false
   },
   "outputs": [],
   "source": [
    "x_file = datastream.queryinput_to_csv_yf(x_quote_id, start_y, start_m, start_d, stop_y, stop_m, stop_d, step)\n",
    "y_file = datastream.queryinput_to_csv_yf(y_quote_id, start_y, start_m, start_d, stop_y, stop_m, stop_d, step)"
   ]
  },
  {
   "cell_type": "code",
   "execution_count": 9,
   "metadata": {
    "collapsed": false
   },
   "outputs": [
    {
     "data": {
      "text/plain": [
       "b'Date,Open,High,Low,Close,Volume,Adj Close\\n'"
      ]
     },
     "execution_count": 9,
     "metadata": {},
     "output_type": "execute_result"
    }
   ],
   "source": [
    "x_file.readline()\n",
    "y_file.readline()"
   ]
  },
  {
   "cell_type": "code",
   "execution_count": 10,
   "metadata": {
    "collapsed": false
   },
   "outputs": [],
   "source": [
    "x_linelist = x_file.readlines()\n",
    "y_linelist = y_file.readlines()"
   ]
  },
  {
   "cell_type": "code",
   "execution_count": 11,
   "metadata": {
    "collapsed": false
   },
   "outputs": [],
   "source": [
    "#print(x_file.geturl());print( y_file.geturl())\n",
    "#print(len(x_linelist), len(y_linelist))"
   ]
  },
  {
   "cell_type": "code",
   "execution_count": 12,
   "metadata": {
    "collapsed": false
   },
   "outputs": [],
   "source": [
    "x_file.close()\n",
    "y_file.close()"
   ]
  },
  {
   "cell_type": "code",
   "execution_count": 13,
   "metadata": {
    "collapsed": false
   },
   "outputs": [],
   "source": [
    "x_nextlastline_gen = datahandler.yield_from_last(x_linelist)\n",
    "y_nextlastline_gen = datahandler.yield_from_last(y_linelist)"
   ]
  },
  {
   "cell_type": "code",
   "execution_count": 14,
   "metadata": {
    "collapsed": false
   },
   "outputs": [],
   "source": [
    "x_data0 = datastream.split_csvline_yf(next(x_nextlastline_gen))\n",
    "y_data0 = datastream.split_csvline_yf(next(y_nextlastline_gen))\n",
    "\n",
    "##se le date relative alle ultime linee delle due liste non combaciano, allora i successivi while entrano in azione\n",
    "##viceversa, i cicli while non alterano in alcun modo il contenuto di x_data0 e y_data0\n",
    "##print(x_linelist[-1])\n",
    "##print(y_linelist[-1])\n",
    "##qui controllo che split_csvline_yf() prenda il dato corretto dalla linea esso passata\n",
    "##print(x_data0[6], y_data0[6]) \n",
    "##print()\n",
    "\n",
    "#i due cicli while scartano linee da x_linelist o y_linelist finche le due linee correnti non hanno la stessa data\n",
    "#i dati sono scartati dalla lista che presenta data precendente\n",
    "##i=0; j=0 #contano quanti dati sono stati scartati da x_linelist (i) o y_linelist (j) prima di avere sinc temporale\n",
    "while x_data0[0]<y_data0[0]: x_data0 = datastream.split_csvline_yf(next(x_nextlastline_gen))##;i+=1\n",
    "while y_data0[0]<x_data0[0]: y_data0 = datastream.split_csvline_yf(next(y_nextlastline_gen))##;j+=1\n",
    "\n",
    "##indicizzazione effettuata in modo da trovare la linea con data uguale alla linea dell'altra lista. Se al passo\n",
    "##precedente le date delle due linee non combaciavano, qui gli indici di accesso alle due liste saranno diversi\n",
    "##print(x_linelist[-1-i])\n",
    "##print(y_linelist[-1-j])\n",
    "##print(x_data0[6], y_data0[6])\n",
    "##print()\n",
    "\n",
    "x_data = (datastream.split_csvline_yf(next(x_nextlastline_gen)))\n",
    "y_data = (datastream.split_csvline_yf(next(y_nextlastline_gen)))\n",
    "\n",
    "##come sopra, ma per x_data e y_data\n",
    "##print(x_linelist[-2-i])\n",
    "##print(y_linelist[-2-j])\n",
    "##print(x_data[6], y_data[6])\n",
    "##print()\n",
    "\n",
    "while x_data[0]<y_data[0]: x_data = datastream.split_csvline_yf(next(x_nextlastline_gen));##i+=1\n",
    "while y_data[0]<x_data[0]: y_data = datastream.split_csvline_yf(next(y_nextlastline_gen));##j+=1\n",
    "    \n",
    "##print(x_linelist[-2-i])\n",
    "##print(y_linelist[-2-j])\n",
    "##print(x_data[6], y_data[6])"
   ]
  },
  {
   "cell_type": "code",
   "execution_count": 15,
   "metadata": {
    "collapsed": false
   },
   "outputs": [],
   "source": [
    "##calcola la differenza tra l'adjusted closure del giorno attuale e quella del giorno precedente per titolo x e y\n",
    "##print(x_data[6], x_data0[6])\n",
    "##print(y_data[6], y_data0[6])\n",
    "x_deltaclose = [x_data[6] - x_data0[6]]\n",
    "y_deltaclose = [y_data[6] - y_data0[6]]\n",
    "##print(x_deltaclose, y_deltaclose); #verifica che le differenze tornino"
   ]
  },
  {
   "cell_type": "code",
   "execution_count": 16,
   "metadata": {
    "collapsed": false
   },
   "outputs": [],
   "source": [
    "p = figure(\n",
    "    plot_width = 800,\n",
    "    plot_height = 800,\n",
    ")\n",
    "p.xaxis.axis_label = x_quote_id\n",
    "p.yaxis.axis_label = y_quote_id"
   ]
  },
  {
   "cell_type": "code",
   "execution_count": 17,
   "metadata": {
    "collapsed": false
   },
   "outputs": [
    {
     "data": {
      "text/plain": [
       "<bokeh.models.renderers.GlyphRenderer at 0x7fa582c0ef60>"
      ]
     },
     "execution_count": 17,
     "metadata": {},
     "output_type": "execute_result"
    }
   ],
   "source": [
    "p.circle(\n",
    "    x = x_deltaclose, #come primo dato, assegna ad x e y del cerchio i delta adj close dei due titoli\n",
    "    y = y_deltaclose,\n",
    "    size = 10,\n",
    "    color = \"navy\",\n",
    "    alpha = 0.5,\n",
    "    name = \"scatter\"\n",
    ")"
   ]
  },
  {
   "cell_type": "code",
   "execution_count": null,
   "metadata": {
    "collapsed": false
   },
   "outputs": [],
   "source": []
  },
  {
   "cell_type": "code",
   "execution_count": 18,
   "metadata": {
    "collapsed": false
   },
   "outputs": [],
   "source": [
    "show(p)\n",
    "\n",
    "ds_scatter = p.select({\"name\":\"scatter\"})[0].data_source\n",
    "\n",
    "##assegna al giorno precedente i dati finora assegnati al giorno attuale, shiftando di 1 in avanti l'asse dei tempi\n",
    "x_data0 = x_data\n",
    "y_data0 = y_data\n",
    "##controlla che i precedenti x_data[6], y_data[6] siano gli attuali x_data0[6], y_data0[6]\n",
    "##print(\"\\n%r \\n%r\" %(x_data0, y_data0)) "
   ]
  },
  {
   "cell_type": "code",
   "execution_count": 19,
   "metadata": {
    "collapsed": false,
    "scrolled": true
   },
   "outputs": [
    {
     "ename": "KeyboardInterrupt",
     "evalue": "",
     "output_type": "error",
     "traceback": [
      "\u001b[1;31m---------------------------------------------------------------------------\u001b[0m",
      "\u001b[1;31mKeyboardInterrupt\u001b[0m                         Traceback (most recent call last)",
      "\u001b[1;32m<ipython-input-19-58851f2ba093>\u001b[0m in \u001b[0;36m<module>\u001b[1;34m()\u001b[0m\n\u001b[0;32m     42\u001b[0m \u001b[1;33m\u001b[0m\u001b[0m\n\u001b[0;32m     43\u001b[0m     \u001b[0mcursession\u001b[0m\u001b[1;33m(\u001b[0m\u001b[1;33m)\u001b[0m\u001b[1;33m.\u001b[0m\u001b[0mstore_objects\u001b[0m\u001b[1;33m(\u001b[0m\u001b[0mds_scatter\u001b[0m\u001b[1;33m)\u001b[0m\u001b[1;33m\u001b[0m\u001b[0m\n\u001b[1;32m---> 44\u001b[1;33m     \u001b[0mtime\u001b[0m\u001b[1;33m.\u001b[0m\u001b[0msleep\u001b[0m\u001b[1;33m(\u001b[0m\u001b[1;36m0.05\u001b[0m\u001b[1;33m)\u001b[0m\u001b[1;33m\u001b[0m\u001b[0m\n\u001b[0m",
      "\u001b[1;31mKeyboardInterrupt\u001b[0m: "
     ]
    }
   ],
   "source": [
    "##iter_n = 0 ##contatore del numero di iterazioni del ciclo while utilizzato in fase di debugging\n",
    "\n",
    "while True:\n",
    "    \n",
    "    try:\n",
    "        x_data = datastream.split_csvline_yf(next(x_nextlastline_gen))\n",
    "        y_data = datastream.split_csvline_yf(next(y_nextlastline_gen))\n",
    "\n",
    "        while x_data[0] < y_data[0]: x_data = datastream.split_csvline_yf(next(x_nextlastline_gen))##;i+=1\n",
    "        while y_data[0] < x_data[0]: y_data = datastream.split_csvline_yf(next(y_nextlastline_gen))##;j+=1\n",
    "        \n",
    "        ##controllo che tutti i dati siano relativi alla stessa data\n",
    "        ##print(x_data[0], y_data[0], x_data0[0] , y_data0[0]) \n",
    "        \n",
    "        ##controllo che vi sia coerenza tra i delta adj_close ottenuti direttamente dalle\n",
    "        ##dai dati riportati nel csv e i delta adj_close plottati\n",
    "        ##NB: per come aggiorno i dati pescati dalle liste, è normale che in questo controllo\n",
    "        ##le due differenze non siano uguali quando si è verificato uno shift delle date\n",
    "        ##print(\"\\n\\n%r \\n%r\" %(x_linelist[-iter_n-1-i], x_linelist[-iter_n-2-i]))\n",
    "        ##print(\"%r %r\" %(x_deltaclose[-1],\n",
    "        ##    -datastream.split_csvline_yf(x_linelist[-iter_n-1-i])[6] \n",
    "        ##    + datadstream.split_csvline_yf(x_linelist[-iter_n-2-i])[6]))\n",
    "        ##print(\"\\n%r \\n%r\" %(y_linelist[-iter_n-1-j], y_linelist[-iter_n-2-j]))\n",
    "        ##print(\"%r %r\" %(y_deltaclose[-1],\n",
    "        ##    -datastream.split_csvline_yf(y_linelist[-iter_n-1-j])[6] \n",
    "        ##    + datastream.split_csvline_yf(y_linelist[-iter_n-2-j])[6]))\n",
    "        ##iter_n += 1\n",
    "        \n",
    "        x_deltaclose.append(x_data[6] - x_data0[6])\n",
    "        y_deltaclose.append(y_data[6] - y_data0[6])\n",
    "\n",
    "        x_data0 = x_data\n",
    "        y_data0 = y_data\n",
    "        \n",
    "    except(StopIteration):\n",
    "        ##print(\"Dati terminati\")\n",
    "        ##print(\"Numero punti plottati: %r\" %len(x_deltaclose))\n",
    "        break\n",
    "        \n",
    "    ds_scatter.data[\"x\"] = x_deltaclose\n",
    "    ds_scatter.data[\"y\"] = y_deltaclose\n",
    "    \n",
    "    cursession().store_objects(ds_scatter)\n",
    "    time.sleep(0.05)"
   ]
  },
  {
   "cell_type": "code",
   "execution_count": null,
   "metadata": {
    "collapsed": false
   },
   "outputs": [],
   "source": [
    "##print(len(x_deltaclose)+1, len(x_deltaclose)+1) #linee del csv utilizzate (pari al numero di punti plottati +1)\n",
    "##numero dati totali e differenza in lunghezza tra le liste dati dei csv dei due titoli. Supponendo che \n",
    "##vi sia solo un offset temporale tra i dati dei due csv, la loro differenza deve coincidere con quanto sopra\n",
    "##print(max(len(x_linelist), len(y_linelist)), abs(len(x_linelist) - len(y_linelist))) "
   ]
  },
  {
   "cell_type": "code",
   "execution_count": null,
   "metadata": {
    "collapsed": false
   },
   "outputs": [],
   "source": []
  },
  {
   "cell_type": "code",
   "execution_count": null,
   "metadata": {
    "collapsed": false
   },
   "outputs": [],
   "source": []
  },
  {
   "cell_type": "code",
   "execution_count": null,
   "metadata": {
    "collapsed": false
   },
   "outputs": [],
   "source": []
  },
  {
   "cell_type": "code",
   "execution_count": null,
   "metadata": {
    "collapsed": true
   },
   "outputs": [],
   "source": []
  }
 ],
 "metadata": {
  "kernelspec": {
   "display_name": "Python 3",
   "language": "python",
   "name": "python3"
  },
  "language_info": {
   "codemirror_mode": {
    "name": "ipython",
    "version": 3
   },
   "file_extension": ".py",
   "mimetype": "text/x-python",
   "name": "python",
   "nbconvert_exporter": "python",
   "pygments_lexer": "ipython3",
   "version": "3.4.3"
  }
 },
 "nbformat": 4,
 "nbformat_minor": 0
}
