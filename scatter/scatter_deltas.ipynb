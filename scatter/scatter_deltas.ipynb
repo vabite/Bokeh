{
 "cells": [
  {
   "cell_type": "code",
   "execution_count": 1,
   "metadata": {
    "collapsed": false
   },
   "outputs": [],
   "source": [
    "import time\n",
    "\n",
    "from bokeh.plotting import figure, show, Session, cursession, output_server\n",
    "\n",
    "from data.datahandler import yield_from_last\n",
    "from data.datastream import queryinput_to_csv_yf, split_csvline_yf, queryinput_to_gen_yf"
   ]
  },
  {
   "cell_type": "code",
   "execution_count": 2,
   "metadata": {
    "collapsed": false
   },
   "outputs": [
    {
     "name": "stdout",
     "output_type": "stream",
     "text": [
      "Using saved session configuration for http://127.0.0.1:5006/\n",
      "To override, pass 'load_from_config=False' to Session\n"
     ]
    }
   ],
   "source": [
    "session = Session(load_from_config=False, root_url = \"http://127.0.0.1:5006/\")\n",
    "output_server(\"scatter\", url = \"http://127.0.0.1:5006/\")"
   ]
  },
  {
   "cell_type": "code",
   "execution_count": null,
   "metadata": {
    "collapsed": false
   },
   "outputs": [],
   "source": []
  },
  {
   "cell_type": "code",
   "execution_count": 3,
   "metadata": {
    "collapsed": true
   },
   "outputs": [],
   "source": [
    "class ScatterDeltas(object):\n",
    "        \n",
    "    #inizializza dplot. Le variabili del plot non inizializzate (titolo, etc.) sono comunque accessibili dall'esterno\n",
    "    def __init__(self): #step tra due dati in gg\n",
    "        #inizializza plot\n",
    "        self.plot = figure(\n",
    "            plot_width = 600,\n",
    "            plot_height = 600,\n",
    "        )\n",
    "        self.plot.circle(\n",
    "            x = [],\n",
    "            y = [],\n",
    "            size = 6,\n",
    "            color = \"navy\",\n",
    "            alpha = 0.5,\n",
    "            name = \"scatter\"\n",
    "        )\n",
    "        self.ds = self.plot.select({\"name\":\"scatter\"})[0].data_source\n",
    "        #in questa variabile viene salvato il dato utilizzato per calcolare il delta relativo al tick temporale precedente\n",
    "        self.x_olddata = None \n",
    "        self.y_olddata = None\n",
    "        \n",
    "    #ritorna l'oggetto Plot    \n",
    "    def get_plot(self):\n",
    "        return self.plot\n",
    "\n",
    "    #IN:lista (wrap effettuato per rendere la sintassi del metodo uguale per i vari chart) in cui ogni elemento è:\n",
    "    #A) una linea del csv risultante da una query a YF, se dato valido. \n",
    "    #B) None, se simulato arrivo dato invalido o assenza dati\n",
    "    #Nel caso specifico due linee:\n",
    "    #indice 0: linea del csv relativa a titolo x; indice 1: linea del csv relativa a titolo y\n",
    "    #OUT: lista dei valori da passare al metodo update() per aggiornare il grafico\n",
    "    #A) indice 0: valore per calcolo delta titolo x, indice 1: valore per calcolo delta titolo y; se dato valido\n",
    "    #B) None, se simulato arrivo dato invalido o assenza dati\n",
    "    def csvlines_to_data_yf(self, csvlines):\n",
    "        data = [None, None]\n",
    "        for i in range(2):\n",
    "            if csvlines[i] != None: data[i] = split_csvline_yf(csvlines[i], \"byte\")[4] #utilizza close\n",
    "            else: pass\n",
    "        return data\n",
    "    \n",
    "    #CLASSE NON SPECIFICA PER DATI YF. NON IMPLEMENTA CONTROLLO SULLA DATA DEGLI INPUT, ASSUMENDO CHE ESSA SIA UGUALE.\n",
    "    #TALE CONTROLLO, SE NECESSARIO, VA EFFETTUATO DALLA APPLICAZIONE CHE PASSA I DATI\n",
    "    def update(self, data):\n",
    "        if data[0] == None or data[1] == None: #caso in cui si ha assenza di dati di almeno un titolo\n",
    "        #suppone che, se per un titolo un giorno non ci sono dati, al posto della linea da esso attesa riceve None\n",
    "        #Se riceve None, cancella la memoria dei dati dei titoli x e y relativi al tick temporale precedente (per \n",
    "        #calcolare un delta valido servono due dati validi consecutivi sia del titolo x che del titolo y)\n",
    "            self.x_olddata = None\n",
    "            self.y_olddata = None\n",
    "        else: #casi in cui entrambi i dati x e y ricevuti al corrente tick temporale sono validi\n",
    "        #se è la prima volta che riceve dei dati non appende alcun dato al ds del plot (non si può calcolare un delta)\n",
    "        #ma semplicemente salva tali dati per calcolare il delta alla ricezione dei successivi dati (se validi)\n",
    "            x_data = data[0]\n",
    "            y_data = data[1]\n",
    "            if self.x_olddata != None: #caso in cui anche i dati x e y ricevuti al tick temporale precedente sono validi\n",
    "            #Appende al ds del plot un punto con ascissa pari al delta tra il valore del titolo x ricevuto a questo tick\n",
    "            #temporale e al tick temporale precedente, e ordinata calcolata analogamente con i dati del titolo y\n",
    "                self.ds.data[\"x\"].append(x_data-self.x_olddata)\n",
    "                self.ds.data[\"y\"].append(y_data-self.y_olddata)\n",
    "            #dati ricevuti memorizzati come relativi al tick temporale precedente alla prossima chiamata\n",
    "            self.x_olddata = x_data\n",
    "            self.y_olddata = y_data\n",
    "            #ritorna il ds del plot aggiornato con ascissa e ordinata del punto da plottare calcolate dai dati forniti\n",
    "        return [self.ds] #wrap in lista, per poter effettuare l'estrazione degli oggetti aggiornati nel modo più generico"
   ]
  },
  {
   "cell_type": "code",
   "execution_count": null,
   "metadata": {
    "collapsed": true
   },
   "outputs": [],
   "source": []
  },
  {
   "cell_type": "code",
   "execution_count": null,
   "metadata": {
    "collapsed": true
   },
   "outputs": [],
   "source": []
  },
  {
   "cell_type": "code",
   "execution_count": 4,
   "metadata": {
    "collapsed": false
   },
   "outputs": [],
   "source": [
    "#Inizializzazione variabili query\n",
    "#GOOGL, ENEL.MI, UCG.MI, ISP.MI\n",
    "x_quote_id = \"UCG.MI\"\n",
    "y_quote_id = \"ISP.MI\"\n",
    "start_y = 2014\n",
    "start_m = 1\n",
    "start_d = 1\n",
    "stop_y = 2015\n",
    "stop_m = 6\n",
    "stop_d = 30\n",
    "step = \"d\""
   ]
  },
  {
   "cell_type": "code",
   "execution_count": null,
   "metadata": {
    "collapsed": false
   },
   "outputs": [],
   "source": [
    "x_datagen = queryinput_to_gen_yf(x_quote_id, start_y, start_m, start_d, stop_y, stop_m, stop_d, step)\n",
    "y_datagen = queryinput_to_gen_yf(y_quote_id, start_y, start_m, start_d, stop_y, stop_m, stop_d, step)\n",
    "s = ScatterDeltas()\n",
    "show(s.get_plot())\n",
    "while True:\n",
    "    data = s.csvlines_to_data_yf([next(x_datagen), next(y_datagen)])\n",
    "    cursession().store_objects(*s.update(data))\n",
    "    time.sleep(0.2)"
   ]
  },
  {
   "cell_type": "code",
   "execution_count": null,
   "metadata": {
    "collapsed": false
   },
   "outputs": [],
   "source": []
  },
  {
   "cell_type": "code",
   "execution_count": 6,
   "metadata": {
    "collapsed": true
   },
   "outputs": [],
   "source": [
    "#TEST CLASSE ScatterDeltasYF"
   ]
  },
  {
   "cell_type": "code",
   "execution_count": 7,
   "metadata": {
    "collapsed": true
   },
   "outputs": [],
   "source": [
    "#simulo dati validi formattati come csv di YF\n",
    "#validline1 differiscono solo per data \n",
    "validline1 = b'2014-01-03,1.000,2.000,3.000,4.000,1000000,5.000\\n'\n",
    "    #delta temporale giornaliero\n",
    "validline1A = b'2014-01-04,1.000,2.000,3.000,4.000,1000000,5.000\\n'\n",
    "validline1B = b'2014-01-05,1.000,2.000,3.000,4.000,1000000,5.000\\n'\n",
    "    #delta temporale mensile\n",
    "validline1C = b'2014-02-03,1.000,2.000,3.000,4.000,1000000,5.000\\n'\n",
    "validline1D = b'2014-03-03,1.000,2.000,3.000,4.000,1000000,5.000\\n'\n",
    "    #delta temporale annuale\n",
    "validline1E = b'2015-01-03,1.000,2.000,3.000,4.000,1000000,5.000\\n'\n",
    "validline1F = b'2016-01-03,1.000,2.000,3.000,4.000,1000000,5.000\\n'\n",
    "#validline2 per data e valore\n",
    "validline2 = b'2014-01-01,3.000,4.000,5.000,6.000,2000000,7.000\\n'\n",
    "validline2A = b'2014-01-04,5.000,4.000,3.000,2.000,3000000,1.000\\n'\n",
    "validline2B = b'2014-01-15,8.000,11.000,14.000, 16.000,1000000,18.000\\n'\n",
    "validline2C = b'2014-01-30,25.000,20.000,15.000,10.000,500000,5.000\\n'\n",
    "validline2D = b'2014-01-31,-1,-2,-3,-4,500000,-5\\n'\n",
    "invalidline = None"
   ]
  },
  {
   "cell_type": "code",
   "execution_count": 11,
   "metadata": {
    "collapsed": false
   },
   "outputs": [
    {
     "name": "stdout",
     "output_type": "stream",
     "text": [
      "[4.0, 6.0]\n"
     ]
    }
   ],
   "source": [
    "s = ScatterDeltas()\n",
    "show(s.get_plot())\n",
    "#Qui testa tutti i casi in cui il grafico non deve aggiornarsi\n",
    "#testa arrivo None, None subito\n",
    "cursession().store_objects(*s.update(s.csvlines_to_data_yf([invalidline, invalidline])))\n",
    "#testa arrivo None e dato valido, sia come singolo ingresso, che come due consecutivi relativi allo stesso titolo\n",
    "cursession().store_objects(*s.update(s.csvlines_to_data_yf([invalidline, validline1])))\n",
    "cursession().store_objects(*s.update([invalidline, split_csvline_yf(validline2)[4]]))\n",
    "#testa arrivo di singola coppia di dati validi, seguita da singola coppia di dati non valida (e il viceversa)\n",
    "cursession().store_objects(*s.update(s.csvlines_to_data_yf([validline1, validline2])))\n",
    "cursession().store_objects(*s.update(s.csvlines_to_data_yf([validline1, invalidline])))\n",
    "cursession().store_objects(*s.update(s.csvlines_to_data_yf([validline1, validline2])))"
   ]
  },
  {
   "cell_type": "code",
   "execution_count": 9,
   "metadata": {
    "collapsed": false
   },
   "outputs": [
    {
     "data": {
      "text/plain": [
       "[<bokeh.models.sources.ColumnDataSource at 0x7fe41c4bce80>]"
      ]
     },
     "execution_count": 9,
     "metadata": {},
     "output_type": "execute_result"
    }
   ],
   "source": [
    "#qui testa la ricezione di dati validi consecutivi\n",
    "cursession().store_objects(*s.update(s.csvlines_to_data_yf([validline1, validline2])))\n",
    "#uguale al dato valido precedente --> out(0,0)\n",
    "cursession().store_objects(*s.update(s.csvlines_to_data_yf([validline2, validline1])))\n",
    "#uguale al dato valido precedente --> out(2,-2)\n",
    "cursession().store_objects(*s.update(s.csvlines_to_data_yf([validline2, validline1])))\n",
    "#uguale al dato valido precedente --> out(0,0)\n",
    "#si vede come, plottando più risultati con le stesse coordinate, non si hanno problemi; \n",
    "#il punto viene plottato più scuro"
   ]
  },
  {
   "cell_type": "code",
   "execution_count": 14,
   "metadata": {
    "collapsed": false
   },
   "outputs": [
    {
     "name": "stdout",
     "output_type": "stream",
     "text": [
      "[4.0, 6.0]\n",
      "[None, 6.0]\n",
      "[4.0, None]\n",
      "[None, None]\n"
     ]
    }
   ],
   "source": [
    "#verifico corretto funzionamento di csvlines_to_data_yf\n",
    "print(s.csvlines_to_data_yf([validline1, validline2]))\n",
    "print(s.csvlines_to_data_yf([invalidline, validline2]))\n",
    "print(s.csvlines_to_data_yf([validline1, invalidline]))\n",
    "print(s.csvlines_to_data_yf([invalidline, invalidline]))"
   ]
  },
  {
   "cell_type": "code",
   "execution_count": null,
   "metadata": {
    "collapsed": true
   },
   "outputs": [],
   "source": []
  }
 ],
 "metadata": {
  "kernelspec": {
   "display_name": "Python 3",
   "language": "python",
   "name": "python3"
  },
  "language_info": {
   "codemirror_mode": {
    "name": "ipython",
    "version": 3
   },
   "file_extension": ".py",
   "mimetype": "text/x-python",
   "name": "python",
   "nbconvert_exporter": "python",
   "pygments_lexer": "ipython3",
   "version": "3.4.3"
  }
 },
 "nbformat": 4,
 "nbformat_minor": 0
}
