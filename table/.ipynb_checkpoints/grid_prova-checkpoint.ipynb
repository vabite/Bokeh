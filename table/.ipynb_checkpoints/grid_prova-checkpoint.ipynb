{
 "cells": [
  {
   "cell_type": "code",
   "execution_count": 1,
   "metadata": {
    "collapsed": false
   },
   "outputs": [],
   "source": [
    "from datetime import date\n",
    "from random import randint\n",
    "import time\n",
    "\n",
    "from bokeh.models import ColumnDataSource\n",
    "from bokeh.models.widgets import DataTable, NumberFormatter, StringFormatter, TableColumn \n",
    "from bokeh.io import *\n",
    "from bokeh.plotting import Session, cursession, output_server, show,figure\n",
    "from Data.DataStream import csvline_to_queryresult_yahoo_finance, query_yahoo_finance\n",
    "from Data.DataHandler import yield_from_last, shift_insert"
   ]
  },
  {
   "cell_type": "code",
   "execution_count": 2,
   "metadata": {
    "collapsed": false
   },
   "outputs": [
    {
     "name": "stdout",
     "output_type": "stream",
     "text": [
      "Using saved session configuration for http://127.0.0.1:5006/\n",
      "To override, pass 'load_from_config=False' to Session\n"
     ]
    }
   ],
   "source": [
    "session = Session(load_from_config=False, root_url = \"http://127.0.0.1:5006/\")\n",
    "output_server(\"table\", url = \"http://127.0.0.1:5006/\")\n",
    "#output_notebook()"
   ]
  },
  {
   "cell_type": "code",
   "execution_count": 3,
   "metadata": {
    "collapsed": true
   },
   "outputs": [],
   "source": [
    "#Inizializzazione variabili query\n",
    "#GOOGL, ENEL.MI, UCG.MI, ISP.MI\n",
    "quote_id = \"UCG.MI\"\n",
    "start_y = 2014\n",
    "start_m = 1\n",
    "start_d = 1\n",
    "stop_y = 2015\n",
    "stop_m = 6\n",
    "stop_d = 30\n",
    "step = \"d\"\n",
    "\n",
    "row_n = 10"
   ]
  },
  {
   "cell_type": "code",
   "execution_count": 4,
   "metadata": {
    "collapsed": false
   },
   "outputs": [],
   "source": [
    "file = query_yahoo_finance(quote_id, start_y, start_m, start_d, stop_y, stop_m, stop_d, step)\n",
    "\n",
    "headerlist = file.readline().rstrip(b\"\\n\").split(b',')\n",
    "\n",
    "antichrono_linelist = file.readlines()\n",
    "chrono_linegen = yield_from_last(antichrono_linelist)\n",
    "\n",
    "file.close()"
   ]
  },
  {
   "cell_type": "code",
   "execution_count": 5,
   "metadata": {
    "collapsed": false
   },
   "outputs": [
    {
     "data": {
      "text/plain": [
       "['-', '-', '-', '-', '-', '-', '-', '-', '-', '5.27793']"
      ]
     },
     "execution_count": 5,
     "metadata": {},
     "output_type": "execute_result"
    }
   ],
   "source": [
    "tmlist = [\"-\" for i in range(row_n)]\n",
    "adjcloselist = [\"-\" for i in range(row_n)]\n",
    "deltalist = [\"-\" for i in range(row_n)]\n",
    "\n",
    "datalist = next(chrono_linegen).rstrip(b\"\\n\").split(b',')\n",
    "adjclose = float(datalist[6])\n",
    "shift_insert(tmlist, datalist[0].decode())\n",
    "shift_insert(adjcloselist, '%.5f'%adjclose)"
   ]
  },
  {
   "cell_type": "code",
   "execution_count": 6,
   "metadata": {
    "collapsed": false
   },
   "outputs": [],
   "source": [
    "#print(antichrono_linelist[-1])\n",
    "#print(\"%r\\n%r\\n%r\" %(tmlist, adjcloselist, deltalist))"
   ]
  },
  {
   "cell_type": "code",
   "execution_count": 7,
   "metadata": {
    "collapsed": false
   },
   "outputs": [],
   "source": [
    "source = ColumnDataSource(dict(dates = tmlist, adj_close = adjcloselist, delta = deltalist))\n",
    "columns = [TableColumn(field=\"dates\", title=\"Date\", formatter = StringFormatter(text_align = \"center\")), \n",
    "           TableColumn(field=\"adj_close\", title=\"Adjusted Close\"),\n",
    "           TableColumn(field=\"delta\", title=\"Delta Adjusted Close\")]\n",
    "data_table = DataTable(source=source, columns=columns, row_headers = False, width=400, height=280)"
   ]
  },
  {
   "cell_type": "code",
   "execution_count": 8,
   "metadata": {
    "collapsed": false
   },
   "outputs": [
    {
     "data": {
      "text/plain": [
       "<bokeh.models.renderers.GlyphRenderer at 0x7f90af5a5e48>"
      ]
     },
     "execution_count": 8,
     "metadata": {},
     "output_type": "execute_result"
    }
   ],
   "source": [
    "p1 = figure(\n",
    "    plot_width = 600,\n",
    "    plot_height = 300,\n",
    "    toolbar_location = \"left\",\n",
    "    title = \"TITOLO\"\n",
    ")\n",
    "\n",
    "p1.circle(\n",
    "    x = [0],\n",
    "    y = [0],\n",
    "    size = 10,\n",
    "    name = \"point\",\n",
    ")\n",
    "\n",
    "p2 = figure(\n",
    "    plot_width = 600,\n",
    "    plot_height = 300,\n",
    "    toolbar_location = None\n",
    ")\n",
    "\n",
    "p2.circle(\n",
    "    x = [0],\n",
    "    y = [0],\n",
    "    size = 10,\n",
    "    name = \"point\"\n",
    ")\n",
    "\n",
    "p3 = figure(\n",
    "    plot_width = 330,\n",
    "    plot_height = 330,\n",
    "    toolbar_location = None\n",
    ")\n",
    "\n",
    "p3.circle(\n",
    "    x = [0],\n",
    "    y = [0],\n",
    "    size = 10,\n",
    "    name = \"point\"\n",
    ")"
   ]
  },
  {
   "cell_type": "code",
   "execution_count": null,
   "metadata": {
    "collapsed": false
   },
   "outputs": [],
   "source": [
    "show(vplot(gridplot([[None, p3, None]]), hplot(p1, data_table), hplot(p2, data_table)))"
   ]
  },
  {
   "cell_type": "code",
   "execution_count": null,
   "metadata": {
    "collapsed": false
   },
   "outputs": [],
   "source": [
    "source = data_table.source\n",
    "\n",
    "while True:\n",
    "    \n",
    "    old_adjclose = adjclose\n",
    "    datalist = next(chrono_linegen).rstrip(b\"\\n\").split(b',')\n",
    "    adjclose = float(datalist[6])\n",
    "    source.data[\"dates\"] = shift_insert(tmlist, datalist[0].decode())\n",
    "    source.data[\"adj_close\"] = shift_insert(adjcloselist, '%.5f'%adjclose)\n",
    "    source.data[\"delta\"] = shift_insert(deltalist, '%.5f'%(adjclose-old_adjclose))\n",
    "    \n",
    "    cursession().store_objects(source)\n",
    "    time.sleep(1)"
   ]
  },
  {
   "cell_type": "code",
   "execution_count": null,
   "metadata": {
    "collapsed": false
   },
   "outputs": [],
   "source": [
    "##confronta con dati pubblicati in tabella\n",
    "##for i in range(1, 10): print(\"%r\\n\" %antichrono_linelist[-i])"
   ]
  },
  {
   "cell_type": "code",
   "execution_count": null,
   "metadata": {
    "collapsed": false
   },
   "outputs": [],
   "source": []
  },
  {
   "cell_type": "code",
   "execution_count": null,
   "metadata": {
    "collapsed": true
   },
   "outputs": [],
   "source": []
  }
 ],
 "metadata": {
  "kernelspec": {
   "display_name": "Python 3",
   "language": "python",
   "name": "python3"
  },
  "language_info": {
   "codemirror_mode": {
    "name": "ipython",
    "version": 3
   },
   "file_extension": ".py",
   "mimetype": "text/x-python",
   "name": "python",
   "nbconvert_exporter": "python",
   "pygments_lexer": "ipython3",
   "version": "3.4.3"
  }
 },
 "nbformat": 4,
 "nbformat_minor": 0
}
