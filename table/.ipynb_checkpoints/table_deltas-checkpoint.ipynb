{
 "cells": [
  {
   "cell_type": "code",
   "execution_count": 1,
   "metadata": {
    "collapsed": false
   },
   "outputs": [],
   "source": [
    "import time\n",
    "\n",
    "from bokeh.models import ColumnDataSource\n",
    "from bokeh.models.widgets import DataTable, TableColumn, StringFormatter, NumberFormatter#, DateFormatter\n",
    "from bokeh.io import hplot\n",
    "from bokeh.plotting import Session, cursession, show, output_server\n",
    "\n",
    "from data.datastream import queryinput_to_csv_yf, split_csvline_yf, queryinput_to_gen_yf\n",
    "from data.datahandler import yield_from_last, shift_insert"
   ]
  },
  {
   "cell_type": "code",
   "execution_count": 2,
   "metadata": {
    "collapsed": false,
    "scrolled": true
   },
   "outputs": [
    {
     "name": "stdout",
     "output_type": "stream",
     "text": [
      "Using saved session configuration for http://127.0.0.1:5006/\n",
      "To override, pass 'load_from_config=False' to Session\n"
     ]
    }
   ],
   "source": [
    "session = Session(load_from_config = False, root_url = \"http://127.0.0.1:5006/\")\n",
    "output_server(\"table\", url = \"http://127.0.0.1:5006/\")"
   ]
  },
  {
   "cell_type": "code",
   "execution_count": null,
   "metadata": {
    "collapsed": false
   },
   "outputs": [],
   "source": []
  },
  {
   "cell_type": "code",
   "execution_count": 3,
   "metadata": {
    "collapsed": false
   },
   "outputs": [],
   "source": [
    "class TableDeltas(object):\n",
    "    \n",
    "    def __init__(self, row_n = 10):\n",
    "        #inizializzazione plot\n",
    "        self.plot = DataTable(\n",
    "            source = ColumnDataSource(dict(\n",
    "                    dates = [\"-\" for i in range(row_n)], \n",
    "                    values = [0 for i in range(row_n)], \n",
    "                    #se inizializzazione deltas in tipo non numerico non riesce a calcolare il primo delta.\n",
    "                    #così il primo delta sarà pari al primo value\n",
    "                    deltas = [0 for i in range(row_n)])),\n",
    "            columns = [TableColumn(field=\"dates\", title=\"Date\", formatter=StringFormatter(text_align = \"center\")), \n",
    "                       TableColumn(field=\"values\", title=\"Close\", formatter=NumberFormatter(format = \"0.000\")),\n",
    "                       TableColumn(field=\"deltas\", title=\"Delta Close\", formatter=NumberFormatter(format = \"0.000\"))],\n",
    "            width=400,\n",
    "            height=280,\n",
    "            row_headers = False\n",
    "        )\n",
    "    \n",
    "    #ritorna l'oggetto DataTable, wrappato in un oggetto hplot che permette di visualizzarlo tramite server\n",
    "    def get_plot(self):\n",
    "        return hplot(self.plot)\n",
    "    \n",
    "    #IN:lista (wrap effettuato per rendere la sintassi del metodo uguale per i vari chart) in cui ogni elemento è:\n",
    "    #A) una linea del csv risultante da una query a YF, se dato valido\n",
    "    #B) None, se simulato arrivo dato invalido o assenza dati\n",
    "    # Nello specifico la lista contiene un solo elemento relativo alle info dell'unico titolo\n",
    "    #OUT: lista dei valori presi dal metodo update per aggiornare il grafico\n",
    "    #A) indice 0: data in formato stringa, indice 1: valore da utilizzare (close); se dato valido\n",
    "    #B) None, se simulato arrivo dato invalido o assenza dati\n",
    "    def csvlines_to_data_yf(self, csvlines):\n",
    "        if csvlines[0] == None: data = [None]\n",
    "        else: data = split_csvline_yf(csvlines[0], \"str\")[0::4] #sottolista con data formato str e close\n",
    "        return data      \n",
    "    \n",
    "    #prende linea di un csv di yf da cui aggiorna sorgenti di dati e ritorna lista degli oggetti di cui fare push\n",
    "    def update(self, data):\n",
    "    #supposto che, in assenza di dati per quella data, si riceve None. In questo caso non effettua niente, aspettando\n",
    "    #il dato successivo (e il prossimo delta è calcolato tra primo e ultimo dato prima che vi sia stata assenza \n",
    "    #degli stessi)\n",
    "        if data != [None]:\n",
    "            shift_insert(self.plot.source.data[\"dates\"], data[0])\n",
    "            shift_insert(self.plot.source.data[\"values\"], data[1])\n",
    "            shift_insert(self.plot.source.data[\"deltas\"], \n",
    "                         self.plot.source.data[\"values\"][-1] - self.plot.source.data[\"values\"][-2])\n",
    "        return [self.plot.source]"
   ]
  },
  {
   "cell_type": "code",
   "execution_count": null,
   "metadata": {
    "collapsed": true
   },
   "outputs": [],
   "source": []
  },
  {
   "cell_type": "code",
   "execution_count": 4,
   "metadata": {
    "collapsed": false
   },
   "outputs": [],
   "source": [
    "#Inizializzazione variabili query\n",
    "#GOOGL, ENEL.MI, UCG.MI, ISP.MI\n",
    "quote_id = \"UCG.MI\"\n",
    "start_y = 2014\n",
    "start_m = 1\n",
    "start_d = 1\n",
    "stop_y = 2015\n",
    "stop_m = 6\n",
    "stop_d = 30\n",
    "step = \"d\"\n",
    "\n",
    "row_n = 10"
   ]
  },
  {
   "cell_type": "code",
   "execution_count": 5,
   "metadata": {
    "collapsed": false
   },
   "outputs": [
    {
     "ename": "KeyboardInterrupt",
     "evalue": "",
     "output_type": "error",
     "traceback": [
      "\u001b[1;31m---------------------------------------------------------------------------\u001b[0m",
      "\u001b[1;31mKeyboardInterrupt\u001b[0m                         Traceback (most recent call last)",
      "\u001b[1;32m<ipython-input-5-d82c6d8f8b26>\u001b[0m in \u001b[0;36m<module>\u001b[1;34m()\u001b[0m\n\u001b[0;32m      5\u001b[0m     \u001b[0mdatalist\u001b[0m \u001b[1;33m=\u001b[0m \u001b[0mt\u001b[0m\u001b[1;33m.\u001b[0m\u001b[0mcsvlines_to_datalist_yf\u001b[0m\u001b[1;33m(\u001b[0m\u001b[1;33m[\u001b[0m\u001b[0mnext\u001b[0m\u001b[1;33m(\u001b[0m\u001b[0mdatagen\u001b[0m\u001b[1;33m)\u001b[0m\u001b[1;33m]\u001b[0m\u001b[1;33m)\u001b[0m\u001b[1;33m\u001b[0m\u001b[0m\n\u001b[0;32m      6\u001b[0m     \u001b[0mcursession\u001b[0m\u001b[1;33m(\u001b[0m\u001b[1;33m)\u001b[0m\u001b[1;33m.\u001b[0m\u001b[0mstore_objects\u001b[0m\u001b[1;33m(\u001b[0m\u001b[1;33m*\u001b[0m\u001b[0mt\u001b[0m\u001b[1;33m.\u001b[0m\u001b[0mupdate\u001b[0m\u001b[1;33m(\u001b[0m\u001b[0mdatalist\u001b[0m\u001b[1;33m)\u001b[0m\u001b[1;33m)\u001b[0m \u001b[1;31m#data: datalist[0]; close: datalist[4]\u001b[0m\u001b[1;33m\u001b[0m\u001b[0m\n\u001b[1;32m----> 7\u001b[1;33m     \u001b[0mtime\u001b[0m\u001b[1;33m.\u001b[0m\u001b[0msleep\u001b[0m\u001b[1;33m(\u001b[0m\u001b[1;36m1\u001b[0m\u001b[1;33m)\u001b[0m\u001b[1;33m\u001b[0m\u001b[0m\n\u001b[0m",
      "\u001b[1;31mKeyboardInterrupt\u001b[0m: "
     ]
    }
   ],
   "source": [
    "datagen = queryinput_to_gen_yf(quote_id, start_y, start_m, start_d, stop_y, stop_m, stop_d, step = \"d\")\n",
    "t = Table(row_n)\n",
    "show(t.get_plot())\n",
    "while True:\n",
    "    data = t.csvlines_to_data_yf([next(datagen)])\n",
    "    cursession().store_objects(*t.update(data)) #data: data[0]; close: data[4]\n",
    "    time.sleep(1)  "
   ]
  },
  {
   "cell_type": "code",
   "execution_count": null,
   "metadata": {
    "collapsed": false
   },
   "outputs": [],
   "source": []
  },
  {
   "cell_type": "code",
   "execution_count": 6,
   "metadata": {
    "collapsed": false
   },
   "outputs": [],
   "source": [
    "#TEST CLASSE TableYF"
   ]
  },
  {
   "cell_type": "code",
   "execution_count": 6,
   "metadata": {
    "collapsed": false
   },
   "outputs": [],
   "source": [
    "#simulo dati validi formattati come csv di YF\n",
    "#validline1 differiscono solo per data \n",
    "validline1 = b'2014-01-03,1.000,2.000,3.000,4.000,1000000,5.000\\n'\n",
    "    #delta temporale giornaliero\n",
    "validline1A = b'2014-01-04,1.000,2.000,3.000,4.000,1000000,5.000\\n'\n",
    "validline1B = b'2014-01-05,1.000,2.000,3.000,4.000,1000000,5.000\\n'\n",
    "    #delta temporale mensile\n",
    "validline1C = b'2014-02-03,1.000,2.000,3.000,4.000,1000000,5.000\\n'\n",
    "validline1D = b'2014-03-03,1.000,2.000,3.000,4.000,1000000,5.000\\n'\n",
    "    #delta temporale annuale\n",
    "validline1E = b'2015-01-03,1.000,2.000,3.000,4.000,1000000,5.000\\n'\n",
    "validline1F = b'2016-01-03,1.000,2.000,3.000,4.000,1000000,5.000\\n'\n",
    "#validline2 per data e valore\n",
    "validline2 = b'2014-01-01,3.000,4.000,5.000,6.000,2000000,7.000\\n'\n",
    "validline2A = b'2014-01-04,5.000,4.000,3.000,2.000,3000000,1.000\\n'\n",
    "validline2B = b'2014-01-15,8.000,11.000,14.000, 16.000,1000000,18.000\\n'\n",
    "validline2C = b'2014-01-30,25.000,20.000,15.000,10.000,500000,5.000\\n'\n",
    "validline2D = b'2014-01-31,-1,-2,-3,-4,500000,-5\\n'\n",
    "invalidline = None"
   ]
  },
  {
   "cell_type": "code",
   "execution_count": 7,
   "metadata": {
    "collapsed": false
   },
   "outputs": [
    {
     "data": {
      "text/plain": [
       "[<bokeh.models.sources.ColumnDataSource at 0x7f28f4045b70>]"
      ]
     },
     "execution_count": 7,
     "metadata": {},
     "output_type": "execute_result"
    }
   ],
   "source": [
    "#testa arrivo dato non valido o assenza dati subito\n",
    "t = Table()\n",
    "show(t.get_plot())\n",
    "cursession().store_objects(*t.update(t.csvlines_to_data_yf([invalidline])))"
   ]
  },
  {
   "cell_type": "code",
   "execution_count": 8,
   "metadata": {
    "collapsed": false
   },
   "outputs": [
    {
     "data": {
      "text/plain": [
       "[<bokeh.models.sources.ColumnDataSource at 0x7f28f4054da0>]"
      ]
     },
     "execution_count": 8,
     "metadata": {},
     "output_type": "execute_result"
    }
   ],
   "source": [
    "#testa arrivo dato non valido o assenza dati subito seguita da dato valido\n",
    "t = Table()\n",
    "show(t.get_plot())\n",
    "cursession().store_objects(*t.update(t.csvlines_to_data_yf([invalidline])))\n",
    "cursession().store_objects(*t.update(t.csvlines_to_data_yf([validline1A])))"
   ]
  },
  {
   "cell_type": "code",
   "execution_count": 27,
   "metadata": {
    "collapsed": false
   },
   "outputs": [
    {
     "data": {
      "text/plain": [
       "[<bokeh.models.sources.ColumnDataSource at 0x7ff68ec62f98>]"
      ]
     },
     "execution_count": 27,
     "metadata": {},
     "output_type": "execute_result"
    }
   ],
   "source": [
    "#testa arrivo dato non valido o assenza dati subito seguita da dato valido e poi ancora da dato non valido o assenza dati\n",
    "t = Table()\n",
    "show(t.get_plot())\n",
    "cursession().store_objects(*t.update(t.csvlines_to_data_yf([invalidline])))\n",
    "cursession().store_objects(*t.update(t.csvlines_to_data_yf([validline1A])))\n",
    "cursession().store_objects(*t.update(t.csvlines_to_data_yf([invalidline])))"
   ]
  },
  {
   "cell_type": "code",
   "execution_count": 9,
   "metadata": {
    "collapsed": false
   },
   "outputs": [
    {
     "data": {
      "text/plain": [
       "[<bokeh.models.sources.ColumnDataSource at 0x7f28ce628320>]"
      ]
     },
     "execution_count": 9,
     "metadata": {},
     "output_type": "execute_result"
    }
   ],
   "source": [
    "#testa arrivo dato valido seguita da dato non valido o assenza dati e ancora da dato valido\n",
    "t = Table()\n",
    "show(t.get_plot())\n",
    "cursession().store_objects(*t.update(t.csvlines_to_data_yf([validline2A])))\n",
    "cursession().store_objects(*t.update(t.csvlines_to_data_yf([invalidline])))\n",
    "cursession().store_objects(*t.update(t.csvlines_to_data_yf([validline2C])))"
   ]
  },
  {
   "cell_type": "code",
   "execution_count": 10,
   "metadata": {
    "collapsed": false
   },
   "outputs": [
    {
     "data": {
      "text/plain": [
       "[<bokeh.models.sources.ColumnDataSource at 0x7f28f4045c18>]"
      ]
     },
     "execution_count": 10,
     "metadata": {},
     "output_type": "execute_result"
    }
   ],
   "source": [
    "#testa arrivo sequenza di dati validi, non per forza in ordine cronologico\n",
    "t = Table()\n",
    "show(t.get_plot())\n",
    "cursession().store_objects(*t.update(t.csvlines_to_data_yf([validline1])))\n",
    "cursession().store_objects(*t.update(t.csvlines_to_data_yf([validline1A])))\n",
    "cursession().store_objects(*t.update(t.csvlines_to_data_yf([validline2C])))\n",
    "cursession().store_objects(*t.update(t.csvlines_to_data_yf([validline2A])))"
   ]
  },
  {
   "cell_type": "code",
   "execution_count": null,
   "metadata": {
    "collapsed": true
   },
   "outputs": [],
   "source": [
    "#testa inserimento numero righe da utente al costruttore\n",
    "t = Table(row_n = 20)\n",
    "show(t.get_plot())"
   ]
  },
  {
   "cell_type": "code",
   "execution_count": 11,
   "metadata": {
    "collapsed": false
   },
   "outputs": [
    {
     "name": "stdout",
     "output_type": "stream",
     "text": [
      "('2014-01-03', 4.0)\n",
      "[None]\n"
     ]
    }
   ],
   "source": [
    "#verifico corretto funzionamento di csvlines_to_data_yf\n",
    "t = Table()\n",
    "print(t.csvlines_to_data_yf([validline1]))\n",
    "print(t.csvlines_to_data_yf([invalidline]))"
   ]
  },
  {
   "cell_type": "code",
   "execution_count": null,
   "metadata": {
    "collapsed": true
   },
   "outputs": [],
   "source": []
  }
 ],
 "metadata": {
  "kernelspec": {
   "display_name": "Python 3",
   "language": "python",
   "name": "python3"
  },
  "language_info": {
   "codemirror_mode": {
    "name": "ipython",
    "version": 3
   },
   "file_extension": ".py",
   "mimetype": "text/x-python",
   "name": "python",
   "nbconvert_exporter": "python",
   "pygments_lexer": "ipython3",
   "version": "3.4.3"
  }
 },
 "nbformat": 4,
 "nbformat_minor": 0
}
