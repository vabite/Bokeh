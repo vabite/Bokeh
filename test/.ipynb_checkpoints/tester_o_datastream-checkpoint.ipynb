{
 "cells": [
  {
   "cell_type": "code",
   "execution_count": 1,
   "metadata": {
    "collapsed": false
   },
   "outputs": [],
   "source": [
    "from data import datastream\n",
    "import zmq\n",
    "\n",
    "import time\n",
    "import datetime\n",
    "from dateutil.relativedelta import relativedelta"
   ]
  },
  {
   "cell_type": "code",
   "execution_count": null,
   "metadata": {
    "collapsed": true
   },
   "outputs": [],
   "source": []
  },
  {
   "cell_type": "code",
   "execution_count": 27,
   "metadata": {
    "collapsed": false
   },
   "outputs": [],
   "source": [
    "def queriesinput_to_syncgens_yf(quote_ids, start_y, start_m, start_d, stop_y, stop_m, stop_d, step = \"d\", headers = False):  \n",
    "    \n",
    "#nel caso lo step della query sia 1mese, pone come data iniziale della query il primo giorno dell'anno e mese passati per la query\n",
    "    if step == \"m\": \n",
    "        current_date = datetime.date(start_y, start_m, 1)\n",
    "        timestep = relativedelta(months = 1)\n",
    "#nel caso lo step della query sia 1week, pone come data iniziale della query il lunedì della settimana della data passata per la query\n",
    "    elif step == \"w\":\n",
    "        current_date = datetime.date(start_y, start_m, start_d)\n",
    "        current_date -= datetime.timedelta(days = current_date.weekday())\n",
    "        timestep = datetime.timedelta(weeks = 1)\n",
    "#nel caso lo step della query sia 1day (sia esplicita, che passata, che pasata ma diversa dai valori possibili: \"m\", \"w\", \"d\"), pone \n",
    "#come data iniziale della query il lunedì della settimana della data passata come argomento\n",
    "    else:\n",
    "        current_date = datetime.date(start_y, start_m, start_d)\n",
    "        timestep = datetime.timedelta(days = 1)\n",
    "\n",
    "    #ottiene una lista in cui ciascun elemento è il generatore dei dati in ordine cronologico relativi a un titolo passato (query_id)\n",
    "    genslist = [datastream.queryinput_to_gen_yf(quote_id, start_y, start_m, start_d, stop_y, stop_m, stop_d, step, headers) \n",
    "                for quote_id in quote_ids]\n",
    "    #ogni elemento di tale lista dice se i dati della quote_id con la stessa posizione sono sincronizzati con la data corrente alla\n",
    "    #quale si ritoneranno i dati a questa chiamata di next() sul generatore ritornato da queriesinput_to_syncgens_yf() o no.\n",
    "    currentinputlines_list = [None for i in range(len(quote_ids))]\n",
    "    currentinputsync_list = [True for gen in genslist] \n",
    "    if headers == True:\n",
    "        #se sono stati richiesti gli headers, alla prima chiamata di next() ritorna una lista contenente le prima linea contenente \n",
    "        #il primo dato di ogni generatore (a sua volta ottenuto mantenendo l'header nelle query effettuate)\n",
    "        yield [next(gen) for gen in genslist] \n",
    "    \n",
    "    #una volta entrato nel loop relativo a uno step temporale ci rimane. Se si ha intenzione di dare la possibilità di \n",
    "    #cambiare lo step temporale di query, è possibile porre un unico while fuori dagli if (anche se così effettua i \n",
    "    #controlli della condizione più esterna ad ogni iterazione)\n",
    "    while True:\n",
    "    #effettua una iterazione ad ogni chiamata di next(). Alla prima interazione, mette in currentinputlines_list degli input delle \n",
    "    #singole quotes la prima linea ritornata da ogni relativo generatore. Alle iterazioni successive, mantiene currentinputlines_list\n",
    "    #le linee delle quote_id che al passo precedente non erano sincronizzate con la data ritornata (linee dati contenenti data \n",
    "    #successiva a quella ritornata), mentre mette in currentinputlines_list il dato ritornato dal rispettivo generatore delle \n",
    "    #quote_id che al passo precedente erano sincronizzate con la data ritornata\n",
    "        try: \n",
    "            for i in range(len(genslist)):\n",
    "                if currentinputsync_list[i]: \n",
    "                    currentinputlines_list[i] = next(genslist[i])\n",
    "            currentinputsync_list = []\n",
    "            print(\"\\nDati ricevuto dai csv individuali:\\n%r\" %currentinputlines_list)\n",
    "        except(StopIteration): \n",
    "            break #si ferma non appena terminano i dati di un csv. Potrebbe essere migliorato dicendo di andare avanti con gli altri\n",
    "        \n",
    "        currentoutputlines_list = [] #questa lista è quella che vrrà ritornata quando verrà chiamato il metodo next()\n",
    "        #per ciascuna quote_id, se la data della linea corrente relativa a quella quote_id è sincronizzata con la data ritornata\n",
    "        #allora a questa chiamata di next() per tale quote_id verrà ritornata la linea relativa alla quote_id stessa e settato\n",
    "        #il relativo flag di sincronizzazione in urrentinputsync_list a True; viceversa a questa chiamata di next() per tale quote_id \n",
    "        #verrà ritornato None e settato il relativo flag di sincronizzazione in urrentinputsync_list a False\n",
    "        for currentinputline in currentinputlines_list:\n",
    "            currentinputline_date = datetime.date(*datastream.split_csvline_yf(currentinputline, \"list\")[0])\n",
    "            ##print(\"Data dell'input relativo alla query della quote id n.1: %s\" % currentinputline_date)\n",
    "            \n",
    "            if current_date <= currentinputline_date < current_date + timestep:\n",
    "                currentinputsync_list.append(True)\n",
    "                currentoutputlines_list.append(currentinputline)\n",
    "            else:\n",
    "                currentinputsync_list.append(False)\n",
    "                currentoutputlines_list.append(None)\n",
    "        #aggiorna la data relativa ai dati ritornati, aggiungendo il timestep argomento a quella della chiamata precedente\n",
    "        print(\"Data correntemente ritornata: %s\" % current_date)\n",
    "        current_date += timestep \n",
    "        yield currentoutputlines_list"
   ]
  },
  {
   "cell_type": "code",
   "execution_count": 37,
   "metadata": {
    "collapsed": false
   },
   "outputs": [
    {
     "name": "stdout",
     "output_type": "stream",
     "text": [
      "\n",
      "Dati ricevuto dai csv individuali:\n",
      "[b'2009-01-01,1.09814,1.09814,1.09814,1.09814,000,8.88559\\n', b'2009-01-02,308.60,321.820013,305.499984,321.319995,7213700,160.820818\\n']\n",
      "Data correntemente ritornata: 2009-01-01\n",
      "[b'2009-01-01,1.09814,1.09814,1.09814,1.09814,000,8.88559\\n', None]\n",
      "\n",
      "Dati ricevuto dai csv individuali:\n",
      "[b'2009-01-02,1.10947,1.16422,1.10129,1.16422,12720200,9.42025\\n', b'2009-01-02,308.60,321.820013,305.499984,321.319995,7213700,160.820818\\n']\n",
      "Data correntemente ritornata: 2009-01-02\n",
      "[b'2009-01-02,1.10947,1.16422,1.10129,1.16422,12720200,9.42025\\n', b'2009-01-02,308.60,321.820013,305.499984,321.319995,7213700,160.820818\\n']\n",
      "\n",
      "Dati ricevuto dai csv individuali:\n",
      "[b'2009-01-05,1.17051,1.18876,1.16736,1.18687,16906700,9.60357\\n', b'2009-01-05,321.000002,331.240027,314.999996,328.050013,9768200,164.189196\\n']\n",
      "Data correntemente ritornata: 2009-01-03\n",
      "[None, None]\n",
      "\n",
      "Dati ricevuto dai csv individuali:\n",
      "[b'2009-01-05,1.17051,1.18876,1.16736,1.18687,16906700,9.60357\\n', b'2009-01-05,321.000002,331.240027,314.999996,328.050013,9768200,164.189196\\n']\n",
      "Data correntemente ritornata: 2009-01-04\n",
      "[None, None]\n",
      "\n",
      "Dati ricevuto dai csv individuali:\n",
      "[b'2009-01-05,1.17051,1.18876,1.16736,1.18687,16906700,9.60357\\n', b'2009-01-05,321.000002,331.240027,314.999996,328.050013,9768200,164.189196\\n']\n",
      "Data correntemente ritornata: 2009-01-05\n",
      "[b'2009-01-05,1.17051,1.18876,1.16736,1.18687,16906700,9.60357\\n', b'2009-01-05,321.000002,331.240027,314.999996,328.050013,9768200,164.189196\\n']\n",
      "\n",
      "Dati ricevuto dai csv individuali:\n",
      "[b'2009-01-06,1.19191,1.26805,1.19191,1.23974,22726400,10.03133\\n', b'2009-01-06,332.980015,340.800007,326.389993,334.060019,12837500,167.197207\\n']\n",
      "Data correntemente ritornata: 2009-01-06\n",
      "[b'2009-01-06,1.19191,1.26805,1.19191,1.23974,22726400,10.03133\\n', b'2009-01-06,332.980015,340.800007,326.389993,334.060019,12837500,167.197207\\n']\n",
      "\n",
      "Dati ricevuto dai csv individuali:\n",
      "[b'2009-01-07,1.24603,1.25484,1.19443,1.2089,22033700,9.78181\\n', b'2009-01-07,328.320007,330.910004,318.749996,322.010008,8980000,161.16617\\n']\n",
      "Data correntemente ritornata: 2009-01-07\n",
      "[b'2009-01-07,1.24603,1.25484,1.19443,1.2089,22033700,9.78181\\n', b'2009-01-07,328.320007,330.910004,318.749996,322.010008,8980000,161.16617\\n']\n",
      "\n",
      "Dati ricevuto dai csv individuali:\n",
      "[b'2009-01-08,1.1831,1.19693,1.17051,1.1831,18815500,9.57305\\n', b'2009-01-08,318.280008,325.190022,317.34,325.190022,7194100,162.757769\\n']\n",
      "Data correntemente ritornata: 2009-01-08\n",
      "[b'2009-01-08,1.1831,1.19693,1.17051,1.1831,18815500,9.57305\\n', b'2009-01-08,318.280008,325.190022,317.34,325.190022,7194100,162.757769\\n']\n",
      "\n",
      "Dati ricevuto dai csv individuali:\n",
      "[b'2009-01-09,1.19568,1.19568,1.10758,1.14156,22271500,9.23694\\n', b'2009-01-09,327.499996,327.499996,313.400005,315.069995,8672300,157.69269\\n']\n",
      "Data correntemente ritornata: 2009-01-09\n",
      "[b'2009-01-09,1.19568,1.19568,1.10758,1.14156,22271500,9.23694\\n', b'2009-01-09,327.499996,327.499996,313.400005,315.069995,8672300,157.69269\\n']\n",
      "\n",
      "Dati ricevuto dai csv individuali:\n",
      "[b'2009-01-12,1.13904,1.1617,1.13401,1.1359,10622600,9.19112\\n', b'2009-01-12,316.309995,318.949991,310.229991,312.689992,6601900,156.501497\\n']\n",
      "Data correntemente ritornata: 2009-01-10\n",
      "[None, None]\n"
     ]
    }
   ],
   "source": [
    "#ESSENDO DIFFICILE COSTRUIRE UN TEST SENZA STAMPARE LO STATO DELLA FUNZIONE CON DEI PRINT INTERNI, HO RIPORTATO QUI\n",
    "#LA FUNZIONE STESSA\n",
    "#Con la query effettuata, con passo 1gg, si vede come:\n",
    "#A) Il primo giorno si ha un dato per UCI ma non per GOOGL, e il risultato ritornato chiamando next() è:\n",
    "#[b'2009-01-01,1.09814,1.09814,1.09814,1.09814,000,8.88559\\n', None]\n",
    "#B) Nei weekend non si hanno dati di entrambe, e il risultato ritornato chiamando next() è:\n",
    "#[None, None]\n",
    "#Sarebbe da fare la stessa prova con step settimanale e mensile\n",
    "\n",
    "\n",
    "x_quote_id = \"UCG.MI\"\n",
    "y_quote_id = \"GOOGL\"\n",
    "quote_ids = (x_quote_id, y_quote_id)\n",
    "start_y = 2009\n",
    "start_m = 1 \n",
    "start_d = 1\n",
    "stop_y = 2015\n",
    "stop_m = 12\n",
    "stop_d = 31\n",
    "step = \"d\"\n",
    "headers = False\n",
    "\n",
    "#test step default giornaliero richiesto implicitamente e headers omessi default richiesti esplicitamente\n",
    "syncgens = queriesinput_to_syncgens_yf(quote_ids, start_y, start_m, start_d, stop_y, stop_m, stop_d, step, headers) \n",
    "\n",
    "#test step giornaliero default richiesto implicitamente e headers omessi default richiesti implitamente\n",
    "#syncgens = queriesinput_to_syncgens_yf(quote_ids, start_y, start_m, start_d, stop_y, stop_m, stop_d)\n",
    "\n",
    "#test con step giornaliero default e headers ritornati inizialmente richiesti esplicitamente\n",
    "#syncgens = queriesinput_to_syncgens_yf(quote_ids, start_y, start_m, start_d, stop_y, stop_m, stop_d, step, headers = True) \n",
    "\n",
    "#test con step settimanale richiesto esplicitamente e con headers omessi default richiesti esplicitamente\n",
    "#da notare come la data iniziale ritornata venga posta pari a quella del primo lunedì della settimana iniziale della query\n",
    "#step = \"w\"\n",
    "#syncgens = queriesinput_to_syncgens_yf(quote_ids, start_y, start_m, start_d, stop_y, stop_m, stop_d, step, headers)\n",
    "\n",
    "#test con step mensile richiesto esplicitamente e con headers omessi default richiesti esplicitamente\n",
    "#da notare come la data iniziale ritornata venga posta pari a quella del primo giorno del mese iniziale della query\n",
    "#step = \"m\"\n",
    "#syncgens = queriesinput_to_syncgens_yf(quote_ids, start_y, start_m, start_d, stop_y, stop_m, stop_d, step, headers)\n",
    "\n",
    "for i in range(10):\n",
    "    print(next(syncgens))"
   ]
  },
  {
   "cell_type": "code",
   "execution_count": null,
   "metadata": {
    "collapsed": true
   },
   "outputs": [],
   "source": []
  },
  {
   "cell_type": "code",
   "execution_count": 22,
   "metadata": {
    "collapsed": false
   },
   "outputs": [],
   "source": [
    "def test_queriesinput_to_syncgens_yf(quote_ids, start_y, start_m, start_d, stop_y, stop_m, stop_d, step, headers):\n",
    "        \n",
    "    gen0 = datastream.queryinput_to_gen_yf(quote_ids[0], start_y, start_m, start_d, stop_y, stop_m, stop_d, step, headers)\n",
    "    gen1 = datastream.queryinput_to_gen_yf(quote_ids[1], start_y, start_m, start_d, stop_y, stop_m, stop_d, step, headers)\n",
    "    syncgens = datastream.queriesinput_to_syncgens_yf(quote_ids, start_y, start_m, start_d, stop_y, stop_m, stop_d, step, headers)\n",
    "    print(\"Dati dei singoli csv\")\n",
    "    for i in range(10): \n",
    "        print(\"Dato n. %d\\n %r %r\" % (i, next(gen0), next(gen1)))\n",
    "    print(\"\\nDati sincronizati\")\n",
    "    for i in range(10): \n",
    "        print(\"Dato n. %d\\n %r\" % (i, next(syncgens)))"
   ]
  },
  {
   "cell_type": "code",
   "execution_count": 32,
   "metadata": {
    "collapsed": false,
    "scrolled": true
   },
   "outputs": [
    {
     "name": "stdout",
     "output_type": "stream",
     "text": [
      "Dati dei singoli csv\n",
      "Dato n. 0\n",
      " b'Date,Open,High,Low,Close,Volume,Adj Close\\n' b'Date,Open,High,Low,Close,Volume,Adj Close\\n'\n",
      "Dato n. 1\n",
      " b'2009-01-01,1.09814,1.09814,1.09814,1.09814,000,8.88559\\n' b'2009-01-01,2.37194,2.37194,2.37194,2.37194,000,1.91982\\n'\n",
      "Dato n. 2\n",
      " b'2009-01-02,1.10947,1.16422,1.10129,1.16422,12720200,9.42025\\n' b'2009-01-02,2.39531,2.40933,2.34623,2.37428,37523000,1.92171\\n'\n",
      "Dato n. 3\n",
      " b'2009-01-05,1.17051,1.18876,1.16736,1.18687,16906700,9.60357\\n' b'2009-01-05,2.40232,2.42335,2.37428,2.40466,39444200,1.9463\\n'\n",
      "Dato n. 4\n",
      " b'2009-01-06,1.19191,1.26805,1.19191,1.23974,22726400,10.03133\\n' b'2009-01-06,2.41634,2.57291,2.39063,2.53318,64942900,2.05033\\n'\n",
      "Dato n. 5\n",
      " b'2009-01-07,1.24603,1.25484,1.19443,1.2089,22033700,9.78181\\n' b'2009-01-07,2.51449,2.57057,2.50748,2.55188,49836900,2.06546\\n'\n",
      "Dato n. 6\n",
      " b'2009-01-08,1.1831,1.19693,1.17051,1.1831,18815500,9.57305\\n' b'2009-01-08,2.50981,2.60329,2.50047,2.57992,50440300,2.08816\\n'\n",
      "Dato n. 7\n",
      " b'2009-01-09,1.19568,1.19568,1.10758,1.14156,22271500,9.23694\\n' b'2009-01-09,2.5846,2.60796,2.45373,2.4584,76629100,1.9898\\n'\n",
      "Dato n. 8\n",
      " b'2009-01-12,1.13904,1.1617,1.13401,1.1359,10622600,9.19112\\n' b'2009-01-12,2.44906,2.52384,2.43971,2.47944,30624400,2.00683\\n'\n",
      "Dato n. 9\n",
      " b'2009-01-13,1.13275,1.14848,1.08555,1.09122,19679500,8.82958\\n' b'2009-01-13,2.45607,2.46308,2.35558,2.37895,89283900,1.92549\\n'\n",
      "\n",
      "Dati sincronizati\n",
      "Dato n. 0\n",
      " [b'Date,Open,High,Low,Close,Volume,Adj Close\\n', b'Date,Open,High,Low,Close,Volume,Adj Close\\n']\n",
      "Dato n. 1\n",
      " [b'2009-01-01,1.09814,1.09814,1.09814,1.09814,000,8.88559\\n', b'2009-01-01,2.37194,2.37194,2.37194,2.37194,000,1.91982\\n']\n",
      "Dato n. 2\n",
      " [b'2009-01-02,1.10947,1.16422,1.10129,1.16422,12720200,9.42025\\n', b'2009-01-02,2.39531,2.40933,2.34623,2.37428,37523000,1.92171\\n']\n",
      "Dato n. 3\n",
      " [None, None]\n",
      "Dato n. 4\n",
      " [None, None]\n",
      "Dato n. 5\n",
      " [b'2009-01-05,1.17051,1.18876,1.16736,1.18687,16906700,9.60357\\n', b'2009-01-05,2.40232,2.42335,2.37428,2.40466,39444200,1.9463\\n']\n",
      "Dato n. 6\n",
      " [b'2009-01-06,1.19191,1.26805,1.19191,1.23974,22726400,10.03133\\n', b'2009-01-06,2.41634,2.57291,2.39063,2.53318,64942900,2.05033\\n']\n",
      "Dato n. 7\n",
      " [b'2009-01-07,1.24603,1.25484,1.19443,1.2089,22033700,9.78181\\n', b'2009-01-07,2.51449,2.57057,2.50748,2.55188,49836900,2.06546\\n']\n",
      "Dato n. 8\n",
      " [b'2009-01-08,1.1831,1.19693,1.17051,1.1831,18815500,9.57305\\n', b'2009-01-08,2.50981,2.60329,2.50047,2.57992,50440300,2.08816\\n']\n",
      "Dato n. 9\n",
      " [b'2009-01-09,1.19568,1.19568,1.10758,1.14156,22271500,9.23694\\n', b'2009-01-09,2.5846,2.60796,2.45373,2.4584,76629100,1.9898\\n']\n"
     ]
    }
   ],
   "source": [
    "x_quote_id = \"UCG.MI\"\n",
    "y_quote_id = \"ISP.MI\"\n",
    "quote_ids = (x_quote_id, y_quote_id)\n",
    "start_y = 2009\n",
    "start_m = 1 \n",
    "start_d = 1\n",
    "stop_y = 2015\n",
    "stop_m = 12\n",
    "stop_d = 31\n",
    "step = \"d\"\n",
    "headers = True\n",
    "\n",
    "test_queriesinput_to_syncgens_yf(quote_ids, start_y, start_m, start_d, stop_y, stop_m, stop_d, step, headers)"
   ]
  },
  {
   "cell_type": "code",
   "execution_count": null,
   "metadata": {
    "collapsed": true
   },
   "outputs": [],
   "source": []
  },
  {
   "cell_type": "code",
   "execution_count": 10,
   "metadata": {
    "collapsed": false
   },
   "outputs": [],
   "source": [
    "def test_queryinput_to_gen_yf(quote_id, start_y, start_m, start_d, stop_y, stop_m, stop_d):\n",
    "    \n",
    "    print(\"Primi 5 elementi del csv ottenuto con step e header default (step giornaliero e nessun header)\")\n",
    "    gen = datastream.queryinput_to_gen_yf(quote_id, start_y, start_m, start_d, stop_y, stop_m, stop_d)\n",
    "    for i in range(5):\n",
    "        print(next(gen))\n",
    "              \n",
    "    print(\"\\nPrimi 5 elementi del csv ottenuto con step default (giornaliero) e header richiesti esplicitamente\")\n",
    "    gen = datastream.queryinput_to_gen_yf(quote_id, start_y, start_m, start_d, stop_y, stop_m, stop_d, headers = True)\n",
    "    for i in range(5):\n",
    "        print(next(gen))\n",
    "              \n",
    "    print(\"\\nPrimi 5 elementi del csv ottenuto con step giornaliero esplicitamente richiesto e header default (non richiesto)\")\n",
    "    gen = datastream.queryinput_to_gen_yf(quote_id, start_y, start_m, start_d, stop_y, stop_m, stop_d, step = \"d\")\n",
    "    for i in range(5):\n",
    "        print(next(gen))\n",
    "              \n",
    "    print(\"\\nPrimi 5 elementi del csv ottenuto con step settimanale esplicitamente richiesto e header default (richiesto)\")\n",
    "    gen = datastream.queryinput_to_gen_yf(quote_id, start_y, start_m, start_d, stop_y, stop_m, stop_d, step = \"w\")\n",
    "    for i in range(5):\n",
    "        print(next(gen))\n",
    "\n",
    "    print(\"\\nPrimi 5 elementi del csv ottenuto con step mensile esplicitamente richiesto e header default (richiesto)\")\n",
    "    gen = datastream.queryinput_to_gen_yf(quote_id, start_y, start_m, start_d, stop_y, stop_m, stop_d, step = \"m\")\n",
    "    for i in range(5):\n",
    "        print(next(gen))"
   ]
  },
  {
   "cell_type": "code",
   "execution_count": 11,
   "metadata": {
    "collapsed": false
   },
   "outputs": [
    {
     "name": "stdout",
     "output_type": "stream",
     "text": [
      "Primi 5 elementi del csv ottenuto con step e header default (step giornaliero e nessun header)\n",
      "b'2009-01-01,1.09814,1.09814,1.09814,1.09814,000,8.88559\\n'\n",
      "b'2009-01-02,1.10947,1.16422,1.10129,1.16422,12720200,9.42025\\n'\n",
      "b'2009-01-05,1.17051,1.18876,1.16736,1.18687,16906700,9.60357\\n'\n",
      "b'2009-01-06,1.19191,1.26805,1.19191,1.23974,22726400,10.03133\\n'\n",
      "b'2009-01-07,1.24603,1.25484,1.19443,1.2089,22033700,9.78181\\n'\n",
      "\n",
      "Primi 5 elementi del csv ottenuto con step default (giornaliero) e header richiesti esplicitamente\n",
      "b'Date,Open,High,Low,Close,Volume,Adj Close\\n'\n",
      "b'2009-01-01,1.09814,1.09814,1.09814,1.09814,000,8.88559\\n'\n",
      "b'2009-01-02,1.10947,1.16422,1.10129,1.16422,12720200,9.42025\\n'\n",
      "b'2009-01-05,1.17051,1.18876,1.16736,1.18687,16906700,9.60357\\n'\n",
      "b'2009-01-06,1.19191,1.26805,1.19191,1.23974,22726400,10.03133\\n'\n",
      "\n",
      "Primi 5 elementi del csv ottenuto con step giornaliero esplicitamente richiesto e header default (non richiesto)\n",
      "b'2009-01-01,1.09814,1.09814,1.09814,1.09814,000,8.88559\\n'\n",
      "b'2009-01-02,1.10947,1.16422,1.10129,1.16422,12720200,9.42025\\n'\n",
      "b'2009-01-05,1.17051,1.18876,1.16736,1.18687,16906700,9.60357\\n'\n",
      "b'2009-01-06,1.19191,1.26805,1.19191,1.23974,22726400,10.03133\\n'\n",
      "b'2009-01-07,1.24603,1.25484,1.19443,1.2089,22033700,9.78181\\n'\n",
      "\n",
      "Primi 5 elementi del csv ottenuto con step settimanale esplicitamente richiesto e header default (richiesto)\n",
      "b'2009-01-01,1.09814,1.16422,1.09814,1.16422,6360100,9.42025\\n'\n",
      "b'2009-01-05,1.17051,1.26805,1.10758,1.14156,20550700,9.23694\\n'\n",
      "b'2009-01-12,1.13904,1.1617,0.9534,0.9792,24326300,7.9232\\n'\n",
      "b'2009-01-19,0.99997,1.01192,0.74447,0.786,36699600,6.35995\\n'\n",
      "b'2009-01-26,0.77405,0.89928,0.76272,0.8697,31167200,7.03719\\n'\n",
      "\n",
      "Primi 5 elementi del csv ottenuto con step mensile esplicitamente richiesto e header default (richiesto)\n",
      "b'2009-01-01,1.09814,1.26805,0.74447,0.8697,27798500,7.03719\\n'\n",
      "b'2009-02-02,0.84956,0.94018,0.5626,0.6356,39542300,5.14295\\n'\n",
      "b'2009-03-02,0.61043,0.94396,0.41943,0.7816,49686900,6.3243\\n'\n",
      "b'2009-04-01,0.7753,1.19443,0.75831,1.17617,45707700,9.51701\\n'\n",
      "b'2009-05-01,1.17617,1.41594,0.98298,1.16359,38628300,11.13243\\n'\n"
     ]
    }
   ],
   "source": [
    "quote_id = \"UCG.MI\"\n",
    "start_y = 2009\n",
    "start_m = 1 \n",
    "start_d = 1\n",
    "stop_y = 2015\n",
    "stop_m = 12\n",
    "stop_d = 31\n",
    "\n",
    "test_queryinput_to_gen_yf(quote_id, start_y, start_m, start_d, stop_y, stop_m, stop_d)"
   ]
  },
  {
   "cell_type": "code",
   "execution_count": null,
   "metadata": {
    "collapsed": true
   },
   "outputs": [],
   "source": []
  },
  {
   "cell_type": "code",
   "execution_count": 5,
   "metadata": {
    "collapsed": false
   },
   "outputs": [],
   "source": [
    "def test_queryinput_to_csv_yf(quote_id, start_y, start_m, start_d, stop_y, stop_m, stop_d, step):\n",
    "    obj_url = datastream.queryinput_to_csv_yf(quote_id, start_y, start_m, start_d, stop_y, stop_m, stop_d, step)\n",
    "    print(\"Dovrei ritornare http://ichart.yahoo.com/table.csv?s=%s&a=%s&b=%s&c=%s&d=%s&e=%s&f=&%s&g=%s\"\n",
    "         % (quote_id, start_m - 1, start_d, start_y, stop_m - 1, stop_d, stop_y, step))\n",
    "    print(\"NB: l'ordine dei vari parametri della query, separati da &, non è importante\")\n",
    "    print(obj_url.geturl())"
   ]
  },
  {
   "cell_type": "code",
   "execution_count": 6,
   "metadata": {
    "collapsed": false
   },
   "outputs": [
    {
     "name": "stdout",
     "output_type": "stream",
     "text": [
      "Dovrei ritornare http://ichart.yahoo.com/table.csv?s=UCG.MI&a=0&b=1&c=2014&d=11&e=31&f=&2015&g=d\n",
      "NB: l'ordine dei vari parametri della query, separati da &, non è importante\n",
      "http://ichart.yahoo.com/table.csv?f=2015&b=1&g=d&a=0&c=2014&s=UCG.MI&d=11&e=31\n"
     ]
    }
   ],
   "source": [
    "quote_id = \"UCG.MI\"\n",
    "start_y = 2014\n",
    "start_m = 1 \n",
    "start_d = 1\n",
    "stop_y = 2015\n",
    "stop_m = 12\n",
    "stop_d = 31\n",
    "step = \"d\"\n",
    "\n",
    "test_queryinput_to_csv_yf(quote_id, start_y, start_m, start_d, stop_y, stop_m, stop_d, step)"
   ]
  },
  {
   "cell_type": "code",
   "execution_count": null,
   "metadata": {
    "collapsed": true
   },
   "outputs": [],
   "source": []
  },
  {
   "cell_type": "code",
   "execution_count": 9,
   "metadata": {
    "collapsed": false
   },
   "outputs": [],
   "source": [
    "def test_split_csvline_yf(byte_string, tm_format = \"int\"):\n",
    "\n",
    "    query_results = datastream.split_csvline_yf(byte_string, tm_format)\n",
    "    \n",
    "    print(\"Dovrei ritornare\")\n",
    "    print(\"time = %s. Ritorno: %s\" % (tm, query_results[0]))\n",
    "    if tm_format == \"int\": print(\"Equivalente alla data\",(time.gmtime(0.001*query_results[0])))\n",
    "    print(\"open_ = %s. Ritorno open_ = %s\" % (float(open_), query_results[1]))\n",
    "    print(\"highest = %s. Ritorno highest = %s\" % (float(highest), query_results[2]))\n",
    "    print(\"lowest = %s. Ritorno lowest = %s\" % (float(lowest), query_results[3]))\n",
    "    print(\"close = %s. Ritorno close = %s\" % (float(close), query_results[4]))\n",
    "    print(\"volume = %s. Ritorno volume = %s\" % (float(volume), query_results[5]))\n",
    "    print(\"adj_close = %s. Ritorno adj_close = %s\\n\" % (float(adj_close), query_results[6]))"
   ]
  },
  {
   "cell_type": "code",
   "execution_count": 10,
   "metadata": {
    "collapsed": false
   },
   "outputs": [
    {
     "name": "stdout",
     "output_type": "stream",
     "text": [
      "Dovrei ritornare\n",
      "time = b'2014-01-01'. Ritorno: 1388534400000\n",
      "Equivalente alla data time.struct_time(tm_year=2014, tm_mon=1, tm_mday=1, tm_hour=0, tm_min=0, tm_sec=0, tm_wday=2, tm_yday=1, tm_isdst=0)\n",
      "open_ = 1.0. Ritorno open_ = 1.0\n",
      "highest = -2.0. Ritorno highest = -2.0\n",
      "lowest = 0.0. Ritorno lowest = 0.0\n",
      "close = 1.0. Ritorno close = 1.0\n",
      "volume = 2.0. Ritorno volume = 2.0\n",
      "adj_close = 0.0. Ritorno adj_close = 0.0\n",
      "\n",
      "Dovrei ritornare\n",
      "time = b'2014-01-01'. Ritorno: 2014-01-01\n",
      "open_ = 1.0. Ritorno open_ = 1.0\n",
      "highest = -2.0. Ritorno highest = -2.0\n",
      "lowest = 0.0. Ritorno lowest = 0.0\n",
      "close = 1.0. Ritorno close = 1.0\n",
      "volume = 2.0. Ritorno volume = 2.0\n",
      "adj_close = 0.0. Ritorno adj_close = 0.0\n",
      "\n",
      "Dovrei ritornare\n",
      "time = b'2014-01-01'. Ritorno: b'2014-01-01'\n",
      "open_ = 1.0. Ritorno open_ = 1.0\n",
      "highest = -2.0. Ritorno highest = -2.0\n",
      "lowest = 0.0. Ritorno lowest = 0.0\n",
      "close = 1.0. Ritorno close = 1.0\n",
      "volume = 2.0. Ritorno volume = 2.0\n",
      "adj_close = 0.0. Ritorno adj_close = 0.0\n",
      "\n",
      "Dovrei ritornare\n",
      "time = b'2014-01-01'. Ritorno: [2014, 1, 1]\n",
      "open_ = 1.0. Ritorno open_ = 1.0\n",
      "highest = -2.0. Ritorno highest = -2.0\n",
      "lowest = 0.0. Ritorno lowest = 0.0\n",
      "close = 1.0. Ritorno close = 1.0\n",
      "volume = 2.0. Ritorno volume = 2.0\n",
      "adj_close = 0.0. Ritorno adj_close = 0.0\n",
      "\n",
      "Dovrei ritornare\n",
      "time = b'2014-01-01'. Ritorno: 1388534400000\n",
      "Equivalente alla data time.struct_time(tm_year=2014, tm_mon=1, tm_mday=1, tm_hour=0, tm_min=0, tm_sec=0, tm_wday=2, tm_yday=1, tm_isdst=0)\n",
      "open_ = 1.0. Ritorno open_ = 1.0\n",
      "highest = -2.0. Ritorno highest = -2.0\n",
      "lowest = 0.0. Ritorno lowest = 0.0\n",
      "close = 1.0. Ritorno close = 1.0\n",
      "volume = 2.0. Ritorno volume = 2.0\n",
      "adj_close = 0.0. Ritorno adj_close = 0.0\n",
      "\n",
      "Dovrei ritornare\n",
      "time = b'2014-01-01'. Ritorno: -1\n",
      "open_ = 1.0. Ritorno open_ = 1.0\n",
      "highest = -2.0. Ritorno highest = -2.0\n",
      "lowest = 0.0. Ritorno lowest = 0.0\n",
      "close = 1.0. Ritorno close = 1.0\n",
      "volume = 2.0. Ritorno volume = 2.0\n",
      "adj_close = 0.0. Ritorno adj_close = 0.0\n",
      "\n"
     ]
    }
   ],
   "source": [
    "tm = b'2014-01-01'\n",
    "open_ = b'1.0'\n",
    "highest = b'-2.0'\n",
    "lowest = b'0.0'\n",
    "close = b'1'\n",
    "volume = b'2'\n",
    "adj_close = b'0'\n",
    "\n",
    "byte_string = tm + b\",\" + open_ + b\",\" + highest + b\",\" + lowest + b\",\" + close + b\",\" + volume + b\",\" + adj_close + b\"\\n\"\n",
    "\n",
    "test_split_csvline_yf(byte_string, \"int\")\n",
    "test_split_csvline_yf(byte_string, \"str\")\n",
    "test_split_csvline_yf(byte_string, \"byte\")\n",
    "test_split_csvline_yf(byte_string, \"list\")\n",
    "test_split_csvline_yf(byte_string)\n",
    "test_split_csvline_yf(byte_string, \"pippo\")"
   ]
  },
  {
   "cell_type": "code",
   "execution_count": null,
   "metadata": {
    "collapsed": true
   },
   "outputs": [],
   "source": []
  },
  {
   "cell_type": "code",
   "execution_count": 6,
   "metadata": {
    "collapsed": true
   },
   "outputs": [],
   "source": [
    "#avviare dopo di test_I_ping\n",
    "def test_O_ping(url_ping):\n",
    "    \n",
    "    context = zmq.Context()\n",
    " \n",
    "    pinglog = datastream.ping(url_ping, context)\n",
    "    print(\"Dovrei aver ricevuto un messaggio di pong errato, e ritornare -1.\")\n",
    "    print(\"Ritorno:\", pinglog)\n",
    "    \n",
    "    pinglog = datastream.ping(url_ping, context)\n",
    "    print(\"\\nDovrei aver ricevuto un messaggio di pong corretto, e ritornare 0.\")\n",
    "    print(\"Ritorno:\", pinglog)\n",
    "    \n",
    "    pinglog = datastream.ping(url_ping, context)\n",
    "    print(\"\\nDovrei aver ricevuto un messaggio di pong corretto, tramite metodo datastream.pong(), e ritornare 0.\")\n",
    "    print(\"Ritorno:\", pinglog)"
   ]
  },
  {
   "cell_type": "code",
   "execution_count": 7,
   "metadata": {
    "collapsed": false
   },
   "outputs": [
    {
     "ename": "KeyboardInterrupt",
     "evalue": "",
     "output_type": "error",
     "traceback": [
      "\u001b[1;31m---------------------------------------------------------------------------\u001b[0m",
      "\u001b[1;31mKeyboardInterrupt\u001b[0m                         Traceback (most recent call last)",
      "\u001b[1;32m<ipython-input-7-2b89174b0310>\u001b[0m in \u001b[0;36m<module>\u001b[1;34m()\u001b[0m\n\u001b[0;32m      1\u001b[0m \u001b[0murl_ping\u001b[0m\u001b[1;33m=\u001b[0m\u001b[1;34m\"tcp://localhost:5555\"\u001b[0m\u001b[1;33m\u001b[0m\u001b[0m\n\u001b[1;32m----> 2\u001b[1;33m \u001b[0mtest_O_ping\u001b[0m\u001b[1;33m(\u001b[0m\u001b[0murl_ping\u001b[0m\u001b[1;33m)\u001b[0m\u001b[1;33m\u001b[0m\u001b[0m\n\u001b[0m",
      "\u001b[1;32m<ipython-input-6-5755ff56f788>\u001b[0m in \u001b[0;36mtest_O_ping\u001b[1;34m(url_ping)\u001b[0m\n\u001b[0;32m      4\u001b[0m     \u001b[0mcontext\u001b[0m \u001b[1;33m=\u001b[0m \u001b[0mzmq\u001b[0m\u001b[1;33m.\u001b[0m\u001b[0mContext\u001b[0m\u001b[1;33m(\u001b[0m\u001b[1;33m)\u001b[0m\u001b[1;33m\u001b[0m\u001b[0m\n\u001b[0;32m      5\u001b[0m \u001b[1;33m\u001b[0m\u001b[0m\n\u001b[1;32m----> 6\u001b[1;33m     \u001b[0mpinglog\u001b[0m \u001b[1;33m=\u001b[0m \u001b[0mdatastream\u001b[0m\u001b[1;33m.\u001b[0m\u001b[0mping\u001b[0m\u001b[1;33m(\u001b[0m\u001b[0murl_ping\u001b[0m\u001b[1;33m,\u001b[0m \u001b[0mcontext\u001b[0m\u001b[1;33m)\u001b[0m\u001b[1;33m\u001b[0m\u001b[0m\n\u001b[0m\u001b[0;32m      7\u001b[0m     \u001b[0mprint\u001b[0m\u001b[1;33m(\u001b[0m\u001b[1;34m\"Dovrei aver ricevuto un messaggio di pong errato, e ritornare -1.\"\u001b[0m\u001b[1;33m)\u001b[0m\u001b[1;33m\u001b[0m\u001b[0m\n\u001b[0;32m      8\u001b[0m     \u001b[0mprint\u001b[0m\u001b[1;33m(\u001b[0m\u001b[1;34m\"Ritorno:\"\u001b[0m\u001b[1;33m,\u001b[0m \u001b[0mpinglog\u001b[0m\u001b[1;33m)\u001b[0m\u001b[1;33m\u001b[0m\u001b[0m\n",
      "\u001b[1;32m/home/valerio/Projects/anaconda3/envs/Bokeh/lib/python3.4/site-packages/charts-0.3-py3.4.egg/data/datastream.py\u001b[0m in \u001b[0;36mping\u001b[1;34m(url_ping, context)\u001b[0m\n\u001b[0;32m     16\u001b[0m \u001b[1;33m\u001b[0m\u001b[0m\n\u001b[0;32m     17\u001b[0m     \u001b[0ms_pingreq\u001b[0m\u001b[1;33m.\u001b[0m\u001b[0msend\u001b[0m\u001b[1;33m(\u001b[0m\u001b[1;34mb'\\x01'\u001b[0m\u001b[1;33m)\u001b[0m\u001b[1;33m\u001b[0m\u001b[0m\n\u001b[1;32m---> 18\u001b[1;33m     \u001b[1;32mif\u001b[0m \u001b[0ms_pingreq\u001b[0m\u001b[1;33m.\u001b[0m\u001b[0mrecv\u001b[0m\u001b[1;33m(\u001b[0m\u001b[1;33m)\u001b[0m \u001b[1;33m==\u001b[0m \u001b[1;34mb'\\x02'\u001b[0m\u001b[1;33m:\u001b[0m\u001b[1;33m\u001b[0m\u001b[0m\n\u001b[0m\u001b[0;32m     19\u001b[0m         \u001b[0ms_pingreq\u001b[0m\u001b[1;33m.\u001b[0m\u001b[0mclose\u001b[0m\u001b[1;33m(\u001b[0m\u001b[1;33m)\u001b[0m\u001b[1;33m\u001b[0m\u001b[0m\n\u001b[0;32m     20\u001b[0m         \u001b[1;32mreturn\u001b[0m \u001b[1;36m0\u001b[0m\u001b[1;33m\u001b[0m\u001b[0m\n",
      "\u001b[1;32mzmq/backend/cython/socket.pyx\u001b[0m in \u001b[0;36mzmq.backend.cython.socket.Socket.recv (zmq/backend/cython/socket.c:6507)\u001b[1;34m()\u001b[0m\n",
      "\u001b[1;32mzmq/backend/cython/socket.pyx\u001b[0m in \u001b[0;36mzmq.backend.cython.socket.Socket.recv (zmq/backend/cython/socket.c:6307)\u001b[1;34m()\u001b[0m\n",
      "\u001b[1;32mzmq/backend/cython/socket.pyx\u001b[0m in \u001b[0;36mzmq.backend.cython.socket._recv_copy (zmq/backend/cython/socket.c:1877)\u001b[1;34m()\u001b[0m\n",
      "\u001b[1;32m/home/valerio/Projects/anaconda3/envs/Bokeh/lib/python3.4/site-packages/zmq/backend/cython/checkrc.pxd\u001b[0m in \u001b[0;36mzmq.backend.cython.checkrc._check_rc (zmq/backend/cython/socket.c:6758)\u001b[1;34m()\u001b[0m\n\u001b[0;32m     10\u001b[0m     \"\"\"\n\u001b[0;32m     11\u001b[0m     \u001b[0mcdef\u001b[0m \u001b[0mint\u001b[0m \u001b[0merrno\u001b[0m \u001b[1;33m=\u001b[0m \u001b[0mzmq_errno\u001b[0m\u001b[1;33m(\u001b[0m\u001b[1;33m)\u001b[0m\u001b[1;33m\u001b[0m\u001b[0m\n\u001b[1;32m---> 12\u001b[1;33m     \u001b[0mPyErr_CheckSignals\u001b[0m\u001b[1;33m(\u001b[0m\u001b[1;33m)\u001b[0m\u001b[1;33m\u001b[0m\u001b[0m\n\u001b[0m\u001b[0;32m     13\u001b[0m     \u001b[1;32mif\u001b[0m \u001b[0mrc\u001b[0m \u001b[1;33m<\u001b[0m \u001b[1;36m0\u001b[0m\u001b[1;33m:\u001b[0m\u001b[1;33m\u001b[0m\u001b[0m\n\u001b[0;32m     14\u001b[0m         \u001b[1;32mif\u001b[0m \u001b[0merrno\u001b[0m \u001b[1;33m==\u001b[0m \u001b[0mEINTR\u001b[0m\u001b[1;33m:\u001b[0m\u001b[1;33m\u001b[0m\u001b[0m\n",
      "\u001b[1;31mKeyboardInterrupt\u001b[0m: "
     ]
    }
   ],
   "source": [
    "url_ping=\"tcp://localhost:5555\"\n",
    "test_O_ping(url_ping)"
   ]
  },
  {
   "cell_type": "code",
   "execution_count": null,
   "metadata": {
    "collapsed": false
   },
   "outputs": [],
   "source": []
  },
  {
   "cell_type": "code",
   "execution_count": null,
   "metadata": {
    "collapsed": true
   },
   "outputs": [],
   "source": [
    "#avviare dopo di test_I_pong\n",
    "def test_O_pong(url_ping):\n",
    "    \n",
    "    context = zmq.Context()\n",
    "    s_req = context.socket(zmq.REQ)\n",
    "    s_req.connect(url_ping)\n",
    "    \n",
    "    print(\"Simulo invio messaggio di ping sbagliato\")\n",
    "    s_req.send(b'\\x03')\n",
    "    s_req.recv()\n",
    "    \n",
    "    print(\"\\nSimulo invio messaggio di ping corretto\")\n",
    "    s_req.send(b'\\x01')\n",
    "    s_req.recv()\n",
    "    s_req.close()\n",
    "    \n",
    "    print(\"\\nSimulo invio messaggio di ping corretto tramite medodo datastream.ping()\")\n",
    "    datastream.ping(url_ping)"
   ]
  },
  {
   "cell_type": "code",
   "execution_count": null,
   "metadata": {
    "collapsed": false
   },
   "outputs": [],
   "source": [
    "url_ping = \"tcp://localhost:5555\"\n",
    "test_O_pong(url_ping)"
   ]
  },
  {
   "cell_type": "code",
   "execution_count": null,
   "metadata": {
    "collapsed": true
   },
   "outputs": [],
   "source": []
  }
 ],
 "metadata": {
  "kernelspec": {
   "display_name": "Python 3",
   "language": "python",
   "name": "python3"
  },
  "language_info": {
   "codemirror_mode": {
    "name": "ipython",
    "version": 3
   },
   "file_extension": ".py",
   "mimetype": "text/x-python",
   "name": "python",
   "nbconvert_exporter": "python",
   "pygments_lexer": "ipython3",
   "version": "3.4.3"
  }
 },
 "nbformat": 4,
 "nbformat_minor": 0
}
