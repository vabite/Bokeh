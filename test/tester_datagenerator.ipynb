{
 "cells": [
  {
   "cell_type": "code",
   "execution_count": 1,
   "metadata": {
    "collapsed": false
   },
   "outputs": [],
   "source": [
    "from data import datagenerator\n",
    "import time\n",
    "import numpy as np"
   ]
  },
  {
   "cell_type": "code",
   "execution_count": 2,
   "metadata": {
    "collapsed": true
   },
   "outputs": [],
   "source": [
    "def test_normal_number(mean, std, delay):\n",
    "    sample_n = 100\n",
    "    normallist = []\n",
    "    start = time.time()\n",
    "    for i in range(sample_n):\n",
    "        normallist.append(datagenerator.normal_number(mean, std, delay))\n",
    "    stop = time.time()\n",
    "    print(\"Media di %d float restituiti: %f\" %(sample_n, np.mean(normallist)))\n",
    "    print(\"\\nStd di %d float restituiti: %f\" %(sample_n, np.std(normallist)))\n",
    "    print(\"\\nDelay medio introdotto dalla funzione, calcolato su %d esecuzioni: %f s\" %(sample_n, (stop-start)/100))"
   ]
  },
  {
   "cell_type": "code",
   "execution_count": 3,
   "metadata": {
    "collapsed": false
   },
   "outputs": [
    {
     "name": "stdout",
     "output_type": "stream",
     "text": [
      "Media di 100 float restituiti: 5.051096\n",
      "\n",
      "Std di 100 float restituiti: 0.992210\n",
      "\n",
      "Delay medio introdotto dalla funzione, calcolato su 100 esecuzioni: 0.010090 s\n"
     ]
    }
   ],
   "source": [
    "mean = 5\n",
    "std = 1\n",
    "delay = 0.01\n",
    "test_normal_number(mean, std, delay)"
   ]
  },
  {
   "cell_type": "code",
   "execution_count": null,
   "metadata": {
    "collapsed": true
   },
   "outputs": [],
   "source": []
  },
  {
   "cell_type": "code",
   "execution_count": 4,
   "metadata": {
    "collapsed": true
   },
   "outputs": [],
   "source": [
    "def test_normal_list(listlen, mean, std, delay):\n",
    "    start = time.time()\n",
    "    normallist = datagenerator.normal_list(listlen, mean, std, delay)\n",
    "    stop = time.time()\n",
    "    print(\"La lista restituita è \\n%r\\ne ha %d elementi\" %(normallist, len(normallist)))\n",
    "    print(\"\\nMedia dei float appartenenti alla lista:\", np.mean(normallist))\n",
    "    print(\"\\nStd dei float appartenenti alla lista:\", np.std(normallist))\n",
    "    print(\"\\nDelay introdotto dalla funzione:\", (stop-start))"
   ]
  },
  {
   "cell_type": "code",
   "execution_count": 5,
   "metadata": {
    "collapsed": false
   },
   "outputs": [
    {
     "name": "stdout",
     "output_type": "stream",
     "text": [
      "La lista restituita è \n",
      "[11.412204783092923, 11.293213526008028, 14.084904069636359, 13.22076777694512, 10.861642144177244, 8.944346656905756, 5.879373250467619, 12.460483047163963]\n",
      "e ha 8 elementi\n",
      "\n",
      "Media dei float appartenenti alla lista: 11.0196169068\n",
      "\n",
      "Std dei float appartenenti alla lista: 2.43156157672\n",
      "\n",
      "Delay introdotto dalla funzione: 0.05014657974243164\n"
     ]
    }
   ],
   "source": [
    "listlen = 8\n",
    "mean = 10\n",
    "std = 3\n",
    "delay = 0.05\n",
    "test_normal_list(listlen, mean, std, delay)"
   ]
  },
  {
   "cell_type": "code",
   "execution_count": null,
   "metadata": {
    "collapsed": true
   },
   "outputs": [],
   "source": []
  },
  {
   "cell_type": "code",
   "execution_count": 6,
   "metadata": {
    "collapsed": true
   },
   "outputs": [],
   "source": [
    "def test_normal_matrix(listlen, sublistlen, mean, std, delay):\n",
    "    start = time.time()\n",
    "    normalmatrix = datagenerator.normal_matrix(listlen, sublistlen, mean, std, delay)\n",
    "    stop = time.time()\n",
    "    sublistlen_list = [len(normalmatrix[i]) for i in range(len(normalmatrix))]\n",
    "    print(\"La lista di liste restituita è \\n%r\\ne ha %d sottoliste\" %(normalmatrix, len(normalmatrix)))\n",
    "    print(\"\\nLa lunghezza delle singole sottoliste è\", sublistlen_list)\n",
    "    print(\"\\nMedia dei float appartenenti alla lista:\", np.mean(normalmatrix))\n",
    "    print(\"\\nStd dei float appartenenti alla lista:\", np.std(normalmatrix))\n",
    "    print(\"\\nDelay introdotto dalla funzione:\", (stop-start))"
   ]
  },
  {
   "cell_type": "code",
   "execution_count": 7,
   "metadata": {
    "collapsed": false
   },
   "outputs": [
    {
     "name": "stdout",
     "output_type": "stream",
     "text": [
      "La lista di liste restituita è \n",
      "[[23.453212986615302, 19.05259452083675, 15.684731322886504], [25.705990728694488, 17.92017408051932, 27.73355763224206], [19.69158394725493, 16.62325265949236, 16.90572661555748], [21.869779935469946, 27.680535671129842, 20.36306158629768]]\n",
      "e ha 4 sottoliste\n",
      "\n",
      "La lunghezza delle singole sottoliste è [3, 3, 3, 3]\n",
      "\n",
      "Media dei float appartenenti alla lista: 21.0570168072\n",
      "\n",
      "Std dei float appartenenti alla lista: 4.06631380901\n",
      "\n",
      "Delay introdotto dalla funzione: 0.015127897262573242\n"
     ]
    }
   ],
   "source": [
    "sublistlen = 3\n",
    "listlen = 4\n",
    "mean = 20\n",
    "std = 5\n",
    "delay = 0.015\n",
    "test_normal_matrix(listlen, sublistlen, mean, std, delay)"
   ]
  },
  {
   "cell_type": "code",
   "execution_count": null,
   "metadata": {
    "collapsed": true
   },
   "outputs": [],
   "source": []
  }
 ],
 "metadata": {
  "kernelspec": {
   "display_name": "Python 3",
   "language": "python",
   "name": "python3"
  },
  "language_info": {
   "codemirror_mode": {
    "name": "ipython",
    "version": 3
   },
   "file_extension": ".py",
   "mimetype": "text/x-python",
   "name": "python",
   "nbconvert_exporter": "python",
   "pygments_lexer": "ipython3",
   "version": "3.4.3"
  }
 },
 "nbformat": 4,
 "nbformat_minor": 0
}
