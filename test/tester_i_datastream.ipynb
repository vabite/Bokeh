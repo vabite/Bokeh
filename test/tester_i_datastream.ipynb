{
 "cells": [
  {
   "cell_type": "code",
   "execution_count": 4,
   "metadata": {
    "collapsed": true
   },
   "outputs": [],
   "source": [
    "from data import datastream\n",
    "import zmq"
   ]
  },
  {
   "cell_type": "code",
   "execution_count": null,
   "metadata": {
    "collapsed": true
   },
   "outputs": [],
   "source": []
  },
  {
   "cell_type": "code",
   "execution_count": 5,
   "metadata": {
    "collapsed": true
   },
   "outputs": [],
   "source": [
    "#avviare prima di test_O_ping\n",
    "def test_I_ping(url_pong):\n",
    "    \n",
    "    context = zmq.Context()\n",
    "    s_rep = context.socket(zmq.REP)\n",
    "    s_rep.bind(url_pong)\n",
    "    \n",
    "    print(\"Simulo invio risposta di pong sbagliata\")\n",
    "    s_rep.recv()\n",
    "    s_rep.send(b'\\x03')\n",
    "    \n",
    "    print(\"\\nSimulo invio risposta di pong corretta\")\n",
    "    s_rep.recv()\n",
    "    s_rep.send(b'\\x02')\n",
    "    s_rep.close()\n",
    "    \n",
    "    print(\"\\nSimulo invio risposta di pong corretta tramite medodo DataStream.pong()\")\n",
    "    datastream.pong(url_pong)"
   ]
  },
  {
   "cell_type": "code",
   "execution_count": 6,
   "metadata": {
    "collapsed": false
   },
   "outputs": [
    {
     "ename": "ZMQError",
     "evalue": "Address already in use",
     "output_type": "error",
     "traceback": [
      "\u001b[1;31m---------------------------------------------------------------------------\u001b[0m",
      "\u001b[1;31mZMQError\u001b[0m                                  Traceback (most recent call last)",
      "\u001b[1;32m<ipython-input-6-f23e2853bc0c>\u001b[0m in \u001b[0;36m<module>\u001b[1;34m()\u001b[0m\n\u001b[0;32m      1\u001b[0m \u001b[0murl_pong\u001b[0m \u001b[1;33m=\u001b[0m \u001b[1;34m\"tcp://*:5555\"\u001b[0m\u001b[1;33m\u001b[0m\u001b[0m\n\u001b[1;32m----> 2\u001b[1;33m \u001b[0mtest_I_ping\u001b[0m\u001b[1;33m(\u001b[0m\u001b[0murl_pong\u001b[0m\u001b[1;33m)\u001b[0m\u001b[1;33m\u001b[0m\u001b[0m\n\u001b[0m",
      "\u001b[1;32m<ipython-input-5-d5546b0a495c>\u001b[0m in \u001b[0;36mtest_I_ping\u001b[1;34m(url_pong)\u001b[0m\n\u001b[0;32m      4\u001b[0m     \u001b[0mcontext\u001b[0m \u001b[1;33m=\u001b[0m \u001b[0mzmq\u001b[0m\u001b[1;33m.\u001b[0m\u001b[0mContext\u001b[0m\u001b[1;33m(\u001b[0m\u001b[1;33m)\u001b[0m\u001b[1;33m\u001b[0m\u001b[0m\n\u001b[0;32m      5\u001b[0m     \u001b[0ms_rep\u001b[0m \u001b[1;33m=\u001b[0m \u001b[0mcontext\u001b[0m\u001b[1;33m.\u001b[0m\u001b[0msocket\u001b[0m\u001b[1;33m(\u001b[0m\u001b[0mzmq\u001b[0m\u001b[1;33m.\u001b[0m\u001b[0mREP\u001b[0m\u001b[1;33m)\u001b[0m\u001b[1;33m\u001b[0m\u001b[0m\n\u001b[1;32m----> 6\u001b[1;33m     \u001b[0ms_rep\u001b[0m\u001b[1;33m.\u001b[0m\u001b[0mbind\u001b[0m\u001b[1;33m(\u001b[0m\u001b[0murl_pong\u001b[0m\u001b[1;33m)\u001b[0m\u001b[1;33m\u001b[0m\u001b[0m\n\u001b[0m\u001b[0;32m      7\u001b[0m \u001b[1;33m\u001b[0m\u001b[0m\n\u001b[0;32m      8\u001b[0m     \u001b[0mprint\u001b[0m\u001b[1;33m(\u001b[0m\u001b[1;34m\"Simulo invio risposta di pong sbagliata\"\u001b[0m\u001b[1;33m)\u001b[0m\u001b[1;33m\u001b[0m\u001b[0m\n",
      "\u001b[1;32mzmq/backend/cython/socket.pyx\u001b[0m in \u001b[0;36mzmq.backend.cython.socket.Socket.bind (zmq/backend/cython/socket.c:4824)\u001b[1;34m()\u001b[0m\n",
      "\u001b[1;32m/home/valerio/Projects/anaconda3/envs/Bokeh/lib/python3.4/site-packages/zmq/backend/cython/checkrc.pxd\u001b[0m in \u001b[0;36mzmq.backend.cython.checkrc._check_rc (zmq/backend/cython/socket.c:7055)\u001b[1;34m()\u001b[0m\n\u001b[0;32m     23\u001b[0m         \u001b[1;32melse\u001b[0m\u001b[1;33m:\u001b[0m\u001b[1;33m\u001b[0m\u001b[0m\n\u001b[0;32m     24\u001b[0m             \u001b[1;32mfrom\u001b[0m \u001b[0mzmq\u001b[0m\u001b[1;33m.\u001b[0m\u001b[0merror\u001b[0m \u001b[1;32mimport\u001b[0m \u001b[0mZMQError\u001b[0m\u001b[1;33m\u001b[0m\u001b[0m\n\u001b[1;32m---> 25\u001b[1;33m             \u001b[1;32mraise\u001b[0m \u001b[0mZMQError\u001b[0m\u001b[1;33m(\u001b[0m\u001b[0merrno\u001b[0m\u001b[1;33m)\u001b[0m\u001b[1;33m\u001b[0m\u001b[0m\n\u001b[0m\u001b[0;32m     26\u001b[0m     \u001b[1;32mreturn\u001b[0m \u001b[1;36m0\u001b[0m\u001b[1;33m\u001b[0m\u001b[0m\n",
      "\u001b[1;31mZMQError\u001b[0m: Address already in use"
     ]
    }
   ],
   "source": [
    "url_pong = \"tcp://*:5555\"\n",
    "test_I_ping(url_pong)"
   ]
  },
  {
   "cell_type": "code",
   "execution_count": null,
   "metadata": {
    "collapsed": true
   },
   "outputs": [],
   "source": []
  },
  {
   "cell_type": "code",
   "execution_count": 7,
   "metadata": {
    "collapsed": true
   },
   "outputs": [],
   "source": [
    "#avviare prima di test_O_pong\n",
    "def test_I_pong(url_pong):\n",
    "    \n",
    "    context = zmq.Context()\n",
    " \n",
    "    ponglog = datastream.pong(url_pong, context)\n",
    "    print(\"Dovrei aver ricevuto un messaggio di ping errato, e ritornare -1.\")\n",
    "    print(\"Ritorno:\", ponglog)\n",
    "    \n",
    "    ponglog = datastream.pong(url_pong, context)\n",
    "    print(\"\\nDovrei aver ricevuto un messaggio di ping corretto, e ritornare 0.\")\n",
    "    print(\"Ritorno:\", ponglog)\n",
    "    \n",
    "    ponglog = datastream.pong(url_pong, context)\n",
    "    print(\"\\nDovrei aver ricevuto un messaggio di ping corretto, tramite metodo DataStream.ping(), e ritornare 0.\")\n",
    "    print(\"Ritorno:\", ponglog)"
   ]
  },
  {
   "cell_type": "code",
   "execution_count": 8,
   "metadata": {
    "collapsed": false
   },
   "outputs": [
    {
     "ename": "ZMQError",
     "evalue": "Address already in use",
     "output_type": "error",
     "traceback": [
      "\u001b[1;31m---------------------------------------------------------------------------\u001b[0m",
      "\u001b[1;31mZMQError\u001b[0m                                  Traceback (most recent call last)",
      "\u001b[1;32m<ipython-input-8-89cb30ae5f0e>\u001b[0m in \u001b[0;36m<module>\u001b[1;34m()\u001b[0m\n\u001b[0;32m      1\u001b[0m \u001b[0murl_pong\u001b[0m\u001b[1;33m=\u001b[0m\u001b[1;34m\"tcp://*:5555\"\u001b[0m\u001b[1;33m\u001b[0m\u001b[0m\n\u001b[1;32m----> 2\u001b[1;33m \u001b[0mtest_I_pong\u001b[0m\u001b[1;33m(\u001b[0m\u001b[0murl_pong\u001b[0m\u001b[1;33m)\u001b[0m\u001b[1;33m\u001b[0m\u001b[0m\n\u001b[0m",
      "\u001b[1;32m<ipython-input-7-6f33cded5bc0>\u001b[0m in \u001b[0;36mtest_I_pong\u001b[1;34m(url_pong)\u001b[0m\n\u001b[0;32m      4\u001b[0m     \u001b[0mcontext\u001b[0m \u001b[1;33m=\u001b[0m \u001b[0mzmq\u001b[0m\u001b[1;33m.\u001b[0m\u001b[0mContext\u001b[0m\u001b[1;33m(\u001b[0m\u001b[1;33m)\u001b[0m\u001b[1;33m\u001b[0m\u001b[0m\n\u001b[0;32m      5\u001b[0m \u001b[1;33m\u001b[0m\u001b[0m\n\u001b[1;32m----> 6\u001b[1;33m     \u001b[0mponglog\u001b[0m \u001b[1;33m=\u001b[0m \u001b[0mdatastream\u001b[0m\u001b[1;33m.\u001b[0m\u001b[0mpong\u001b[0m\u001b[1;33m(\u001b[0m\u001b[0murl_pong\u001b[0m\u001b[1;33m,\u001b[0m \u001b[0mcontext\u001b[0m\u001b[1;33m)\u001b[0m\u001b[1;33m\u001b[0m\u001b[0m\n\u001b[0m\u001b[0;32m      7\u001b[0m     \u001b[0mprint\u001b[0m\u001b[1;33m(\u001b[0m\u001b[1;34m\"Dovrei aver ricevuto un messaggio di ping errato, e ritornare -1.\"\u001b[0m\u001b[1;33m)\u001b[0m\u001b[1;33m\u001b[0m\u001b[0m\n\u001b[0;32m      8\u001b[0m     \u001b[0mprint\u001b[0m\u001b[1;33m(\u001b[0m\u001b[1;34m\"Ritorno:\"\u001b[0m\u001b[1;33m,\u001b[0m \u001b[0mponglog\u001b[0m\u001b[1;33m)\u001b[0m\u001b[1;33m\u001b[0m\u001b[0m\n",
      "\u001b[1;32m/home/valerio/Projects/anaconda3/envs/Bokeh/lib/python3.4/site-packages/charts-0.3-py3.4.egg/data/datastream.py\u001b[0m in \u001b[0;36mpong\u001b[1;34m(url_pong, context)\u001b[0m\n\u001b[0;32m     31\u001b[0m     \u001b[0mcontext\u001b[0m \u001b[1;33m=\u001b[0m \u001b[0mcontext\u001b[0m \u001b[1;32mor\u001b[0m \u001b[0mzmq\u001b[0m\u001b[1;33m.\u001b[0m\u001b[0mContext\u001b[0m\u001b[1;33m.\u001b[0m\u001b[0minstance\u001b[0m\u001b[1;33m(\u001b[0m\u001b[1;33m)\u001b[0m\u001b[1;33m\u001b[0m\u001b[0m\n\u001b[0;32m     32\u001b[0m     \u001b[0ms_pongrep\u001b[0m \u001b[1;33m=\u001b[0m \u001b[0mcontext\u001b[0m\u001b[1;33m.\u001b[0m\u001b[0msocket\u001b[0m\u001b[1;33m(\u001b[0m\u001b[0mzmq\u001b[0m\u001b[1;33m.\u001b[0m\u001b[0mREP\u001b[0m\u001b[1;33m)\u001b[0m\u001b[1;33m\u001b[0m\u001b[0m\n\u001b[1;32m---> 33\u001b[1;33m     \u001b[0ms_pongrep\u001b[0m\u001b[1;33m.\u001b[0m\u001b[0mbind\u001b[0m\u001b[1;33m(\u001b[0m\u001b[0murl_pong\u001b[0m\u001b[1;33m)\u001b[0m\u001b[1;33m\u001b[0m\u001b[0m\n\u001b[0m\u001b[0;32m     34\u001b[0m \u001b[1;33m\u001b[0m\u001b[0m\n\u001b[0;32m     35\u001b[0m     \u001b[1;32mif\u001b[0m \u001b[0ms_pongrep\u001b[0m\u001b[1;33m.\u001b[0m\u001b[0mrecv\u001b[0m\u001b[1;33m(\u001b[0m\u001b[1;33m)\u001b[0m \u001b[1;33m==\u001b[0m \u001b[1;34mb'\\x01'\u001b[0m\u001b[1;33m:\u001b[0m\u001b[1;33m\u001b[0m\u001b[0m\n",
      "\u001b[1;32mzmq/backend/cython/socket.pyx\u001b[0m in \u001b[0;36mzmq.backend.cython.socket.Socket.bind (zmq/backend/cython/socket.c:4824)\u001b[1;34m()\u001b[0m\n",
      "\u001b[1;32m/home/valerio/Projects/anaconda3/envs/Bokeh/lib/python3.4/site-packages/zmq/backend/cython/checkrc.pxd\u001b[0m in \u001b[0;36mzmq.backend.cython.checkrc._check_rc (zmq/backend/cython/socket.c:7055)\u001b[1;34m()\u001b[0m\n\u001b[0;32m     23\u001b[0m         \u001b[1;32melse\u001b[0m\u001b[1;33m:\u001b[0m\u001b[1;33m\u001b[0m\u001b[0m\n\u001b[0;32m     24\u001b[0m             \u001b[1;32mfrom\u001b[0m \u001b[0mzmq\u001b[0m\u001b[1;33m.\u001b[0m\u001b[0merror\u001b[0m \u001b[1;32mimport\u001b[0m \u001b[0mZMQError\u001b[0m\u001b[1;33m\u001b[0m\u001b[0m\n\u001b[1;32m---> 25\u001b[1;33m             \u001b[1;32mraise\u001b[0m \u001b[0mZMQError\u001b[0m\u001b[1;33m(\u001b[0m\u001b[0merrno\u001b[0m\u001b[1;33m)\u001b[0m\u001b[1;33m\u001b[0m\u001b[0m\n\u001b[0m\u001b[0;32m     26\u001b[0m     \u001b[1;32mreturn\u001b[0m \u001b[1;36m0\u001b[0m\u001b[1;33m\u001b[0m\u001b[0m\n",
      "\u001b[1;31mZMQError\u001b[0m: Address already in use"
     ]
    }
   ],
   "source": [
    "url_pong=\"tcp://*:5555\"\n",
    "test_I_pong(url_pong)"
   ]
  },
  {
   "cell_type": "code",
   "execution_count": null,
   "metadata": {
    "collapsed": true
   },
   "outputs": [],
   "source": []
  },
  {
   "cell_type": "code",
   "execution_count": null,
   "metadata": {
    "collapsed": true
   },
   "outputs": [],
   "source": []
  }
 ],
 "metadata": {
  "kernelspec": {
   "display_name": "Python 3",
   "language": "python",
   "name": "python3"
  },
  "language_info": {
   "codemirror_mode": {
    "name": "ipython",
    "version": 3
   },
   "file_extension": ".py",
   "mimetype": "text/x-python",
   "name": "python",
   "nbconvert_exporter": "python",
   "pygments_lexer": "ipython3",
   "version": "3.4.3"
  }
 },
 "nbformat": 4,
 "nbformat_minor": 0
}
